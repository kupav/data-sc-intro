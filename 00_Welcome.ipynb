{
 "cells": [
  {
   "cell_type": "markdown",
   "metadata": {
    "id": "3-8Gf9a7pM6s"
   },
   "source": [
    "# Welcome!\n",
    "\n",
    "Part of [\"Introduction to Data Science\" course](https://github.com/kupav/data-sc-intro) by Pavel Kuptsov, [kupav@mail.ru](mailto:kupav@mail.ru)"
   ]
  },
  {
   "cell_type": "markdown",
   "metadata": {
    "id": "3-8Gf9a7pM6s"
   },
   "source": [
    "This is just a test. Put the cursor to the next cell and press Shit + Enter on the keyboard to run a peace of Python code. You will see some text as a result. If no errors appear everything's ready (highly likely) for learning the course."
   ]
  },
  {
   "cell_type": "code",
   "execution_count": null,
   "metadata": {
    "colab": {
     "base_uri": "https://localhost:8080/",
     "height": 54
    },
    "id": "RqOtChmOpM6t",
    "outputId": "1f24da19-0896-4126-fa93-6be9d3cb8578"
   },
   "outputs": [],
   "source": [
    "import numpy as np\n",
    "\n",
    "for i, a in enumerate([\"Hello\", \"every\", \"body\"]):\n",
    "    if i > 0:\n",
    "        print(\" \", sep='', end='')\n",
    "    print(a, sep='', end='')\n",
    "print(\".\")\n",
    "\n",
    "x = np.arccos(-1)\n",
    "print(f\"Did you know that pi equals to {x}?\")"
   ]
  }
 ],
 "metadata": {
  "colab": {
   "collapsed_sections": [],
   "name": "00_Welcome.ipynb",
   "provenance": []
  },
  "kernelspec": {
   "display_name": "Python 3 (ipykernel)",
   "language": "python",
   "name": "python3"
  },
  "language_info": {
   "codemirror_mode": {
    "name": "ipython",
    "version": 3
   },
   "file_extension": ".py",
   "mimetype": "text/x-python",
   "name": "python",
   "nbconvert_exporter": "python",
   "pygments_lexer": "ipython3",
   "version": "3.13.2"
  },
  "toc": {
   "base_numbering": 1,
   "nav_menu": {},
   "number_sections": true,
   "sideBar": true,
   "skip_h1_title": false,
   "title_cell": "Table of Contents",
   "title_sidebar": "Contents",
   "toc_cell": false,
   "toc_position": {},
   "toc_section_display": true,
   "toc_window_display": false
  }
 },
 "nbformat": 4,
 "nbformat_minor": 4
}
