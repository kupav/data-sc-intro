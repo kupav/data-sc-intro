{
 "cells": [
  {
   "cell_type": "markdown",
   "metadata": {
    "id": "kt07Ac07vCIf"
   },
   "source": [
    "# 01 Brief review of Python\n",
    "\n",
    "Part of [\"Introduction to Data Science\" course](https://github.com/kupav/data-sc-intro) by Pavel Kuptsov, [kupav@mail.ru](mailto:kupav@mail.ru)\n",
    "\n",
    "Recommended reading for this section:\n",
    "\n",
    "1. Ben Stephenson. (2019). The Python Workbook : A Brief Introduction with Exercises and Solutions. \n",
    "2. Vanderplas, J.T. (2016). Python data science handbook: Essential tools for working with data.\n",
    "\n",
    "The following Python module will be required. Make sure that you have it installed\n",
    "- `numpy`"
   ]
  },
  {
   "cell_type": "markdown",
   "metadata": {},
   "source": [
    "## Lesson 1"
   ]
  },
  {
   "cell_type": "markdown",
   "metadata": {},
   "source": [
    "### Hello world\n",
    "\n",
    "Standard first step in learning of any language: program \"Hello world\". \n",
    "\n",
    "It is pretty short in Python"
   ]
  },
  {
   "cell_type": "code",
   "execution_count": null,
   "metadata": {
    "colab": {
     "base_uri": "https://localhost:8080/",
     "height": 104
    },
    "id": "wCCg4IV8nR2I",
    "outputId": "2f941719-bf19-4cb0-d55b-d82464b5bffe"
   },
   "outputs": [],
   "source": [
    "print(\"Hello, world!\")"
   ]
  },
  {
   "cell_type": "markdown",
   "metadata": {},
   "source": [
    "Each `print` by default ends line, "
   ]
  },
  {
   "cell_type": "code",
   "execution_count": null,
   "metadata": {},
   "outputs": [],
   "source": [
    "print(\"Hello,\")\n",
    "print(\"world!\")"
   ]
  },
  {
   "cell_type": "markdown",
   "metadata": {},
   "source": [
    "To change it, one can do as follows"
   ]
  },
  {
   "cell_type": "code",
   "execution_count": null,
   "metadata": {},
   "outputs": [],
   "source": [
    "print(\"Hello,\", end=\"_\")\n",
    "print(\"world!\")"
   ]
  },
  {
   "cell_type": "markdown",
   "metadata": {},
   "source": [
    "One can print several elements"
   ]
  },
  {
   "cell_type": "code",
   "execution_count": null,
   "metadata": {},
   "outputs": [],
   "source": [
    "print(\"Hello\", \", \", \"world\", \"!\")"
   ]
  },
  {
   "cell_type": "markdown",
   "metadata": {},
   "source": [
    "By default, elements are separated by space `\" \"`. To change it:"
   ]
  },
  {
   "cell_type": "code",
   "execution_count": null,
   "metadata": {},
   "outputs": [],
   "source": [
    "print(\"Hello\", \", \", \"world\", \"!\", sep=\"\")"
   ]
  },
  {
   "cell_type": "markdown",
   "metadata": {},
   "source": [
    "### Comments\n",
    "\n",
    "Symbol `#` means a comment. Everything to the right will be ignored by Python.\n",
    "\n",
    "The following code does nothing"
   ]
  },
  {
   "cell_type": "code",
   "execution_count": null,
   "metadata": {},
   "outputs": [],
   "source": [
    "# print(\"Hello, world!\")"
   ]
  },
  {
   "cell_type": "markdown",
   "metadata": {
    "id": "Sqb03OiwoUdO"
   },
   "source": [
    "### Variables\n",
    "\n",
    "A variable is a named location in a computer memory that holds a value.\n",
    "\n",
    "Variable names in Python: letters, numbers and underscores. Name cannot begin with a number. Letters are case sensitive.\n",
    "\n",
    "Correct variable names:\n",
    "\n",
    "```python\n",
    "step_size\n",
    "StepSize\n",
    "stepSize\n",
    "size21\n",
    "step1_size5\n",
    "```\n",
    "\n",
    "Incorrect names:\n",
    "\n",
    "```python\n",
    "step size # no spaces inside are allowed\n",
    "1_step # no numbers in the beginning\n",
    "featur%one # symbol % is not allowed\n",
    "```\n",
    "\n",
    "Variables are created using assignment statement: the name appears to the left of `=` the value that will be stored in the variable appears to the right of it.\n",
    "\n",
    "To see what is stored in a variable we use `print()`."
   ]
  },
  {
   "cell_type": "code",
   "execution_count": null,
   "metadata": {},
   "outputs": [],
   "source": [
    "s = \"one, two, three\"\n",
    "a = 4\n",
    "print(s, a)"
   ]
  },
  {
   "cell_type": "markdown",
   "metadata": {},
   "source": [
    "A variable can contain a special value `None`. It means \"no value is held in this variable \n",
    "but it exists yet\"."
   ]
  },
  {
   "cell_type": "code",
   "execution_count": null,
   "metadata": {},
   "outputs": [],
   "source": [
    "x = None\n",
    "print(x)"
   ]
  },
  {
   "cell_type": "markdown",
   "metadata": {},
   "source": [
    "### Expressions and math operators\n",
    "\n",
    "The right hand side of the assignment statement can be an expression: It can have numbers, and standard math operators like (`+`), (`-`), (`/`), (`*`). \n",
    "\n",
    "It also can include variables.\n",
    "\n",
    "Not obvious operators: exponentiation (`**`), floor division (`//`), module (`%`)."
   ]
  },
  {
   "cell_type": "code",
   "execution_count": null,
   "metadata": {},
   "outputs": [],
   "source": [
    "x = 1\n",
    "y = x + 1\n",
    "z = y ** 3\n",
    "print(\"x=\", x, \"y=\", y, \"z=\", z)"
   ]
  },
  {
   "cell_type": "markdown",
   "metadata": {},
   "source": [
    "Figure out how operator (`//`) and (`%`) work"
   ]
  },
  {
   "cell_type": "code",
   "execution_count": null,
   "metadata": {},
   "outputs": [],
   "source": [
    "x = 14\n",
    "y = 5\n",
    "d = x / y\n",
    "print(\"d=\", d)"
   ]
  },
  {
   "cell_type": "markdown",
   "metadata": {},
   "source": [
    "Operator (`//`) computes the floor of the quotient that results when one number is divided by another. "
   ]
  },
  {
   "cell_type": "code",
   "execution_count": null,
   "metadata": {},
   "outputs": [],
   "source": [
    "f = x // y\n",
    "print(\"f=\", f)"
   ]
  },
  {
   "cell_type": "markdown",
   "metadata": {},
   "source": [
    "Operator (`%`) computes the remainder when one number is divided by another."
   ]
  },
  {
   "cell_type": "code",
   "execution_count": null,
   "metadata": {},
   "outputs": [],
   "source": [
    "r = x % y\n",
    "print(\"r=\", r)"
   ]
  },
  {
   "cell_type": "markdown",
   "metadata": {},
   "source": [
    "Check."
   ]
  },
  {
   "cell_type": "code",
   "execution_count": null,
   "metadata": {},
   "outputs": [],
   "source": [
    "x1 = y * f + r\n",
    "print(\"x=\", x, \"x1=\", x1)"
   ]
  },
  {
   "cell_type": "markdown",
   "metadata": {},
   "source": [
    "The same variable can appear on both sides."
   ]
  },
  {
   "cell_type": "code",
   "execution_count": null,
   "metadata": {},
   "outputs": [],
   "source": [
    "x = 15\n",
    "x = x + 2\n",
    "print(x)"
   ]
  },
  {
   "cell_type": "markdown",
   "metadata": {},
   "source": [
    "There is a convenient compact form for it `x += 2`. Works with all math operators."
   ]
  },
  {
   "cell_type": "code",
   "execution_count": null,
   "metadata": {},
   "outputs": [],
   "source": [
    "x = 15\n",
    "print(x)\n",
    "x += 2\n",
    "print(x)\n",
    "x *= 3\n",
    "print(x)"
   ]
  },
  {
   "cell_type": "markdown",
   "metadata": {},
   "source": [
    "### Calling functions \n",
    "\n",
    "Parts of code can be wrapped into functions.\n",
    "\n",
    "- to avoid retyping\n",
    "- to increase clarity\n",
    "\n",
    "An example: let us make a rounding of a real number. We can use floor division (`//`) \n",
    "for it. \n",
    "\n",
    "Let us see what happen when we divide by 1:"
   ]
  },
  {
   "cell_type": "code",
   "execution_count": null,
   "metadata": {},
   "outputs": [],
   "source": [
    "print(15.2 // 1)\n",
    "print(15.4 // 1)\n",
    "print(15.6 // 1)\n",
    "print(15.8 // 1)"
   ]
  },
  {
   "cell_type": "markdown",
   "metadata": {},
   "source": [
    "But we want `15.6 -> 16`. Just add `0.5` before division."
   ]
  },
  {
   "cell_type": "code",
   "execution_count": null,
   "metadata": {},
   "outputs": [],
   "source": [
    "x = 15.4\n",
    "rx = (x + 0.5) // 1\n",
    "print(rx)"
   ]
  },
  {
   "cell_type": "code",
   "execution_count": null,
   "metadata": {},
   "outputs": [],
   "source": [
    "x = 15.6\n",
    "rx = (x + 0.5) // 1\n",
    "print(rx)"
   ]
  },
  {
   "cell_type": "markdown",
   "metadata": {},
   "source": [
    "It works good. But we don't want to retype it again and again. A function will help. \n",
    "\n",
    "We could write a function for our rounding procedure, but Python already has one: `round()`"
   ]
  },
  {
   "cell_type": "code",
   "execution_count": null,
   "metadata": {},
   "outputs": [],
   "source": [
    "x = 15.4\n",
    "print(round(x))"
   ]
  },
  {
   "cell_type": "code",
   "execution_count": null,
   "metadata": {},
   "outputs": [],
   "source": [
    "x = 15.6\n",
    "print(round(x))"
   ]
  },
  {
   "cell_type": "markdown",
   "metadata": {},
   "source": [
    "By the way: `print()` is also a function.\n",
    "\n",
    "Notice: when we call a function we write its name followed by its parameters in parenthesis.\n",
    "\n",
    "Also notice a bit different results: our rounding expression returns numbers with the decimal point, `15.0`, `16.0`, while function `round` gives `15`, `16`. This is because `round` additionally performs a type conversion: from real `15.0` to integer `15`."
   ]
  },
  {
   "cell_type": "markdown",
   "metadata": {},
   "source": [
    "### Types\n",
    "\n",
    "Content of a variable always has type. Simple standard types:\n",
    "\n",
    "- `int` - integer number, no decimal point (`12`, `-2312`)\n",
    "- `float` - real number, decimal point or `e`-symbol is used (`.321`, `12.0`, `34.591`, `1.28e-11`, `1e13`)\n",
    "- `complex` - complex number, includes imaginary unit (`3j`, `12.3+3.2j`) \n",
    "- `str` - text string, enclosed in quotation marks or apostrophes (`\"one and two\"`, `'Data'`)\n",
    "- `bool` - boolean value, can be either `True` or `False`\n",
    "\n",
    "Why there are many types? Because different types are processed in different ways. \n",
    "\n",
    "Types can be converted. Just use type as a function name"
   ]
  },
  {
   "cell_type": "code",
   "execution_count": null,
   "metadata": {},
   "outputs": [],
   "source": [
    "x = 15.6\n",
    "rx = (x + 0.5) // 1\n",
    "irx = int(rx)  # converts here float variable rx to int type\n",
    "print(\"rx=\", rx, \"irx=\", irx)"
   ]
  },
  {
   "cell_type": "code",
   "execution_count": null,
   "metadata": {},
   "outputs": [],
   "source": [
    "x = 953.3\n",
    "s = \"x=\" + str(x)  # here x is converted to string and concatenated with 'x='\n",
    "print(s)"
   ]
  },
  {
   "cell_type": "markdown",
   "metadata": {},
   "source": [
    "Types can be checked using function `type()`"
   ]
  },
  {
   "cell_type": "code",
   "execution_count": null,
   "metadata": {},
   "outputs": [],
   "source": [
    "i = 2\n",
    "print(type(i))"
   ]
  },
  {
   "cell_type": "code",
   "execution_count": null,
   "metadata": {},
   "outputs": [],
   "source": [
    "x = 2.3\n",
    "print(type(x))"
   ]
  },
  {
   "cell_type": "code",
   "execution_count": null,
   "metadata": {},
   "outputs": [],
   "source": [
    "c = 3.4 + 5.6j\n",
    "print(type(c))"
   ]
  },
  {
   "cell_type": "code",
   "execution_count": null,
   "metadata": {},
   "outputs": [],
   "source": [
    "s = \"expansion\"\n",
    "print(type(s))"
   ]
  },
  {
   "cell_type": "markdown",
   "metadata": {},
   "source": [
    "### Working with strings\n",
    "\n",
    "Operation on strings\n",
    "\n",
    "- computing length of a string\n",
    "- concatenating two strings\n",
    "- taking substrings and individual symbols\n",
    "\n",
    "Length is computed with function `len()`"
   ]
  },
  {
   "cell_type": "code",
   "execution_count": null,
   "metadata": {},
   "outputs": [],
   "source": [
    "s1 = \"Data\"\n",
    "string_length = len(s1)\n",
    "print(string_length)"
   ]
  },
  {
   "cell_type": "markdown",
   "metadata": {},
   "source": [
    "Concatenation of strings is done with (`+`)"
   ]
  },
  {
   "cell_type": "code",
   "execution_count": null,
   "metadata": {},
   "outputs": [],
   "source": [
    "s1 = \"this is a string\"\n",
    "s2 = s1 + \" and \" + s1\n",
    "print(s2)"
   ]
  },
  {
   "cell_type": "markdown",
   "metadata": {},
   "source": [
    "Taking symbols and substrings: Key idea is that symbols are enumerated starting from zero:\n",
    "```\n",
    "   01234567\n",
    "s=\"compound\"\n",
    "```\n",
    "Elements are accessed by index:\n",
    "```\n",
    "s[0] -> c\n",
    "s[1] -> o\n",
    "s[2] -> m\n",
    "s[3] -> p\n",
    "...\n",
    "```\n",
    "Substrings are accessed via ranges of index\n",
    "```\n",
    "s[0:3] -> 'com'\n",
    "s[:3]  -> 'com'\n",
    "s[3:8] -> 'pound'\n",
    "s[-3:] -> 'und'\n",
    "```"
   ]
  },
  {
   "cell_type": "code",
   "execution_count": null,
   "metadata": {},
   "outputs": [],
   "source": [
    "# Symbol positions start from 0\n",
    "#     012345678901234\"  \n",
    "s1 = \"this is string!\"\n",
    "print(s1)\n",
    "w1 = s1[0:4]\n",
    "w2 = s1[5:7]\n",
    "w3 = s1[-7:-1]\n",
    "s2 = w2 + \" \" + w1 + \" \" + w3 + \"?\"\n",
    "print(s2)"
   ]
  },
  {
   "cell_type": "markdown",
   "metadata": {},
   "source": [
    "Number can be appear in a string:\n",
    "```python\n",
    "s = \"value of N is 999\"\n",
    "```\n",
    "Or can be written as a string\n",
    "```python\n",
    "a = \"1.234\"\n",
    "```\n",
    "To use it in computations one have to convert it to a numerical type, `int` or `float`."
   ]
  },
  {
   "cell_type": "code",
   "execution_count": null,
   "metadata": {},
   "outputs": [],
   "source": [
    "s = \"value of N is 999\"\n",
    "N = s[-3:]\n",
    "print(N)\n",
    "print(type(N))  # N is a string, not a number"
   ]
  },
  {
   "cell_type": "code",
   "execution_count": null,
   "metadata": {},
   "outputs": [],
   "source": [
    "N1 = N + 1  # Error, types are incompatible"
   ]
  },
  {
   "cell_type": "code",
   "execution_count": null,
   "metadata": {},
   "outputs": [],
   "source": [
    "N = int(s[-3:])  # Convert string '999' to number 999\n",
    "print(N)\n",
    "print(type(N))"
   ]
  },
  {
   "cell_type": "code",
   "execution_count": null,
   "metadata": {},
   "outputs": [],
   "source": [
    "N1 = N + 1  # Now N can appear in computations\n",
    "print(N1)"
   ]
  },
  {
   "cell_type": "code",
   "execution_count": null,
   "metadata": {},
   "outputs": [],
   "source": [
    "a = \"1.234\"\n",
    "b = a + 1.766  # Error because types are incompatible"
   ]
  },
  {
   "cell_type": "code",
   "execution_count": null,
   "metadata": {},
   "outputs": [],
   "source": [
    "b = float(a) + 1.766  # Now wlikeorks\n",
    "print(b)"
   ]
  },
  {
   "cell_type": "markdown",
   "metadata": {},
   "source": [
    "### String formatting\n",
    "\n",
    "Concatenation is often not enough to represent information appropriately. Complicated cases are processed via string formating: curly brackets and `.format()`"
   ]
  },
  {
   "cell_type": "code",
   "execution_count": null,
   "metadata": {},
   "outputs": [],
   "source": [
    "x = 10.0 / 7.0\n",
    "y = 13.0 / 7.0\n",
    "s = 'Results: x={} and y={}'.format(x, y)\n",
    "print(s)"
   ]
  },
  {
   "cell_type": "markdown",
   "metadata": {},
   "source": [
    "Printed values can be rounded (but actual variable values are unchanged)\n",
    "```python\n",
    "'{:with.precision}'.format(x)\n",
    "```\n",
    "Here `with` is total with, and `precision` is precision."
   ]
  },
  {
   "cell_type": "code",
   "execution_count": null,
   "metadata": {},
   "outputs": [],
   "source": [
    "x = 10.0 / 7.0\n",
    "y = 13.0 / 7.0\n",
    "s = 'Results: x={:4.3} and y={:5.4}'.format(x, y)\n",
    "print(s)"
   ]
  },
  {
   "cell_type": "markdown",
   "metadata": {},
   "source": [
    "f-strings is more convenient way of formating. One puts `f`-symbol before the string and write variables inside curly brackets."
   ]
  },
  {
   "cell_type": "code",
   "execution_count": null,
   "metadata": {},
   "outputs": [],
   "source": [
    "x = 10.0 / 7.0\n",
    "y = 13.0 / 7.0\n",
    "s = f'Results: x={x:4.3} and y={y:5.4}'\n",
    "print(s)"
   ]
  },
  {
   "cell_type": "markdown",
   "metadata": {},
   "source": [
    "### Reading input\n",
    "\n",
    "Program can read input from the keyboard by calling the `input()` function. Data are obtained as strings. The programmer must convert it to the proper type.\n",
    "\n",
    "If called with a string argument like this: `input('Enter a value')` a hint message is printed."
   ]
  },
  {
   "cell_type": "code",
   "execution_count": null,
   "metadata": {},
   "outputs": [],
   "source": [
    "s = input(\"Input i\")\n",
    "print(type(s))"
   ]
  },
  {
   "cell_type": "code",
   "execution_count": null,
   "metadata": {},
   "outputs": [],
   "source": [
    "i = int(s)\n",
    "print(i + 15)"
   ]
  },
  {
   "cell_type": "markdown",
   "metadata": {},
   "source": [
    "Keyboard input is typically not used in data science. Data are usually read from files."
   ]
  },
  {
   "cell_type": "markdown",
   "metadata": {},
   "source": [
    "### Modules\n",
    "\n",
    "Some functions are available in Python anytime and anywhere: `print()`, `input()`, `round()`\n",
    "\n",
    "Less common functions are collected in modules. Before using they have to be imported to the program using command `import`\n",
    "\n",
    "Math functions live in module `math`. Its import is done with the command\n",
    "```python\n",
    "import math\n",
    "```\n",
    "Using module content: add prefix `math.` before function name:\n",
    "```python\n",
    "a = math.sin(0.1)\n",
    "```"
   ]
  },
  {
   "cell_type": "code",
   "execution_count": null,
   "metadata": {},
   "outputs": [],
   "source": [
    "import math\n",
    "\n",
    "x = (math.sqrt(5) + 1) / 2\n",
    "print(x)"
   ]
  },
  {
   "cell_type": "markdown",
   "metadata": {},
   "source": [
    "If a module name is too long one can rename it when importing"
   ]
  },
  {
   "cell_type": "code",
   "execution_count": null,
   "metadata": {},
   "outputs": [],
   "source": [
    "import datetime as dt\n",
    "\n",
    "today = dt.date.today()\n",
    "print(\"Today's date:\", today)"
   ]
  },
  {
   "cell_type": "markdown",
   "metadata": {},
   "source": [
    "Or one can merge a module content to the global name space - no reference to the module name will be required"
   ]
  },
  {
   "cell_type": "code",
   "execution_count": null,
   "metadata": {
    "scrolled": true
   },
   "outputs": [],
   "source": [
    "from random import *\n",
    "\n",
    "print(randint(1, 10))"
   ]
  },
  {
   "cell_type": "markdown",
   "metadata": {},
   "source": [
    "Sometimes only one function is needed. Then we import exactly what we want"
   ]
  },
  {
   "cell_type": "code",
   "execution_count": null,
   "metadata": {},
   "outputs": [],
   "source": [
    "from math import log10\n",
    "\n",
    "print(log10(10**5))"
   ]
  },
  {
   "cell_type": "markdown",
   "metadata": {},
   "source": [
    "### Module NumPy\n",
    "\n",
    "Standard module `math` is usually not used in data science. It is not enough for really serious math computations. \n",
    "\n",
    "In fact the standard for serious work is `numpy` module. It contains all functions from `math` and much much more."
   ]
  },
  {
   "cell_type": "code",
   "execution_count": null,
   "metadata": {},
   "outputs": [],
   "source": [
    "import numpy as np  # this is standard form of import\n",
    "\n",
    "x = np.sin(np.pi / 2)**2 + np.cos(np.pi / 2)**2\n",
    "print(x)"
   ]
  },
  {
   "cell_type": "markdown",
   "metadata": {},
   "source": [
    "Notice that `math` is a part of Python and is always available. Module `numpy` must be installed separately. "
   ]
  },
  {
   "cell_type": "markdown",
   "metadata": {},
   "source": [
    "### Exercises\n",
    "\n",
    "All exercises in this section are taken from book \\[1\\]"
   ]
  },
  {
   "cell_type": "markdown",
   "metadata": {},
   "source": [
    "1\\. In many jurisdictions a small deposit is added to drink containers to encourage people to recycle them. In one particular jurisdiction, drink containers holding one liter or less have a \\\\$0.10 deposit, and drink containers holding more than one liter have a \\\\$0.25 deposit. Write a program that reads the number of containers of each size from the user. Your program should continue by computing and displaying the refund that will be received for returning those containers. Format the output so that it includes a dollar sign and two digits to the right of the decimal point."
   ]
  },
  {
   "cell_type": "markdown",
   "metadata": {},
   "source": [
    "2\\. The program that you create for this exercise will begin by reading the cost of a meal ordered at a restaurant from the user. Then your program will compute the tax and tip for the meal. Use your local tax rate when computing the amount of tax owing. Compute the tip as 18 percent of the meal amount (without the tax). The output from your program should include the tax amount, the tip amount, and the grand total for the meal including both the tax and the tip. Format the output so that all of the values are displayed using two decimal places."
   ]
  },
  {
   "cell_type": "markdown",
   "metadata": {},
   "source": [
    "3\\. Write a program that reads a positive integer, n, from the user and then displays the sum of all of the integers from 1 to n. The sum of the first n positive integers can be\n",
    "\n",
    "$$S = \\frac{n(n+1)}{2}$$"
   ]
  },
  {
   "cell_type": "markdown",
   "metadata": {},
   "source": [
    "4\\. Pretend that you have just opened a new savings account that earns 4 percent interest per year. The interest that you earn is paid at the end of the year, and is added to the balance of the savings account. Write a program that begins by reading the amount of money deposited into the account from the user. Then your program should compute and display the amount in the savings account after 1, 2, and 3 years. Display each amount so that it is rounded to 2 decimal places. "
   ]
  },
  {
   "cell_type": "markdown",
   "metadata": {},
   "source": [
    "5\\. In the United States, fuel efficiency for vehicles is normally expressed in miles-per-gallon (MPG). In Canada, fuel efficiency is normally expressed in liters-per-hundred kilometers (L/100km). Use your research skills to determine how to convert from MPG to L/100km.Then create a program that reads a value from the user in American units and displays the equivalent fuel efficiency in Canadian units."
   ]
  },
  {
   "cell_type": "markdown",
   "metadata": {},
   "source": [
    "6\\. The surface of the Earth is curved, and the distance between degrees of longitude\n",
    "varies with latitude. As a result, finding the distance between two points on the surface\n",
    "of the Earth is more complicated than simply using the Pythagorean theorem.\n",
    "\n",
    "Let ($t_1$, $g_1$) and ($t_2$ , $g_2$) be the latitude and longitude of two points on the Earth’s surface. The distance between these points, following the surface of the Earth, in\n",
    "kilometers is:\n",
    "\n",
    "$$\n",
    "D = 6371.01 \\arccos(\\sin t_1 \\sin t_2 + \\cos t_1 \\cos t_2 \\cos(g_1-g_2))\n",
    "$$\n",
    "\n",
    "*The value 6371.01 in the previous equation wasn’t selected at random. It is the\n",
    "average radius of the Earth in kilometers.*\n",
    "\n",
    "Create a program that allows the user to enter the latitude and longitude of two\n",
    "points on the Earth in degrees. Your program should display the distance between\n",
    "the points, following the surface of the earth, in kilometers.\n",
    "\n",
    "*Hint: Python’s trigonometric functions operate in radians. As a result, you will\n",
    "need to convert the user’s input from degrees to radians before computing the\n",
    "distance with the formula discussed previously. The `math` module as well as `numpy` \n",
    "contains a function named radians which converts from degrees to radians.*"
   ]
  },
  {
   "cell_type": "markdown",
   "metadata": {},
   "source": [
    "7\\. Many people think about their height in feet and inches, even in some countries that\n",
    "primarily use the metric system. Write a program that reads a number of feet from\n",
    "the user, followed by a number of inches. Once these values are read, your program\n",
    "should compute and display the equivalent number of centimeters.\n",
    "\n",
    "*Hint: One foot is 12 inches. One inch is 2.54 centimeters.*"
   ]
  },
  {
   "cell_type": "markdown",
   "metadata": {},
   "source": [
    "8\\. Write a program that begins by reading a radius, $r$, from the user. The program will\n",
    "continue by computing and displaying the area of a circle with radius $r$ and the\n",
    "volume of a sphere with radius $r$. Use the pi constant in the `math` or `numpy` modules in your calculations. Use Internet to look up the necessary formula if you don't have them memorized."
   ]
  },
  {
   "cell_type": "markdown",
   "metadata": {},
   "source": [
    "9\\. Python’s `time` module includes several time-related functions. One of these is the\n",
    "`asctime` function which reads the current time from the computer’s internal clock\n",
    "and returns it in a human-readable format. Use this function to write a program that\n",
    "displays the current time and date. Your program will not require any input from the\n",
    "user."
   ]
  },
  {
   "cell_type": "markdown",
   "metadata": {},
   "source": [
    "10\\. When the wind blows in cold weather, the air feels even colder than it actually is\n",
    "because the movement of the air increases the rate of cooling for warm objects, like\n",
    "people. This effect is known as wind chill.\n",
    "\n",
    "In 2001, Canada, the United Kingdom and the United States adopted the following formula for computing the wind chill index. Within the formula $T_a$ is the air temperature in degrees Celsius and $V$ is the wind speed in kilometers per hour. A similar formula with different constant values can be used for temperatures in degrees Fahrenheit and wind speeds in miles per hour.\n",
    "\n",
    "$$\n",
    "WCI = 13.12 + 0.6215 T_a − 11.37 V^{0.16} + 0.3965 T_a V^{0.16}\n",
    "$$\n",
    "\n",
    "Write a program that begins by reading the air temperature and wind speed from the\n",
    "user. Once these values have been read your program should display the wind chill\n",
    "index rounded to the closest integer.\n",
    "\n",
    "_The wind chill index is only considered valid for temperatures less than or\n",
    "equal to 10 degrees Celsius and wind speeds exceeding 4.8 kilometers per\n",
    "hour._"
   ]
  },
  {
   "cell_type": "markdown",
   "metadata": {},
   "source": [
    "11\\. Develop a program that reads a four-digit integer from the user and displays the sum\n",
    "of its digits. For example, if the user enters `3141` then your program should display\n",
    "`3 + 1 + 4 + 1 = 9`."
   ]
  },
  {
   "cell_type": "markdown",
   "metadata": {},
   "source": [
    "12\\. Create a program that reads three integers from the user and displays them in sorted\n",
    "order (from smallest to largest). Use the `min` and `max` functions to find the smallest\n",
    "and largest values. The middle value can be found by computing the sum of all three\n",
    "values, and then subtracting the minimum value and the maximum value."
   ]
  },
  {
   "cell_type": "markdown",
   "metadata": {},
   "source": [
    "13\\. A bakery sells loaves of bread for \\$3.49 each. Day old bread is discounted by 60\n",
    "percent. Write a program that begins by reading the number of loaves of day old\n",
    "bread being purchased from the user. Then your program should display the regular\n",
    "price for the bread, the discount because it is a day old, and the total price. Each of\n",
    "these amounts should be displayed on its own line with an appropriate label. All of\n",
    "the values should be displayed using two decimal places, and the decimal points in\n",
    "all of the numbers should be aligned when reasonable values are entered by the user."
   ]
  },
  {
   "cell_type": "markdown",
   "metadata": {},
   "source": [
    "## Lesson 2"
   ]
  },
  {
   "cell_type": "markdown",
   "metadata": {},
   "source": [
    "### Conditional constructs\n",
    "\n",
    "Conditional constructs allows branching: statements may or may not be executed depending on some conditions.\n",
    "\n",
    "Forms of conditional constructs:\n",
    "- if\n",
    "- if-else\n",
    "- if-elif-else\n",
    "- if-elif\n",
    "\n",
    "Remark for those who is familiar with other languages: Python does not have select-case statements. Their are simulated via if-elif-else constructs."
   ]
  },
  {
   "cell_type": "markdown",
   "metadata": {},
   "source": [
    "### If statements\n",
    "\n",
    "The simplest form consists of `if` statement only:\n",
    "```python\n",
    "if <condition_is_true>:\n",
    "    <do_something>\n",
    "<continue_working>\n",
    "```\n",
    "Observe colon `:` ending the line of `if` statement. It must be there according to the language rules.\n",
    "\n",
    "Statements `<do_something>` are executed only if the result of the condition evaluation is `True`. Otherwise this construct does nothing. Statement `<continue_working>` are executed in any case.\n",
    "\n",
    "The body of an `if` statement consists of one or more statements that must be **indented more than the `if` keyword**. \n",
    "\n",
    "The body ends before the next line that is indented **the\n",
    "same amount as (or less than) the `if` keyword**. \n",
    "\n",
    "Programmers can choose how many spaces to use when indenting the bodies of `if` and other similar statements. Recommended value is 4 spaces. \n",
    "\n",
    "Often the condition is written as a relation:\n",
    "```python\n",
    "x < y\n",
    "x > y\n",
    "x <= y\n",
    "x >= y\n",
    "x == y\n",
    "x != y\n",
    "x is None\n",
    "x is not None\n",
    "```"
   ]
  },
  {
   "cell_type": "code",
   "execution_count": null,
   "metadata": {},
   "outputs": [],
   "source": [
    "N = int(input(\"Enter N=\"))\n",
    "if N > 0:\n",
    "    print(\"You have entered a positive value\")\n",
    "if N <= 0:\n",
    "    print(\"You have entered a negative value or zero\")"
   ]
  },
  {
   "cell_type": "markdown",
   "metadata": {},
   "source": [
    "### If-else statements\n",
    "\n",
    "In the previous example the second test is redundant. If the condition `N > 0` is false, `N <= 0` is true automatically. Two calls of `print()` are mutually exclusive.\n",
    "\n",
    "Instead of the second `if` it is better to use if-else statement \n",
    "```python\n",
    "if <condition_is_true>:\n",
    "    <do_something>\n",
    "else:\n",
    "    <do_other_things>\n",
    "<continue_working>\n",
    "```\n",
    "Observe colons `:` ending both `if` and `else` lines. They must be there.\n",
    "\n",
    "Observe the same indentations of `if` and `else` bodies.\n",
    "\n",
    "Either `<do_something>` or `<do_other_things>` will be executed. Never both of them!\n",
    "\n",
    "To fix the previous example we substitute the second `if` with `else` statement."
   ]
  },
  {
   "cell_type": "code",
   "execution_count": null,
   "metadata": {},
   "outputs": [],
   "source": [
    "N = int(input(\"Enter N=\"))\n",
    "if N > 0:\n",
    "    print(\"You have entered a positive value\")\n",
    "else:\n",
    "    print(\"You have entered a negative value or zero\")"
   ]
  },
  {
   "cell_type": "markdown",
   "metadata": {},
   "source": [
    "### If-elif-else statements\n",
    "\n",
    "If there are more then two options:\n",
    "```python\n",
    "if <condition_1_is_true>:\n",
    "    <do_something_1>\n",
    "elif <condition_2_is_true>:\n",
    "    <do_something_2>\n",
    "elif <condition_3_is_true>:\n",
    "    <do_something_3>\n",
    "else:\n",
    "    <do_other_things>\n",
    "<continue_working>\n",
    "```\n",
    "\n",
    "Exactly one statement will be executed: either `<do_something_1>` or `<do_something_2>` or `<do_something_3>` or `<do_other_things>`.\n",
    "\n",
    "Branch `else` can be omitted. In this case if non of the conditions is true if-elif block does nothing."
   ]
  },
  {
   "cell_type": "code",
   "execution_count": null,
   "metadata": {},
   "outputs": [],
   "source": [
    "N = int(input(\"Enter N=\"))\n",
    "if N > 0:\n",
    "    print(\"You have entered a positive value\")\n",
    "elif N == 0:\n",
    "    print(\"You have entered zero\")\n",
    "else:\n",
    "    print(\"You have entered a negative value\")"
   ]
  },
  {
   "cell_type": "markdown",
   "metadata": {},
   "source": [
    "### Nested if\n",
    "\n",
    "\n",
    "The body of if-elif-else block can contain almost any Python statements, including another if blocks. "
   ]
  },
  {
   "cell_type": "code",
   "execution_count": null,
   "metadata": {},
   "outputs": [],
   "source": [
    "x = float(input(\"Enter x=\"))\n",
    "\n",
    "if x < 0.0:\n",
    "    descr = \"negative\"\n",
    "elif x == 0.0:\n",
    "    descr = \"zero\"\n",
    "else:\n",
    "    descr = \"positive\"\n",
    "    if x < 1.0:\n",
    "        descr = \"small \" + descr\n",
    "    if x >= 10:\n",
    "        descr = \"big \" + descr\n",
    "print(f\"You have eneterd a {descr} value\")"
   ]
  },
  {
   "cell_type": "markdown",
   "metadata": {},
   "source": [
    "### Conditional expression (ternary operator)\n",
    "\n",
    "Decision can be made in with a single expression. It is called a conditional expression.\n",
    "```python\n",
    "a = <one_value> if <condition_is_true> else <another_value>\n",
    "```\n",
    "Conditional expressions make a code more compact and readable "
   ]
  },
  {
   "cell_type": "code",
   "execution_count": null,
   "metadata": {},
   "outputs": [],
   "source": [
    "x = float(input(\"Inpute a number \"))\n",
    "a = \"small\" if abs(x) < 10 else \"big\"\n",
    "print(f\"You have entered a {a} number\")"
   ]
  },
  {
   "cell_type": "markdown",
   "metadata": {},
   "source": [
    "### Boolean logic\n",
    "\n",
    "Results of relations can be modified and they can be combined using logical operators `not`, `and`, `or`.\n",
    "\n",
    "Operator `not` switches a logical value. The truth table:\n",
    "\n",
    "| x | not x |\n",
    "| :-: | :-: |\n",
    "| False | True |\n",
    "| True | False|\n",
    "\n",
    "Operator `and` compares two boolean values. The result is true only when both arguments are true. The truth table:\n",
    "\n",
    "| x | y | x and y |\n",
    "| :-: | :-: | :-: |\n",
    "| False | False | False |\n",
    "| False | True | False |\n",
    "| True | False | False |\n",
    "| True | True | True |\n",
    "\n",
    "Operator `or` also compares two boolean values. The result is false only when both arguments are false. The truth table:\n",
    "\n",
    "| x | y | x or y |\n",
    "| :-: | :-: | :-: |\n",
    "| False | False | False |\n",
    "| False | True | True |\n",
    "| True | False | True |\n",
    "| True | True | True |\n"
   ]
  },
  {
   "cell_type": "code",
   "execution_count": null,
   "metadata": {},
   "outputs": [],
   "source": [
    "N = int(input('Enter N='))\n",
    "\n",
    "if N == 2 or N == 4 or N == 6 or N == 8 or N == 10:\n",
    "    print(\"You have entered an even number\")\n",
    "elif N >= 1 and N <= 9:\n",
    "    print(\"You have entered an odd number\")\n",
    "else:\n",
    "    print(\"Have no idea what you have entered\")"
   ]
  },
  {
   "cell_type": "markdown",
   "metadata": {},
   "source": [
    "### While loops\n",
    "\n",
    "A `while` loop repeatedly executes its body statements as long as a condition evaluates to `True`.\n",
    "```python\n",
    "while <condition_is_true>:\n",
    "    <do_something_again_and_again>\n",
    "```\n",
    "\n",
    "The body of the loop must be **indented more than the `while` keyword**. \n",
    "\n",
    "The body ends before the next line that is indented **the\n",
    "same amount as (or less than) the `while` keyword**. \n"
   ]
  },
  {
   "cell_type": "code",
   "execution_count": null,
   "metadata": {},
   "outputs": [],
   "source": [
    "N = int(input(\"Enter dividend N=\"))\n",
    "K = int(input(\"Enter divisor  K=\"))\n",
    "\n",
    "acum = 0\n",
    "quotient = 0\n",
    "remainder = 0\n",
    "print()\n",
    "while acum < N:\n",
    "    acum += K\n",
    "    quotient += 1\n",
    "    print(f\"watching: acum={acum:4}, quotient={quotient:4}, (acum<N)={acum<N}\")\n",
    "\n",
    "print()\n",
    "if acum > N:\n",
    "    quotient -= 1\n",
    "    \n",
    "remainder = N - quotient * K\n",
    "    \n",
    "print(f\"Result: {N} = {K} * {quotient} + {remainder}\")    "
   ]
  },
  {
   "cell_type": "markdown",
   "metadata": {},
   "source": [
    "### For loops\n",
    "\n",
    "Loop `for` also repeats the execution of its body and do it for each element of a collection:\n",
    "```python\n",
    "for <variable> in <collection>:\n",
    "    <do_something_for_each_element_in_collection>\n",
    "```\n",
    "\n",
    "Observe the indentation. Rules are the same as for `if` and `while`.\n",
    "\n",
    "The collection can be a range of integers, the letters in a string and some others.\n",
    "\n",
    "Each element in the collection is copied into `<variable>` before each execution of the body.\n",
    "\n",
    "A collection of integers can be constructed by calling function `range()`."
   ]
  },
  {
   "cell_type": "code",
   "execution_count": null,
   "metadata": {},
   "outputs": [],
   "source": [
    "for i in range(5):  # i = [0, 1, 2, 3, 4]\n",
    "    print(f\"i={i}, i squared={i**2}\")"
   ]
  },
  {
   "cell_type": "code",
   "execution_count": null,
   "metadata": {},
   "outputs": [],
   "source": [
    "for i in range(5, 10):  # i = [5, 6, 7, 8, 9]\n",
    "    print(f\"i={i}, i squared={i**2}\")"
   ]
  },
  {
   "cell_type": "code",
   "execution_count": null,
   "metadata": {
    "scrolled": true
   },
   "outputs": [],
   "source": [
    "for i in range(1, 11, 2):  # i = [1, 3, 5, 7, 9]\n",
    "    print(f\"i={i}, i squared={i**2}\")"
   ]
  },
  {
   "cell_type": "code",
   "execution_count": null,
   "metadata": {
    "scrolled": true
   },
   "outputs": [],
   "source": [
    "for i in range(10, 0, -2):  # i = [10, 8, 6, 4, 2]\n",
    "    print(f\"i={i}, i squared={i**2}\")"
   ]
  },
  {
   "cell_type": "markdown",
   "metadata": {},
   "source": [
    "Observe that range by default starts from zero. Last range number is ignored."
   ]
  },
  {
   "cell_type": "markdown",
   "metadata": {},
   "source": [
    "### Nested loops\n",
    "\n",
    "Body of a loop can contain `if` statements as well as another loops. "
   ]
  },
  {
   "cell_type": "code",
   "execution_count": null,
   "metadata": {},
   "outputs": [],
   "source": [
    "s = input(\"Enter a word (blank to quit)\")\n",
    "\n",
    "while s != \"\":\n",
    "    for i in range(3):\n",
    "        print(f\"{s} \", end=\"\")  # do not go to new line\n",
    "    print()  # now go to new line when for-loop is finished\n",
    "    \n",
    "    s = input(\"Enter a word (blank to quit)\")"
   ]
  },
  {
   "cell_type": "markdown",
   "metadata": {},
   "source": [
    "### Break and continue\n",
    "\n",
    "Previous code was not so good. We were forced to write two identical input statements. This is because the conditions is checked before execution the body. \n",
    "\n",
    "Some other programming languages have do-while loops where the condition is checked after the execution. But Python does have it.\n",
    "\n",
    "But we can simulate do-while loop using is-statement and `break`.\n",
    "\n",
    "Operator `break` immediately breaks loop repetitions. Works both with `for` and `while` loops."
   ]
  },
  {
   "cell_type": "code",
   "execution_count": null,
   "metadata": {},
   "outputs": [],
   "source": [
    "acum = 0\n",
    "while True:\n",
    "    N = int(input(\"Enter N=\"))\n",
    "    acum += N\n",
    "    print(f\"acum={acum}\")\n",
    "    if acum > 10:\n",
    "        break"
   ]
  },
  {
   "cell_type": "markdown",
   "metadata": {},
   "source": [
    "Operator `continue` stops current execution and jump to another loop repetition. Works both with `for` and `while` loops."
   ]
  },
  {
   "cell_type": "code",
   "execution_count": null,
   "metadata": {},
   "outputs": [],
   "source": [
    "acum = 0\n",
    "while True:\n",
    "    N = int(input(\"Enter N=\"))\n",
    "    if N < 0:\n",
    "        print(\"Ignore negative values\")\n",
    "        continue\n",
    "    acum += N\n",
    "    print(f\"acum={acum}\")\n",
    "    if acum > 10:\n",
    "        break"
   ]
  },
  {
   "cell_type": "markdown",
   "metadata": {},
   "source": [
    "Often we need to leave a loop from the middle point of a body. Let us improve the example from the previous section. Not duplicated inputs anymore."
   ]
  },
  {
   "cell_type": "code",
   "execution_count": null,
   "metadata": {},
   "outputs": [],
   "source": [
    "while True:\n",
    "    s = input(\"Enter a word (blank to quit)\")\n",
    "    if s == \"\":\n",
    "        break\n",
    "    \n",
    "    N = 3\n",
    "    print(f\"Now I repeat it {N} times: \", end=\"\")\n",
    "    for i in range(N):\n",
    "        print(f\"{s} \", end=\"\")  # do not go to new line\n",
    "    print()  # now go to new line when for-loop is finished"
   ]
  },
  {
   "cell_type": "markdown",
   "metadata": {},
   "source": [
    "### Exercises\n",
    "\n",
    "All exercises in this section are taken from book \\[1\\]"
   ]
  },
  {
   "cell_type": "markdown",
   "metadata": {},
   "source": [
    "1\\. Write a program that reads an integer from the user. Then your program should display a message indicating whether the integer is even or odd."
   ]
  },
  {
   "cell_type": "markdown",
   "metadata": {},
   "source": [
    "2\\. It is commonly said that one human year is equivalent to 7 dog years. However this simple conversion fails to recognize that dogs reach adulthood in approximately two years. As a result, some people believe that it is better to count each of the first two human years as 10.5 dog years, and then count each additional human year as 4 dog years.\n",
    "\n",
    "Write a program that implements the conversion from human years to dog years\n",
    "described in the previous paragraph. Ensure that your program works correctly for conversions of less than two human years and for conversions of two or more human years. Your program should display an appropriate error message if the user enters a negative number."
   ]
  },
  {
   "cell_type": "markdown",
   "metadata": {},
   "source": [
    "3\\. In this exercise you will create a program that reads a letter of the alphabet from the user. If the user enters **a**, **e**, **i**, **o** or **u** then your program should display a message indicating that the entered letter is a vowel. If the user enters **y** then your program should display a message indicating that sometimes **y** is a vowel, and sometimes **y** is a consonant. Otherwise your program should display a message indicating that the letter is a consonant."
   ]
  },
  {
   "cell_type": "markdown",
   "metadata": {},
   "source": [
    "4\\. The following table lists the sound level in decibels for several common noises.\n",
    "\n",
    "| Noise | Decibel Level |\n",
    "| :-- | :-- |\n",
    "| Jackhammer | 130 dB |\n",
    "| Gas Lawnmower | 106 dB |\n",
    "| Alarm Clock | 70 dB |\n",
    "| Quite Room | 40 dB |\n",
    "\n",
    "Write a program that reads a sound level in decibels from the user. If the user enters a decibel level that matches one of the noises in the table then your program should display a message containing only that noise. If the user enters a number of decibels between the noises listed then your program should display a message indicating which noises the value is between. Ensure that your program also generates reasonable output for a value smaller than the quietest noise in the table, and for a value larger than the loudest noise in the table."
   ]
  },
  {
   "cell_type": "markdown",
   "metadata": {},
   "source": [
    "5\\. The year is divided into four seasons: spring, summer, fall (or autumn) and winter. While the exact dates that the seasons change vary a little bit from year to year because of the way that the calendar is constructed, we will use the following dates for this exercise:\n",
    "\n",
    "| Season | First Day |\n",
    "| :-- | :-- |\n",
    "| Spring | March 20 |\n",
    "| Summer | June 21 |\n",
    "| Fall | September 22 |\n",
    "| Winter | December 21 |\n",
    "\n",
    "Create a program that reads a month and day from the user. The user will\n",
    "enter the name of the month as a string, followed by the day within the month as an integer. Then your program should display the season associated with the date that was entered."
   ]
  },
  {
   "cell_type": "markdown",
   "metadata": {},
   "source": [
    "6\\. The Chinese zodiac assigns animals to years in a 12 year cycle. One 12 year cycle is shown in the table below. The pattern repeats from there, with 2012 being another year of the dragon, and 1999 being another year of the hare.\n",
    "\n",
    "| Year | Animal |\n",
    "| :-- | :-- |\n",
    "| 2000 | Dragon\n",
    "| 2001 | Snake\n",
    "| 2002 | Horse\n",
    "| 2003 | Sheep\n",
    "| 2004 | Monkey\n",
    "| 2005 | Rooster\n",
    "| 2006 | Dog\n",
    "| 2007 | Pig\n",
    "| 2008 | Rat\n",
    "| 2009 | Ox\n",
    "| 2010 | Tiger\n",
    "| 2011 | Hare\n",
    "\n",
    "Write a program that reads a year from the user and displays the animal associated with that year. Your program should work correctly for any year greater than or equal to zero, not just the ones listed in the table."
   ]
  },
  {
   "cell_type": "markdown",
   "metadata": {},
   "source": [
    "7\\. A roulette wheel has 38 spaces on it. Of these spaces, 18 are black, 18 are red, and two are green. The green spaces are numbered 0 and 00. The red spaces are numbered 1, 3, 5, 7, 9, 12, 14, 16, 18, 19, 21, 23, 25, 27, 30 32, 34 and 36. The remaining integers between 1 and 36 are used to number the black spaces. \n",
    "\n",
    "Many different bets can be placed in roulette. We will only consider the following subset of them in this exercise:\n",
    "\n",
    "- Single number (1 to 36, 0, or 00)\n",
    "- Red versus Black\n",
    "- Odd versus Even (Note that 0 and 00 do not pay out for even)\n",
    "- 1 to 18 versus 19 to 36\n",
    "\n",
    "Write a program that simulates a spin of a roulette wheel by using Python’s\n",
    "random number generator. Display the number that was selected and all of the bets that must be payed. For example, if 13 is selected then your program should display:\n",
    "\n",
    "```\n",
    "The  spin resulted in 13...\n",
    "Pay 13\n",
    "Pay Black\n",
    "Pay Odd\n",
    "Pay 1 to 18\n",
    "```\n",
    "\n",
    "If the simulation results in 0 or 00 then your program should display Pay 0\n",
    "or Pay 00 without any further output."
   ]
  },
  {
   "cell_type": "markdown",
   "metadata": {},
   "source": [
    "8\\. In this exercise you will create a program that computes the average of a collection of values entered by the user. The user will enter 0 as a sentinel value to indicate\n",
    "that no further values will be provided. Your program should display an appropriate error message if the first value entered by the user is 0.\n",
    "\n",
    "_Hint: Because the 0 marks the end of the input it should not be included in the average._"
   ]
  },
  {
   "cell_type": "markdown",
   "metadata": {},
   "source": [
    "9\\. Write a program that displays a temperature conversion table for degrees Celsius and degrees Fahrenheit. The table should include rows for all temperatures between 0 and 100 degrees Celsius that are multiples of 10 degrees Celsius. Include appropriate\n",
    "headings on your columns. The formula for converting between degrees Celsius and degrees Fahrenheit is as follows\n",
    "$$\n",
    "T_F=T_C \\times 9 / 5 + 32\n",
    "$$"
   ]
  },
  {
   "cell_type": "markdown",
   "metadata": {},
   "source": [
    "10\\. A particular zoo determines the price of admission based on the age of the guest. Guests 2 years of age and less are admitted without charge. Children between 3 and 12 years of age cost \\\\$14.00. Seniors aged 65 years and over cost \\\\$18.00. Admission for all other guests is \\\\$23.00.\n",
    "\n",
    "Create a program that begins by reading the ages of all of the guests in a group\n",
    "from the user, with one age entered on each line. The user will enter a blank line to indicate that there are no more guests in the group. Then your program should display the admission cost for the group with an appropriate message. The cost should be displayed using two decimal places."
   ]
  },
  {
   "cell_type": "markdown",
   "metadata": {},
   "source": [
    "11\\. The value of $\\pi$ can be approximated by the following infinite series:\n",
    "$$\n",
    "\\pi \\approx 3\n",
    "+ \\frac{4}{2\\times 3\\times 4}\n",
    "- \\frac{4}{4\\times 5\\times 6}\n",
    "+ \\frac{4}{6\\times 7\\times 8}\n",
    "- \\frac{4}{8\\times 9\\times 10}\n",
    "+ \\frac{4}{10\\times 11\\times 12}\n",
    "- \\cdots\n",
    "$$\n",
    "Write a program that displays 15 approximations of $\\pi$. The first approximation should make use of only the first term from the infinite series. Each additional approximation displayed by your program should include one more term in the series, making it a better approximation of $\\pi$ than any of the approximations displayed previously."
   ]
  },
  {
   "cell_type": "markdown",
   "metadata": {},
   "source": [
    "12\\. Fizz-Buzz is a game that is sometimes played by children to help them learn about\n",
    "division. The players are commonly arranged in a circle so that the game can progress\n",
    "from player to player continually. The starting player begins by saying one, and then play passes to the player to the left. Each subsequent player is responsible for the next integer in sequence before play passes to the following player. On a player’s turn they must either say their number or one of following substitutions:\n",
    "\n",
    "- If the player’s number is divisible by 3 then the player says fizz instead of their number.\n",
    "- If the player’s number is divisible by 5 then the player says buzz instead of their number.\n",
    "\n",
    "A player must say both fizz and buzz for numbers that are divisible by both 3\n",
    "and 5. Any player that fails to perform the correct substitution or hesitates before\n",
    "answering is eliminated from the game. The last player remaining is the winner.\n",
    "Write a program that displays the answers for the first 100 numbers in the Fizz-\n",
    "Buzz game. Each answer should be displayed on its own line."
   ]
  },
  {
   "cell_type": "markdown",
   "metadata": {},
   "source": [
    "13\\. Write a program that implements Newton’s method to compute and display the\n",
    "square root of a number, x, entered by the user. The algorithm for Newton’s method\n",
    "follows:\n",
    "```\n",
    "Read x from the user\n",
    "Initialize guess to x/2\n",
    "While guess is not good enough do\n",
    "    Update guess to be the average \n",
    "    of guess and x/guess\n",
    "```\n",
    "\n",
    "When this algorithm completes, guess contains an approximation of the square\n",
    "root of x. The quality of the approximation depends on how you define “good\n",
    "enough”. In the author’s solution, guess was considered good enough when the\n",
    "absolute value of the difference between guess∗guess and x was less than or equal\n",
    "to $10^{−12}$."
   ]
  },
  {
   "cell_type": "markdown",
   "metadata": {},
   "source": [
    "14\\. A string is a palindrome if it is identical forward and backward. For example “anna”, “civic”, “level” and “hannah” are all examples of palindromic words. Write a program that reads a string from the user and uses a loop to determine whether or not it is a\n",
    "palindrome. Display the result, including a meaningful output message.\n",
    "\n",
    "_Aibohphobia is the extreme or irrational fear of palindromes. This word was constructed by prepending the -phobia suffix with it’s reverse, resulting in a palindrome. Ailihphilia is the fondness for or love of palindromes. It was constructed in the same manner from the -philia suffix._"
   ]
  },
  {
   "cell_type": "markdown",
   "metadata": {},
   "source": [
    "## Lesson 3"
   ]
  },
  {
   "cell_type": "markdown",
   "metadata": {},
   "source": [
    "### User defined functions\n",
    "\n",
    "Let us recall why we need functions:\n",
    "\n",
    "- to avoid retyping\n",
    "- to increase clarity\n",
    "\n",
    "Programmers can define their own functions. Splitting a code into many functions is a good programming style.\n",
    "\n",
    "```python\n",
    "def my_function(x, y):\n",
    "    <do_something>\n",
    "    return z\n",
    "```\n",
    "\n",
    "Keyword `def` starts a function definition. It is followed by a function name. Rules and limitations for function names are the same as for variables. Then function parameters are listed in parentheses. This line is ended by colon.\n",
    "\n",
    "A function can have no parameters. Empty parentheses are required any way.\n",
    "\n",
    "The function body must have an indent. \n",
    "\n",
    "The resulting variable, say `z`, is returned via `return z` statement. A function can have multiple `return` statements. And only one of them will be executed.\n",
    "\n",
    "Function can return nothing. In this case one can write `return` statement without a returning value. Or one can even omit `return`. The function will end automatically when all body statements will be executed.\n",
    "\n",
    "Variables defined in a function body are local and do not exist outside the function."
   ]
  },
  {
   "cell_type": "code",
   "execution_count": null,
   "metadata": {},
   "outputs": [],
   "source": [
    "def my_round(x):\n",
    "    # a function that rounds floats \n",
    "    return int((x + 0.5) // 1)\n",
    "\n",
    "x = 12.34\n",
    "i = my_round(x)\n",
    "print(f\"x={x}, my_round={i}\")\n",
    "x = 12.54\n",
    "i = my_round(x)\n",
    "print(f\"x={x}, my_round={i}\")"
   ]
  },
  {
   "cell_type": "code",
   "execution_count": null,
   "metadata": {},
   "outputs": [],
   "source": [
    "import datetime as dt\n",
    "\n",
    "def currently():\n",
    "    # a function without args\n",
    "    today = dt.date.today()\n",
    "    print(\"Today's date:\", today)\n",
    "    \n",
    "currently()"
   ]
  },
  {
   "cell_type": "code",
   "execution_count": null,
   "metadata": {},
   "outputs": [],
   "source": [
    "def largest(x, y):\n",
    "    # a function with multiple returns\n",
    "    if x >= y:\n",
    "        return x\n",
    "    else:\n",
    "        return y\n",
    "    \n",
    "x = 3.4\n",
    "y = 5.6\n",
    "z = largest(x, y)\n",
    "print(f\"x={x}, y={y}, largest={z}\")"
   ]
  },
  {
   "cell_type": "markdown",
   "metadata": {},
   "source": [
    "Observe describing comments located right after the function header.\n",
    "\n",
    "A variable declared outside of any function is known as a global variable. This means that a global variable can be accessed inside or outside of functions."
   ]
  },
  {
   "cell_type": "code",
   "execution_count": null,
   "metadata": {},
   "outputs": [],
   "source": [
    "N = 10  # it will be a global variable\n",
    "W = 6  # this is also a global variable\n",
    "\n",
    "def acum_squares():\n",
    "    print(\"Function acum_squares starts\")\n",
    "    acum = 0\n",
    "    for i in range(1, N + 1):  # we can freely read a value of the global variable\n",
    "        isq = i**2\n",
    "        acum += isq\n",
    "        print(f\"i={i:{W}}, isq={isq:{W}}, acum={acum:{W}}\")  # observe curly brackets around W\n",
    "    return acum\n",
    "\n",
    "a = acum_squares()\n",
    "print(f\"a={a}\")"
   ]
  },
  {
   "cell_type": "markdown",
   "metadata": {},
   "source": [
    "In the above example using `W` makes sense. But global `N` is a bad practice. It must be a function parameter instead. Better implementation"
   ]
  },
  {
   "cell_type": "code",
   "execution_count": null,
   "metadata": {},
   "outputs": [],
   "source": [
    "W = 6\n",
    "\n",
    "def acum_squares(N):\n",
    "    print(f\"Function acum_squares starts with N={N}\")\n",
    "    acum = 0\n",
    "    for i in range(1, N + 1):  # we can freely read a value of the global variable\n",
    "        isq = i**2\n",
    "        acum += isq\n",
    "        print(f\"i={i:{W}}, isq={isq:{W}}, acum={acum:{W}}\")  # observe curly brackets around W\n",
    "    return acum\n",
    "\n",
    "a = acum_squares(3)\n",
    "print(f\"a={a}\")\n",
    "a = acum_squares(4)\n",
    "print(f\"a={a}\")"
   ]
  },
  {
   "cell_type": "markdown",
   "metadata": {},
   "source": [
    "Sometimes we need to declare a global variable explicitly.\n",
    "\n",
    "By default, Python creates all variables as local."
   ]
  },
  {
   "cell_type": "code",
   "execution_count": null,
   "metadata": {},
   "outputs": [],
   "source": [
    "N = 1  # define global variable\n",
    "\n",
    "def local_scope():\n",
    "    N = 2  # N here is local and does not interfere with global N\n",
    "    print(f\"locally N={N}\")\n",
    "    return N\n",
    "\n",
    "print(f\"globally N={N}\")\n",
    "local_scope()\n",
    "print(f\"globally N={N}\")"
   ]
  },
  {
   "cell_type": "markdown",
   "metadata": {},
   "source": [
    "What if we want to modify a global variable inside a function? \n",
    "\n",
    "Simple assignment does not work because we create a new local variable instead.\n",
    "\n",
    "The solution is is to declare a variable as global"
   ]
  },
  {
   "cell_type": "code",
   "execution_count": null,
   "metadata": {},
   "outputs": [],
   "source": [
    "N = 1\n",
    "\n",
    "def incr():\n",
    "    global N\n",
    "    N = 2\n",
    "\n",
    "print(f\"before incr N={N}\")\n",
    "incr()\n",
    "print(f\"after incr N={N}\")"
   ]
  },
  {
   "cell_type": "markdown",
   "metadata": {},
   "source": [
    "Changing global variables inside functions is usually a bad practice. A program becomes more complicated. It becomes difficult to understand and control how it works."
   ]
  },
  {
   "cell_type": "markdown",
   "metadata": {},
   "source": [
    "Unlike many other programming languages parameters parameters can be passed to functions by their names.\n",
    "\n",
    "Consider an example"
   ]
  },
  {
   "cell_type": "code",
   "execution_count": null,
   "metadata": {},
   "outputs": [],
   "source": [
    "def cylinder_volume(rad, height):\n",
    "    # Compte volume of cylinder\n",
    "    pi = 3.14159265359\n",
    "    return pi * rad**2 * height\n",
    "\n",
    "x = 4\n",
    "y = 3\n",
    "V = cylinder_volume(x, y)\n",
    "print(f\"rad={x}, height={y}, vol={V}\")"
   ]
  },
  {
   "cell_type": "markdown",
   "metadata": {},
   "source": [
    "Here the cylinder radius is `x` and the height is `y`. We must remember their order: radius goes first. If we forget and switch them the result is incorrect. \n",
    "\n",
    "It can be avoided by calling parameters by their names. Doing like this we can even change their order."
   ]
  },
  {
   "cell_type": "code",
   "execution_count": null,
   "metadata": {},
   "outputs": [],
   "source": [
    "V1 = cylinder_volume(height=y, rad=x)\n",
    "print(f\"rad={x}, height={y}, vol={V1}\")"
   ]
  },
  {
   "cell_type": "markdown",
   "metadata": {},
   "source": [
    "Function parameters can have default values. These vales are passed to the function body when it is called without specifying these parameters.\n",
    "\n",
    "Example: function that computes n-th term of arithmetic progression"
   ]
  },
  {
   "cell_type": "code",
   "execution_count": null,
   "metadata": {},
   "outputs": [],
   "source": [
    "def arithm_progr(a1, n, d=1):\n",
    "    # n-th term of arithmetic progression\n",
    "    return a1 + (n - 1) * d\n",
    "\n",
    "n = 10\n",
    "a1 = 5\n",
    "d = 10\n",
    "an = arithm_progr(a1, n, d)\n",
    "print(f\"n={n}, a1={a1}, an={an}, d={d}\")"
   ]
  },
  {
   "cell_type": "markdown",
   "metadata": {},
   "source": [
    "There is default value for d. If d is omitted in a function call, the default value will be taken"
   ]
  },
  {
   "cell_type": "code",
   "execution_count": null,
   "metadata": {},
   "outputs": [],
   "source": [
    "n = 13\n",
    "a1 = 1\n",
    "\n",
    "d = 1\n",
    "an = arithm_progr(a1, n, d)\n",
    "print(f\"n={n}, a1={a1}, an={an}, d={d}\")\n",
    "\n",
    "an = arithm_progr(a1, n)\n",
    "print(f\"n={n}, a1={a1}, an={an}\")"
   ]
  },
  {
   "cell_type": "markdown",
   "metadata": {},
   "source": [
    "### Classes\n",
    "\n",
    "Classes provide a means of bundling data and functionality together. Creating a new class creates a new type of object, allowing new instances of that type to be made. Each class instance can have attributes attached to it for maintaining its state. Class instances can also have methods (defined by its class) for modifying its state.\n",
    "\n",
    "Keyword `class` starts class definition."
   ]
  },
  {
   "cell_type": "code",
   "execution_count": null,
   "metadata": {},
   "outputs": [],
   "source": [
    "class Employee:\n",
    "    count = 0  # class attribute\n",
    "\n",
    "    def __init__(self, name, salary):\n",
    "        # Constructor\n",
    "        print(\"Constructor is called\")\n",
    "        self.name = name  # instance attribute\n",
    "        self.salary = salary  # instance attribute\n",
    "        self.id = Employee.count # instance attribute\n",
    "        Employee.count += 1\n",
    "        \n",
    "    def __del__(self):\n",
    "        # Destructor\n",
    "        print(\"Destructor is called\")\n",
    "        Employee.count -= 1\n",
    "   \n",
    "    def __str__(self):\n",
    "        print(\"Making string representation of the object\")\n",
    "        return f\"Name: {self.name}, Salary: {self.salary}, Id: {self.id}\"\n",
    "    \n",
    "    def promotion(self, percent):\n",
    "        # User defined class method\n",
    "        self.salary *= 1 + percent / 100"
   ]
  },
  {
   "cell_type": "markdown",
   "metadata": {},
   "source": [
    "There are special methods. Their names are predefined in Python and are surrounded by two underscores. Above those methods are `__init__`, `__del__`, and `__str__`.\n",
    "\n",
    "Programmer defines his/her own methods similarly to ordinary functions. Parameter `self` is a reference to the object itself.\n",
    "\n",
    "When class has been defined one can create class instances: `<class_name>(<parameters>)`. The object instance is assigned to a variable."
   ]
  },
  {
   "cell_type": "code",
   "execution_count": null,
   "metadata": {
    "scrolled": true
   },
   "outputs": [],
   "source": [
    "# Recruiting two persons\n",
    "emp1 = Employee(\"Peter\", 1000)\n",
    "emp2 = Employee(\"Razvan\", 3000)\n",
    "print(emp1)\n",
    "print(emp2)\n",
    "print(f\"Total count: {Employee.count}\")"
   ]
  },
  {
   "cell_type": "markdown",
   "metadata": {},
   "source": [
    "Calling methods and attributes: `<object_variable>.<method_or_attribute_name>` "
   ]
  },
  {
   "cell_type": "code",
   "execution_count": null,
   "metadata": {},
   "outputs": [],
   "source": [
    "# Increase salary to the first person\n",
    "print(emp1.salary)\n",
    "emp1.promotion(10)\n",
    "print(emp1.salary)\n",
    "print(emp1)"
   ]
  },
  {
   "cell_type": "code",
   "execution_count": null,
   "metadata": {},
   "outputs": [],
   "source": [
    "# Dismiss the second one\n",
    "del emp2\n",
    "print(emp2)"
   ]
  },
  {
   "cell_type": "code",
   "execution_count": null,
   "metadata": {},
   "outputs": [],
   "source": [
    "# Now there is only one person\n",
    "print(f\"Total count: {Employee.count}\")"
   ]
  },
  {
   "cell_type": "code",
   "execution_count": null,
   "metadata": {},
   "outputs": [],
   "source": [
    "# Employ two new persons\n",
    "emp2 = Employee(\"Anna\", 3000)\n",
    "emp3 = Employee(\"Helga\", 4500)\n",
    "print(f\"Total count: {Employee.count}\")"
   ]
  },
  {
   "cell_type": "code",
   "execution_count": null,
   "metadata": {},
   "outputs": [],
   "source": [
    "# Compute total payment to the employees \n",
    "acum = emp1.salary + emp2.salary + emp2.salary \n",
    "print(f\"Total: {acum}\")"
   ]
  },
  {
   "cell_type": "code",
   "execution_count": null,
   "metadata": {},
   "outputs": [],
   "source": [
    "# Greetings to everyone\n",
    "s = \"Hi \" + emp1.name + \", \" + emp2.name + \" and \" + emp3.name + \"!\\n\"\n",
    "s += \"Happy New Year!\"\n",
    "print(s)"
   ]
  },
  {
   "cell_type": "code",
   "execution_count": null,
   "metadata": {},
   "outputs": [],
   "source": [
    "# Clean all\n",
    "del emp1\n",
    "del emp2\n",
    "del emp3\n",
    "Employee.count = 0"
   ]
  },
  {
   "cell_type": "markdown",
   "metadata": {},
   "source": [
    "### Inheritance\n",
    "\n",
    "New class can be created on the basis of another class. This is called inheritance.\n",
    "\n",
    "Here is the copy of the class Employee, just for convenience."
   ]
  },
  {
   "cell_type": "code",
   "execution_count": null,
   "metadata": {},
   "outputs": [],
   "source": [
    "class Employee:\n",
    "    count = 0  # class attribute\n",
    "\n",
    "    def __init__(self, name, salary):\n",
    "        # Constructor\n",
    "        self.name = name  # instance attribute\n",
    "        self.salary = salary  # instance attribute\n",
    "        self.id = Employee.count # instance attribute\n",
    "        Employee.count += 1\n",
    "        \n",
    "    def __del__(self):\n",
    "        # Destructor\n",
    "        Employee.count -= 1\n",
    "   \n",
    "    def __str__(self):\n",
    "        return f\"Name: {self.name}, Salary: {self.salary}, Id: {self.id}\"\n",
    "    \n",
    "    def promotion(self, percent):\n",
    "        # User defined class method\n",
    "        self.salary *= 1 + percent / 100"
   ]
  },
  {
   "cell_type": "markdown",
   "metadata": {},
   "source": [
    "We are going to defined a new class `Intern` based on `Employee`. `Employee` is called parent class or superclass. \n",
    "\n",
    "When we inherit form the parent class we have access to its attribute and methods and can modify them and add some more attributes and methods."
   ]
  },
  {
   "cell_type": "code",
   "execution_count": null,
   "metadata": {},
   "outputs": [],
   "source": [
    "class Intern(Employee):\n",
    "    \n",
    "    def __init__(self, name, salary, trial_period):\n",
    "        super().__init__(name, salary)\n",
    "        self.trial_period = trial_period\n",
    "    \n",
    "    def trial_period_salary(self):\n",
    "        return 0.5 * self.salary \n",
    "    \n",
    "    def __str__(self):\n",
    "        s = super().__str__()\n",
    "        a = self.trial_period_salary()\n",
    "        return f\"Intern {s}, TrialPeriod: {self.trial_period}, TrialPeriodSalary: {a}\""
   ]
  },
  {
   "cell_type": "code",
   "execution_count": null,
   "metadata": {},
   "outputs": [],
   "source": [
    "# One regular employee and one intern\n",
    "emp1 = Employee(\"Elsa\", 8000)\n",
    "inn1 = Intern(\"John\", 5000, 3)\n",
    "print(emp1)\n",
    "print(inn1)"
   ]
  },
  {
   "cell_type": "code",
   "execution_count": null,
   "metadata": {},
   "outputs": [],
   "source": [
    "del emp1\n",
    "del inn1\n",
    "Employee.count = 0"
   ]
  },
  {
   "cell_type": "markdown",
   "metadata": {},
   "source": [
    "### Lists\n",
    "\n",
    "All variables above held one value: integer, float, string and so on. But to process a large amount of data one needs a named container that holds several values. \n",
    "\n",
    "List is a sequence of values separated by commas and enclosed in square brackets. A list can be assigned to variable just like a simple value."
   ]
  },
  {
   "cell_type": "code",
   "execution_count": null,
   "metadata": {},
   "outputs": [],
   "source": [
    "v = [1.2, 3.4, 7.8]\n",
    "print(v)"
   ]
  },
  {
   "cell_type": "markdown",
   "metadata": {},
   "source": [
    "A list can be empty. Empty list is needed when we are going to put values in there as the program executes."
   ]
  },
  {
   "cell_type": "code",
   "execution_count": null,
   "metadata": {},
   "outputs": [],
   "source": [
    "v = []\n",
    "print(v)"
   ]
  },
  {
   "cell_type": "markdown",
   "metadata": {},
   "source": [
    "Size of a list can be computed using function `len`."
   ]
  },
  {
   "cell_type": "code",
   "execution_count": null,
   "metadata": {},
   "outputs": [],
   "source": [
    "v = [4.4, 5.5, 6.6, 7.7]\n",
    "print(len(v))\n",
    "v = []\n",
    "print(len(v))"
   ]
  },
  {
   "cell_type": "markdown",
   "metadata": {},
   "source": [
    "### Getting and updating list elements\n",
    "\n",
    "Elements of a list are numbered sequentially with integers, starting from 0. Each integer identifies a specific element in the list, and is referred to as the index for that element.\n",
    "\n",
    "Elements are accessed by their indexes: One uses variable name followed by square brackets with the index inside. Elements can be read or updated in this way."
   ]
  },
  {
   "cell_type": "code",
   "execution_count": null,
   "metadata": {},
   "outputs": [],
   "source": [
    "# Reading list elements\n",
    "v = [1.2, 3.4, 7.8]\n",
    "print(v[0])\n",
    "print(v[1])\n",
    "print(v[2])"
   ]
  },
  {
   "cell_type": "code",
   "execution_count": null,
   "metadata": {},
   "outputs": [],
   "source": [
    "# Updating elements\n",
    "v = [1.2, 3.4, 7.8]\n",
    "print(v)\n",
    "v[0] = -12.3\n",
    "print(v)"
   ]
  },
  {
   "cell_type": "markdown",
   "metadata": {},
   "source": [
    "Sublists can be taken by index ranges: One uses lower and upper values of an index separated by colon."
   ]
  },
  {
   "cell_type": "code",
   "execution_count": null,
   "metadata": {},
   "outputs": [],
   "source": [
    "v = [0, 10, 20, 30, 40, 50, 60, 70]\n",
    "print(v[0:3])\n",
    "print(v[:3])\n",
    "print(v[2:6])\n",
    "print(v[-3:])"
   ]
  },
  {
   "cell_type": "markdown",
   "metadata": {},
   "source": [
    "### Heterogeneous lists\n",
    "\n",
    "Lists admit elements of arbitrary types. Types can be mixed within one list. Even list can be an element of a list."
   ]
  },
  {
   "cell_type": "code",
   "execution_count": null,
   "metadata": {},
   "outputs": [],
   "source": [
    "v = [12, 0.34, \"mixture\", True, [1,2,3]]\n",
    "print(f\"Value: {v[0]:9}, Type: {type(v[0])}\")\n",
    "print(f\"Value: {v[1]:9}, Type: {type(v[1])}\")\n",
    "print(f\"Value: {v[2]:9}, Type: {type(v[2])}\")\n",
    "print(f\"Value: {v[3]:9}, Type: {type(v[3])}\")\n",
    "print(f\"Value: {v[4]}, Type: {type(v[4])}\")"
   ]
  },
  {
   "cell_type": "markdown",
   "metadata": {},
   "source": [
    "A list holding data of various types can be updated with arbitrary types."
   ]
  },
  {
   "cell_type": "code",
   "execution_count": null,
   "metadata": {},
   "outputs": [],
   "source": [
    "v = [12, 0.34, \"mixture\", True]\n",
    "print(v)\n",
    "v[2] = -1\n",
    "print(v)"
   ]
  },
  {
   "cell_type": "markdown",
   "metadata": {},
   "source": [
    "List with data of different types can be used to represent a table "
   ]
  },
  {
   "cell_type": "code",
   "execution_count": null,
   "metadata": {},
   "outputs": [],
   "source": [
    "# name, salary, age, ages of children\n",
    "tab = [\n",
    "    [\"Peter\", 1000.12, 21, [2, 1]],\n",
    "    [\"Helga\", 2500.79, 32, [4, 8, 1]],\n",
    "    [\"John\", 1500.81, 24, [3, 2]]]"
   ]
  },
  {
   "cell_type": "markdown",
   "metadata": {},
   "source": [
    "### Nested lists\n",
    "\n",
    "If a list is an element of a list one gets its elements putting required index values in individual square brackets"
   ]
  },
  {
   "cell_type": "code",
   "execution_count": null,
   "metadata": {},
   "outputs": [],
   "source": [
    "v = [[\"one\", \"two\",\"three\"], [\"twenty\", \"thirty\", \"forty\"]]\n",
    "print(v[1])\n",
    "print(v[1][0])"
   ]
  },
  {
   "cell_type": "code",
   "execution_count": null,
   "metadata": {},
   "outputs": [],
   "source": [
    "v = [[\"one\", \"two\", \"three\"], [\"twenty\", \"thirty\", \"forty\"]]\n",
    "s = v[1][-1] + \" \" + v[0][1]\n",
    "print(s)"
   ]
  },
  {
   "cell_type": "markdown",
   "metadata": {},
   "source": [
    "### Loops and lists\n",
    "\n",
    "Containers like list are useful for data processing with loops. \n",
    "\n",
    "A loop `for` admits a list as a collection of values for the loop variable. "
   ]
  },
  {
   "cell_type": "code",
   "execution_count": null,
   "metadata": {},
   "outputs": [],
   "source": [
    "# Compute average of list elements\n",
    "acum = 0\n",
    "cnt = 0\n",
    "for x in [2.3, 3.4, 4.5, -1.2]:\n",
    "    acum += x\n",
    "    cnt += 1\n",
    "    \n",
    "avg = acum / cnt\n",
    "print(f\"avg={avg}\")"
   ]
  },
  {
   "cell_type": "markdown",
   "metadata": {},
   "source": [
    "We can also run through a list using an index variable"
   ]
  },
  {
   "cell_type": "code",
   "execution_count": null,
   "metadata": {
    "scrolled": true
   },
   "outputs": [],
   "source": [
    "lst = [2.3, 3.4, 4.5, -1.2]\n",
    "acum = 0\n",
    "cnt = 0\n",
    "for i in range(len(lst)):\n",
    "    acum += lst[i]\n",
    "    cnt += 1\n",
    "    \n",
    "avg = acum / cnt\n",
    "print(f\"avg={avg}\")"
   ]
  },
  {
   "cell_type": "markdown",
   "metadata": {},
   "source": [
    "This way of list processing is not so fast in Python. The previous one is better: that was Pythonic way.\n",
    "\n",
    "But what if we need element indexes. Use `enumerate`."
   ]
  },
  {
   "cell_type": "code",
   "execution_count": null,
   "metadata": {},
   "outputs": [],
   "source": [
    "# Using enumerate to get indexes together with elements\n",
    "for i, x in enumerate([221.23, 432.1, 431.121, 82.2, 991.211]):\n",
    "    print(f\"i={i}, x={x}\")"
   ]
  },
  {
   "cell_type": "markdown",
   "metadata": {},
   "source": [
    "One can iterate over two or more lists"
   ]
  },
  {
   "cell_type": "code",
   "execution_count": null,
   "metadata": {},
   "outputs": [],
   "source": [
    "x_list = [11, 12, 13]\n",
    "y_list = [\"one\", \"two\", \"three\"]\n",
    "for x, y in zip(x_list, y_list):\n",
    "    print(f\"x={x}, y={y}\")"
   ]
  },
  {
   "cell_type": "markdown",
   "metadata": {},
   "source": [
    "Using a table (list of list)"
   ]
  },
  {
   "cell_type": "code",
   "execution_count": null,
   "metadata": {},
   "outputs": [],
   "source": [
    "tab = [\n",
    "    [\"Peter\", 1000.12, 21, [2, 1]],\n",
    "    [\"Helga\", 2500.79, 32, [4, 8, 1]],\n",
    "    [\"John\", 1500.81, 24, [3, 2]]]\n",
    "\n",
    "tot = 0\n",
    "for emp in tab:\n",
    "    print(f\"emp now is equal to {emp}\")\n",
    "    s = emp[1]\n",
    "    print(f\"   take the salary, s={s}\")\n",
    "    itx = s * 0.13\n",
    "    print(f\"   compute income tax, itx={itx}\")\n",
    "    tot += itx\n",
    "    print(f\"   tot={tot}\")\n",
    "    \n",
    "print(f\"Total income tax {tot}\")"
   ]
  },
  {
   "cell_type": "markdown",
   "metadata": {},
   "source": [
    "A loop `while` can also be useful for lists processing.\n",
    "\n",
    "An example: Assume we have 8 cities connected by roads. Connected cities are encoded in list `road`: element `road[i]` contains a city number `j` that is connected with the city `i`. The program must find a path starting from city `n1` to city `n2`."
   ]
  },
  {
   "cell_type": "code",
   "execution_count": null,
   "metadata": {},
   "outputs": [],
   "source": [
    "n1 = int(input(\"Start city n1=\"))\n",
    "n2 = int(input(\"Fnish city n2=\"))\n",
    "\n",
    "road = [4, 1, 3, 7, 6, 0, 2, 5]\n",
    "STEPS_MAX = 10\n",
    "\n",
    "i = n1\n",
    "cnt = 0\n",
    "while True:\n",
    "    print(f\"  go from city {i} to city {road[i]}\")\n",
    "    i = road[i]\n",
    "    if i == n2:\n",
    "        print(\"finish\")\n",
    "        break\n",
    "    cnt += 1\n",
    "    if cnt > STEPS_MAX:\n",
    "        print(f\"path not found after {cnt} steps\")\n",
    "        break\n",
    "    "
   ]
  },
  {
   "cell_type": "markdown",
   "metadata": {},
   "source": [
    "### Manipulations with lists\n",
    "\n",
    "List can grow and shrink, new elements can be inserted, an element can be deleted. \n",
    "\n",
    "Lists are considered as objects, i.e., instances of the class \"list\". Most of the manipulations with lists are performed using methods."
   ]
  },
  {
   "cell_type": "code",
   "execution_count": null,
   "metadata": {},
   "outputs": [],
   "source": [
    "# Add an element to the end of a list\n",
    "x = [1, 2, 3, 4]\n",
    "x.append(99)\n",
    "print(x)"
   ]
  },
  {
   "cell_type": "code",
   "execution_count": null,
   "metadata": {},
   "outputs": [],
   "source": [
    "# Insert an element in arbitary location\n",
    "x = [10, 9, 8, 7]\n",
    "x.insert(2, 99)\n",
    "print(x)"
   ]
  },
  {
   "cell_type": "code",
   "execution_count": null,
   "metadata": {},
   "outputs": [],
   "source": [
    "# Remove last element and store it in a variable\n",
    "x = [1, 2, 3, 4, 5]\n",
    "a = x.pop()\n",
    "print(x)\n",
    "print(a)"
   ]
  },
  {
   "cell_type": "code",
   "execution_count": null,
   "metadata": {},
   "outputs": [],
   "source": [
    "# Remove an element at a specific position\n",
    "x = [1, 2, 3, 4, 5]\n",
    "a = x.pop(3)\n",
    "print(x)\n",
    "print(a)"
   ]
  },
  {
   "cell_type": "code",
   "execution_count": null,
   "metadata": {},
   "outputs": [],
   "source": [
    "# Remove an element by value\n",
    "x = [3.2, 4.3, 5.121, 4.3]\n",
    "x.remove(5.121)\n",
    "print(x)"
   ]
  },
  {
   "cell_type": "code",
   "execution_count": null,
   "metadata": {},
   "outputs": [],
   "source": [
    "# Reverse the order of elements\n",
    "x = [1, 2, 3, 4, 5]\n",
    "x.reverse()\n",
    "print(x)"
   ]
  },
  {
   "cell_type": "code",
   "execution_count": null,
   "metadata": {},
   "outputs": [],
   "source": [
    "# Sort a list\n",
    "x = [54, -1, 99, 21, -11]\n",
    "x.sort()\n",
    "print(x)"
   ]
  },
  {
   "cell_type": "code",
   "execution_count": null,
   "metadata": {},
   "outputs": [],
   "source": [
    "# Also sort a list, but creates a new copy\n",
    "x = [54, -1, 99, 21, -11]\n",
    "y = sorted(x)\n",
    "print(x)\n",
    "print(y)"
   ]
  },
  {
   "cell_type": "code",
   "execution_count": null,
   "metadata": {},
   "outputs": [],
   "source": [
    "# Determine whether or not a value is present in a list\n",
    "x = [4.3,  55.4, 6.2, 4.3]\n",
    "print(4.3 in x)\n",
    "print(4.4 in x)"
   ]
  },
  {
   "cell_type": "code",
   "execution_count": null,
   "metadata": {},
   "outputs": [],
   "source": [
    "# Find the position of an element\n",
    "x = [4.3,  55.4, 6.2, 4.3]\n",
    "print(x.index(55.4))\n",
    "print(x.index(55.5))"
   ]
  },
  {
   "cell_type": "code",
   "execution_count": null,
   "metadata": {},
   "outputs": [],
   "source": [
    "# Concatenate two lists\n",
    "x = [1, 2, 3]\n",
    "y = [4, 5, 6]\n",
    "print(x + y)"
   ]
  },
  {
   "cell_type": "code",
   "execution_count": null,
   "metadata": {},
   "outputs": [],
   "source": [
    "# List propagation\n",
    "x = [1, 2, \" \"]\n",
    "print(x * 5)"
   ]
  },
  {
   "cell_type": "code",
   "execution_count": null,
   "metadata": {},
   "outputs": [],
   "source": [
    "# list comprehension\n",
    "x = [1, 2, 3, 4, 5]\n",
    "y = [i**2 for i in x]\n",
    "print(y)"
   ]
  },
  {
   "cell_type": "code",
   "execution_count": null,
   "metadata": {},
   "outputs": [],
   "source": [
    "# list comprehension with filtering\n",
    "x = [1, -1, 2, -2, 3, -3]\n",
    "y = [i**2 for i in x if i > 0]\n",
    "print(y)"
   ]
  },
  {
   "cell_type": "markdown",
   "metadata": {},
   "source": [
    "An example: collecting numbers in a list"
   ]
  },
  {
   "cell_type": "code",
   "execution_count": null,
   "metadata": {},
   "outputs": [],
   "source": [
    "data = []\n",
    "while True:\n",
    "    s = input(\"Enter a value (blank to quit) \")\n",
    "    if s == \"\":\n",
    "        break\n",
    "    data.append(float(s))\n",
    "    \n",
    "print(data)"
   ]
  },
  {
   "cell_type": "markdown",
   "metadata": {},
   "source": [
    "### Tuples\n",
    "\n",
    "Tuples are collection of elements enclosed in parentheses"
   ]
  },
  {
   "cell_type": "code",
   "execution_count": null,
   "metadata": {},
   "outputs": [],
   "source": [
    "t = (2, 3.4, \"greate\", [3, 4], (3.0, -3.0))"
   ]
  },
  {
   "cell_type": "markdown",
   "metadata": {},
   "source": [
    "Access to tuple element - in the same way as for lists"
   ]
  },
  {
   "cell_type": "code",
   "execution_count": null,
   "metadata": {},
   "outputs": [],
   "source": [
    "t = (0, 10, 20, 30)\n",
    "print(t[1])\n",
    "print(t[-2])"
   ]
  },
  {
   "cell_type": "markdown",
   "metadata": {},
   "source": [
    "The difference: tuples cannot be modified"
   ]
  },
  {
   "cell_type": "code",
   "execution_count": null,
   "metadata": {},
   "outputs": [],
   "source": [
    "t = (\"one\", \"big\", \"pool\")\n",
    "t[1] = \"small\"  # Not allowed for tuples"
   ]
  },
  {
   "cell_type": "markdown",
   "metadata": {},
   "source": [
    "List with one element is created in a natural way, but this is not the case for tuples."
   ]
  },
  {
   "cell_type": "code",
   "execution_count": null,
   "metadata": {},
   "outputs": [],
   "source": [
    "v = [3]\n",
    "print(f\"v={v}, type={type(v)}\")"
   ]
  },
  {
   "cell_type": "code",
   "execution_count": null,
   "metadata": {},
   "outputs": [],
   "source": [
    "t = (3)  # Type is int, not a tuple\n",
    "print(f\"t={t}, type={type(t)}\")"
   ]
  },
  {
   "cell_type": "markdown",
   "metadata": {},
   "source": [
    "Tuple with one element needs a comma"
   ]
  },
  {
   "cell_type": "code",
   "execution_count": null,
   "metadata": {},
   "outputs": [],
   "source": [
    "t = (3, )  # Now tuple\n",
    "print(f\"t={t}, type={type(t)}\")"
   ]
  },
  {
   "cell_type": "markdown",
   "metadata": {},
   "source": [
    "### Dictionaries\n",
    "\n",
    "List is an enumerated collection of values. To read or update an element we must know its index.\n",
    "\n",
    "Dictionary is a collection of named values. Each element is pair key-value. Key is a name of the value."
   ]
  },
  {
   "cell_type": "code",
   "execution_count": null,
   "metadata": {},
   "outputs": [],
   "source": [
    "# Dictionary defentioon. Observe curly brackets and colons\n",
    "emp = {\"Helga\": 1995, \"John\": 1992, \"Igor\": 1999}\n",
    "\n",
    "# Add a value\n",
    "emp[\"July\"] = 1990\n",
    "\n",
    "# Acces to elements by their names (keys)\n",
    "print(emp[\"Helga\"])\n",
    "print(emp[\"Igor\"])\n",
    "print(emp[\"July\"])"
   ]
  },
  {
   "cell_type": "code",
   "execution_count": null,
   "metadata": {},
   "outputs": [],
   "source": [
    "# Values can be updated\n",
    "d = {}\n",
    "d[\"first_counter\"] = 1\n",
    "d[\"second_counter\"] = 100\n",
    "\n",
    "d[\"first_counter\"] += 1\n",
    "d[\"second_counter\"] += 100\n",
    "\n",
    "print(d[\"first_counter\"], d[\"second_counter\"])"
   ]
  },
  {
   "cell_type": "code",
   "execution_count": null,
   "metadata": {},
   "outputs": [],
   "source": [
    "# Remove an element. Romoved value is returned\n",
    "emp = {\"Helga\": 1995, \"John\": 1992, \"Igor\": 1999}\n",
    "x = emp.pop(\"Igor\")\n",
    "print(x)"
   ]
  },
  {
   "cell_type": "code",
   "execution_count": null,
   "metadata": {},
   "outputs": [],
   "source": [
    "# Iteration over keys\n",
    "emp = {\"Helga\": 1995, \"John\": 1992, \"Igor\": 1999, \"July\": 1990}\n",
    "\n",
    "for x in emp:\n",
    "    print(x, emp[x])"
   ]
  },
  {
   "cell_type": "code",
   "execution_count": null,
   "metadata": {},
   "outputs": [],
   "source": [
    "# Iteration over values\n",
    "emp = {\"Helga\": 1995, \"John\": 1992, \"Igor\": 1999, \"July\": 1990}\n",
    "\n",
    "for x in emp.values():\n",
    "    print(x)"
   ]
  },
  {
   "cell_type": "markdown",
   "metadata": {},
   "source": [
    "### Errors handling\n",
    "\n",
    "The simplest way to fight errors is to check potentially problematic values with `assert` statement\n",
    "```python\n",
    "assert <condition_that_is_expected_to_be_true>, <message_to_show_when_error>\n",
    "```\n",
    "\n",
    "The second parameter, the message, can be omitted.\n",
    "\n",
    "If the condition is evaluated to `False` computation stops. "
   ]
  },
  {
   "cell_type": "code",
   "execution_count": null,
   "metadata": {},
   "outputs": [],
   "source": [
    "while True:\n",
    "    x = float(input(\"Never input negative values! x=\"))\n",
    "    assert x >= 0.0, \"I'v told you to avoid negative values!\"\n",
    "    print(f\"x={x}\")"
   ]
  },
  {
   "cell_type": "markdown",
   "metadata": {},
   "source": [
    "Observe that parameters of the assert must not be enclosed in parentheses. Otherwise it will not work correctly.\n",
    "\n",
    "More power way of errors handling is using `try-except` construct.\n",
    "\n",
    "Each incorrect operation raises so called exception that causes an abnormal program termination. By the way: `assert` also raises an exception to stop a program.\n",
    "\n",
    "There is a way to handle exceptions. If we use `try-except` construct and an exception occurs within its try-section, the execution is dropped into its except-section where we can fix the problem to continue a normal execution.\n",
    "\n",
    "```python\n",
    "try:\n",
    "    <some_code_where_exception_can_occur>\n",
    "except <exception_name>:\n",
    "    <do_something_to_process_error_caused_exception>\n",
    "except <another_exception_name>:\n",
    "    <process_another_error>\n",
    "```\n",
    "\n",
    "Consider a program with an exception:"
   ]
  },
  {
   "cell_type": "code",
   "execution_count": null,
   "metadata": {
    "scrolled": true
   },
   "outputs": [],
   "source": [
    "# Program stops when zero is encountered\n",
    "div = [1.1, 2.1, 0.0, 3.2]\n",
    "for d in div:\n",
    "    x = 10 / d;\n",
    "    print(f\"10 / {d} = {x}\")"
   ]
  },
  {
   "cell_type": "markdown",
   "metadata": {},
   "source": [
    "Find the exception name: `ZeroDivisionError`. Use it to create the exception handler."
   ]
  },
  {
   "cell_type": "code",
   "execution_count": null,
   "metadata": {
    "scrolled": true
   },
   "outputs": [],
   "source": [
    "# Now program runs to the end\n",
    "div = [1.1, 2.1, 0.0, 3.2]\n",
    "for d in div:\n",
    "    try:\n",
    "        x = 10 / d;\n",
    "    except ZeroDivisionError:\n",
    "        x = float(\"inf\")\n",
    "    print(f\"10 / {d} = {x}\")"
   ]
  },
  {
   "cell_type": "markdown",
   "metadata": {},
   "source": [
    "### Exercises\n",
    "\n",
    "All exercises in this section, except 4 and 5, are taken from book \\[1\\]"
   ]
  },
  {
   "cell_type": "markdown",
   "metadata": {},
   "source": [
    "1\\. In a particular jurisdiction, taxi fares consist of a base fare of \\\\$4.00, plus \\\\$0.25 for every 140 meters traveled. Write a function that takes the distance traveled (in kilometers) as its only parameter and returns the total fare as its only result. Write a main program that demonstrates the function. \n",
    "\n",
    "_Hint: Taxi fares change over time. Use constants to represent the base fare and the variable portion of the fare so that the program can be updated easily when the rates increase._"
   ]
  },
  {
   "cell_type": "markdown",
   "metadata": {},
   "source": [
    "2\\. Words like first, second and third are referred to as ordinal numbers. In this exercise, you will write a function that takes an integer as its only parameter and returns a string containing the appropriate English ordinal number as its only result. Your function must handle the integers between 1 and 12 (inclusive). It should return an\n",
    "empty string if the function is called with an argument outside of this range. Include\n",
    "a main program that demonstrates your function by displaying each integer from 1 to 12 and its ordinal number."
   ]
  },
  {
   "cell_type": "markdown",
   "metadata": {},
   "source": [
    "3\\. Many people do not use capital letters correctly, especially when typing on small\n",
    "devices like smart phones. To help address this situation, you will create a function\n",
    "that takes a string as its only parameter and returns a new copy of the string that has\n",
    "been correctly capitalized. In particular, your function must:\n",
    "\n",
    "- Capitalize the first non-space character in the string,\n",
    "- Capitalize the first non-space character after a period, exclamation mark or question mark, and\n",
    "- Capitalize a lowercase \"i\" if it is preceded by a space and followed by a space, period, exclamation mark, question mark or apostrophe.\n",
    "\n",
    "Implementing these transformations will correct most capitalization errors. For example, if the function is provided with the string \"what time do i have to be there? what’s the address? this time i’ll try to be on time!\" then it should return the string\n",
    "\"What time do I have to be there? What’s the address? This time I’ll try to be on time!\". Include a main program that reads a string from the user, capitalizes it using your function, and displays the result.\n"
   ]
  },
  {
   "cell_type": "markdown",
   "metadata": {},
   "source": [
    "4\\. Create a class that checks the authorization. Its constructor takes correct user name and password and store them as attributes. To increase security the password must not be stored as it is. Convert it to hash using function `hash()`. Also the class has a method `check` that accepts a user name and password input by a user and return `True` if they are correct and `False` otherwise. Write a program that demonstrates how this class works."
   ]
  },
  {
   "cell_type": "markdown",
   "metadata": {},
   "source": [
    "5\\. Passwords are never stored in their original form. A random string of symbols is added to each password and then hashed. The added string is called a \"salt\". \n",
    "\n",
    "Create a class whose constructor accepts and stores a salt string, and also it has a method `marinate()` that takes a password and return hash of the salted password. Compute hash using function `hash()`."
   ]
  },
  {
   "cell_type": "markdown",
   "metadata": {},
   "source": [
    "6\\. When analyzing data collected as part of a science experiment it may be desirable\n",
    "to remove the most extreme values before performing other calculations. Write a function that takes a list of values and an non-negative integer, n, as its parameters. The function should create a new copy of the list with the n largest elements and the\n",
    "n smallest elements removed. Then it should return the new copy of the list as the function's only result. The order of the elements in the returned list does not have to match the order of the elements in the original list.\n",
    "\n",
    "Write a main program that demonstrates your function. It should read a list of\n",
    "numbers from the user and remove the two largest and two smallest values from it by\n",
    "calling the function described previously. Display the list with the outliers removed,\n",
    "followed by the original list. Your program should generate an appropriate error\n",
    "message if the user enters less than 4 values."
   ]
  },
  {
   "cell_type": "markdown",
   "metadata": {},
   "source": [
    "7\\. Create a program that reads integers from the user until a blank line is entered. Once\n",
    "all of the integers have been read your program should display all of the negative numbers, followed by all of the zeros, followed by all of the positive numbers. Within each group the numbers should be displayed in the same order that they were entered by the user. For example, if the user enters the values 3, -4, 1, 0, -1, 0, and -2 then your program should output the values -4, -1, -2, 0, 0, 3, and 1. Your program should display each value on its own line.\n"
   ]
  },
  {
   "cell_type": "markdown",
   "metadata": {},
   "source": [
    "8\\. Pig Latin is a language constructed by transforming English words. While the origins of the language are unknown, it is mentioned in at least two documents from the nineteenth century, suggesting that it has existed for more than 100 years. The following rules are used to translate English into Pig Latin:\n",
    "\n",
    "- If the word begins with a consonant (including y), then all letters at the beginning of the word, up to the first vowel (excluding y), are removed and then added to the end of the word, followed by ay. For example, computer becomes omputercay and think becomes inkthay. \n",
    "- If the word begins with a vowel (not including y), then way is added to the end of the word. For example, algorithm becomes algorithmway and office becomes officeway. \n",
    "\n",
    "Write a program that reads a line of text from the user. Then your program should\n",
    "translate the line into Pig Latin and display the result. You may assume that the string\n",
    "entered by the user only contains lowercase letters and spaces.\n"
   ]
  },
  {
   "cell_type": "markdown",
   "metadata": {},
   "source": [
    "9\\. Create a program that determines and displays the number of unique characters in a string entered by the user. For example, \"Hello, World!\" has 10 unique characters while \"zzz\" has only one unique character. Use a dictionary or set to solve this problem.\n"
   ]
  },
  {
   "cell_type": "markdown",
   "metadata": {},
   "source": [
    "10\\. While the popularity of cheques as a payment method has diminished in recent years, some companies still issue them to pay employees or vendors. The amount being paid normally appears on a cheque twice, with one occurrence written using digits, and the other occurrence written using English words. Repeating the amount in two\n",
    "different forms makes it much more difficult for an unscrupulous employee or vendor to modify the amount on the cheque before depositing it.\n",
    "\n",
    "In this exercise, your task is to create a function that takes an integer between 0 and 999 as its only parameter, and returns a string containing the English words for that number. For example, if the parameter to the function is 142 then your function should return \"one hundred forty two\". Use one or more dictionaries to implement your solution rather than large if/elif/else constructs. Include a main program that reads an integer from the user and displays its value in English words.\n"
   ]
  },
  {
   "cell_type": "markdown",
   "metadata": {},
   "source": [
    "## Lesson 4"
   ]
  },
  {
   "cell_type": "markdown",
   "metadata": {},
   "source": [
    "### Arrays\n",
    "\n",
    "List of elements of one type corresponds to arrays in other programming languages"
   ]
  },
  {
   "cell_type": "code",
   "execution_count": null,
   "metadata": {},
   "outputs": [],
   "source": [
    "v1 = [1, 2, -5, 5, 6]  # Array of integers\n",
    "v2 = [3.2, -1.2, 1.3e-4, 2.33]  # Array of real numbers\n",
    "v3 = [\"big\", \"small\", \"left\", \"right\"]  # Array of strings\n",
    "\n",
    "v4 = [\"left\", 12, True]  # Just a list, but not an array"
   ]
  },
  {
   "cell_type": "markdown",
   "metadata": {},
   "source": [
    "These arrays are one-dimensional. One index is required to access their elements"
   ]
  },
  {
   "cell_type": "code",
   "execution_count": null,
   "metadata": {},
   "outputs": [],
   "source": [
    "v = [1, 2, -5, 5, 6]\n",
    "print(v[3])\n",
    "print(v[-1])"
   ]
  },
  {
   "cell_type": "markdown",
   "metadata": {},
   "source": [
    "Recall: size of array is obtained via function `len`"
   ]
  },
  {
   "cell_type": "code",
   "execution_count": null,
   "metadata": {},
   "outputs": [],
   "source": [
    "v = [45, 32, 56, 90]\n",
    "print(len(v))"
   ]
  },
  {
   "cell_type": "markdown",
   "metadata": {},
   "source": [
    "A one element tuple with the array size is its shape. The shape of `v` is `(4,)`"
   ]
  },
  {
   "cell_type": "markdown",
   "metadata": {},
   "source": [
    "### Multidimensional arrays\n",
    "\n",
    "List of arrays of one type and same sizes is two-dimensional array."
   ]
  },
  {
   "cell_type": "code",
   "execution_count": null,
   "metadata": {},
   "outputs": [],
   "source": [
    "d1 = [[10, 20, 30], [40, 50, 60], [70, 80, 90], [100, 110, 120]]"
   ]
  },
  {
   "cell_type": "markdown",
   "metadata": {},
   "source": [
    "List of lists `d1` above is two-dimensional array: \n",
    "\n",
    "- it contains 4 elements\n",
    "- each element is a list of 3 elements\n",
    "- all elements are `int`\n",
    "\n",
    "Size of the first dimension of `d1` is 4, size of the second dimension is 3.\n",
    "\n",
    "Shape of two dimensional array contains two elements: sizes of the first and the second dimensions. For `d1` the shape is `(4, 3)`.\n",
    "\n",
    "Recall: elements are accessed via indexes enclosed in individual square brackets"
   ]
  },
  {
   "cell_type": "code",
   "execution_count": null,
   "metadata": {},
   "outputs": [],
   "source": [
    "d1 = [[10, 20, 30], [40, 50, 60], [70, 80, 90], [100, 110, 120]]\n",
    "print(d1[0])\n",
    "print(d1[0][1])"
   ]
  },
  {
   "cell_type": "markdown",
   "metadata": {},
   "source": [
    "If we replace each element of `d1` above with some other lists we will obtain a three dimensional array. Its shape will contain three elements. \n",
    "\n",
    "Working with multidimensional arrays created as lists of lists of lists and so on is not so convenient."
   ]
  },
  {
   "cell_type": "markdown",
   "metadata": {},
   "source": [
    "### Arrays in NumPy\n",
    "\n",
    "NumPy is a Python package. It stands for 'Numerical Python'. It is a library consisting of multidimensional array objects and a collection of routines for processing of array.\n",
    "\n",
    "NumPy provides a power tool set for working with arrays including multidimensional ones.\n",
    "\n",
    "Arrays can be created from a list using the function `numpy.array`"
   ]
  },
  {
   "cell_type": "code",
   "execution_count": null,
   "metadata": {},
   "outputs": [],
   "source": [
    "import numpy as np \n",
    "a = np.array([1, 2, 3]) \n",
    "print(a)"
   ]
  },
  {
   "cell_type": "markdown",
   "metadata": {},
   "source": [
    "NumPy array is an object, i.e., an instance of a class. The class name is `numpy.ndarray`."
   ]
  },
  {
   "cell_type": "code",
   "execution_count": null,
   "metadata": {},
   "outputs": [],
   "source": [
    "import numpy as np \n",
    "a = np.array([1, 2, 3]) \n",
    "print(type(a))"
   ]
  },
  {
   "cell_type": "markdown",
   "metadata": {},
   "source": [
    "Different ways to create NumPy array"
   ]
  },
  {
   "cell_type": "code",
   "execution_count": null,
   "metadata": {},
   "outputs": [],
   "source": [
    "import numpy as np \n",
    "a = np.arange(12)  # range of elements\n",
    "print(f\"np.arange -> {a}\")"
   ]
  },
  {
   "cell_type": "code",
   "execution_count": null,
   "metadata": {},
   "outputs": [],
   "source": [
    "a = np.arange(1, 13)  # range of elements\n",
    "print(f\"np.arange -> {a}\")"
   ]
  },
  {
   "cell_type": "code",
   "execution_count": null,
   "metadata": {},
   "outputs": [],
   "source": [
    "a = np.arange(1, 13, 3)  # range of elements\n",
    "print(f\"np.arange -> {a}\")"
   ]
  },
  {
   "cell_type": "code",
   "execution_count": null,
   "metadata": {},
   "outputs": [],
   "source": [
    "b = np.linspace(5, 10, 5)  # given number of reals within a given range\n",
    "print(f\"np.linspace -> {b}\")"
   ]
  },
  {
   "cell_type": "code",
   "execution_count": null,
   "metadata": {},
   "outputs": [],
   "source": [
    "c = np.zeros(10)\n",
    "print(f\"np.zeros -> {c}\")  # given number of zeros"
   ]
  },
  {
   "cell_type": "code",
   "execution_count": null,
   "metadata": {},
   "outputs": [],
   "source": [
    "c = np.ones(10)\n",
    "print(f\"np.zeros -> {c}\")  # given number of ones"
   ]
  },
  {
   "cell_type": "code",
   "execution_count": null,
   "metadata": {},
   "outputs": [],
   "source": [
    "c = np.full(10, 999)\n",
    "print(f\"np.full -> {c}\")  # given number of given values"
   ]
  },
  {
   "cell_type": "markdown",
   "metadata": {},
   "source": [
    "### Attributes of a NumPy array\n",
    "\n",
    "Being an object, a NumPy array can tell a lot of information about itself.\n",
    "- `.shape` Shape of the array\n",
    "- `.dtype` Type of array elements\n",
    "- `.ndim` Number of array dimensions\n",
    "- `.size` Total number of elements"
   ]
  },
  {
   "cell_type": "code",
   "execution_count": null,
   "metadata": {},
   "outputs": [],
   "source": [
    "import numpy as np \n",
    "a = np.array([[1.0, 2.0, 3.0], [1.0, 2.0, 3.0], [1.0, 2.0, 3.0], [1.0, 2.0, 3.0], [1.0, 2.0, 3.0]])\n",
    "print(f\"Numer of dimensions {a.ndim}, shape {a.shape}, number of elements {a.size}, type of elements {a.dtype}\")"
   ]
  },
  {
   "cell_type": "markdown",
   "metadata": {},
   "source": [
    "### Reshaping NumPy arrays\n",
    "\n",
    "In some cases an array needs to be reshaped. \n",
    "\n",
    "Reshaping means different splitting to dimensions of the same data\n",
    "\n",
    "Method `.reshape` is used for this"
   ]
  },
  {
   "cell_type": "code",
   "execution_count": null,
   "metadata": {},
   "outputs": [],
   "source": [
    "import numpy as np \n",
    "\n",
    "# two-dimensional array (4, 3)\n",
    "a = np.array([[1.0, 2.0, 3.0], [1.0, 2.0, 3.0], [1.0, 2.0, 3.0], [1.0, 2.0, 3.0]])\n",
    "print(a.shape)"
   ]
  },
  {
   "cell_type": "code",
   "execution_count": null,
   "metadata": {},
   "outputs": [],
   "source": [
    "# reshaping to (2, 6)\n",
    "b = a.reshape(2,6)\n",
    "print(b.shape)\n",
    "print(b)"
   ]
  },
  {
   "cell_type": "code",
   "execution_count": null,
   "metadata": {},
   "outputs": [],
   "source": [
    "# now reshape it to a flat array (one-dimensional)\n",
    "c = a.reshape(12)\n",
    "print(c.shape)\n",
    "print(c)"
   ]
  },
  {
   "cell_type": "markdown",
   "metadata": {},
   "source": [
    "When reshaping, one dimension can be substituted with `-1`. Then it will be computed"
   ]
  },
  {
   "cell_type": "code",
   "execution_count": null,
   "metadata": {},
   "outputs": [],
   "source": [
    "import numpy as np \n",
    "a = np.arange(24)  # flat array (one-dimensional)\n",
    "print(a)\n",
    "print(a.shape)"
   ]
  },
  {
   "cell_type": "code",
   "execution_count": null,
   "metadata": {},
   "outputs": [],
   "source": [
    "# now reshape it to two-dimensional array\n",
    "# the first dimension must be 8, the second one is computed\n",
    "b = a.reshape(8, -1)\n",
    "print(b)\n",
    "print(b.shape)"
   ]
  },
  {
   "cell_type": "markdown",
   "metadata": {},
   "source": [
    "### Getting and updating  NumPy array elements\n",
    "\n",
    "Elements of a NumPy array are selected using zero based indexes. For one-dimensional arrays all the same as for lists."
   ]
  },
  {
   "cell_type": "code",
   "execution_count": null,
   "metadata": {},
   "outputs": [],
   "source": [
    "import numpy as np \n",
    "a = np.arange(10)\n",
    "print(a)\n",
    "print(a[3])"
   ]
  },
  {
   "cell_type": "code",
   "execution_count": null,
   "metadata": {},
   "outputs": [],
   "source": [
    "a[3] = -3\n",
    "print(a)"
   ]
  },
  {
   "cell_type": "code",
   "execution_count": null,
   "metadata": {},
   "outputs": [],
   "source": [
    "b = a[2:5]\n",
    "print(b)"
   ]
  },
  {
   "cell_type": "markdown",
   "metadata": {},
   "source": [
    "For multidimensional arrays all indexes are enclosed in square brackets and separated by comma. (Recall that for nested lists we enclose each index in square brackets)."
   ]
  },
  {
   "cell_type": "code",
   "execution_count": null,
   "metadata": {},
   "outputs": [],
   "source": [
    "import numpy as np\n",
    "a = np.arange(12).reshape(3, 4)\n",
    "print(a)"
   ]
  },
  {
   "cell_type": "code",
   "execution_count": null,
   "metadata": {},
   "outputs": [],
   "source": [
    "print(a[0, 0], a[0, 1], a[0, 2], a[0, 3])\n",
    "print(a[2, 0], a[2, 1], a[2, 2], a[2, 3])"
   ]
  },
  {
   "cell_type": "markdown",
   "metadata": {},
   "source": [
    "One value can be assigned to a multiple elements of a NumPy array at once"
   ]
  },
  {
   "cell_type": "code",
   "execution_count": null,
   "metadata": {},
   "outputs": [],
   "source": [
    "import numpy as np\n",
    "a = np.arange(12)\n",
    "print(a)\n",
    "a[3:-3] = 100\n",
    "print(a)"
   ]
  },
  {
   "cell_type": "markdown",
   "metadata": {},
   "source": [
    "### Arithmetic of  NumPy arrays\n",
    "\n",
    "Arrays admits elementwise operations using arithmetic operators `+`, `-`, `*`, `/`.\n",
    "\n",
    "An array and a number"
   ]
  },
  {
   "cell_type": "code",
   "execution_count": null,
   "metadata": {},
   "outputs": [],
   "source": [
    "import numpy as np\n",
    "x = np.array([2.0, 3.0, 4.0, 5.0])"
   ]
  },
  {
   "cell_type": "code",
   "execution_count": null,
   "metadata": {},
   "outputs": [],
   "source": [
    "y = x + 5.0\n",
    "print(y)"
   ]
  },
  {
   "cell_type": "code",
   "execution_count": null,
   "metadata": {},
   "outputs": [],
   "source": [
    "y = x * 10.0\n",
    "print(y)"
   ]
  },
  {
   "cell_type": "markdown",
   "metadata": {},
   "source": [
    "Two arrays"
   ]
  },
  {
   "cell_type": "code",
   "execution_count": null,
   "metadata": {},
   "outputs": [],
   "source": [
    "import numpy as np\n",
    "x1 = np.array([2.0, 3.0, 4.0, 5.0])\n",
    "x2 = np.array([6.0, 7.0, 8.0, 9.0])"
   ]
  },
  {
   "cell_type": "code",
   "execution_count": null,
   "metadata": {},
   "outputs": [],
   "source": [
    "y = x1 + x2\n",
    "print(y)"
   ]
  },
  {
   "cell_type": "code",
   "execution_count": null,
   "metadata": {},
   "outputs": [],
   "source": [
    "y = x1 * x2\n",
    "print(y)"
   ]
  },
  {
   "cell_type": "markdown",
   "metadata": {},
   "source": [
    "Arrays must have identical sizes"
   ]
  },
  {
   "cell_type": "code",
   "execution_count": null,
   "metadata": {},
   "outputs": [],
   "source": [
    "import numpy as np\n",
    "x1 = np.array([2.0, 3.0, 4.0])\n",
    "x2 = np.array([6.0, 7.0, 8.0, 9.0])\n",
    "y = x1 + x2  # Error "
   ]
  },
  {
   "cell_type": "markdown",
   "metadata": {},
   "source": [
    "### Functions and  NumPy arrays\n",
    "\n",
    "Math functions are also applied elementwise"
   ]
  },
  {
   "cell_type": "code",
   "execution_count": null,
   "metadata": {},
   "outputs": [],
   "source": [
    "import numpy as np\n",
    "\n",
    "x = np.linspace(0, 12, 5)\n",
    "y = x**2\n",
    "print(x)\n",
    "print(y)"
   ]
  },
  {
   "cell_type": "code",
   "execution_count": null,
   "metadata": {},
   "outputs": [],
   "source": [
    "x = np.linspace(0, 1, 5)\n",
    "y = np.sin(x * np.pi)\n",
    "print(x)\n",
    "print(y)"
   ]
  },
  {
   "cell_type": "markdown",
   "metadata": {},
   "source": [
    "### Reducing  NumPy arrays\n",
    "\n",
    "There are functions that aggregate array into a single value. Also these functions are called reducing ones"
   ]
  },
  {
   "cell_type": "code",
   "execution_count": null,
   "metadata": {},
   "outputs": [],
   "source": [
    "import numpy as np\n",
    "\n",
    "x1 = np.array([2.0, 3.0, 4.0])\n",
    "a = x1.sum()\n",
    "print(f\"sum -> {a}\")"
   ]
  },
  {
   "cell_type": "code",
   "execution_count": null,
   "metadata": {},
   "outputs": [],
   "source": [
    "x1 = np.array([2.0, 3.0, 4.0])\n",
    "a = x1.prod()\n",
    "print(f\"prod -> {a}\")"
   ]
  },
  {
   "cell_type": "code",
   "execution_count": null,
   "metadata": {},
   "outputs": [],
   "source": [
    "x1 = np.array([2.0, 3.0, 4.0])\n",
    "a = x1.mean()\n",
    "print(f\"mean -> {a}\")"
   ]
  },
  {
   "cell_type": "code",
   "execution_count": null,
   "metadata": {},
   "outputs": [],
   "source": [
    "x1 = np.array([2.0, 3.0, 4.0])\n",
    "a = x1.max()\n",
    "print(f\"max -> {a}\")"
   ]
  },
  {
   "cell_type": "code",
   "execution_count": null,
   "metadata": {},
   "outputs": [],
   "source": [
    "x1 = np.array([2.0, 3.0, 4.0])\n",
    "a = x1.min()\n",
    "print(f\"min -> {a}\")"
   ]
  },
  {
   "cell_type": "markdown",
   "metadata": {},
   "source": [
    "### Random numbers in a nutshell\n",
    "\n",
    "If we toss a coin it falls in either a head or a tail facing upwards. We write 0 for heads and 1 for tails (or vice versa). After many repetition we obtain a random sequence of 0 and 1.\n",
    "\n",
    "We can model it as follows:"
   ]
  },
  {
   "cell_type": "code",
   "execution_count": null,
   "metadata": {},
   "outputs": [],
   "source": [
    "import numpy as np\n",
    "\n",
    "rng = np.random.default_rng()  # we create a rundom number generator\n",
    "rand_seq = rng.integers(2, size=25)  # the generator produces an array of 25 random 0 or 1\n",
    "print(f\"rand_seq={rand_seq}\")"
   ]
  },
  {
   "cell_type": "markdown",
   "metadata": {},
   "source": [
    "Observe that re-running this code results in different sequences. "
   ]
  },
  {
   "cell_type": "code",
   "execution_count": null,
   "metadata": {},
   "outputs": [],
   "source": [
    "rand_seq = rng.integers(2, size=25)\n",
    "print(f\"rand_seq={rand_seq}\")\n",
    "rand_seq = rng.integers(2, size=25)\n",
    "print(f\"rand_seq={rand_seq}\")\n",
    "rand_seq = rng.integers(2, size=25)\n",
    "print(f\"rand_seq={rand_seq}\")"
   ]
  },
  {
   "cell_type": "markdown",
   "metadata": {},
   "source": [
    "We can also generate random floats. The numbers are generated in a range `[0,1)`"
   ]
  },
  {
   "cell_type": "code",
   "execution_count": null,
   "metadata": {},
   "outputs": [],
   "source": [
    "rand_flt = rng.random(size=10)  # 10 random floats\n",
    "print(f\"rand_flt={rand_flt}\")"
   ]
  },
  {
   "cell_type": "markdown",
   "metadata": {},
   "source": [
    "### Files\n",
    "\n",
    "Results of computations can be saved to files. Before use the file must be opened with function `open()`. It has two parameters: file name and mode. Mode can be reading and writing (and some others). This function returns an object representing the file. \n",
    "\n",
    "- Writing data: mode='w', method `.write()`\n",
    "- Reading data: mode='r', method `.read()`\n",
    "\n",
    "After using a file it needs to be closed with the method `.close()`. Otherwise some data may be lost.\n",
    "\n",
    "Writing a file one must remember to end lines at appropriate positions. Symbol is `\\n` is used for it."
   ]
  },
  {
   "cell_type": "code",
   "execution_count": null,
   "metadata": {},
   "outputs": [],
   "source": [
    "# Create the simplest file\n",
    "fn = \"my_file1.txt\"\n",
    "fdat = open(fn, \"w\")\n",
    "fdat.write(\"O tempora!\\nO mores!\\n\")\n",
    "fdat.close()"
   ]
  },
  {
   "cell_type": "code",
   "execution_count": null,
   "metadata": {},
   "outputs": [],
   "source": [
    "# Download the file from Colab to see it or just go to it and open\n",
    "try:\n",
    "    from google.colab import files\n",
    "    files.download(fn)\n",
    "except ModuleNotFoundError:\n",
    "    import os\n",
    "    print(f\"You are not in Colab. Just locate your file at\\n{os.path.join(os.getcwd(), fn)}\")"
   ]
  },
  {
   "cell_type": "code",
   "execution_count": null,
   "metadata": {},
   "outputs": [],
   "source": [
    "# Beter way of working with files: never forget to close it\n",
    "fn = \"my_file2.txt\"\n",
    "with open(fn, 'w') as fdat:\n",
    "    fdat.write(\"Veni,\\nvidi,\\nvici\\n\")"
   ]
  },
  {
   "cell_type": "code",
   "execution_count": null,
   "metadata": {},
   "outputs": [],
   "source": [
    "# Download the file from Colab or just go to it\n",
    "try:\n",
    "    from google.colab import files\n",
    "    files.download(fn)\n",
    "except ModuleNotFoundError:    \n",
    "    import os\n",
    "    print(f\"You are not in Colab. Just locate your file at\\n{os.path.join(os.getcwd(), fn)}\")"
   ]
  },
  {
   "cell_type": "code",
   "execution_count": null,
   "metadata": {},
   "outputs": [],
   "source": [
    "# Write a file in a loop\n",
    "fn = \"my_file3.txt\"\n",
    "with open(fn, 'w') as fdat:\n",
    "    for i in range(10):\n",
    "        fdat.write(f\"i = {i}, 2**i = {2**i}\\n\")"
   ]
  },
  {
   "cell_type": "code",
   "execution_count": null,
   "metadata": {},
   "outputs": [],
   "source": [
    "# Download the file from Colab or just go to it\n",
    "try:\n",
    "    from google.colab import files\n",
    "    files.download(fn)\n",
    "except ModuleNotFoundError:    \n",
    "    import os\n",
    "    print(f\"You are not in Colab. Just locate your file at\\n{os.path.join(os.getcwd(), fn)}\")"
   ]
  },
  {
   "cell_type": "code",
   "execution_count": null,
   "metadata": {},
   "outputs": [],
   "source": [
    "# Example of reading file. First write it\n",
    "fn = \"my_file4.txt\"\n",
    "txt = \\\n",
    "\"\"\"When, in disgrace with fortune and men's eyes,\n",
    "I all alone beweep my outcast state,\n",
    "And trouble deaf heaven with my bootless cries,\n",
    "And look upon myself, and curse my fate,\n",
    "Wishing me like to one more rich in hope,\n",
    "Featured like him, like him with friends possessed,\n",
    "Desiring this man's art and that man's scope,\n",
    "With what I most enjoy contented least;\n",
    "Yet in these thoughts myself almost despising,\n",
    "Haply I think on thee - and then my state,\n",
    "Like to the lark at break of day arising\n",
    "From sullen earth, sings hymns at heaven's gate;\n",
    "For thy sweet love rememb'red such wealth brings\n",
    "That then I scorn to change my state with kings.\"\"\"\n",
    "with open(fn, \"w\") as fdat:\n",
    "    fdat.write(txt)"
   ]
  },
  {
   "cell_type": "code",
   "execution_count": null,
   "metadata": {},
   "outputs": [],
   "source": [
    "# Read it all at once\n",
    "fn = \"my_file4.txt\"\n",
    "with open(fn, \"r\") as fdat:\n",
    "    s = fdat.read()\n",
    "    \n",
    "print(s)"
   ]
  },
  {
   "cell_type": "markdown",
   "metadata": {},
   "source": [
    "If a file is large it is better to read it line by line. For printing we take only 10 first symbols from each line."
   ]
  },
  {
   "cell_type": "code",
   "execution_count": null,
   "metadata": {},
   "outputs": [],
   "source": [
    "# Here we read a file line by line\n",
    "fn = \"my_file4.txt\"\n",
    "CUT = 10\n",
    "with open(fn, \"r\") as fdat:\n",
    "    for line in fdat:\n",
    "        s = line[:CUT]\n",
    "        print(s)"
   ]
  },
  {
   "cell_type": "markdown",
   "metadata": {},
   "source": [
    "We can enumerate lines using `enumerate`."
   ]
  },
  {
   "cell_type": "code",
   "execution_count": null,
   "metadata": {},
   "outputs": [],
   "source": [
    "# Here we enumerate lines, compute lengths and print first 10 symbols\n",
    "fn = \"my_file4.txt\"\n",
    "CUT = 10\n",
    "with open(fn, \"r\") as fdat:\n",
    "    for i, line in enumerate(fdat):\n",
    "        n = len(line)\n",
    "        s = line[:CUT]\n",
    "        print(f\"{i+1:3}: {s}..., len={n}\")"
   ]
  },
  {
   "cell_type": "code",
   "execution_count": null,
   "metadata": {},
   "outputs": [],
   "source": [
    "# Here we compute number of 'a' in each line\n",
    "fn = \"my_file4.txt\"\n",
    "SYMB = \"a\"\n",
    "tot = 0\n",
    "with open(fn, \"r\") as fdat:\n",
    "    for i, line in enumerate(fdat):\n",
    "        cnt = 0\n",
    "        for s in line:\n",
    "            if s == SYMB:\n",
    "                cnt += 1\n",
    "            \n",
    "        tot += cnt\n",
    "        print(f\"Number of '{SYMB}' in line {i:3} is {cnt:3}\")\n",
    "\n",
    "print(f\"Total number of '{SYMB}' is {tot}\")"
   ]
  },
  {
   "cell_type": "markdown",
   "metadata": {},
   "source": [
    "### CSV files\n",
    "\n",
    "CSV is a simple file format used to store tabular data. Files in the CSV format can be imported to and exported from programs that store data in tables, such as Microsoft Excel or OpenOffice Calc. CSV stands for \"comma-separated values\".\n"
   ]
  },
  {
   "cell_type": "code",
   "execution_count": null,
   "metadata": {},
   "outputs": [],
   "source": [
    "# Run this section to have a csv file in your working directory\n",
    "file_name = \"areas.csv\"\n",
    "\n",
    "# 20 largest countries: name (str) and area in km squared (float)\n",
    "txt = [\"Iran, 1648000\",\"Libya, 1759540\",\"Indonesia, 1919440\",\"Saudi_Arabia, 1960582\",\"Mexico, 1972550\",\"Greenland, 2166086\",\"Congo_Democratic_Republic_of_the, 2345410\",\"Algeria, 2381740\",\"Sudan, 2505810\",\"Kazakhstan, 2717300\",\"Argentina, 2766890\",\"India, 3287590\",\"#European_Union, 3976372\",\"Australia, 7686850\",\"Brazil, 8511965\",\"China, 9596960\",\"United_States, 9631418\",\"Canada, 9984670\",\"Antarctica, 14000000\",\"Russia, 17075200\"]\n",
    "with open(file_name, 'w') as f:\n",
    "    for c in txt:\n",
    "        f.write(c + '\\n')"
   ]
  },
  {
   "cell_type": "markdown",
   "metadata": {},
   "source": [
    "How to load a CSV. Though some modules are available, we are going to do it by hands.\n",
    " \n",
    "First let us familiarize with a string splitting by a delimiter. Strings have a method `.split` for this."
   ]
  },
  {
   "cell_type": "code",
   "execution_count": null,
   "metadata": {},
   "outputs": [],
   "source": [
    "s = \"one, two, three\"\n",
    "v = s.split(',')\n",
    "print(v)"
   ]
  },
  {
   "cell_type": "markdown",
   "metadata": {},
   "source": [
    "Observe the spaces before \"two\" and \"three\". We use list comprehension and string method `.strip` to drop them out"
   ]
  },
  {
   "cell_type": "code",
   "execution_count": null,
   "metadata": {},
   "outputs": [],
   "source": [
    "v1 = [s.strip() for s in v]\n",
    "print(v1)"
   ]
  },
  {
   "cell_type": "markdown",
   "metadata": {},
   "source": [
    "Now we are ready to load CSV as a list"
   ]
  },
  {
   "cell_type": "code",
   "execution_count": null,
   "metadata": {},
   "outputs": [],
   "source": [
    "# First step: see what we read from file\n",
    "file_name = \"areas.csv\"\n",
    "\n",
    "with open(file_name, 'r') as f:\n",
    "    for line in f:\n",
    "        print(line, end=\"\") # line is a string corresponding to a whole line in the file        "
   ]
  },
  {
   "cell_type": "code",
   "execution_count": null,
   "metadata": {},
   "outputs": [],
   "source": [
    "# Split each line by comma\n",
    "file_name = \"areas.csv\"\n",
    "\n",
    "with open(file_name, 'r') as f:\n",
    "    for line in f:\n",
    "        s = line.split(',')\n",
    "        print(s)"
   ]
  },
  {
   "cell_type": "code",
   "execution_count": null,
   "metadata": {},
   "outputs": [],
   "source": [
    "# Do clearning by strip. Observed that strip removes both spaces and new lines\n",
    "file_name = \"areas.csv\"\n",
    "\n",
    "with open(file_name, 'r') as f:\n",
    "    for line in f:\n",
    "        s = line.split(',')\n",
    "        s = [c.strip() for c in s]\n",
    "        print(s)"
   ]
  },
  {
   "cell_type": "code",
   "execution_count": null,
   "metadata": {},
   "outputs": [],
   "source": [
    "# Convert of areas to float\n",
    "file_name = \"areas.csv\"\n",
    "\n",
    "with open(file_name, 'r') as f:\n",
    "    for line in f:\n",
    "        s = line.split(',')\n",
    "        s = [c.strip() for c in s]\n",
    "        s[1] = float(s[1])\n",
    "        print(s)"
   ]
  },
  {
   "cell_type": "code",
   "execution_count": null,
   "metadata": {},
   "outputs": [],
   "source": [
    "# Collect all to a list\n",
    "file_name = \"areas.csv\"\n",
    "\n",
    "with open(file_name, 'r') as f:\n",
    "    dat = []\n",
    "    for line in f:\n",
    "        s = line.split(',')\n",
    "        s = [c.strip() for c in s]\n",
    "        s[1] = float(s[1])\n",
    "        dat.append(s)\n",
    "\n",
    "print(dat)"
   ]
  },
  {
   "cell_type": "markdown",
   "metadata": {},
   "source": [
    "It can be represented as a dictionary"
   ]
  },
  {
   "cell_type": "code",
   "execution_count": null,
   "metadata": {},
   "outputs": [],
   "source": [
    "ddat = dict(dat)\n",
    "print(ddat)\n",
    "print(ddat['Russia'])\n",
    "print(ddat['Iran'])"
   ]
  },
  {
   "cell_type": "markdown",
   "metadata": {},
   "source": [
    "### Exercises"
   ]
  },
  {
   "cell_type": "markdown",
   "metadata": {},
   "source": [
    "1\\. Write a program that creates a NumPy array containing 20 zeros, then reshape it to get a two-dimensional array with 5 rows and 4 columns. Print this array. Now assign to its middle area 1 to obtain an array whose the first and the last rows as well as the first and the last columns contain 0 and all others are 1. Print this array."
   ]
  },
  {
   "cell_type": "markdown",
   "metadata": {},
   "source": [
    "2\\. Write a program that creates a NumPy array $x$ containing 11 equally spaced values from 0 to $2\\pi$. Now compute two new arrays: $s=\\sin x$ and $c=\\cos x$. Finally compute and print the result of expression $s^2 + c^2$"
   ]
  },
  {
   "cell_type": "code",
   "execution_count": null,
   "metadata": {},
   "outputs": [],
   "source": [
    "# Run this section to get a file with US presidens heights\n",
    "file_name = \"presidents.csv\"\n",
    "\n",
    "txt = ['Garfield, 183', 'Obama, 185', 'Bush, 182', 'Reagan, 185', 'Kennedy, 185', 'Grant, 173', 'Taft, 182', 'Johnson, 192', 'Coolidge, 178', 'Arthur, 188', 'Bush, 188', 'Wilson, 180', 'Monroe, 183', 'Buchanan, 183', 'Roosevelt, 188', 'Johnson, 178', 'Cleveland, 180', 'Jackson, 185', 'McKinley, 170', 'Harrison, 168', 'Polk, 173', 'Taylor, 173', 'Truman, 175', 'Harding, 183', 'Buren, 168', 'Ford, 183', 'Clinton, 188', 'Carter, 177', 'Q_Adams, 171', 'Trump, 191', 'Jefferson, 189', 'Nixon, 182', 'Pierce, 178', 'Washington, 188', 'Lincoln, 193', 'Madison, 163', 'Hoover, 182', 'Roosevelt, 178', 'Adams, 170', 'Tyler, 183', 'Fillmore, 175', 'Harrison, 173', 'Hayes, 174', 'Eisenhower, 179']\n",
    "with open(file_name, \"w\") as f:\n",
    "    for s in txt:\n",
    "        f.write(s + '\\n')"
   ]
  },
  {
   "cell_type": "markdown",
   "metadata": {},
   "source": [
    "3\\. Create a program that reads president heights form a file `presidents.csv` and store them into a NumPy array. Execute the section above to get this file in your working directory. Read only heights, without names. Then compute and print the smallest, the biggest and the mean height. "
   ]
  },
  {
   "cell_type": "markdown",
   "metadata": {},
   "source": [
    "4\\. Create a program that reads both president heights and names. Collect names in a list, do not use a NumPy array for them. Then compute the smallest, the biggest and median heights and print them with the corresponding names. \n",
    "\n",
    "_Hint. Median is the value in the middle of a sorted array._"
   ]
  },
  {
   "cell_type": "code",
   "execution_count": null,
   "metadata": {},
   "outputs": [],
   "source": [
    "# Run this section to get a file with sleep time\n",
    "file_name = \"sleep.csv\"\n",
    "\n",
    "txt = [\"Males, Belgium, 8:15\",\"Males, Bulgaria, 9:08\",\"Males, Germany, 8:08\",\"Males, Estonia, 8:24\",\"Males, Spain, 8:36\",\"Males, France, 8:45\",\"Males, Italy, 8:17\",\"Males, Latvia, 8:35\",\"Males, Lithuania, 8:28\",\"Males, Poland, 8:21\",\"Males, Slovenia, 8:18\",\"Males, Finland, 8:22\",\"Males, United Kingdom, 8:18\",\"Males, Norway, 7:56\",\"Females, Belgium, 8:34\",\"Females, Bulgaria, 9:07\",\"Females, Germany, 8:15\",\"Females, Estonia, 8:26\",\"Females, Spain, 8:32\",\"Females, France, 8:55\",\"Females, Italy, 8:19\",\"Females, Latvia, 8:44\",\"Females, Lithuania, 8:35\",\"Females, Poland, 8:35\",\"Females, Slovenia, 8:25\",\"Females, Finland, 8:32\",\"Females, United Kingdom, 8:27\",\"Females, Norway, 8:10\"]\n",
    "with open(file_name, \"w\") as f:\n",
    "    for s in txt:\n",
    "        f.write(s + '\\n')"
   ]
  },
  {
   "cell_type": "markdown",
   "metadata": {},
   "source": [
    "5\\. First run the above section to get a file \"sleep.csv\". This file contains three columns: sex, country and sleeping time. Create a program that reads this file converting the sleeping time from 'hh:mm' format to an integer numbers of minutes. Now print the answers to the following questions: What are the largest and the smallest sleeping time for males and females? In which country people sleep more? What is the average sleeping time?"
   ]
  },
  {
   "cell_type": "markdown",
   "metadata": {},
   "source": [
    "### Clear temporary files"
   ]
  },
  {
   "cell_type": "code",
   "execution_count": null,
   "metadata": {},
   "outputs": [],
   "source": [
    "import os\n",
    "\n",
    "temp_files = [\"my_file1.txt\", \"my_file2.txt\", \"my_file3.txt\", \"my_file4.txt\", \n",
    "              \"areas.csv\", \"presidents.csv\", \"sleep.csv\"]\n",
    "\n",
    "ask = input(\"Do you really want to remove temporary files? (y/n)\")\n",
    "if ask[0].lower() == 'y':\n",
    "    flag = False\n",
    "    for file in temp_files:\n",
    "        try:\n",
    "            os.remove(file)\n",
    "            print(f\"Removed {file}\")\n",
    "            flag = True\n",
    "        except FileNotFoundError:\n",
    "            pass\n",
    "    if not flag:\n",
    "        print(\"No files to remove\")"
   ]
  },
  {
   "cell_type": "code",
   "execution_count": null,
   "metadata": {},
   "outputs": [],
   "source": []
  }
 ],
 "metadata": {
  "colab": {
   "collapsed_sections": [],
   "name": "01 - Brief review of Python.ipynb",
   "provenance": []
  },
  "kernelspec": {
   "display_name": "Python 3 (ipykernel)",
   "language": "python",
   "name": "python3"
  },
  "language_info": {
   "codemirror_mode": {
    "name": "ipython",
    "version": 3
   },
   "file_extension": ".py",
   "mimetype": "text/x-python",
   "name": "python",
   "nbconvert_exporter": "python",
   "pygments_lexer": "ipython3",
   "version": "3.11.6"
  },
  "nbTranslate": {
   "displayLangs": [
    "*"
   ],
   "hotkey": "alt-t",
   "langInMainMenu": true,
   "sourceLang": "ru",
   "targetLang": "en",
   "useGoogleTranslate": true
  },
  "toc": {
   "base_numbering": 1,
   "nav_menu": {},
   "number_sections": true,
   "sideBar": true,
   "skip_h1_title": true,
   "title_cell": "Table of Contents",
   "title_sidebar": "Contents",
   "toc_cell": false,
   "toc_position": {
    "height": "calc(100% - 180px)",
    "left": "10px",
    "top": "150px",
    "width": "243.733px"
   },
   "toc_section_display": true,
   "toc_window_display": true
  }
 },
 "nbformat": 4,
 "nbformat_minor": 4
}
