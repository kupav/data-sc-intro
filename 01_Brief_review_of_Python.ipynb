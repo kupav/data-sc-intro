{
 "cells": [
  {
   "cell_type": "markdown",
   "metadata": {
    "id": "kt07Ac07vCIf"
   },
   "source": [
    "# 01 Brief review of Python\n",
    "\n",
    "Part of [\"Introduction to Data Science\" course](https://github.com/kupav/data-sc-intro) by Pavel Kuptsov, [kupav@mail.ru](mailto:kupav@mail.ru)\n",
    "\n",
    "Recommended reading for this section:\n",
    "\n",
    "1. Ben Stephenson. (2019). The Python Workbook : A Brief Introduction with Exercises and Solutions. \n",
    "2. Vanderplas, J.T. (2016). Python data science handbook: Essential tools for working with data.\n",
    "\n",
    "The following Python module will be required. Make sure that you have it installed\n",
    "- `numpy`\n",
    "- `re`"
   ]
  },
  {
   "cell_type": "markdown",
   "metadata": {},
   "source": [
    "## Lesson 1"
   ]
  },
  {
   "cell_type": "markdown",
   "metadata": {},
   "source": [
    "### Hello world\n",
    "\n",
    "Standard first step in learning of any language: program \"Hello world\". \n",
    "\n",
    "It is pretty short in Python"
   ]
  },
  {
   "cell_type": "code",
   "execution_count": null,
   "metadata": {
    "colab": {
     "base_uri": "https://localhost:8080/",
     "height": 104
    },
    "id": "wCCg4IV8nR2I",
    "outputId": "2f941719-bf19-4cb0-d55b-d82464b5bffe"
   },
   "outputs": [],
   "source": [
    "print(\"Hello, world!\")"
   ]
  },
  {
   "cell_type": "markdown",
   "metadata": {},
   "source": [
    "Each `print` by default ends line, "
   ]
  },
  {
   "cell_type": "code",
   "execution_count": null,
   "metadata": {},
   "outputs": [],
   "source": [
    "print(\"Hello,\")\n",
    "print(\"world!\")"
   ]
  },
  {
   "cell_type": "markdown",
   "metadata": {},
   "source": [
    "To change it, one can do as follows"
   ]
  },
  {
   "cell_type": "code",
   "execution_count": null,
   "metadata": {},
   "outputs": [],
   "source": [
    "print(\"Hello,\", end=\"_\")\n",
    "print(\"world!\")"
   ]
  },
  {
   "cell_type": "markdown",
   "metadata": {},
   "source": [
    "One can print several elements"
   ]
  },
  {
   "cell_type": "code",
   "execution_count": null,
   "metadata": {},
   "outputs": [],
   "source": [
    "print(\"Hello\", \", \", \"world\", \"!\")"
   ]
  },
  {
   "cell_type": "markdown",
   "metadata": {},
   "source": [
    "By default, elements are separated by space `\" \"`. To change it:"
   ]
  },
  {
   "cell_type": "code",
   "execution_count": null,
   "metadata": {},
   "outputs": [],
   "source": [
    "print(\"Hello\", \", \", \"world\", \"!\", sep=\"\")"
   ]
  },
  {
   "cell_type": "markdown",
   "metadata": {},
   "source": [
    "### Comments\n",
    "\n",
    "Symbol `#` means a comment. Everything to the right will be ignored by Python.\n",
    "\n",
    "The following code does nothing"
   ]
  },
  {
   "cell_type": "code",
   "execution_count": null,
   "metadata": {},
   "outputs": [],
   "source": [
    "# print(\"Hello, world!\")"
   ]
  },
  {
   "cell_type": "markdown",
   "metadata": {
    "id": "Sqb03OiwoUdO"
   },
   "source": [
    "### Variables\n",
    "\n",
    "A variable is a named location in a computer memory that holds a value.\n",
    "\n",
    "Variable names in Python: letters, numbers and underscores. Name cannot begin with a number. Letters are case sensitive.\n",
    "\n",
    "Correct variable names:\n",
    "\n",
    "```python\n",
    "step_size\n",
    "StepSize\n",
    "stepSize\n",
    "size21\n",
    "step1_size5\n",
    "```\n",
    "\n",
    "Incorrect names:\n",
    "\n",
    "```python\n",
    "step size # no spaces inside are allowed\n",
    "1_step # no numbers in the beginning\n",
    "featur%one # symbol % is not allowed\n",
    "```\n",
    "\n",
    "Variables are created using assignment statement: the name appears to the left of `=` the value that will be stored in the variable appears to the right of it.\n",
    "\n",
    "To see what is stored in a variable we use `print()`."
   ]
  },
  {
   "cell_type": "code",
   "execution_count": null,
   "metadata": {},
   "outputs": [],
   "source": [
    "s = \"one, two, three\"\n",
    "a = 4\n",
    "print(s, a)"
   ]
  },
  {
   "cell_type": "markdown",
   "metadata": {},
   "source": [
    "A variable can contain a special value `None`. It means \"no value is held in this variable \n",
    "but it exists yet\"."
   ]
  },
  {
   "cell_type": "code",
   "execution_count": null,
   "metadata": {},
   "outputs": [],
   "source": [
    "x = None\n",
    "print(x)"
   ]
  },
  {
   "cell_type": "markdown",
   "metadata": {},
   "source": [
    "### Expressions and math operators\n",
    "\n",
    "The right hand side of the assignment statement can be an expression: It can have numbers, and standard math operators like (`+`), (`-`), (`/`), (`*`). \n",
    "\n",
    "It also can include variables.\n",
    "\n",
    "Not obvious operators: exponentiation (`**`), floor division (`//`), module (`%`)."
   ]
  },
  {
   "cell_type": "code",
   "execution_count": null,
   "metadata": {},
   "outputs": [],
   "source": [
    "x = 1\n",
    "y = x + 1\n",
    "z = y ** 3\n",
    "print(\"x=\", x, \"y=\", y, \"z=\", z)"
   ]
  },
  {
   "cell_type": "markdown",
   "metadata": {},
   "source": [
    "Figure out how operator (`//`) and (`%`) work"
   ]
  },
  {
   "cell_type": "code",
   "execution_count": null,
   "metadata": {},
   "outputs": [],
   "source": [
    "x = 14\n",
    "y = 5\n",
    "d = x / y\n",
    "print(\"d=\", d)"
   ]
  },
  {
   "cell_type": "markdown",
   "metadata": {},
   "source": [
    "Operator (`//`) computes the floor of the quotient that results when one number is divided by another. "
   ]
  },
  {
   "cell_type": "code",
   "execution_count": null,
   "metadata": {},
   "outputs": [],
   "source": [
    "f = x // y\n",
    "print(\"f=\", f)"
   ]
  },
  {
   "cell_type": "markdown",
   "metadata": {},
   "source": [
    "Operator (`%`) computes the remainder when one number is divided by another."
   ]
  },
  {
   "cell_type": "code",
   "execution_count": null,
   "metadata": {},
   "outputs": [],
   "source": [
    "r = x % y\n",
    "print(\"r=\", r)"
   ]
  },
  {
   "cell_type": "markdown",
   "metadata": {},
   "source": [
    "Check."
   ]
  },
  {
   "cell_type": "code",
   "execution_count": null,
   "metadata": {},
   "outputs": [],
   "source": [
    "x1 = y * f + r\n",
    "print(\"x=\", x, \"x1=\", x1)"
   ]
  },
  {
   "cell_type": "markdown",
   "metadata": {},
   "source": [
    "The same variable can appear on both sides."
   ]
  },
  {
   "cell_type": "code",
   "execution_count": null,
   "metadata": {},
   "outputs": [],
   "source": [
    "x = 15\n",
    "x = x + 2\n",
    "print(x)"
   ]
  },
  {
   "cell_type": "markdown",
   "metadata": {},
   "source": [
    "There is a convenient compact form for it `x += 2`. Works with all math operators."
   ]
  },
  {
   "cell_type": "code",
   "execution_count": null,
   "metadata": {},
   "outputs": [],
   "source": [
    "x = 15\n",
    "print(x)\n",
    "x += 2\n",
    "print(x)\n",
    "x *= 3\n",
    "print(x)"
   ]
  },
  {
   "cell_type": "markdown",
   "metadata": {},
   "source": [
    "### Calling functions \n",
    "\n",
    "Parts of code can be wrapped into functions.\n",
    "\n",
    "- to avoid retyping\n",
    "- to increase clarity\n",
    "\n",
    "An example: let us make a rounding of a real number. We can use floor division (`//`) \n",
    "for it. \n",
    "\n",
    "Let us see what happen when we divide by 1:"
   ]
  },
  {
   "cell_type": "code",
   "execution_count": null,
   "metadata": {},
   "outputs": [],
   "source": [
    "print(15.2 // 1)\n",
    "print(15.4 // 1)\n",
    "print(15.6 // 1)\n",
    "print(15.8 // 1)"
   ]
  },
  {
   "cell_type": "markdown",
   "metadata": {},
   "source": [
    "But we want `15.6 -> 16`. Just add `0.5` before division."
   ]
  },
  {
   "cell_type": "code",
   "execution_count": null,
   "metadata": {},
   "outputs": [],
   "source": [
    "x = 15.4\n",
    "rx = (x + 0.5) // 1\n",
    "print(rx)"
   ]
  },
  {
   "cell_type": "code",
   "execution_count": null,
   "metadata": {},
   "outputs": [],
   "source": [
    "x = 15.6\n",
    "rx = (x + 0.5) // 1\n",
    "print(rx)"
   ]
  },
  {
   "cell_type": "markdown",
   "metadata": {},
   "source": [
    "It works good. But we don't want to retype it again and again. A function will help. \n",
    "\n",
    "We could write a function for our rounding procedure, but Python already has one: `round()`"
   ]
  },
  {
   "cell_type": "code",
   "execution_count": null,
   "metadata": {},
   "outputs": [],
   "source": [
    "x = 15.4\n",
    "print(round(x))"
   ]
  },
  {
   "cell_type": "code",
   "execution_count": null,
   "metadata": {},
   "outputs": [],
   "source": [
    "x = 15.6\n",
    "print(round(x))"
   ]
  },
  {
   "cell_type": "markdown",
   "metadata": {},
   "source": [
    "By the way: `print()` is also a function.\n",
    "\n",
    "Notice: when we call a function we write its name followed by its parameters in parenthesis.\n",
    "\n",
    "Also notice a bit different results: our rounding expression returns numbers with the decimal point, `15.0`, `16.0`, while function `round` gives `15`, `16`. This is because `round` additionally performs a type conversion: from real `15.0` to integer `15`."
   ]
  },
  {
   "cell_type": "markdown",
   "metadata": {},
   "source": [
    "### Types\n",
    "\n",
    "Content of a variable always has type. Simple standard types:\n",
    "\n",
    "- `int` - integer number, no decimal point (`12`, `-2312`)\n",
    "- `float` - real number, decimal point or `e`-symbol is used (`.321`, `12.0`, `34.591`, `1.28e-11`, `1e13`)\n",
    "- `complex` - complex number, includes imaginary unit (`3j`, `12.3+3.2j`) \n",
    "- `str` - text string, enclosed in quotation marks or apostrophes (`\"one and two\"`, `'Data'`)\n",
    "- `bool` - boolean value, can be either `True` or `False`\n",
    "\n",
    "Why there are many types? Because different types are processed in different ways. \n",
    "\n",
    "Types can be converted. Just use type as a function name"
   ]
  },
  {
   "cell_type": "code",
   "execution_count": null,
   "metadata": {},
   "outputs": [],
   "source": [
    "x = 15.6\n",
    "rx = (x + 0.5) // 1\n",
    "irx = int(rx)  # converts here float variable rx to int type\n",
    "print(\"rx=\", rx, \"irx=\", irx)"
   ]
  },
  {
   "cell_type": "code",
   "execution_count": null,
   "metadata": {},
   "outputs": [],
   "source": [
    "x = 953.3\n",
    "s = \"x=\" + str(x)  # here x is converted to string and concatenated with 'x='\n",
    "print(s)"
   ]
  },
  {
   "cell_type": "markdown",
   "metadata": {},
   "source": [
    "Types can be checked using function `type()`"
   ]
  },
  {
   "cell_type": "code",
   "execution_count": null,
   "metadata": {},
   "outputs": [],
   "source": [
    "i = 2\n",
    "print(type(i))"
   ]
  },
  {
   "cell_type": "code",
   "execution_count": null,
   "metadata": {},
   "outputs": [],
   "source": [
    "x = 2.3\n",
    "print(type(x))"
   ]
  },
  {
   "cell_type": "code",
   "execution_count": null,
   "metadata": {},
   "outputs": [],
   "source": [
    "c = 3.4 + 5.6j\n",
    "print(type(c))"
   ]
  },
  {
   "cell_type": "code",
   "execution_count": null,
   "metadata": {},
   "outputs": [],
   "source": [
    "s = \"expansion\"\n",
    "print(type(s))"
   ]
  },
  {
   "cell_type": "markdown",
   "metadata": {},
   "source": [
    "### Working with strings\n",
    "\n",
    "Operation on strings\n",
    "\n",
    "- computing length of a string\n",
    "- concatenating two strings\n",
    "- taking substrings and individual symbols\n",
    "\n",
    "Length is computed with function `len()`"
   ]
  },
  {
   "cell_type": "code",
   "execution_count": null,
   "metadata": {},
   "outputs": [],
   "source": [
    "s1 = \"Data\"\n",
    "string_length = len(s1)\n",
    "print(string_length)"
   ]
  },
  {
   "cell_type": "markdown",
   "metadata": {},
   "source": [
    "Concatenation of strings is done with (`+`)"
   ]
  },
  {
   "cell_type": "code",
   "execution_count": null,
   "metadata": {},
   "outputs": [],
   "source": [
    "s1 = \"this is a string\"\n",
    "s2 = s1 + \" and \" + s1\n",
    "print(s2)"
   ]
  },
  {
   "cell_type": "markdown",
   "metadata": {},
   "source": [
    "Taking symbols and substrings: Key idea is that symbols are enumerated starting from zero:\n",
    "```\n",
    "   01234567\n",
    "s=\"compound\"\n",
    "```\n",
    "Elements are accessed by index:\n",
    "```\n",
    "s[0] -> c\n",
    "s[1] -> o\n",
    "s[2] -> m\n",
    "s[3] -> p\n",
    "...\n",
    "```\n",
    "Substrings are accessed via ranges of index\n",
    "```\n",
    "s[0:3] -> 'com'\n",
    "s[:3]  -> 'com'\n",
    "s[3:8] -> 'pound'\n",
    "s[-3:] -> 'und'\n",
    "```"
   ]
  },
  {
   "cell_type": "code",
   "execution_count": null,
   "metadata": {},
   "outputs": [],
   "source": [
    "# Symbol positions start from 0\n",
    "#     012345678901234\"  \n",
    "s1 = \"this is string!\"\n",
    "print(s1)\n",
    "w1 = s1[0:4]\n",
    "w2 = s1[5:7]\n",
    "w3 = s1[-7:-1]\n",
    "s2 = w2 + \" \" + w1 + \" \" + w3 + \"?\"\n",
    "print(s2)"
   ]
  },
  {
   "cell_type": "markdown",
   "metadata": {},
   "source": [
    "Number can be appear in a string:\n",
    "```python\n",
    "s = \"value of N is 999\"\n",
    "```\n",
    "Or can be written as a string\n",
    "```python\n",
    "a = \"1.234\"\n",
    "```\n",
    "To use it in computations one have to convert it to a numerical type, `int` or `float`."
   ]
  },
  {
   "cell_type": "code",
   "execution_count": null,
   "metadata": {},
   "outputs": [],
   "source": [
    "s = \"value of N is 999\"\n",
    "N = s[-3:]\n",
    "print(N)\n",
    "print(type(N))  # N is a string, not a number"
   ]
  },
  {
   "cell_type": "code",
   "execution_count": null,
   "metadata": {},
   "outputs": [],
   "source": [
    "N1 = N + 1  # Error, types are incompatible"
   ]
  },
  {
   "cell_type": "code",
   "execution_count": null,
   "metadata": {},
   "outputs": [],
   "source": [
    "N = int(s[-3:])  # Convert string '999' to number 999\n",
    "print(N)\n",
    "print(type(N))"
   ]
  },
  {
   "cell_type": "code",
   "execution_count": null,
   "metadata": {},
   "outputs": [],
   "source": [
    "N1 = N + 1  # Now N can appear in computations\n",
    "print(N1)"
   ]
  },
  {
   "cell_type": "code",
   "execution_count": null,
   "metadata": {},
   "outputs": [],
   "source": [
    "a = \"1.234\"\n",
    "b = a + 1.766  # Error because types are incompatible"
   ]
  },
  {
   "cell_type": "code",
   "execution_count": null,
   "metadata": {},
   "outputs": [],
   "source": [
    "b = float(a) + 1.766  # Now wlikeorks\n",
    "print(b)"
   ]
  },
  {
   "cell_type": "markdown",
   "metadata": {},
   "source": [
    "### String formatting\n",
    "\n",
    "Concatenation is often not enough to represent information appropriately. Complicated cases are processed via string formating: curly brackets and `.format()`"
   ]
  },
  {
   "cell_type": "code",
   "execution_count": null,
   "metadata": {},
   "outputs": [],
   "source": [
    "x = 10.0 / 7.0\n",
    "y = 13.0 / 7.0\n",
    "s = 'Results: x={} and y={}'.format(x, y)\n",
    "print(s)"
   ]
  },
  {
   "cell_type": "markdown",
   "metadata": {},
   "source": [
    "Printed values can be rounded (but actual variable values are unchanged)\n",
    "```python\n",
    "'{:with.precision}'.format(x)\n",
    "```\n",
    "Here `with` is total with, and `precision` is precision."
   ]
  },
  {
   "cell_type": "code",
   "execution_count": null,
   "metadata": {},
   "outputs": [],
   "source": [
    "x = 10.0 / 7.0\n",
    "y = 13.0 / 7.0\n",
    "s = 'Results: x={:4.3} and y={:5.4}'.format(x, y)\n",
    "print(s)"
   ]
  },
  {
   "cell_type": "markdown",
   "metadata": {},
   "source": [
    "f-strings is more convenient way of formating. One puts `f`-symbol before the string and write variables inside curly brackets."
   ]
  },
  {
   "cell_type": "code",
   "execution_count": null,
   "metadata": {},
   "outputs": [],
   "source": [
    "x = 10.0 / 7.0\n",
    "y = 13.0 / 7.0\n",
    "s = f'Results: x={x:4.3} and y={y:5.4}'\n",
    "print(s)"
   ]
  },
  {
   "cell_type": "markdown",
   "metadata": {},
   "source": [
    "### Reading input\n",
    "\n",
    "Program can read input from the keyboard by calling the `input()` function. Data are obtained as strings. The programmer must convert it to the proper type.\n",
    "\n",
    "If called with a string argument like this: `input('Enter a value')` a hint message is printed."
   ]
  },
  {
   "cell_type": "code",
   "execution_count": null,
   "metadata": {},
   "outputs": [],
   "source": [
    "s = input(\"Input i\")\n",
    "print(type(s))"
   ]
  },
  {
   "cell_type": "code",
   "execution_count": null,
   "metadata": {},
   "outputs": [],
   "source": [
    "i = int(s)\n",
    "print(i + 15)"
   ]
  },
  {
   "cell_type": "markdown",
   "metadata": {},
   "source": [
    "Keyboard input is typically not used in data science. Data are usually read from files."
   ]
  },
  {
   "cell_type": "markdown",
   "metadata": {},
   "source": [
    "### Modules\n",
    "\n",
    "Some functions are available in Python anytime and anywhere: `print()`, `input()`, `round()`\n",
    "\n",
    "Less common functions are collected in modules. Before using they have to be imported to the program using command `import`\n",
    "\n",
    "Math functions live in module `math`. Its import is done with the command\n",
    "```python\n",
    "import math\n",
    "```\n",
    "Using module content: add prefix `math.` before function name:\n",
    "```python\n",
    "a = math.sin(0.1)\n",
    "```"
   ]
  },
  {
   "cell_type": "code",
   "execution_count": null,
   "metadata": {},
   "outputs": [],
   "source": [
    "import math\n",
    "\n",
    "x = (math.sqrt(5) + 1) / 2\n",
    "print(x)"
   ]
  },
  {
   "cell_type": "markdown",
   "metadata": {},
   "source": [
    "If a module name is too long one can rename it when importing"
   ]
  },
  {
   "cell_type": "code",
   "execution_count": null,
   "metadata": {},
   "outputs": [],
   "source": [
    "import datetime as dt\n",
    "\n",
    "today = dt.date.today()\n",
    "print(\"Today's date:\", today)"
   ]
  },
  {
   "cell_type": "markdown",
   "metadata": {},
   "source": [
    "Or one can merge a module content to the global name space - no reference to the module name will be required"
   ]
  },
  {
   "cell_type": "code",
   "execution_count": null,
   "metadata": {
    "scrolled": true
   },
   "outputs": [],
   "source": [
    "from random import *\n",
    "\n",
    "print(randint(1, 10))"
   ]
  },
  {
   "cell_type": "markdown",
   "metadata": {},
   "source": [
    "Sometimes only one function is needed. Then we import exactly what we want"
   ]
  },
  {
   "cell_type": "code",
   "execution_count": null,
   "metadata": {},
   "outputs": [],
   "source": [
    "from math import log10\n",
    "\n",
    "print(log10(10**5))"
   ]
  },
  {
   "cell_type": "markdown",
   "metadata": {},
   "source": [
    "### Module NumPy\n",
    "\n",
    "Standard module `math` is usually not used in data science. It is not enough for really serious math computations. \n",
    "\n",
    "In fact the standard for serious work is `numpy` module. It contains all functions from `math` and much much more."
   ]
  },
  {
   "cell_type": "code",
   "execution_count": null,
   "metadata": {},
   "outputs": [],
   "source": [
    "import numpy as np  # this is standard form of import\n",
    "\n",
    "x = np.sin(np.pi / 2)**2 + np.cos(np.pi / 2)**2\n",
    "print(x)"
   ]
  },
  {
   "cell_type": "markdown",
   "metadata": {},
   "source": [
    "Notice that `math` is a part of Python and is always available. Module `numpy` must be installed separately. "
   ]
  },
  {
   "cell_type": "markdown",
   "metadata": {},
   "source": [
    "## Lesson 2"
   ]
  },
  {
   "cell_type": "markdown",
   "metadata": {},
   "source": [
    "### Conditional constructs\n",
    "\n",
    "Conditional constructs allows branching: statements may or may not be executed depending on some conditions.\n",
    "\n",
    "Forms of conditional constructs:\n",
    "- if\n",
    "- if-else\n",
    "- if-elif-else\n",
    "- if-elif\n",
    "\n",
    "Remark for those who is familiar with other languages: Python does not have select-case statements. Their are simulated via if-elif-else constructs."
   ]
  },
  {
   "cell_type": "markdown",
   "metadata": {},
   "source": [
    "### If statements\n",
    "\n",
    "The simplest form consists of `if` statement only:\n",
    "```python\n",
    "if <condition_is_true>:\n",
    "    <do_something>\n",
    "<continue_working>\n",
    "```\n",
    "Observe colon `:` ending the line of `if` statement. It must be there according to the language rules.\n",
    "\n",
    "Statements `<do_something>` are executed only if the result of the condition evaluation is `True`. Otherwise this construct does nothing. Statement `<continue_working>` are executed in any case.\n",
    "\n",
    "The body of an `if` statement consists of one or more statements that must be **indented more than the `if` keyword**. \n",
    "\n",
    "The body ends before the next line that is indented **the\n",
    "same amount as (or less than) the `if` keyword**. \n",
    "\n",
    "Programmers can choose how many spaces to use when indenting the bodies of `if` and other similar statements. Recommended value is 4 spaces. \n",
    "\n",
    "Often the condition is written as a relation:\n",
    "```python\n",
    "x < y\n",
    "x > y\n",
    "x <= y\n",
    "x >= y\n",
    "x == y\n",
    "x != y\n",
    "x is None\n",
    "x is not None\n",
    "```"
   ]
  },
  {
   "cell_type": "code",
   "execution_count": null,
   "metadata": {},
   "outputs": [],
   "source": [
    "N = int(input(\"Enter N=\"))\n",
    "if N > 0:\n",
    "    print(\"You have entered a positive value\")\n",
    "if N <= 0:\n",
    "    print(\"You have entered a negative value or zero\")"
   ]
  },
  {
   "cell_type": "markdown",
   "metadata": {},
   "source": [
    "### If-else statements\n",
    "\n",
    "In the previous example the second test is redundant. If the condition `N > 0` is false, `N <= 0` is true automatically. Two calls of `print()` are mutually exclusive.\n",
    "\n",
    "Instead of the second `if` it is better to use if-else statement \n",
    "```python\n",
    "if <condition_is_true>:\n",
    "    <do_something>\n",
    "else:\n",
    "    <do_other_things>\n",
    "<continue_working>\n",
    "```\n",
    "Observe colons `:` ending both `if` and `else` lines. They must be there.\n",
    "\n",
    "Observe the same indentations of `if` and `else` bodies.\n",
    "\n",
    "Either `<do_something>` or `<do_other_things>` will be executed. Never both of them!\n",
    "\n",
    "To fix the previous example we substitute the second `if` with `else` statement."
   ]
  },
  {
   "cell_type": "code",
   "execution_count": null,
   "metadata": {},
   "outputs": [],
   "source": [
    "N = int(input(\"Enter N=\"))\n",
    "if N > 0:\n",
    "    print(\"You have entered a positive value\")\n",
    "else:\n",
    "    print(\"You have entered a negative value or zero\")"
   ]
  },
  {
   "cell_type": "markdown",
   "metadata": {},
   "source": [
    "### If-elif-else statements\n",
    "\n",
    "If there are more then two options:\n",
    "```python\n",
    "if <condition_1_is_true>:\n",
    "    <do_something_1>\n",
    "elif <condition_2_is_true>:\n",
    "    <do_something_2>\n",
    "elif <condition_3_is_true>:\n",
    "    <do_something_3>\n",
    "else:\n",
    "    <do_other_things>\n",
    "<continue_working>\n",
    "```\n",
    "\n",
    "Exactly one statement will be executed: either `<do_something_1>` or `<do_something_2>` or `<do_something_3>` or `<do_other_things>`.\n",
    "\n",
    "Branch `else` can be omitted. In this case if non of the conditions is true if-elif block does nothing."
   ]
  },
  {
   "cell_type": "code",
   "execution_count": null,
   "metadata": {},
   "outputs": [],
   "source": [
    "N = int(input(\"Enter N=\"))\n",
    "if N > 0:\n",
    "    print(\"You have entered a positive value\")\n",
    "elif N == 0:\n",
    "    print(\"You have entered zero\")\n",
    "else:\n",
    "    print(\"You have entered a negative value\")"
   ]
  },
  {
   "cell_type": "markdown",
   "metadata": {},
   "source": [
    "### Nested if\n",
    "\n",
    "\n",
    "The body of if-elif-else block can contain almost any Python statements, including another if blocks. "
   ]
  },
  {
   "cell_type": "code",
   "execution_count": null,
   "metadata": {},
   "outputs": [],
   "source": [
    "x = float(input(\"Enter x=\"))\n",
    "\n",
    "if x < 0.0:\n",
    "    descr = \"negative\"\n",
    "elif x == 0.0:\n",
    "    descr = \"zero\"\n",
    "else:\n",
    "    descr = \"positive\"\n",
    "    if x < 1.0:\n",
    "        descr = \"small \" + descr\n",
    "    if x >= 10:\n",
    "        descr = \"big \" + descr\n",
    "print(f\"You have eneterd a {descr} value\")"
   ]
  },
  {
   "cell_type": "markdown",
   "metadata": {},
   "source": [
    "### Conditional expression (ternary operator)\n",
    "\n",
    "Decision can be made in with a single expression. It is called a conditional expression.\n",
    "```python\n",
    "a = <one_value> if <condition_is_true> else <another_value>\n",
    "```\n",
    "Conditional expressions make a code more compact and readable "
   ]
  },
  {
   "cell_type": "code",
   "execution_count": null,
   "metadata": {},
   "outputs": [],
   "source": [
    "x = float(input(\"Inpute a number \"))\n",
    "a = \"small\" if abs(x) < 10 else \"big\"\n",
    "print(f\"You have entered a {a} number\")"
   ]
  },
  {
   "cell_type": "markdown",
   "metadata": {},
   "source": [
    "### Boolean logic\n",
    "\n",
    "Results of relations can be modified and they can be combined using logical operators `not`, `and`, `or`.\n",
    "\n",
    "Operator `not` switches a logical value. The truth table:\n",
    "\n",
    "| x | not x |\n",
    "| :-: | :-: |\n",
    "| False | True |\n",
    "| True | False|\n",
    "\n",
    "Operator `and` compares two boolean values. The result is true only when both arguments are true. The truth table:\n",
    "\n",
    "| x | y | x and y |\n",
    "| :-: | :-: | :-: |\n",
    "| False | False | False |\n",
    "| False | True | False |\n",
    "| True | False | False |\n",
    "| True | True | True |\n",
    "\n",
    "Operator `or` also compares two boolean values. The result is false only when both arguments are false. The truth table:\n",
    "\n",
    "| x | y | x or y |\n",
    "| :-: | :-: | :-: |\n",
    "| False | False | False |\n",
    "| False | True | True |\n",
    "| True | False | True |\n",
    "| True | True | True |\n"
   ]
  },
  {
   "cell_type": "code",
   "execution_count": null,
   "metadata": {},
   "outputs": [],
   "source": [
    "N = int(input('Enter N='))\n",
    "\n",
    "if N == 2 or N == 4 or N == 6 or N == 8 or N == 10:\n",
    "    print(\"You have entered an even number\")\n",
    "elif N >= 1 and N <= 9:\n",
    "    print(\"You have entered an odd number\")\n",
    "else:\n",
    "    print(\"Have no idea what you have entered\")"
   ]
  },
  {
   "cell_type": "markdown",
   "metadata": {},
   "source": [
    "### While loops\n",
    "\n",
    "A `while` loop repeatedly executes its body statements as long as a condition evaluates to `True`.\n",
    "```python\n",
    "while <condition_is_true>:\n",
    "    <do_something_again_and_again>\n",
    "```\n",
    "\n",
    "The body of the loop must be **indented more than the `while` keyword**. \n",
    "\n",
    "The body ends before the next line that is indented **the\n",
    "same amount as (or less than) the `while` keyword**. \n"
   ]
  },
  {
   "cell_type": "code",
   "execution_count": null,
   "metadata": {},
   "outputs": [],
   "source": [
    "N = int(input(\"Enter dividend N=\"))\n",
    "K = int(input(\"Enter divisor  K=\"))\n",
    "\n",
    "acum = 0\n",
    "quotient = 0\n",
    "remainder = 0\n",
    "print()\n",
    "while acum < N:\n",
    "    acum += K\n",
    "    quotient += 1\n",
    "    print(f\"watching: acum={acum:4}, quotient={quotient:4}, (acum<N)={acum<N}\")\n",
    "\n",
    "print()\n",
    "if acum > N:\n",
    "    quotient -= 1\n",
    "    \n",
    "remainder = N - quotient * K\n",
    "    \n",
    "print(f\"Result: {N} = {K} * {quotient} + {remainder}\")    "
   ]
  },
  {
   "cell_type": "markdown",
   "metadata": {},
   "source": [
    "### For loops\n",
    "\n",
    "Loop `for` also repeats the execution of its body and do it for each element of a collection:\n",
    "```python\n",
    "for <variable> in <collection>:\n",
    "    <do_something_for_each_element_in_collection>\n",
    "```\n",
    "\n",
    "Observe the indentation. Rules are the same as for `if` and `while`.\n",
    "\n",
    "The collection can be a range of integers, the letters in a string and some others.\n",
    "\n",
    "Each element in the collection is copied into `<variable>` before each execution of the body.\n",
    "\n",
    "A collection of integers can be constructed by calling function `range()`."
   ]
  },
  {
   "cell_type": "code",
   "execution_count": null,
   "metadata": {},
   "outputs": [],
   "source": [
    "for i in range(5):  # i = [0, 1, 2, 3, 4]\n",
    "    print(f\"i={i}, i squared={i**2}\")"
   ]
  },
  {
   "cell_type": "code",
   "execution_count": null,
   "metadata": {},
   "outputs": [],
   "source": [
    "for i in range(5, 10):  # i = [5, 6, 7, 8, 9]\n",
    "    print(f\"i={i}, i squared={i**2}\")"
   ]
  },
  {
   "cell_type": "code",
   "execution_count": null,
   "metadata": {
    "scrolled": true
   },
   "outputs": [],
   "source": [
    "for i in range(1, 11, 2):  # i = [1, 3, 5, 7, 9]\n",
    "    print(f\"i={i}, i squared={i**2}\")"
   ]
  },
  {
   "cell_type": "code",
   "execution_count": null,
   "metadata": {
    "scrolled": true
   },
   "outputs": [],
   "source": [
    "for i in range(10, 0, -2):  # i = [10, 8, 6, 4, 2]\n",
    "    print(f\"i={i}, i squared={i**2}\")"
   ]
  },
  {
   "cell_type": "markdown",
   "metadata": {},
   "source": [
    "Observe that range by default starts from zero. Last range number is ignored."
   ]
  },
  {
   "cell_type": "markdown",
   "metadata": {},
   "source": [
    "### Nested loops\n",
    "\n",
    "Body of a loop can contain `if` statements as well as another loops. "
   ]
  },
  {
   "cell_type": "code",
   "execution_count": null,
   "metadata": {},
   "outputs": [],
   "source": [
    "s = input(\"Enter a word (blank to quit)\")\n",
    "\n",
    "while s != \"\":\n",
    "    for i in range(3):\n",
    "        print(f\"{s} \", end=\"\")  # do not go to new line\n",
    "    print()  # now go to new line when for-loop is finished\n",
    "    \n",
    "    s = input(\"Enter a word (blank to quit)\")"
   ]
  },
  {
   "cell_type": "markdown",
   "metadata": {},
   "source": [
    "### Break and continue\n",
    "\n",
    "Previous code was not so good. We were forced to write two identical input statements. This is because the conditions is checked before execution the body. \n",
    "\n",
    "Some other programming languages have do-while loops where the condition is checked after the execution. But Python does have it.\n",
    "\n",
    "But we can simulate do-while loop using is-statement and `break`.\n",
    "\n",
    "Operator `break` immediately breaks loop repetitions. Works both with `for` and `while` loops."
   ]
  },
  {
   "cell_type": "code",
   "execution_count": null,
   "metadata": {},
   "outputs": [],
   "source": [
    "acum = 0\n",
    "while True:\n",
    "    N = int(input(\"Enter N=\"))\n",
    "    acum += N\n",
    "    print(f\"acum={acum}\")\n",
    "    if acum > 10:\n",
    "        break"
   ]
  },
  {
   "cell_type": "markdown",
   "metadata": {},
   "source": [
    "Operator `continue` stops current execution and jump to another loop repetition. Works both with `for` and `while` loops."
   ]
  },
  {
   "cell_type": "code",
   "execution_count": null,
   "metadata": {},
   "outputs": [],
   "source": [
    "acum = 0\n",
    "while True:\n",
    "    N = int(input(\"Enter N=\"))\n",
    "    if N < 0:\n",
    "        print(\"Ignore negative values\")\n",
    "        continue\n",
    "    acum += N\n",
    "    print(f\"acum={acum}\")\n",
    "    if acum > 10:\n",
    "        break"
   ]
  },
  {
   "cell_type": "markdown",
   "metadata": {},
   "source": [
    "Often we need to leave a loop from the middle point of a body. Let us improve the example from the previous section. Not duplicated inputs anymore."
   ]
  },
  {
   "cell_type": "code",
   "execution_count": null,
   "metadata": {},
   "outputs": [],
   "source": [
    "while True:\n",
    "    s = input(\"Enter a word (blank to quit)\")\n",
    "    if s == \"\":\n",
    "        break\n",
    "    \n",
    "    N = 3\n",
    "    print(f\"Now I repeat it {N} times: \", end=\"\")\n",
    "    for i in range(N):\n",
    "        print(f\"{s} \", end=\"\")  # do not go to new line\n",
    "    print()  # now go to new line when for-loop is finished"
   ]
  },
  {
   "cell_type": "markdown",
   "metadata": {},
   "source": [
    "## Lesson 3"
   ]
  },
  {
   "cell_type": "markdown",
   "metadata": {},
   "source": [
    "### User defined functions\n",
    "\n",
    "Let us recall why we need functions:\n",
    "\n",
    "- to avoid retyping\n",
    "- to increase clarity\n",
    "\n",
    "Programmers can define their own functions. Splitting a code into many functions is a good programming style.\n",
    "\n",
    "```python\n",
    "def my_function(x, y):\n",
    "    <do_something>\n",
    "    return z\n",
    "```\n",
    "\n",
    "Keyword `def` starts a function definition. It is followed by a function name. Rules and limitations for function names are the same as for variables. Then function parameters are listed in parentheses. This line is ended by colon.\n",
    "\n",
    "A function can have no parameters. Empty parentheses are required any way.\n",
    "\n",
    "The function body must have an indent. \n",
    "\n",
    "The resulting variable, say `z`, is returned via `return z` statement. A function can have multiple `return` statements. And only one of them will be executed.\n",
    "\n",
    "Function can return nothing. In this case one can write `return` statement without a returning value. Or one can even omit `return`. The function will end automatically when all body statements will be executed.\n",
    "\n",
    "Variables defined in a function body are local and do not exist outside the function."
   ]
  },
  {
   "cell_type": "code",
   "execution_count": null,
   "metadata": {},
   "outputs": [],
   "source": [
    "def my_round(x):\n",
    "    # a function that rounds floats \n",
    "    return int((x + 0.5) // 1)\n",
    "\n",
    "x = 12.34\n",
    "i = my_round(x)\n",
    "print(f\"x={x}, my_round={i}\")\n",
    "x = 12.54\n",
    "i = my_round(x)\n",
    "print(f\"x={x}, my_round={i}\")"
   ]
  },
  {
   "cell_type": "code",
   "execution_count": null,
   "metadata": {},
   "outputs": [],
   "source": [
    "import datetime as dt\n",
    "\n",
    "def currently():\n",
    "    # a function without args\n",
    "    today = dt.date.today()\n",
    "    print(\"Today's date:\", today)\n",
    "    \n",
    "currently()"
   ]
  },
  {
   "cell_type": "code",
   "execution_count": null,
   "metadata": {},
   "outputs": [],
   "source": [
    "def largest(x, y):\n",
    "    # a function with multiple returns\n",
    "    if x >= y:\n",
    "        return x\n",
    "    else:\n",
    "        return y\n",
    "    \n",
    "x = 3.4\n",
    "y = 5.6\n",
    "z = largest(x, y)\n",
    "print(f\"x={x}, y={y}, largest={z}\")"
   ]
  },
  {
   "cell_type": "markdown",
   "metadata": {},
   "source": [
    "Observe describing comments located right after the function header.\n",
    "\n",
    "A variable declared outside of any function is known as a global variable. This means that a global variable can be accessed inside or outside of functions."
   ]
  },
  {
   "cell_type": "code",
   "execution_count": null,
   "metadata": {},
   "outputs": [],
   "source": [
    "N = 10  # it will be a global variable\n",
    "W = 6  # this is also a global variable\n",
    "\n",
    "def acum_squares():\n",
    "    print(\"Function acum_squares starts\")\n",
    "    acum = 0\n",
    "    for i in range(1, N + 1):  # we can freely read a value of the global variable\n",
    "        isq = i**2\n",
    "        acum += isq\n",
    "        print(f\"i={i:{W}}, isq={isq:{W}}, acum={acum:{W}}\")  # observe curly brackets around W\n",
    "    return acum\n",
    "\n",
    "a = acum_squares()\n",
    "print(f\"a={a}\")"
   ]
  },
  {
   "cell_type": "markdown",
   "metadata": {},
   "source": [
    "In the above example using `W` makes sense. But global `N` is a bad practice. It must be a function parameter instead. Better implementation"
   ]
  },
  {
   "cell_type": "code",
   "execution_count": null,
   "metadata": {},
   "outputs": [],
   "source": [
    "W = 6\n",
    "\n",
    "def acum_squares(N):\n",
    "    print(f\"Function acum_squares starts with N={N}\")\n",
    "    acum = 0\n",
    "    for i in range(1, N + 1):  # we can freely read a value of the global variable\n",
    "        isq = i**2\n",
    "        acum += isq\n",
    "        print(f\"i={i:{W}}, isq={isq:{W}}, acum={acum:{W}}\")  # observe curly brackets around W\n",
    "    return acum\n",
    "\n",
    "a = acum_squares(3)\n",
    "print(f\"a={a}\")\n",
    "a = acum_squares(4)\n",
    "print(f\"a={a}\")"
   ]
  },
  {
   "cell_type": "markdown",
   "metadata": {},
   "source": [
    "Sometimes we need to declare a global variable explicitly.\n",
    "\n",
    "By default, Python creates all variables as local."
   ]
  },
  {
   "cell_type": "code",
   "execution_count": null,
   "metadata": {},
   "outputs": [],
   "source": [
    "N = 1  # define global variable\n",
    "\n",
    "def local_scope():\n",
    "    N = 2  # N here is local and does not interfere with global N\n",
    "    print(f\"locally N={N}\")\n",
    "    return N\n",
    "\n",
    "print(f\"globally N={N}\")\n",
    "local_scope()\n",
    "print(f\"globally N={N}\")"
   ]
  },
  {
   "cell_type": "markdown",
   "metadata": {},
   "source": [
    "What if we want to modify a global variable inside a function? \n",
    "\n",
    "Simple assignment does not work because we create a new local variable instead.\n",
    "\n",
    "The solution is is to declare a variable as global"
   ]
  },
  {
   "cell_type": "code",
   "execution_count": null,
   "metadata": {},
   "outputs": [],
   "source": [
    "N = 1\n",
    "\n",
    "def incr():\n",
    "    global N\n",
    "    N = 2\n",
    "\n",
    "print(f\"before incr N={N}\")\n",
    "incr()\n",
    "print(f\"after incr N={N}\")"
   ]
  },
  {
   "cell_type": "markdown",
   "metadata": {},
   "source": [
    "Changing global variables inside functions is usually a bad practice. A program becomes more complicated. It becomes difficult to understand and control how it works."
   ]
  },
  {
   "cell_type": "markdown",
   "metadata": {},
   "source": [
    "Unlike many other programming languages parameters parameters can be passed to functions by their names.\n",
    "\n",
    "Consider an example"
   ]
  },
  {
   "cell_type": "code",
   "execution_count": null,
   "metadata": {},
   "outputs": [],
   "source": [
    "def cylinder_volume(rad, height):\n",
    "    # Compte volume of cylinder\n",
    "    pi = 3.14159265359\n",
    "    return pi * rad**2 * height\n",
    "\n",
    "x = 4\n",
    "y = 3\n",
    "V = cylinder_volume(x, y)\n",
    "print(f\"rad={x}, height={y}, vol={V}\")"
   ]
  },
  {
   "cell_type": "markdown",
   "metadata": {},
   "source": [
    "Here the cylinder radius is `x` and the height is `y`. We must remember their order: radius goes first. If we forget and switch them the result is incorrect. \n",
    "\n",
    "It can be avoided by calling parameters by their names. Doing like this we can even change their order."
   ]
  },
  {
   "cell_type": "code",
   "execution_count": null,
   "metadata": {},
   "outputs": [],
   "source": [
    "V1 = cylinder_volume(height=y, rad=x)\n",
    "print(f\"rad={x}, height={y}, vol={V1}\")"
   ]
  },
  {
   "cell_type": "markdown",
   "metadata": {},
   "source": [
    "Function parameters can have default values. These vales are passed to the function body when it is called without specifying these parameters.\n",
    "\n",
    "Example: function that computes n-th term of arithmetic progression"
   ]
  },
  {
   "cell_type": "code",
   "execution_count": null,
   "metadata": {},
   "outputs": [],
   "source": [
    "def arithm_progr(a1, n, d=1):\n",
    "    # n-th term of arithmetic progression\n",
    "    return a1 + (n - 1) * d\n",
    "\n",
    "n = 10\n",
    "a1 = 5\n",
    "d = 10\n",
    "an = arithm_progr(a1, n, d)\n",
    "print(f\"n={n}, a1={a1}, an={an}, d={d}\")"
   ]
  },
  {
   "cell_type": "markdown",
   "metadata": {},
   "source": [
    "There is default value for d. If d is omitted in a function call, the default value will be taken"
   ]
  },
  {
   "cell_type": "code",
   "execution_count": null,
   "metadata": {},
   "outputs": [],
   "source": [
    "n = 13\n",
    "a1 = 1\n",
    "\n",
    "d = 1\n",
    "an = arithm_progr(a1, n, d)\n",
    "print(f\"n={n}, a1={a1}, an={an}, d={d}\")\n",
    "\n",
    "an = arithm_progr(a1, n)\n",
    "print(f\"n={n}, a1={a1}, an={an}\")"
   ]
  },
  {
   "cell_type": "markdown",
   "metadata": {},
   "source": [
    "### Classes\n",
    "\n",
    "Classes provide a means of bundling data and functionality together. Creating a new class creates a new type of object, allowing new instances of that type to be made. Each class instance can have attributes attached to it for maintaining its state. Class instances can also have methods (defined by its class) for modifying its state.\n",
    "\n",
    "Keyword `class` starts class definition."
   ]
  },
  {
   "cell_type": "code",
   "execution_count": null,
   "metadata": {},
   "outputs": [],
   "source": [
    "class Employee:\n",
    "    count = 0  # class attribute\n",
    "\n",
    "    def __init__(self, name, salary):\n",
    "        # Constructor\n",
    "        print(\"Constructor is called\")\n",
    "        self.name = name  # instance attribute\n",
    "        self.salary = salary  # instance attribute\n",
    "        self.id = Employee.count # instance attribute\n",
    "        Employee.count += 1\n",
    "        \n",
    "    def __del__(self):\n",
    "        # Destructor\n",
    "        print(\"Destructor is called\")\n",
    "        Employee.count -= 1\n",
    "   \n",
    "    def __str__(self):\n",
    "        print(\"Making string representation of the object\")\n",
    "        return f\"Name: {self.name}, Salary: {self.salary}, Id: {self.id}\"\n",
    "    \n",
    "    def promotion(self, percent):\n",
    "        # User defined class method\n",
    "        self.salary *= 1 + percent / 100"
   ]
  },
  {
   "cell_type": "markdown",
   "metadata": {},
   "source": [
    "There are special methods. Their names are predefined in Python and are surrounded by two underscores. Above those methods are `__init__`, `__del__`, and `__str__`.\n",
    "\n",
    "Programmer defines his/her own methods similarly to ordinary functions. Parameter `self` is a reference to the object itself.\n",
    "\n",
    "When class has been defined one can create class instances: `<class_name>(<parameters>)`. The object instance is assigned to a variable."
   ]
  },
  {
   "cell_type": "code",
   "execution_count": null,
   "metadata": {
    "scrolled": true
   },
   "outputs": [],
   "source": [
    "# Recruiting two persons\n",
    "emp1 = Employee(\"Peter\", 1000)\n",
    "emp2 = Employee(\"Razvan\", 3000)\n",
    "print(emp1)\n",
    "print(emp2)\n",
    "print(f\"Total count: {Employee.count}\")"
   ]
  },
  {
   "cell_type": "markdown",
   "metadata": {},
   "source": [
    "Calling methods and attributes: `<object_variable>.<method_or_attribute_name>` "
   ]
  },
  {
   "cell_type": "code",
   "execution_count": null,
   "metadata": {},
   "outputs": [],
   "source": [
    "# Increase salary to the first person\n",
    "print(emp1.salary)\n",
    "emp1.promotion(10)\n",
    "print(emp1.salary)\n",
    "print(emp1)"
   ]
  },
  {
   "cell_type": "code",
   "execution_count": null,
   "metadata": {},
   "outputs": [],
   "source": [
    "# Dismiss the second one\n",
    "del emp2\n",
    "print(emp2)"
   ]
  },
  {
   "cell_type": "code",
   "execution_count": null,
   "metadata": {},
   "outputs": [],
   "source": [
    "# Now there is only one person\n",
    "print(f\"Total count: {Employee.count}\")"
   ]
  },
  {
   "cell_type": "code",
   "execution_count": null,
   "metadata": {},
   "outputs": [],
   "source": [
    "# Employ two new persons\n",
    "emp2 = Employee(\"Anna\", 3000)\n",
    "emp3 = Employee(\"Helga\", 4500)\n",
    "print(f\"Total count: {Employee.count}\")"
   ]
  },
  {
   "cell_type": "code",
   "execution_count": null,
   "metadata": {},
   "outputs": [],
   "source": [
    "# Compute total payment to the employees \n",
    "acum = emp1.salary + emp2.salary + emp2.salary \n",
    "print(f\"Total: {acum}\")"
   ]
  },
  {
   "cell_type": "code",
   "execution_count": null,
   "metadata": {},
   "outputs": [],
   "source": [
    "# Greetings to everyone\n",
    "s = \"Hi \" + emp1.name + \", \" + emp2.name + \" and \" + emp3.name + \"!\\n\"\n",
    "s += \"Happy New Year!\"\n",
    "print(s)"
   ]
  },
  {
   "cell_type": "code",
   "execution_count": null,
   "metadata": {},
   "outputs": [],
   "source": [
    "# Clean all\n",
    "del emp1\n",
    "del emp2\n",
    "del emp3\n",
    "Employee.count = 0"
   ]
  },
  {
   "cell_type": "markdown",
   "metadata": {},
   "source": [
    "### Inheritance\n",
    "\n",
    "New class can be created on the basis of another class. This is called inheritance.\n",
    "\n",
    "Here is the copy of the class Employee, just for convenience."
   ]
  },
  {
   "cell_type": "code",
   "execution_count": null,
   "metadata": {},
   "outputs": [],
   "source": [
    "class Employee:\n",
    "    count = 0  # class attribute\n",
    "\n",
    "    def __init__(self, name, salary):\n",
    "        # Constructor\n",
    "        self.name = name  # instance attribute\n",
    "        self.salary = salary  # instance attribute\n",
    "        self.id = Employee.count # instance attribute\n",
    "        Employee.count += 1\n",
    "        \n",
    "    def __del__(self):\n",
    "        # Destructor\n",
    "        Employee.count -= 1\n",
    "   \n",
    "    def __str__(self):\n",
    "        return f\"Name: {self.name}, Salary: {self.salary}, Id: {self.id}\"\n",
    "    \n",
    "    def promotion(self, percent):\n",
    "        # User defined class method\n",
    "        self.salary *= 1 + percent / 100"
   ]
  },
  {
   "cell_type": "markdown",
   "metadata": {},
   "source": [
    "We are going to defined a new class `Intern` based on `Employee`. `Employee` is called parent class or superclass. \n",
    "\n",
    "When we inherit form the parent class we have access to its attribute and methods and can modify them and add some more attributes and methods."
   ]
  },
  {
   "cell_type": "code",
   "execution_count": null,
   "metadata": {},
   "outputs": [],
   "source": [
    "class Intern(Employee):\n",
    "    \n",
    "    def __init__(self, name, salary, trial_period):\n",
    "        super().__init__(name, salary)\n",
    "        self.trial_period = trial_period\n",
    "    \n",
    "    def trial_period_salary(self):\n",
    "        return 0.5 * self.salary \n",
    "    \n",
    "    def __str__(self):\n",
    "        s = super().__str__()\n",
    "        a = self.trial_period_salary()\n",
    "        return f\"Intern {s}, TrialPeriod: {self.trial_period}, TrialPeriodSalary: {a}\""
   ]
  },
  {
   "cell_type": "code",
   "execution_count": null,
   "metadata": {},
   "outputs": [],
   "source": [
    "# One regular employee and one intern\n",
    "emp1 = Employee(\"Elsa\", 8000)\n",
    "inn1 = Intern(\"John\", 5000, 3)\n",
    "print(emp1)\n",
    "print(inn1)"
   ]
  },
  {
   "cell_type": "code",
   "execution_count": null,
   "metadata": {},
   "outputs": [],
   "source": [
    "del emp1\n",
    "del inn1\n",
    "Employee.count = 0"
   ]
  },
  {
   "cell_type": "markdown",
   "metadata": {},
   "source": [
    "### Lists\n",
    "\n",
    "All variables above held one value: integer, float, string and so on. But to process a large amount of data one needs a named container that holds several values. \n",
    "\n",
    "List is a sequence of values separated by commas and enclosed in square brackets. A list can be assigned to variable just like a simple value."
   ]
  },
  {
   "cell_type": "code",
   "execution_count": null,
   "metadata": {},
   "outputs": [],
   "source": [
    "v = [1.2, 3.4, 7.8]\n",
    "print(v)"
   ]
  },
  {
   "cell_type": "markdown",
   "metadata": {},
   "source": [
    "A list can be empty. Empty list is needed when we are going to put values in there as the program executes."
   ]
  },
  {
   "cell_type": "code",
   "execution_count": null,
   "metadata": {},
   "outputs": [],
   "source": [
    "v = []\n",
    "print(v)"
   ]
  },
  {
   "cell_type": "markdown",
   "metadata": {},
   "source": [
    "Size of a list can be computed using function `len`."
   ]
  },
  {
   "cell_type": "code",
   "execution_count": null,
   "metadata": {},
   "outputs": [],
   "source": [
    "v = [4.4, 5.5, 6.6, 7.7]\n",
    "print(len(v))\n",
    "v = []\n",
    "print(len(v))"
   ]
  },
  {
   "cell_type": "markdown",
   "metadata": {},
   "source": [
    "### Getting and updating list elements\n",
    "\n",
    "Elements of a list are numbered sequentially with integers, starting from 0. Each integer identifies a specific element in the list, and is referred to as the index for that element.\n",
    "\n",
    "Elements are accessed by their indexes: One uses variable name followed by square brackets with the index inside. Elements can be read or updated in this way."
   ]
  },
  {
   "cell_type": "code",
   "execution_count": null,
   "metadata": {},
   "outputs": [],
   "source": [
    "# Reading list elements\n",
    "v = [1.2, 3.4, 7.8]\n",
    "print(v[0])\n",
    "print(v[1])\n",
    "print(v[2])"
   ]
  },
  {
   "cell_type": "code",
   "execution_count": null,
   "metadata": {},
   "outputs": [],
   "source": [
    "# Updating elements\n",
    "v = [1.2, 3.4, 7.8]\n",
    "print(v)\n",
    "v[0] = -12.3\n",
    "print(v)"
   ]
  },
  {
   "cell_type": "markdown",
   "metadata": {},
   "source": [
    "Sublists can be taken by index ranges: One uses lower and upper values of an index separated by colon."
   ]
  },
  {
   "cell_type": "code",
   "execution_count": null,
   "metadata": {},
   "outputs": [],
   "source": [
    "v = [0, 10, 20, 30, 40, 50, 60, 70]\n",
    "print(v[0:3])\n",
    "print(v[:3])\n",
    "print(v[2:6])\n",
    "print(v[-3:])"
   ]
  },
  {
   "cell_type": "markdown",
   "metadata": {},
   "source": [
    "### Heterogeneous lists\n",
    "\n",
    "Lists admit elements of arbitrary types. Types can be mixed within one list. Even list can be an element of a list."
   ]
  },
  {
   "cell_type": "code",
   "execution_count": null,
   "metadata": {},
   "outputs": [],
   "source": [
    "v = [12, 0.34, \"mixture\", True, [1,2,3]]\n",
    "print(f\"Value: {v[0]:9}, Type: {type(v[0])}\")\n",
    "print(f\"Value: {v[1]:9}, Type: {type(v[1])}\")\n",
    "print(f\"Value: {v[2]:9}, Type: {type(v[2])}\")\n",
    "print(f\"Value: {v[3]:9}, Type: {type(v[3])}\")\n",
    "print(f\"Value: {v[4]}, Type: {type(v[4])}\")"
   ]
  },
  {
   "cell_type": "markdown",
   "metadata": {},
   "source": [
    "A list holding data of various types can be updated with arbitrary types."
   ]
  },
  {
   "cell_type": "code",
   "execution_count": null,
   "metadata": {},
   "outputs": [],
   "source": [
    "v = [12, 0.34, \"mixture\", True]\n",
    "print(v)\n",
    "v[2] = -1\n",
    "print(v)"
   ]
  },
  {
   "cell_type": "markdown",
   "metadata": {},
   "source": [
    "List with data of different types can be used to represent a table "
   ]
  },
  {
   "cell_type": "code",
   "execution_count": null,
   "metadata": {},
   "outputs": [],
   "source": [
    "# name, salary, age, ages of children\n",
    "tab = [\n",
    "    [\"Peter\", 1000.12, 21, [2, 1]],\n",
    "    [\"Helga\", 2500.79, 32, [4, 8, 1]],\n",
    "    [\"John\", 1500.81, 24, [3, 2]]]"
   ]
  },
  {
   "cell_type": "markdown",
   "metadata": {},
   "source": [
    "### Nested lists\n",
    "\n",
    "If a list is an element of a list one gets its elements putting required index values in individual square brackets"
   ]
  },
  {
   "cell_type": "code",
   "execution_count": null,
   "metadata": {},
   "outputs": [],
   "source": [
    "v = [[\"one\", \"two\",\"three\"], [\"twenty\", \"thirty\", \"forty\"]]\n",
    "print(v[1])\n",
    "print(v[1][0])"
   ]
  },
  {
   "cell_type": "code",
   "execution_count": null,
   "metadata": {},
   "outputs": [],
   "source": [
    "v = [[\"one\", \"two\", \"three\"], [\"twenty\", \"thirty\", \"forty\"]]\n",
    "s = v[1][-1] + \" \" + v[0][1]\n",
    "print(s)"
   ]
  },
  {
   "cell_type": "markdown",
   "metadata": {},
   "source": [
    "### Loops and lists\n",
    "\n",
    "Containers like list are useful for data processing with loops. \n",
    "\n",
    "A loop `for` admits a list as a collection of values for the loop variable. "
   ]
  },
  {
   "cell_type": "code",
   "execution_count": null,
   "metadata": {},
   "outputs": [],
   "source": [
    "# Compute average of list elements\n",
    "acum = 0\n",
    "cnt = 0\n",
    "for x in [2.3, 3.4, 4.5, -1.2]:\n",
    "    acum += x\n",
    "    cnt += 1\n",
    "    \n",
    "avg = acum / cnt\n",
    "print(f\"avg={avg}\")"
   ]
  },
  {
   "cell_type": "markdown",
   "metadata": {},
   "source": [
    "We can also run through a list using an index variable"
   ]
  },
  {
   "cell_type": "code",
   "execution_count": null,
   "metadata": {
    "scrolled": true
   },
   "outputs": [],
   "source": [
    "lst = [2.3, 3.4, 4.5, -1.2]\n",
    "acum = 0\n",
    "cnt = 0\n",
    "for i in range(len(lst)):\n",
    "    acum += lst[i]\n",
    "    cnt += 1\n",
    "    \n",
    "avg = acum / cnt\n",
    "print(f\"avg={avg}\")"
   ]
  },
  {
   "cell_type": "markdown",
   "metadata": {},
   "source": [
    "This way of list processing is not so fast in Python. The previous one is better: that was Pythonic way.\n",
    "\n",
    "But what if we need element indexes. Use `enumerate`."
   ]
  },
  {
   "cell_type": "code",
   "execution_count": null,
   "metadata": {},
   "outputs": [],
   "source": [
    "# Using enumerate to get indexes together with elements\n",
    "for i, x in enumerate([221.23, 432.1, 431.121, 82.2, 991.211]):\n",
    "    print(f\"i={i}, x={x}\")"
   ]
  },
  {
   "cell_type": "markdown",
   "metadata": {},
   "source": [
    "One can iterate over two or more lists"
   ]
  },
  {
   "cell_type": "code",
   "execution_count": null,
   "metadata": {},
   "outputs": [],
   "source": [
    "x_list = [11, 12, 13]\n",
    "y_list = [\"one\", \"two\", \"three\"]\n",
    "for x, y in zip(x_list, y_list):\n",
    "    print(f\"x={x}, y={y}\")"
   ]
  },
  {
   "cell_type": "markdown",
   "metadata": {},
   "source": [
    "Using a table (list of list)"
   ]
  },
  {
   "cell_type": "code",
   "execution_count": null,
   "metadata": {},
   "outputs": [],
   "source": [
    "tab = [\n",
    "    [\"Peter\", 1000.12, 21, [2, 1]],\n",
    "    [\"Helga\", 2500.79, 32, [4, 8, 1]],\n",
    "    [\"John\", 1500.81, 24, [3, 2]]]\n",
    "\n",
    "tot = 0\n",
    "for emp in tab:\n",
    "    print(f\"emp now is equal to {emp}\")\n",
    "    s = emp[1]\n",
    "    print(f\"   take the salary, s={s}\")\n",
    "    itx = s * 0.13\n",
    "    print(f\"   compute income tax, itx={itx}\")\n",
    "    tot += itx\n",
    "    print(f\"   tot={tot}\")\n",
    "    \n",
    "print(f\"Total income tax {tot}\")"
   ]
  },
  {
   "cell_type": "markdown",
   "metadata": {},
   "source": [
    "A loop `while` can also be useful for lists processing.\n",
    "\n",
    "An example: Assume we have 8 cities connected by roads. Connected cities are encoded in list `road`: element `road[i]` contains a city number `j` that is connected with the city `i`. The program must find a path starting from city `n1` to city `n2`."
   ]
  },
  {
   "cell_type": "code",
   "execution_count": null,
   "metadata": {},
   "outputs": [],
   "source": [
    "n1 = int(input(\"Start city n1=\"))\n",
    "n2 = int(input(\"Fnish city n2=\"))\n",
    "\n",
    "road = [4, 1, 3, 7, 6, 0, 2, 5]\n",
    "STEPS_MAX = 10\n",
    "\n",
    "i = n1\n",
    "cnt = 0\n",
    "while True:\n",
    "    print(f\"  go from city {i} to city {road[i]}\")\n",
    "    i = road[i]\n",
    "    if i == n2:\n",
    "        print(\"finish\")\n",
    "        break\n",
    "    cnt += 1\n",
    "    if cnt > STEPS_MAX:\n",
    "        print(f\"path not found after {cnt} steps\")\n",
    "        break\n",
    "    "
   ]
  },
  {
   "cell_type": "markdown",
   "metadata": {},
   "source": [
    "### Manipulations with lists\n",
    "\n",
    "List can grow and shrink, new elements can be inserted, an element can be deleted. \n",
    "\n",
    "Lists are considered as objects, i.e., instances of the class \"list\". Most of the manipulations with lists are performed using methods."
   ]
  },
  {
   "cell_type": "code",
   "execution_count": null,
   "metadata": {},
   "outputs": [],
   "source": [
    "# Add an element to the end of a list\n",
    "x = [1, 2, 3, 4]\n",
    "x.append(99)\n",
    "print(x)"
   ]
  },
  {
   "cell_type": "code",
   "execution_count": null,
   "metadata": {},
   "outputs": [],
   "source": [
    "# Insert an element in arbitary location\n",
    "x = [10, 9, 8, 7]\n",
    "x.insert(2, 99)\n",
    "print(x)"
   ]
  },
  {
   "cell_type": "code",
   "execution_count": null,
   "metadata": {},
   "outputs": [],
   "source": [
    "# Remove last element and store it in a variable\n",
    "x = [1, 2, 3, 4, 5]\n",
    "a = x.pop()\n",
    "print(x)\n",
    "print(a)"
   ]
  },
  {
   "cell_type": "code",
   "execution_count": null,
   "metadata": {},
   "outputs": [],
   "source": [
    "# Remove an element at a specific position\n",
    "x = [1, 2, 3, 4, 5]\n",
    "a = x.pop(3)\n",
    "print(x)\n",
    "print(a)"
   ]
  },
  {
   "cell_type": "code",
   "execution_count": null,
   "metadata": {},
   "outputs": [],
   "source": [
    "# Remove an element by value\n",
    "x = [3.2, 4.3, 5.121, 4.3]\n",
    "x.remove(5.121)\n",
    "print(x)"
   ]
  },
  {
   "cell_type": "code",
   "execution_count": null,
   "metadata": {},
   "outputs": [],
   "source": [
    "# Reverse the order of elements\n",
    "x = [1, 2, 3, 4, 5]\n",
    "x.reverse()\n",
    "print(x)"
   ]
  },
  {
   "cell_type": "code",
   "execution_count": null,
   "metadata": {},
   "outputs": [],
   "source": [
    "# Sort a list\n",
    "x = [54, -1, 99, 21, -11]\n",
    "x.sort()\n",
    "print(x)"
   ]
  },
  {
   "cell_type": "code",
   "execution_count": null,
   "metadata": {},
   "outputs": [],
   "source": [
    "# Also sort a list, but creates a new copy\n",
    "x = [54, -1, 99, 21, -11]\n",
    "y = sorted(x)\n",
    "print(x)\n",
    "print(y)"
   ]
  },
  {
   "cell_type": "code",
   "execution_count": null,
   "metadata": {},
   "outputs": [],
   "source": [
    "# Determine whether or not a value is present in a list\n",
    "x = [4.3,  55.4, 6.2, 4.3]\n",
    "print(4.3 in x)\n",
    "print(4.4 in x)"
   ]
  },
  {
   "cell_type": "code",
   "execution_count": null,
   "metadata": {},
   "outputs": [],
   "source": [
    "# Find the position of an element\n",
    "x = [4.3,  55.4, 6.2, 4.3]\n",
    "print(x.index(55.4))\n",
    "print(x.index(55.5))"
   ]
  },
  {
   "cell_type": "code",
   "execution_count": null,
   "metadata": {},
   "outputs": [],
   "source": [
    "# Concatenate two lists\n",
    "x = [1, 2, 3]\n",
    "y = [4, 5, 6]\n",
    "print(x + y)"
   ]
  },
  {
   "cell_type": "code",
   "execution_count": null,
   "metadata": {},
   "outputs": [],
   "source": [
    "# List propagation\n",
    "x = [1, 2, \" \"]\n",
    "print(x * 5)"
   ]
  },
  {
   "cell_type": "code",
   "execution_count": null,
   "metadata": {},
   "outputs": [],
   "source": [
    "# list comprehension\n",
    "x = [1, 2, 3, 4, 5]\n",
    "y = [i**2 for i in x]\n",
    "print(y)"
   ]
  },
  {
   "cell_type": "code",
   "execution_count": null,
   "metadata": {},
   "outputs": [],
   "source": [
    "# list comprehension with filtering\n",
    "x = [1, -1, 2, -2, 3, -3]\n",
    "y = [i**2 for i in x if i > 0]\n",
    "print(y)"
   ]
  },
  {
   "cell_type": "markdown",
   "metadata": {},
   "source": [
    "An example: collecting numbers in a list"
   ]
  },
  {
   "cell_type": "code",
   "execution_count": null,
   "metadata": {},
   "outputs": [],
   "source": [
    "data = []\n",
    "while True:\n",
    "    s = input(\"Enter a value (blank to quit) \")\n",
    "    if s == \"\":\n",
    "        break\n",
    "    data.append(float(s))\n",
    "    \n",
    "print(data)"
   ]
  },
  {
   "cell_type": "markdown",
   "metadata": {},
   "source": [
    "### Tuples\n",
    "\n",
    "Tuples are collection of elements enclosed in parentheses"
   ]
  },
  {
   "cell_type": "code",
   "execution_count": null,
   "metadata": {},
   "outputs": [],
   "source": [
    "t = (2, 3.4, \"greate\", [3, 4], (3.0, -3.0))"
   ]
  },
  {
   "cell_type": "markdown",
   "metadata": {},
   "source": [
    "Access to tuple element - in the same way as for lists"
   ]
  },
  {
   "cell_type": "code",
   "execution_count": null,
   "metadata": {},
   "outputs": [],
   "source": [
    "t = (0, 10, 20, 30)\n",
    "print(t[1])\n",
    "print(t[-2])"
   ]
  },
  {
   "cell_type": "markdown",
   "metadata": {},
   "source": [
    "The difference: tuples cannot be modified"
   ]
  },
  {
   "cell_type": "code",
   "execution_count": null,
   "metadata": {},
   "outputs": [],
   "source": [
    "t = (\"one\", \"big\", \"pool\")\n",
    "t[1] = \"small\"  # Not allowed for tuples"
   ]
  },
  {
   "cell_type": "markdown",
   "metadata": {},
   "source": [
    "List with one element is created in a natural way, but this is not the case for tuples."
   ]
  },
  {
   "cell_type": "code",
   "execution_count": null,
   "metadata": {},
   "outputs": [],
   "source": [
    "v = [3]\n",
    "print(f\"v={v}, type={type(v)}\")"
   ]
  },
  {
   "cell_type": "code",
   "execution_count": null,
   "metadata": {},
   "outputs": [],
   "source": [
    "t = (3)  # Type is int, not a tuple\n",
    "print(f\"t={t}, type={type(t)}\")"
   ]
  },
  {
   "cell_type": "markdown",
   "metadata": {},
   "source": [
    "Tuple with one element needs a comma"
   ]
  },
  {
   "cell_type": "code",
   "execution_count": null,
   "metadata": {},
   "outputs": [],
   "source": [
    "t = (3, )  # Now tuple\n",
    "print(f\"t={t}, type={type(t)}\")"
   ]
  },
  {
   "cell_type": "markdown",
   "metadata": {},
   "source": [
    "### Dictionaries\n",
    "\n",
    "List is an enumerated collection of values. To read or update an element we must know its index.\n",
    "\n",
    "Dictionary is a collection of named values. Each element is pair key-value. Key is a name of the value."
   ]
  },
  {
   "cell_type": "code",
   "execution_count": null,
   "metadata": {},
   "outputs": [],
   "source": [
    "# Dictionary defentioon. Observe curly brackets and colons\n",
    "emp = {\"Helga\": 1995, \"John\": 1992, \"Igor\": 1999}\n",
    "\n",
    "# Add a value\n",
    "emp[\"July\"] = 1990\n",
    "\n",
    "# Acces to elements by their names (keys)\n",
    "print(emp[\"Helga\"])\n",
    "print(emp[\"Igor\"])\n",
    "print(emp[\"July\"])"
   ]
  },
  {
   "cell_type": "code",
   "execution_count": null,
   "metadata": {},
   "outputs": [],
   "source": [
    "# Values can be updated\n",
    "d = {}\n",
    "d[\"first_counter\"] = 1\n",
    "d[\"second_counter\"] = 100\n",
    "\n",
    "d[\"first_counter\"] += 1\n",
    "d[\"second_counter\"] += 100\n",
    "\n",
    "print(d[\"first_counter\"], d[\"second_counter\"])"
   ]
  },
  {
   "cell_type": "code",
   "execution_count": null,
   "metadata": {},
   "outputs": [],
   "source": [
    "# Remove an element. Romoved value is returned\n",
    "emp = {\"Helga\": 1995, \"John\": 1992, \"Igor\": 1999}\n",
    "x = emp.pop(\"Igor\")\n",
    "print(x)"
   ]
  },
  {
   "cell_type": "code",
   "execution_count": null,
   "metadata": {},
   "outputs": [],
   "source": [
    "# Iteration over keys\n",
    "emp = {\"Helga\": 1995, \"John\": 1992, \"Igor\": 1999, \"July\": 1990}\n",
    "\n",
    "for x in emp:\n",
    "    print(x, emp[x])"
   ]
  },
  {
   "cell_type": "code",
   "execution_count": null,
   "metadata": {},
   "outputs": [],
   "source": [
    "# Iteration over values\n",
    "emp = {\"Helga\": 1995, \"John\": 1992, \"Igor\": 1999, \"July\": 1990}\n",
    "\n",
    "for x in emp.values():\n",
    "    print(x)"
   ]
  },
  {
   "cell_type": "markdown",
   "metadata": {},
   "source": [
    "### Errors handling\n",
    "\n",
    "The simplest way to fight errors is to check potentially problematic values with `assert` statement\n",
    "```python\n",
    "assert <condition_that_is_expected_to_be_true>, <message_to_show_when_error>\n",
    "```\n",
    "\n",
    "The second parameter, the message, can be omitted.\n",
    "\n",
    "If the condition is evaluated to `False` computation stops. "
   ]
  },
  {
   "cell_type": "code",
   "execution_count": null,
   "metadata": {},
   "outputs": [],
   "source": [
    "while True:\n",
    "    x = float(input(\"Never input negative values! x=\"))\n",
    "    assert x >= 0.0, \"I'v told you to avoid negative values!\"\n",
    "    print(f\"x={x}\")"
   ]
  },
  {
   "cell_type": "markdown",
   "metadata": {},
   "source": [
    "Observe that parameters of the assert must not be enclosed in parentheses. Otherwise it will not work correctly.\n",
    "\n",
    "More power way of errors handling is using `try-except` construct.\n",
    "\n",
    "Each incorrect operation raises so called exception that causes an abnormal program termination. By the way: `assert` also raises an exception to stop a program.\n",
    "\n",
    "There is a way to handle exceptions. If we use `try-except` construct and an exception occurs within its try-section, the execution is dropped into its except-section where we can fix the problem to continue a normal execution.\n",
    "\n",
    "```python\n",
    "try:\n",
    "    <some_code_where_exception_can_occur>\n",
    "except <exception_name>:\n",
    "    <do_something_to_process_error_caused_exception>\n",
    "except <another_exception_name>:\n",
    "    <process_another_error>\n",
    "```\n",
    "\n",
    "Consider a program with an exception:"
   ]
  },
  {
   "cell_type": "code",
   "execution_count": null,
   "metadata": {
    "scrolled": true
   },
   "outputs": [],
   "source": [
    "# Program stops when zero is encountered\n",
    "div = [1.1, 2.1, 0.0, 3.2]\n",
    "for d in div:\n",
    "    x = 10 / d;\n",
    "    print(f\"10 / {d} = {x}\")"
   ]
  },
  {
   "cell_type": "markdown",
   "metadata": {},
   "source": [
    "Find the exception name: `ZeroDivisionError`. Use it to create the exception handler."
   ]
  },
  {
   "cell_type": "code",
   "execution_count": null,
   "metadata": {
    "scrolled": true
   },
   "outputs": [],
   "source": [
    "# Now program runs to the end\n",
    "div = [1.1, 2.1, 0.0, 3.2]\n",
    "for d in div:\n",
    "    try:\n",
    "        x = 10 / d;\n",
    "    except ZeroDivisionError:\n",
    "        x = float(\"inf\")\n",
    "    print(f\"10 / {d} = {x}\")"
   ]
  },
  {
   "cell_type": "markdown",
   "metadata": {},
   "source": [
    "## Lesson 4"
   ]
  },
  {
   "cell_type": "markdown",
   "metadata": {},
   "source": [
    "### Arrays\n",
    "\n",
    "List of elements of one type corresponds to arrays in other programming languages"
   ]
  },
  {
   "cell_type": "code",
   "execution_count": null,
   "metadata": {},
   "outputs": [],
   "source": [
    "v1 = [1, 2, -5, 5, 6]  # Array of integers\n",
    "v2 = [3.2, -1.2, 1.3e-4, 2.33]  # Array of real numbers\n",
    "v3 = [\"big\", \"small\", \"left\", \"right\"]  # Array of strings\n",
    "\n",
    "v4 = [\"left\", 12, True]  # Just a list, but not an array"
   ]
  },
  {
   "cell_type": "markdown",
   "metadata": {},
   "source": [
    "These arrays are one-dimensional. One index is required to access their elements"
   ]
  },
  {
   "cell_type": "code",
   "execution_count": null,
   "metadata": {},
   "outputs": [],
   "source": [
    "v = [1, 2, -5, 5, 6]\n",
    "print(v[3])\n",
    "print(v[-1])"
   ]
  },
  {
   "cell_type": "markdown",
   "metadata": {},
   "source": [
    "Recall: size of array is obtained via function `len`"
   ]
  },
  {
   "cell_type": "code",
   "execution_count": null,
   "metadata": {},
   "outputs": [],
   "source": [
    "v = [45, 32, 56, 90]\n",
    "print(len(v))"
   ]
  },
  {
   "cell_type": "markdown",
   "metadata": {},
   "source": [
    "A one element tuple with the array size is its shape. The shape of `v` is `(4,)`"
   ]
  },
  {
   "cell_type": "markdown",
   "metadata": {},
   "source": [
    "### Multidimensional arrays\n",
    "\n",
    "List of arrays of one type and same sizes is two-dimensional array."
   ]
  },
  {
   "cell_type": "code",
   "execution_count": null,
   "metadata": {},
   "outputs": [],
   "source": [
    "d1 = [[10, 20, 30], [40, 50, 60], [70, 80, 90], [100, 110, 120]]"
   ]
  },
  {
   "cell_type": "markdown",
   "metadata": {},
   "source": [
    "List of lists `d1` above is two-dimensional array: \n",
    "\n",
    "- it contains 4 elements\n",
    "- each element is a list of 3 elements\n",
    "- all elements are `int`\n",
    "\n",
    "Size of the first dimension of `d1` is 4, size of the second dimension is 3.\n",
    "\n",
    "Shape of two dimensional array contains two elements: sizes of the first and the second dimensions. For `d1` the shape is `(4, 3)`.\n",
    "\n",
    "Recall: elements are accessed via indexes enclosed in individual square brackets"
   ]
  },
  {
   "cell_type": "code",
   "execution_count": null,
   "metadata": {},
   "outputs": [],
   "source": [
    "d1 = [[10, 20, 30], [40, 50, 60], [70, 80, 90], [100, 110, 120]]\n",
    "print(d1[0])\n",
    "print(d1[0][1])"
   ]
  },
  {
   "cell_type": "markdown",
   "metadata": {},
   "source": [
    "If we replace each element of `d1` above with some other lists we will obtain a three dimensional array. Its shape will contain three elements. \n",
    "\n",
    "Working with multidimensional arrays created as lists of lists of lists and so on is not so convenient."
   ]
  },
  {
   "cell_type": "markdown",
   "metadata": {},
   "source": [
    "### Arrays in NumPy\n",
    "\n",
    "NumPy is a Python package. It stands for 'Numerical Python'. It is a library consisting of multidimensional array objects and a collection of routines for processing of array.\n",
    "\n",
    "NumPy provides a power tool set for working with arrays including multidimensional ones.\n",
    "\n",
    "Arrays can be created from a list using the function `numpy.array`"
   ]
  },
  {
   "cell_type": "code",
   "execution_count": null,
   "metadata": {},
   "outputs": [],
   "source": [
    "import numpy as np \n",
    "a = np.array([1, 2, 3]) \n",
    "print(a)"
   ]
  },
  {
   "cell_type": "markdown",
   "metadata": {},
   "source": [
    "NumPy array is an object, i.e., an instance of a class. The class name is `numpy.ndarray`."
   ]
  },
  {
   "cell_type": "code",
   "execution_count": null,
   "metadata": {},
   "outputs": [],
   "source": [
    "import numpy as np \n",
    "a = np.array([1, 2, 3]) \n",
    "print(type(a))"
   ]
  },
  {
   "cell_type": "markdown",
   "metadata": {},
   "source": [
    "Different ways to create NumPy array"
   ]
  },
  {
   "cell_type": "code",
   "execution_count": null,
   "metadata": {},
   "outputs": [],
   "source": [
    "import numpy as np \n",
    "a = np.arange(12)  # range of elements\n",
    "print(f\"np.arange -> {a}\")"
   ]
  },
  {
   "cell_type": "code",
   "execution_count": null,
   "metadata": {},
   "outputs": [],
   "source": [
    "a = np.arange(1, 13)  # range of elements\n",
    "print(f\"np.arange -> {a}\")"
   ]
  },
  {
   "cell_type": "code",
   "execution_count": null,
   "metadata": {},
   "outputs": [],
   "source": [
    "a = np.arange(1, 13, 3)  # range of elements\n",
    "print(f\"np.arange -> {a}\")"
   ]
  },
  {
   "cell_type": "code",
   "execution_count": null,
   "metadata": {},
   "outputs": [],
   "source": [
    "b = np.linspace(5, 10, 5)  # given number of reals within a given range\n",
    "print(f\"np.linspace -> {b}\")"
   ]
  },
  {
   "cell_type": "code",
   "execution_count": null,
   "metadata": {},
   "outputs": [],
   "source": [
    "c = np.zeros(10)\n",
    "print(f\"np.zeros -> {c}\")  # given number of zeros"
   ]
  },
  {
   "cell_type": "code",
   "execution_count": null,
   "metadata": {},
   "outputs": [],
   "source": [
    "c = np.ones(10)\n",
    "print(f\"np.zeros -> {c}\")  # given number of ones"
   ]
  },
  {
   "cell_type": "code",
   "execution_count": null,
   "metadata": {},
   "outputs": [],
   "source": [
    "c = np.full(10, 999)\n",
    "print(f\"np.full -> {c}\")  # given number of given values"
   ]
  },
  {
   "cell_type": "markdown",
   "metadata": {},
   "source": [
    "### Attributes of a NumPy array\n",
    "\n",
    "Being an object, a NumPy array can tell a lot of information about itself.\n",
    "- `.shape` Shape of the array\n",
    "- `.dtype` Type of array elements\n",
    "- `.ndim` Number of array dimensions\n",
    "- `.size` Total number of elements"
   ]
  },
  {
   "cell_type": "code",
   "execution_count": null,
   "metadata": {},
   "outputs": [],
   "source": [
    "import numpy as np \n",
    "a = np.array([[1.0, 2.0, 3.0], [1.0, 2.0, 3.0], [1.0, 2.0, 3.0], [1.0, 2.0, 3.0], [1.0, 2.0, 3.0]])\n",
    "print(f\"Numer of dimensions {a.ndim}, shape {a.shape}, number of elements {a.size}, type of elements {a.dtype}\")"
   ]
  },
  {
   "cell_type": "markdown",
   "metadata": {},
   "source": [
    "### Reshaping NumPy arrays\n",
    "\n",
    "In some cases an array needs to be reshaped. \n",
    "\n",
    "Reshaping means different splitting to dimensions of the same data\n",
    "\n",
    "Method `.reshape` is used for this"
   ]
  },
  {
   "cell_type": "code",
   "execution_count": null,
   "metadata": {},
   "outputs": [],
   "source": [
    "import numpy as np \n",
    "\n",
    "# two-dimensional array (4, 3)\n",
    "a = np.array([[1.0, 2.0, 3.0], [1.0, 2.0, 3.0], [1.0, 2.0, 3.0], [1.0, 2.0, 3.0]])\n",
    "print(a.shape)"
   ]
  },
  {
   "cell_type": "code",
   "execution_count": null,
   "metadata": {},
   "outputs": [],
   "source": [
    "# reshaping to (2, 6)\n",
    "b = a.reshape(2,6)\n",
    "print(b.shape)\n",
    "print(b)"
   ]
  },
  {
   "cell_type": "code",
   "execution_count": null,
   "metadata": {},
   "outputs": [],
   "source": [
    "# now reshape it to a flat array (one-dimensional)\n",
    "c = a.reshape(12)\n",
    "print(c.shape)\n",
    "print(c)"
   ]
  },
  {
   "cell_type": "markdown",
   "metadata": {},
   "source": [
    "When reshaping, one dimension can be substituted with `-1`. Then it will be computed"
   ]
  },
  {
   "cell_type": "code",
   "execution_count": null,
   "metadata": {},
   "outputs": [],
   "source": [
    "import numpy as np \n",
    "a = np.arange(24)  # flat array (one-dimensional)\n",
    "print(a)\n",
    "print(a.shape)"
   ]
  },
  {
   "cell_type": "code",
   "execution_count": null,
   "metadata": {},
   "outputs": [],
   "source": [
    "# now reshape it to two-dimensional array\n",
    "# the first dimension must be 8, the second one is computed\n",
    "b = a.reshape(8, -1)\n",
    "print(b)\n",
    "print(b.shape)"
   ]
  },
  {
   "cell_type": "markdown",
   "metadata": {},
   "source": [
    "### Getting and updating  NumPy array elements\n",
    "\n",
    "Elements of a NumPy array are selected using zero based indexes. For one-dimensional arrays all the same as for lists."
   ]
  },
  {
   "cell_type": "code",
   "execution_count": null,
   "metadata": {},
   "outputs": [],
   "source": [
    "import numpy as np \n",
    "a = np.arange(10)\n",
    "print(a)\n",
    "print(a[3])"
   ]
  },
  {
   "cell_type": "code",
   "execution_count": null,
   "metadata": {},
   "outputs": [],
   "source": [
    "a[3] = -3\n",
    "print(a)"
   ]
  },
  {
   "cell_type": "code",
   "execution_count": null,
   "metadata": {},
   "outputs": [],
   "source": [
    "b = a[2:5]\n",
    "print(b)"
   ]
  },
  {
   "cell_type": "markdown",
   "metadata": {},
   "source": [
    "For multidimensional arrays all indexes are enclosed in square brackets and separated by comma. (Recall that for nested lists we enclose each index in square brackets)."
   ]
  },
  {
   "cell_type": "code",
   "execution_count": null,
   "metadata": {},
   "outputs": [],
   "source": [
    "import numpy as np\n",
    "a = np.arange(12).reshape(3, 4)\n",
    "print(a)"
   ]
  },
  {
   "cell_type": "code",
   "execution_count": null,
   "metadata": {},
   "outputs": [],
   "source": [
    "print(a[0, 0], a[0, 1], a[0, 2], a[0, 3])\n",
    "print(a[2, 0], a[2, 1], a[2, 2], a[2, 3])"
   ]
  },
  {
   "cell_type": "markdown",
   "metadata": {},
   "source": [
    "One value can be assigned to a multiple elements of a NumPy array at once"
   ]
  },
  {
   "cell_type": "code",
   "execution_count": null,
   "metadata": {},
   "outputs": [],
   "source": [
    "import numpy as np\n",
    "a = np.arange(12)\n",
    "print(a)\n",
    "a[3:-3] = 100\n",
    "print(a)"
   ]
  },
  {
   "cell_type": "markdown",
   "metadata": {},
   "source": [
    "### Arithmetic of  NumPy arrays\n",
    "\n",
    "Arrays admits elementwise operations using arithmetic operators `+`, `-`, `*`, `/`.\n",
    "\n",
    "An array and a number"
   ]
  },
  {
   "cell_type": "code",
   "execution_count": null,
   "metadata": {},
   "outputs": [],
   "source": [
    "import numpy as np\n",
    "x = np.array([2.0, 3.0, 4.0, 5.0])"
   ]
  },
  {
   "cell_type": "code",
   "execution_count": null,
   "metadata": {},
   "outputs": [],
   "source": [
    "y = x + 5.0\n",
    "print(y)"
   ]
  },
  {
   "cell_type": "code",
   "execution_count": null,
   "metadata": {},
   "outputs": [],
   "source": [
    "y = x * 10.0\n",
    "print(y)"
   ]
  },
  {
   "cell_type": "markdown",
   "metadata": {},
   "source": [
    "Two arrays"
   ]
  },
  {
   "cell_type": "code",
   "execution_count": null,
   "metadata": {},
   "outputs": [],
   "source": [
    "import numpy as np\n",
    "x1 = np.array([2.0, 3.0, 4.0, 5.0])\n",
    "x2 = np.array([6.0, 7.0, 8.0, 9.0])"
   ]
  },
  {
   "cell_type": "code",
   "execution_count": null,
   "metadata": {},
   "outputs": [],
   "source": [
    "y = x1 + x2\n",
    "print(y)"
   ]
  },
  {
   "cell_type": "code",
   "execution_count": null,
   "metadata": {},
   "outputs": [],
   "source": [
    "y = x1 * x2\n",
    "print(y)"
   ]
  },
  {
   "cell_type": "markdown",
   "metadata": {},
   "source": [
    "Arrays must have identical sizes"
   ]
  },
  {
   "cell_type": "code",
   "execution_count": null,
   "metadata": {},
   "outputs": [],
   "source": [
    "import numpy as np\n",
    "x1 = np.array([2.0, 3.0, 4.0])\n",
    "x2 = np.array([6.0, 7.0, 8.0, 9.0])\n",
    "y = x1 + x2  # Error "
   ]
  },
  {
   "cell_type": "markdown",
   "metadata": {},
   "source": [
    "### Functions and  NumPy arrays\n",
    "\n",
    "Math functions are also applied elementwise"
   ]
  },
  {
   "cell_type": "code",
   "execution_count": null,
   "metadata": {},
   "outputs": [],
   "source": [
    "import numpy as np\n",
    "\n",
    "x = np.linspace(0, 12, 5)\n",
    "y = x**2\n",
    "print(x)\n",
    "print(y)"
   ]
  },
  {
   "cell_type": "code",
   "execution_count": null,
   "metadata": {},
   "outputs": [],
   "source": [
    "x = np.linspace(0, 1, 5)\n",
    "y = np.sin(x * np.pi)\n",
    "print(x)\n",
    "print(y)"
   ]
  },
  {
   "cell_type": "markdown",
   "metadata": {},
   "source": [
    "### Reducing  NumPy arrays\n",
    "\n",
    "There are functions that aggregate array into a single value. Also these functions are called reducing ones"
   ]
  },
  {
   "cell_type": "code",
   "execution_count": null,
   "metadata": {},
   "outputs": [],
   "source": [
    "import numpy as np\n",
    "\n",
    "x1 = np.array([2.0, 3.0, 4.0])\n",
    "a = x1.sum()\n",
    "print(f\"sum -> {a}\")"
   ]
  },
  {
   "cell_type": "code",
   "execution_count": null,
   "metadata": {},
   "outputs": [],
   "source": [
    "x1 = np.array([2.0, 3.0, 4.0])\n",
    "a = x1.prod()\n",
    "print(f\"prod -> {a}\")"
   ]
  },
  {
   "cell_type": "code",
   "execution_count": null,
   "metadata": {},
   "outputs": [],
   "source": [
    "x1 = np.array([2.0, 3.0, 4.0])\n",
    "a = x1.mean()\n",
    "print(f\"mean -> {a}\")"
   ]
  },
  {
   "cell_type": "code",
   "execution_count": null,
   "metadata": {},
   "outputs": [],
   "source": [
    "x1 = np.array([2.0, 3.0, 4.0])\n",
    "a = x1.max()\n",
    "print(f\"max -> {a}\")"
   ]
  },
  {
   "cell_type": "code",
   "execution_count": null,
   "metadata": {},
   "outputs": [],
   "source": [
    "x1 = np.array([2.0, 3.0, 4.0])\n",
    "a = x1.min()\n",
    "print(f\"min -> {a}\")"
   ]
  },
  {
   "cell_type": "markdown",
   "metadata": {},
   "source": [
    "### Random numbers in a nutshell\n",
    "\n",
    "If we toss a coin it falls in either a head or a tail facing upwards. We write 0 for heads and 1 for tails (or vice versa). After many repetition we obtain a random sequence of 0 and 1.\n",
    "\n",
    "We can model it as follows:"
   ]
  },
  {
   "cell_type": "code",
   "execution_count": null,
   "metadata": {},
   "outputs": [],
   "source": [
    "import numpy as np\n",
    "\n",
    "rng = np.random.default_rng()  # we create a rundom number generator\n",
    "rand_seq = rng.integers(2, size=25)  # the generator produces an array of 25 random 0 or 1\n",
    "print(f\"rand_seq={rand_seq}\")"
   ]
  },
  {
   "cell_type": "markdown",
   "metadata": {},
   "source": [
    "Observe that re-running this code results in different sequences. "
   ]
  },
  {
   "cell_type": "code",
   "execution_count": null,
   "metadata": {},
   "outputs": [],
   "source": [
    "rand_seq = rng.integers(2, size=25)\n",
    "print(f\"rand_seq={rand_seq}\")\n",
    "rand_seq = rng.integers(2, size=25)\n",
    "print(f\"rand_seq={rand_seq}\")\n",
    "rand_seq = rng.integers(2, size=25)\n",
    "print(f\"rand_seq={rand_seq}\")"
   ]
  },
  {
   "cell_type": "markdown",
   "metadata": {},
   "source": [
    "We can also generate random floats. The numbers are generated in a range `[0,1)`"
   ]
  },
  {
   "cell_type": "code",
   "execution_count": null,
   "metadata": {},
   "outputs": [],
   "source": [
    "rand_flt = rng.random(size=10)  # 10 random floats\n",
    "print(f\"rand_flt={rand_flt}\")"
   ]
  },
  {
   "cell_type": "markdown",
   "metadata": {},
   "source": [
    "### Files\n",
    "\n",
    "Results of computations can be saved to files. Before use the file must be opened with function `open()`. It has two parameters: file name and mode. Mode can be reading and writing (and some others). This function returns an object representing the file. \n",
    "\n",
    "- Writing data: mode='w', method `.write()`\n",
    "- Reading data: mode='r', method `.read()`\n",
    "\n",
    "After using a file it needs to be closed with the method `.close()`. Otherwise some data may be lost.\n",
    "\n",
    "Writing a file one must remember to end lines at appropriate positions. Symbol is `\\n` is used for it."
   ]
  },
  {
   "cell_type": "code",
   "execution_count": null,
   "metadata": {},
   "outputs": [],
   "source": [
    "# Create the simplest file\n",
    "fn = \"my_file1.txt\"\n",
    "fdat = open(fn, \"w\")\n",
    "fdat.write(\"O tempora!\\nO mores!\\n\")\n",
    "fdat.close()"
   ]
  },
  {
   "cell_type": "code",
   "execution_count": null,
   "metadata": {},
   "outputs": [],
   "source": [
    "# Download the file from Colab to see it or just go to it and open\n",
    "try:\n",
    "    from google.colab import files\n",
    "    files.download(fn)\n",
    "except ModuleNotFoundError:\n",
    "    import os\n",
    "    print(f\"You are not in Colab. Just locate your file at\\n{os.path.join(os.getcwd(), fn)}\")"
   ]
  },
  {
   "cell_type": "code",
   "execution_count": null,
   "metadata": {},
   "outputs": [],
   "source": [
    "# Beter way of working with files: never forget to close it\n",
    "fn = \"my_file2.txt\"\n",
    "with open(fn, 'w') as fdat:\n",
    "    fdat.write(\"Veni,\\nvidi,\\nvici\\n\")"
   ]
  },
  {
   "cell_type": "code",
   "execution_count": null,
   "metadata": {},
   "outputs": [],
   "source": [
    "# Download the file from Colab or just go to it\n",
    "try:\n",
    "    from google.colab import files\n",
    "    files.download(fn)\n",
    "except ModuleNotFoundError:    \n",
    "    import os\n",
    "    print(f\"You are not in Colab. Just locate your file at\\n{os.path.join(os.getcwd(), fn)}\")"
   ]
  },
  {
   "cell_type": "code",
   "execution_count": null,
   "metadata": {},
   "outputs": [],
   "source": [
    "# Write a file in a loop\n",
    "fn = \"my_file3.txt\"\n",
    "with open(fn, 'w') as fdat:\n",
    "    for i in range(10):\n",
    "        fdat.write(f\"i = {i}, 2**i = {2**i}\\n\")"
   ]
  },
  {
   "cell_type": "code",
   "execution_count": null,
   "metadata": {},
   "outputs": [],
   "source": [
    "# Download the file from Colab or just go to it\n",
    "try:\n",
    "    from google.colab import files\n",
    "    files.download(fn)\n",
    "except ModuleNotFoundError:    \n",
    "    import os\n",
    "    print(f\"You are not in Colab. Just locate your file at\\n{os.path.join(os.getcwd(), fn)}\")"
   ]
  },
  {
   "cell_type": "code",
   "execution_count": null,
   "metadata": {},
   "outputs": [],
   "source": [
    "# Example of reading file. First write it\n",
    "fn = \"my_file4.txt\"\n",
    "txt = \\\n",
    "\"\"\"When, in disgrace with fortune and men's eyes,\n",
    "I all alone beweep my outcast state,\n",
    "And trouble deaf heaven with my bootless cries,\n",
    "And look upon myself, and curse my fate,\n",
    "Wishing me like to one more rich in hope,\n",
    "Featured like him, like him with friends possessed,\n",
    "Desiring this man's art and that man's scope,\n",
    "With what I most enjoy contented least;\n",
    "Yet in these thoughts myself almost despising,\n",
    "Haply I think on thee - and then my state,\n",
    "Like to the lark at break of day arising\n",
    "From sullen earth, sings hymns at heaven's gate;\n",
    "For thy sweet love rememb'red such wealth brings\n",
    "That then I scorn to change my state with kings.\"\"\"\n",
    "with open(fn, \"w\") as fdat:\n",
    "    fdat.write(txt)"
   ]
  },
  {
   "cell_type": "code",
   "execution_count": null,
   "metadata": {},
   "outputs": [],
   "source": [
    "# Read it all at once\n",
    "fn = \"my_file4.txt\"\n",
    "with open(fn, \"r\") as fdat:\n",
    "    s = fdat.read()\n",
    "    \n",
    "print(s)"
   ]
  },
  {
   "cell_type": "markdown",
   "metadata": {},
   "source": [
    "If a file is large it is better to read it line by line. For printing we take only 10 first symbols from each line."
   ]
  },
  {
   "cell_type": "code",
   "execution_count": null,
   "metadata": {},
   "outputs": [],
   "source": [
    "# Here we read a file line by line\n",
    "fn = \"my_file4.txt\"\n",
    "CUT = 10\n",
    "with open(fn, \"r\") as fdat:\n",
    "    for line in fdat:\n",
    "        s = line[:CUT]\n",
    "        print(s)"
   ]
  },
  {
   "cell_type": "markdown",
   "metadata": {},
   "source": [
    "We can enumerate lines using `enumerate`."
   ]
  },
  {
   "cell_type": "code",
   "execution_count": null,
   "metadata": {},
   "outputs": [],
   "source": [
    "# Here we enumerate lines, compute lengths and print first 10 symbols\n",
    "fn = \"my_file4.txt\"\n",
    "CUT = 10\n",
    "with open(fn, \"r\") as fdat:\n",
    "    for i, line in enumerate(fdat):\n",
    "        n = len(line)\n",
    "        s = line[:CUT]\n",
    "        print(f\"{i+1:3}: {s}..., len={n}\")"
   ]
  },
  {
   "cell_type": "code",
   "execution_count": null,
   "metadata": {},
   "outputs": [],
   "source": [
    "# Here we compute number of 'a' in each line\n",
    "fn = \"my_file4.txt\"\n",
    "SYMB = \"a\"\n",
    "tot = 0\n",
    "with open(fn, \"r\") as fdat:\n",
    "    for i, line in enumerate(fdat):\n",
    "        cnt = 0\n",
    "        for s in line:\n",
    "            if s == SYMB:\n",
    "                cnt += 1\n",
    "            \n",
    "        tot += cnt\n",
    "        print(f\"Number of '{SYMB}' in line {i:3} is {cnt:3}\")\n",
    "\n",
    "print(f\"Total number of '{SYMB}' is {tot}\")"
   ]
  },
  {
   "cell_type": "markdown",
   "metadata": {},
   "source": [
    "### CSV files\n",
    "\n",
    "CSV is a simple file format used to store tabular data. Files in the CSV format can be imported to and exported from programs that store data in tables, such as Microsoft Excel or OpenOffice Calc. CSV stands for \"comma-separated values\".\n"
   ]
  },
  {
   "cell_type": "code",
   "execution_count": null,
   "metadata": {},
   "outputs": [],
   "source": [
    "# Run this section to have a csv file in your working directory\n",
    "file_name = \"areas.csv\"\n",
    "\n",
    "# 20 largest countries: name (str) and area in km squared (float)\n",
    "txt = [\"Iran, 1648000\",\"Libya, 1759540\",\"Indonesia, 1919440\",\"Saudi_Arabia, 1960582\",\"Mexico, 1972550\",\"Greenland, 2166086\",\"Congo_Democratic_Republic_of_the, 2345410\",\"Algeria, 2381740\",\"Sudan, 2505810\",\"Kazakhstan, 2717300\",\"Argentina, 2766890\",\"India, 3287590\",\"#European_Union, 3976372\",\"Australia, 7686850\",\"Brazil, 8511965\",\"China, 9596960\",\"United_States, 9631418\",\"Canada, 9984670\",\"Antarctica, 14000000\",\"Russia, 17075200\"]\n",
    "with open(file_name, 'w') as f:\n",
    "    for c in txt:\n",
    "        f.write(c + '\\n')"
   ]
  },
  {
   "cell_type": "markdown",
   "metadata": {},
   "source": [
    "How to load a CSV. Though some modules are available, we are going to do it by hands.\n",
    " \n",
    "First let us familiarize with a string splitting by a delimiter. Strings have a method `.split` for this."
   ]
  },
  {
   "cell_type": "code",
   "execution_count": null,
   "metadata": {},
   "outputs": [],
   "source": [
    "s = \"one, two, three\"\n",
    "v = s.split(',')\n",
    "print(v)"
   ]
  },
  {
   "cell_type": "markdown",
   "metadata": {},
   "source": [
    "Observe the spaces before \"two\" and \"three\". We use list comprehension and string method `.strip` to drop them out"
   ]
  },
  {
   "cell_type": "code",
   "execution_count": null,
   "metadata": {},
   "outputs": [],
   "source": [
    "v1 = [s.strip() for s in v]\n",
    "print(v1)"
   ]
  },
  {
   "cell_type": "markdown",
   "metadata": {},
   "source": [
    "Now we are ready to load CSV as a list"
   ]
  },
  {
   "cell_type": "code",
   "execution_count": null,
   "metadata": {},
   "outputs": [],
   "source": [
    "# First step: see what we read from file\n",
    "file_name = \"areas.csv\"\n",
    "\n",
    "with open(file_name, 'r') as f:\n",
    "    for line in f:\n",
    "        print(line, end=\"\") # line is a string corresponding to a whole line in the file        "
   ]
  },
  {
   "cell_type": "code",
   "execution_count": null,
   "metadata": {},
   "outputs": [],
   "source": [
    "# Split each line by comma\n",
    "file_name = \"areas.csv\"\n",
    "\n",
    "with open(file_name, 'r') as f:\n",
    "    for line in f:\n",
    "        s = line.split(',')\n",
    "        print(s)"
   ]
  },
  {
   "cell_type": "code",
   "execution_count": null,
   "metadata": {},
   "outputs": [],
   "source": [
    "# Do clearning by strip. Observed that strip removes both spaces and new lines\n",
    "file_name = \"areas.csv\"\n",
    "\n",
    "with open(file_name, 'r') as f:\n",
    "    for line in f:\n",
    "        s = line.split(',')\n",
    "        s = [c.strip() for c in s]\n",
    "        print(s)"
   ]
  },
  {
   "cell_type": "code",
   "execution_count": null,
   "metadata": {},
   "outputs": [],
   "source": [
    "# Convert of areas to float\n",
    "file_name = \"areas.csv\"\n",
    "\n",
    "with open(file_name, 'r') as f:\n",
    "    for line in f:\n",
    "        s = line.split(',')\n",
    "        s = [c.strip() for c in s]\n",
    "        s[1] = float(s[1])\n",
    "        print(s)"
   ]
  },
  {
   "cell_type": "code",
   "execution_count": null,
   "metadata": {},
   "outputs": [],
   "source": [
    "# Collect all to a list\n",
    "file_name = \"areas.csv\"\n",
    "\n",
    "with open(file_name, 'r') as f:\n",
    "    dat = []\n",
    "    for line in f:\n",
    "        s = line.split(',')\n",
    "        s = [c.strip() for c in s]\n",
    "        s[1] = float(s[1])\n",
    "        dat.append(s)\n",
    "\n",
    "print(dat)"
   ]
  },
  {
   "cell_type": "markdown",
   "metadata": {},
   "source": [
    "It can be represented as a dictionary"
   ]
  },
  {
   "cell_type": "code",
   "execution_count": null,
   "metadata": {},
   "outputs": [],
   "source": [
    "ddat = dict(dat)\n",
    "print(ddat)\n",
    "print(ddat['Russia'])\n",
    "print(ddat['Iran'])"
   ]
  },
  {
   "cell_type": "markdown",
   "metadata": {},
   "source": [
    "### Clear temporary files"
   ]
  },
  {
   "cell_type": "code",
   "execution_count": null,
   "metadata": {},
   "outputs": [],
   "source": [
    "import os\n",
    "\n",
    "temp_files = [\"my_file1.txt\", \"my_file2.txt\", \"my_file3.txt\", \"my_file4.txt\", \n",
    "              \"areas.csv\", \"presidents.csv\", \"sleep.csv\"]\n",
    "\n",
    "ask = input(\"Do you really want to remove temporary files? (y/n)\")\n",
    "if ask[0].lower() == 'y':\n",
    "    flag = False\n",
    "    for file in temp_files:\n",
    "        try:\n",
    "            os.remove(file)\n",
    "            print(f\"Removed {file}\")\n",
    "            flag = True\n",
    "        except FileNotFoundError:\n",
    "            pass\n",
    "    if not flag:\n",
    "        print(\"No files to remove\")"
   ]
  },
  {
   "cell_type": "markdown",
   "metadata": {},
   "source": [
    "## Lesson 5"
   ]
  },
  {
   "cell_type": "markdown",
   "metadata": {},
   "source": [
    "### Native Python string find and replace methods\n",
    "\n",
    "Assume that you need to find some word in a text. \n",
    "\n",
    "Maybe also you need to replace it with another word.\n",
    "\n",
    "Python strings provide simple tools for it.\n",
    "\n",
    "The following example shows how to find a substring."
   ]
  },
  {
   "cell_type": "code",
   "execution_count": null,
   "metadata": {},
   "outputs": [],
   "source": [
    "txt = \"\"\"The English Wikipedia was the first Wikipedia edition and has\n",
    "remained the lagest.\"\"\""
   ]
  },
  {
   "cell_type": "markdown",
   "metadata": {},
   "source": [
    "Method `.find(sub, beg=0, end=len(txt))` search for the first occurrence of the substring. It returns a position of the substring or -1 if fails."
   ]
  },
  {
   "cell_type": "code",
   "execution_count": null,
   "metadata": {},
   "outputs": [],
   "source": [
    "pos = txt.find(\"Wiki\")\n",
    "print(pos)\n",
    "print(txt[pos:])"
   ]
  },
  {
   "cell_type": "markdown",
   "metadata": {},
   "source": [
    "If we find the next occurrence we can start searching from `pos+1`"
   ]
  },
  {
   "cell_type": "code",
   "execution_count": null,
   "metadata": {},
   "outputs": [],
   "source": [
    "pos2 = txt.find(\"Wiki\", pos + 1)\n",
    "print(pos2)\n",
    "print(txt[pos2:])"
   ]
  },
  {
   "cell_type": "markdown",
   "metadata": {},
   "source": [
    "There is a version of the search method that finds the last occurrence of the substring."
   ]
  },
  {
   "cell_type": "code",
   "execution_count": null,
   "metadata": {},
   "outputs": [],
   "source": [
    "pos = txt.rfind(\"the\")\n",
    "print(pos)\n",
    "print(txt[pos:])"
   ]
  },
  {
   "cell_type": "markdown",
   "metadata": {},
   "source": [
    "When we want an occurrence before the previous we do as follows:"
   ]
  },
  {
   "cell_type": "code",
   "execution_count": null,
   "metadata": {},
   "outputs": [],
   "source": [
    "pos2 = txt.rfind(\"the\", 0, pos)\n",
    "print(pos2)\n",
    "print(txt[pos2:])"
   ]
  },
  {
   "cell_type": "markdown",
   "metadata": {},
   "source": [
    "Replacing of the substring is done using `.replace(old, new, count=-1)` method.\n",
    "\n",
    "Let us fix a typo in our string:"
   ]
  },
  {
   "cell_type": "code",
   "execution_count": null,
   "metadata": {},
   "outputs": [],
   "source": [
    "txt.replace(\"lagest\", \"largest\")"
   ]
  },
  {
   "cell_type": "markdown",
   "metadata": {},
   "source": [
    "### Regular expressions\n",
    "\n",
    "Regular expressions extends the possibilities provided by the find and replace methods.\n",
    "\n",
    "Regular expressions are sequences of characters symbols used to perform find-and-replace operations.\n",
    "\n",
    "The power of the regular expressions is that they allows to find sets of somehow similar substrings.\n",
    "\n",
    "For example the symbol `\\w` corresponds to any a alphanumeric character, and `\\d` matches any digit.\n",
    "\n",
    "Working with regular expressions in Python is done via the standard module `re`. \n",
    "\n",
    "In addition to the regular expression support, this module comes with a power tools for finding and replacing.\n",
    "\n",
    "- `re.match()`\n",
    "- `re.search()`\n",
    "- `re.findall()`\n",
    "- `re.split()`\n",
    "- `re.sub()`\n",
    "- `re.compile()`"
   ]
  },
  {
   "cell_type": "markdown",
   "metadata": {},
   "source": [
    "Object `Match` is an object containing information about the search and the result.\n",
    "\n",
    "Some of the functions of the module `re` returns result as the \n",
    "object `Match`, others return mere list of strings."
   ]
  },
  {
   "cell_type": "markdown",
   "metadata": {},
   "source": [
    "Function `re.match(pattern, string)` finds the occurrence of a pattern at the beginning of a string. \n",
    "\n",
    "It returns an object `Match`."
   ]
  },
  {
   "cell_type": "code",
   "execution_count": null,
   "metadata": {},
   "outputs": [],
   "source": [
    "import re\n",
    "\n",
    "txt = \"When in Rome, do as the Romans\"\n",
    "\n",
    "mtch = re.match(r\"When\", txt)\n",
    "print(mtch)"
   ]
  },
  {
   "cell_type": "markdown",
   "metadata": {},
   "source": [
    "`Match` has a method `.group()` that gives the found pattern:"
   ]
  },
  {
   "cell_type": "code",
   "execution_count": null,
   "metadata": {},
   "outputs": [],
   "source": [
    "print(\"Found pattern:\", mtch.group())"
   ]
  },
  {
   "cell_type": "markdown",
   "metadata": {},
   "source": [
    "The name of the method `.group()` is unclear now. \n",
    "\n",
    "When our patters is a plain text as above the only one group is always found. \n",
    "\n",
    "But when we specify the pattern as a regular expression, we may want not only find it but also to dissect strings into several parts that match different components of interest.\n",
    "\n",
    "The found parts are returned by `Match` as groups.\n",
    "\n",
    "The examples of a nontrivial using of groups will be below."
   ]
  },
  {
   "cell_type": "markdown",
   "metadata": {},
   "source": [
    "`Match` can also get positions of the beginning and the end of the pattern, as well as its span:"
   ]
  },
  {
   "cell_type": "code",
   "execution_count": null,
   "metadata": {},
   "outputs": [],
   "source": [
    "print(mtch.start(), mtch.end(), mtch.span())"
   ]
  },
  {
   "cell_type": "markdown",
   "metadata": {},
   "source": [
    "If we try to find another word, the search fails: the method `.match()` checks only the beginning of the string."
   ]
  },
  {
   "cell_type": "code",
   "execution_count": null,
   "metadata": {},
   "outputs": [],
   "source": [
    "mtch = re.match(r\"Rome\", txt)\n",
    "print(mtch)"
   ]
  },
  {
   "cell_type": "markdown",
   "metadata": {},
   "source": [
    "Observe that patterns must be specified with r prefix\n",
    "\n",
    "```python\n",
    "r\"Hello\\n Good bye\"\n",
    "```\n",
    "\n",
    "This is to protect '\\\\' from treating it as a special symbol.\n",
    "\n",
    "Let us check:"
   ]
  },
  {
   "cell_type": "code",
   "execution_count": null,
   "metadata": {},
   "outputs": [],
   "source": [
    "s1 = \"\\nHello\\nGood bye\"\n",
    "s2 = r\"\\nHello\\nGood bye\"\n",
    "print(\"Normal string:\", s1)\n",
    "print()\n",
    "print(\"Raw string:\", s2)"
   ]
  },
  {
   "cell_type": "markdown",
   "metadata": {},
   "source": [
    "Function `re.search(pattern, string)` searches the whole string and returns `Match` the first occurrence of the pattern."
   ]
  },
  {
   "cell_type": "code",
   "execution_count": null,
   "metadata": {},
   "outputs": [],
   "source": [
    "import re\n",
    "\n",
    "txt = \"Hope for the best, but prepare for the worst\"\n",
    "\n",
    "mtch = re.search(r\"for\", txt)\n",
    "print(mtch.group(), mtch.span())"
   ]
  },
  {
   "cell_type": "markdown",
   "metadata": {},
   "source": [
    "Function `re.findall(pattern, string)` returns a list of all occurrences of the patter.\n",
    "\n",
    "Observe that this function returns a list, not an object `Match`."
   ]
  },
  {
   "cell_type": "code",
   "execution_count": null,
   "metadata": {},
   "outputs": [],
   "source": [
    "import re\n",
    "\n",
    "txt = \"Keep your friends close and your enemies closer\"\n",
    "\n",
    "lst = re.findall(r\"close\", txt)\n",
    "print(lst)"
   ]
  },
  {
   "cell_type": "markdown",
   "metadata": {},
   "source": [
    "Function `re.split(pattern, string, maxsplit=0)` splits a string by the pattern. If `maxsplit` is zero (by default) there will be as many splitting as possible. Otherwise the number of splitting will be limited."
   ]
  },
  {
   "cell_type": "code",
   "execution_count": null,
   "metadata": {},
   "outputs": [],
   "source": [
    "import re\n",
    "\n",
    "txt = \"One man's trash is another man's treasure\"\n",
    "\n",
    "spl = re.split(r\"man\", txt)\n",
    "print(spl)\n",
    "\n",
    "spl = re.split(r\" \", txt)\n",
    "print(spl)\n",
    "\n",
    "spl = re.split(r\" \", txt, 3)\n",
    "print(spl)"
   ]
  },
  {
   "cell_type": "markdown",
   "metadata": {},
   "source": [
    "If a massive search is performed it is recommended to compile\n",
    "a pattern before applying: `re.compile(pattern)`.\n",
    "\n",
    "The returned is an object `RegexObject`. \n",
    "\n",
    "It has its own search methods."
   ]
  },
  {
   "cell_type": "code",
   "execution_count": null,
   "metadata": {},
   "outputs": [],
   "source": [
    "import re\n",
    "\n",
    "txt1 = \"If you can't beat them, join them\"\n",
    "txt2 = \"You can't judge a book by its cover\"\n",
    "txt3 = \"You can lead a horse to water, but you can't make him drink\"\n",
    "\n",
    "rge = re.compile(r\"can\")\n",
    "print(rge.findall(txt1))\n",
    "print(rge.findall(txt2))\n",
    "print(rge.findall(txt3))"
   ]
  },
  {
   "cell_type": "markdown",
   "metadata": {},
   "source": [
    "In what follows we will always consider the compiled patterns."
   ]
  },
  {
   "cell_type": "markdown",
   "metadata": {},
   "source": [
    "Let us now discuss the regular expressions. \n",
    "\n",
    "The regular expressions are built of the special symbols matching one or many different characters.\n",
    "\n",
    "- `\\w` : Matches with an alphanumeric character \n",
    "- `\\d` : Matches with digits \\[0-9\\]\n",
    "- `\\s` : Matches with a single white space character (space, newline, tab)\n",
    "\n",
    "An example is below. \n",
    "\n",
    "Observe that each of these symbols matches with only one character.\n",
    "\n",
    "Also notice that the exclamation point is not matched at all."
   ]
  },
  {
   "cell_type": "code",
   "execution_count": null,
   "metadata": {},
   "outputs": [],
   "source": [
    "import re \n",
    "\n",
    "txt = \"Agent 007!\"\n",
    "\n",
    "rge_w = re.compile(r\"\\w\")\n",
    "rge_d = re.compile(r\"\\d\")\n",
    "rge_s = re.compile(r\"\\s\")\n",
    "\n",
    "print(rge_w.findall(txt))\n",
    "print(rge_d.findall(txt))\n",
    "print(rge_s.findall(txt))"
   ]
  },
  {
   "cell_type": "markdown",
   "metadata": {},
   "source": [
    "Capital-letter version of these paterns means the negation:\n",
    "    \n",
    "- `\\W` : Matches with not an alphanumeric character \n",
    "- `\\D` : Matches with not digits \\[0-9\\]\n",
    "- `\\S` : Matches with not a single white space character (space, newline, tab)        "
   ]
  },
  {
   "cell_type": "code",
   "execution_count": null,
   "metadata": {},
   "outputs": [],
   "source": [
    "import re \n",
    "\n",
    "txt = \"Agent 007!\"\n",
    "\n",
    "rge_W = re.compile(r\"\\W\")\n",
    "rge_D = re.compile(r\"\\D\")\n",
    "rge_S = re.compile(r\"\\S\")\n",
    "\n",
    "print(rge_W.findall(txt))\n",
    "print(rge_D.findall(txt))\n",
    "print(rge_S.findall(txt))"
   ]
  },
  {
   "cell_type": "markdown",
   "metadata": {},
   "source": [
    "The pattern `\\W` detects all non alphanumerical symbols: space and the exclamation point\n",
    "\n",
    "The pattern `\\D` returns all non digits: these are letters, space and the exclamation point.\n",
    "\n",
    "Finally `\\S` finds all non space symbols."
   ]
  },
  {
   "cell_type": "markdown",
   "metadata": {},
   "source": [
    "We can specify particular characters that we want to match:\n",
    "\n",
    "- `[..]` : Matches with any single character in square brackets\n",
    "- `[^..]` : The negation: matches with any single character not in square brackets"
   ]
  },
  {
   "cell_type": "code",
   "execution_count": null,
   "metadata": {},
   "outputs": [],
   "source": [
    "import re \n",
    "\n",
    "txt = \"experimentalist\"\n",
    "\n",
    "rge_c = re.compile(r\"[aei]\")\n",
    "rge_C = re.compile(r\"[^aei]\")\n",
    "\n",
    "print(rge_c.findall(txt))\n",
    "print(rge_C.findall(txt))"
   ]
  },
  {
   "cell_type": "markdown",
   "metadata": {},
   "source": [
    "Square brackets admit range specification via `-` (minus) sign\n",
    "\n",
    "- `[a-d]` : Matches characters from a to d\n",
    "- `[a-zA-Z]` : Matches all Latin letters\n",
    "\n",
    "Observe that `\\w` matches both letters and digits and the range `[a-zA-Z]` allows to get only letters."
   ]
  },
  {
   "cell_type": "code",
   "execution_count": null,
   "metadata": {},
   "outputs": [],
   "source": [
    "import re \n",
    "\n",
    "txt = \"Agent 007!\"\n",
    "\n",
    "rge_w = re.compile(r\"\\w\")\n",
    "rge_l = re.compile(r\"[a-zA-Z]\")\n",
    "\n",
    "print(rge_w.findall(txt))\n",
    "print(rge_l.findall(txt))"
   ]
  },
  {
   "cell_type": "markdown",
   "metadata": {},
   "source": [
    "Finally any single character except new line is matched like this:\n",
    "\n",
    "- `.` (period) : Matches any single character except newline\n",
    "- `\\n` : Matches newline symbols\n",
    "\n",
    "In the example below the string `txt1` is a raw string so that `\\n` in the middle is considered by Python literally \n",
    "as back slash and character `n`.\n",
    "\n",
    "And `txt2` is a plain string where Python treat `\\n` as a newline symbol.\n",
    "\n",
    "Observe how period-pattern process these strings. \n",
    "\n",
    "It matches all symbol from the first string since no newline symbols are there.\n",
    "\n",
    "And it misses a newline symbol in the second string."
   ]
  },
  {
   "cell_type": "code",
   "execution_count": null,
   "metadata": {},
   "outputs": [],
   "source": [
    "import re \n",
    "\n",
    "txt1 = r\"Two roads diverged in a yellow wood,\\nAnd sorry I could not travel both\"\n",
    "txt2 = \"Two roads diverged in a yellow wood,\\nAnd sorry I could not travel both\"\n",
    "\n",
    "rge_p = re.compile(r\".\")\n",
    "\n",
    "print(rge_p.findall(txt1))\n",
    "print(rge_p.findall(txt2))"
   ]
  },
  {
   "cell_type": "markdown",
   "metadata": {
    "slideshow": {
     "slide_type": "slide"
    }
   },
   "source": [
    "Accordingly, if we try to find a newline symbols we will find one only in the second string:"
   ]
  },
  {
   "cell_type": "code",
   "execution_count": null,
   "metadata": {},
   "outputs": [],
   "source": [
    "rge_n = re.compile(r\"\\n\")\n",
    "\n",
    "print(rge_n.findall(txt1))\n",
    "print(rge_n.findall(txt2))"
   ]
  },
  {
   "cell_type": "markdown",
   "metadata": {},
   "source": [
    "The single pattern symbols can be combined together and with plain characters:"
   ]
  },
  {
   "cell_type": "code",
   "execution_count": null,
   "metadata": {},
   "outputs": [],
   "source": [
    "import re \n",
    "\n",
    "txt = \"\"\"The longest recorded rated chess game in history: \n",
    "Ivan Nikolic vs. Goran Arsovic, 17 Feb 1989. \n",
    "1. d4 Nf6 2. c4 g6 3. Nc3 Bg7 4. e4 d6 5. Nf3 O-O 6. Be2 Nbd7\n",
    "etc\n",
    "\"\"\"\n",
    "\n",
    "rge1 = re.compile(r\"[a-zA-Z]\\d\")\n",
    "rge2 = re.compile(r\"\\d\\d \\w\\w\\w \\d\\d\\d\\d\")\n",
    "\n",
    "print(rge1.findall(txt))\n",
    "print(rge2.findall(txt))"
   ]
  },
  {
   "cell_type": "markdown",
   "metadata": {},
   "source": [
    "In the above example we have found a data repeating `\\d` and `\\w`. \n",
    "\n",
    "In general repeating the pattern symbol can be not so convenient.\n",
    "\n",
    "To match the repeated character we can use special symbols:\n",
    "\n",
    "- `?` : Matches 0 or 1 occurrence of the pattern to its left\n",
    "- `+` : Matches 1 or more occurrences of the pattern to its left\n",
    "- `*` : Matches 0 or more occurrences of the pattern to its left\n",
    "- `{n,m}` : Matches at least n and at most m occurrences of preceding expression. \n",
    "- `{,m}` : Matches minimum m occurrences of preceding expression. Zero occurrences are also matched.\n",
    "- `{n,}` : Matches at least n or more occurrences of preceding expression.\n",
    "- `{n}` : Matches exactly n occurrences of preceding expression.\n",
    "\n",
    "So another version of a pattern to extract the date above is as follows:"
   ]
  },
  {
   "cell_type": "code",
   "execution_count": null,
   "metadata": {},
   "outputs": [],
   "source": [
    "rge3 = re.compile(r\"\\d+ [a-zA-Z]+ \\d+\")\n",
    "\n",
    "print(rge3.findall(txt))"
   ]
  },
  {
   "cell_type": "markdown",
   "metadata": {},
   "source": [
    "More exact specification:"
   ]
  },
  {
   "cell_type": "code",
   "execution_count": null,
   "metadata": {},
   "outputs": [],
   "source": [
    "rge3 = re.compile(r\"\\d{2} [a-zA-Z]{3} \\d{4}\")\n",
    "\n",
    "print(rge3.findall(txt))"
   ]
  },
  {
   "cell_type": "markdown",
   "metadata": {},
   "source": [
    "Following pattern symbols match start and end of string:\n",
    "\n",
    "- `^` : Matches the start the string.\n",
    "- `$` : Matches the end the string.\n",
    "\n",
    "The example below uses pattern `\\w+` to match all words separated by space symbols.\n",
    "\n",
    "The patterns sounds as follows: \"Find each 1 or more occurrence (`+`) in a row of alphanumerical symbols (`\\w`)\""
   ]
  },
  {
   "cell_type": "code",
   "execution_count": null,
   "metadata": {},
   "outputs": [],
   "source": [
    "import re\n",
    "\n",
    "txt = \"\"\"I've a cat named Vesters,\n",
    "And he eats all day.\n",
    "He always lays around,\n",
    "And never wants to play.\n",
    "\n",
    "Not even with a squeaky toy, \n",
    "Nor anything that moves.\n",
    "When I have him exercise,\n",
    "He always disapproves.\n",
    "\n",
    "So we've put him on a diet,\n",
    "But now he yells all day.\n",
    "And even though he's thinner,\n",
    "He still won't come and play.\n",
    "\"\"\"\n",
    "\n",
    "rge1 = re.compile(r'\\w+')\n",
    "print(rge1.findall(txt))"
   ]
  },
  {
   "cell_type": "markdown",
   "metadata": {},
   "source": [
    "Now let us try find all worlds in the line starts by adding `^` symbol before the pattern."
   ]
  },
  {
   "cell_type": "code",
   "execution_count": null,
   "metadata": {},
   "outputs": [],
   "source": [
    "rge2 = re.compile(r'^\\w+')\n",
    "print(rge2.findall(txt))"
   ]
  },
  {
   "cell_type": "markdown",
   "metadata": {},
   "source": [
    "It has found only the very first word because this is the beginning of the string.\n",
    "\n",
    "If we want to find all words at line beginnings after each line break we need to switch the search to\n",
    "multiline mode:"
   ]
  },
  {
   "cell_type": "code",
   "execution_count": null,
   "metadata": {},
   "outputs": [],
   "source": [
    "rge3 = re.compile(r'^\\w+', re.MULTILINE)\n",
    "print(rge3.findall(txt))"
   ]
  },
  {
   "cell_type": "markdown",
   "metadata": {},
   "source": [
    "Complex pattern can be combined with logical operator Or:\n",
    "\n",
    "- `a | b` : Matches either a or b\n",
    "\n",
    "Assume that we have a text with dates in different formats. \n",
    "\n",
    "The following pattern will extract all of them:"
   ]
  },
  {
   "cell_type": "code",
   "execution_count": null,
   "metadata": {},
   "outputs": [],
   "source": [
    "import re\n",
    "\n",
    "txt = \"\"\"Writers have traditionally written abbreviated dates according \n",
    "to their local custom, creating all-numeric equivalents to dates such as, \n",
    "\"15 February 2021\" (15/02/21, 15/02/2021, 15-02-2021 or 15.02.2021)\n",
    "\"\"\"\n",
    "\n",
    "rge = re.compile(r\"\\d{2}\\s\\w+\\s\\d{4}|\\d{2}[/-]\\d{2}[/-]\\d+|\\d{2}\\.\\d{2}\\.\\d+\")\n",
    "\n",
    "print(rge.findall(txt))"
   ]
  },
  {
   "cell_type": "markdown",
   "metadata": {},
   "source": [
    "Here there are three patterns combined with logical or `|`:\n",
    "\n",
    "- `\\d{2}\\s\\w+\\s\\d{4}` : Two digits, space, a word, four digits\n",
    "- `\\d{2}[/-]\\d{2}[/-]\\d+` : Two digits, slash or minis, two digits, slash or minis, one or more digits (need this to match both 21 and 2021)\n",
    "- `\\d{2}\\.\\d{2}\\.\\d+` : Two digits, period protected by a backslash (to treat it as a character and not as patterns symbol), two digits, protected period, one or more digits\n",
    "\n",
    "As we have seen special symbols like `.`, `?` or `*` can be used as plain characters when protected by backslash:\n",
    "\n",
    "- `\\.` `\\?` `\\+` `\\*` : Match special symbols as plain characters."
   ]
  },
  {
   "cell_type": "markdown",
   "metadata": {},
   "source": [
    "Below is another illustration of pattern search.\n",
    "\n",
    "The pattern `\\w+,?\\s\\w+` matches the following sequences:\n",
    "\n",
    "- `\\w+` : one or more alphanumeric letters - actually matches a word\n",
    "- `,?` : one comma or no comma\n",
    "- `\\s` : space or newline symbol\n",
    "- `\\w+` : again one or more alphanumeric letters, i.e, a word again\n",
    "\n",
    "This patters splits the string into a pairs of successive words:"
   ]
  },
  {
   "cell_type": "code",
   "execution_count": null,
   "metadata": {},
   "outputs": [],
   "source": [
    "import re\n",
    "\n",
    "txt = \"\"\"Mary had a little lamb,\n",
    "Little lamb, little lamb,\n",
    "Mary had a little lamb\n",
    "Whose fleece was white as snow.\n",
    "\"\"\"\n",
    "\n",
    "rge = re.compile(r\"\\w+,?\\s\\w+\")\n",
    "print(rge.findall(txt))"
   ]
  },
  {
   "cell_type": "markdown",
   "metadata": {},
   "source": [
    "The boldface highlighting helps to clarify what was found:\n",
    "\n",
    "**Mary had** a little **lamb,\n",
    "Little** lamb, little **lamb,\n",
    "Mary** had a **little lamb**\n",
    "Whose fleece **was white** as snow.\n"
   ]
  },
  {
   "cell_type": "markdown",
   "metadata": {},
   "source": [
    "Round brackets do exactly what we think they should do - they group patterns:\n",
    "\n",
    "- `(`, `)` : Create a group of pattern symbols\n",
    "\n",
    "One example of using round brackets. \n",
    "\n",
    "Almost the same pattern but the words are grouped by brackets. \n",
    "\n",
    "Observed that now the matched words are extracted separately and the middle spaces, commas and newlines are omitted:"
   ]
  },
  {
   "cell_type": "code",
   "execution_count": null,
   "metadata": {},
   "outputs": [],
   "source": [
    "rge = re.compile(r\"(\\w+),?\\s(\\w+)\")\n",
    "\n",
    "print(rge.findall(txt))"
   ]
  },
  {
   "cell_type": "markdown",
   "metadata": {},
   "source": [
    "And in this pattern the middle spaces, commas and newlines are grouped instead:"
   ]
  },
  {
   "cell_type": "code",
   "execution_count": null,
   "metadata": {},
   "outputs": [],
   "source": [
    "rge = re.compile(r\"\\w+(,?\\s)\\w+\")\n",
    "\n",
    "print(rge.findall(txt))"
   ]
  },
  {
   "cell_type": "markdown",
   "metadata": {
    "slideshow": {
     "slide_type": "slide"
    }
   },
   "source": [
    "In this example we use regular expressions to extract names of English kings.\n",
    "\n",
    "The pattern `\\w+\\s+\\w+\\s+[IV]{1,3}` includes the following parts:\n",
    "\n",
    "- `\\w+` : a word\n",
    "- `\\s+` : one or more space or newline in a row\n",
    "- `\\w+` : a word again\n",
    "- `\\s+` : again spaces and/or newlines\n",
    "- `[IV]{1,3}` : one, two or three characters I or V - naive roman number matcher."
   ]
  },
  {
   "cell_type": "markdown",
   "metadata": {},
   "source": [
    "This is the analyzed text with the highlighted king names:\n",
    "\n",
    "\"The Principality of Wales was incorporated into the Kingdom of England under the \n",
    "Statute of Rhuddlan in 1284, and in 1301 **King Edward I** invested his eldest son, \n",
    "the future **King Edward II**, as Prince of Wales. Since that time, except for **King \n",
    "Edward III**, the eldest sons of all English monarchs have borne this title.\n",
    "\n",
    "After the death of **Queen Elizabeth I** without issue, in 1603, **King James VI** \n",
    "of Scotland also became **James I** of England, joining the crowns of England \n",
    "and Scotland in personal union.\"\n",
    "\n",
    "Now the search:"
   ]
  },
  {
   "cell_type": "code",
   "execution_count": null,
   "metadata": {},
   "outputs": [],
   "source": [
    "import re\n",
    "\n",
    "txt = \"\"\"\n",
    "The Principality of Wales was incorporated into the Kingdom of England under the \n",
    "Statute of Rhuddlan in 1284, and in 1301 King Edward I invested his eldest son, \n",
    "the future King Edward II, as Prince of Wales. Since that time, except for King \n",
    "Edward III, the eldest sons of all English monarchs have borne this title.\n",
    "\n",
    "After the death of Queen Elizabeth I without issue, in 1603, King James VI \n",
    "of Scotland also became James I of England, joining the crowns of England \n",
    "and Scotland in personal union. \n",
    "\"\"\"\n",
    "\n",
    "rge1 = re.compile(r\"\\w+\\s+\\w+\\s+[IV]{1,3}\")\n",
    "\n",
    "print(rge1.findall(txt))"
   ]
  },
  {
   "cell_type": "markdown",
   "metadata": {},
   "source": [
    "Notice that the \"King Edward III\" is split by a newline. The pattern `\\s+` processes it correctly.\n",
    "\n",
    "Now the same pattern with the grouped parts responsible for a personal name and a number: "
   ]
  },
  {
   "cell_type": "code",
   "execution_count": null,
   "metadata": {},
   "outputs": [],
   "source": [
    "rge1 = re.compile(r\"\\w+\\s+(\\w+)\\s+([IV]{1,3})\")\n",
    "print(rge1.findall(txt))"
   ]
  },
  {
   "cell_type": "markdown",
   "metadata": {},
   "source": [
    "Now we discuss the function `re.sub(pattern, repl, string)`.\n",
    "\n",
    "If finds the pattern in the string and replace it with `repl`.\n",
    "\n",
    "`repl` can be a string or a function. \n",
    "\n",
    "If this is a string, backreferences, such as \\6, are replaced with the substring matched by group 6 in the pattern. \n",
    "\n",
    "First, a trivial example without regular expressions:"
   ]
  },
  {
   "cell_type": "code",
   "execution_count": null,
   "metadata": {},
   "outputs": [],
   "source": [
    "import re\n",
    "\n",
    "txt = \"Keep your friends close and your enemies closer\"\n",
    "\n",
    "sbs = re.sub(r\"close\", \"distant\", txt)\n",
    "print(sbs)"
   ]
  },
  {
   "cell_type": "markdown",
   "metadata": {},
   "source": [
    "Consider now using patterns.\n",
    "\n",
    "The pattern `(\\d+)\\s*\\+\\s*(\\d+)\\s*=\\s*(\\d+)[;,]?\\s*` below matches arithmetical expressions and extracts the numbers from it.\n",
    "\n",
    "It contains three parts taken into round brackets. The text matched by the corresponding patterns are called groups.\n",
    "\n",
    "- `(\\d+)` : an integer number; it will be the group 1 since goes first in a row\n",
    "- `\\s*\\+\\s*` : a plus sign protected by a backslash and surrounded by optional spaces\n",
    "- `(\\d+)` : an integer number; it will be the group 2\n",
    "- `\\s*=\\s*` : an equal sign surrounded by optional spaces\n",
    "- `(\\d+)` : an integer number; it will be the group 3\n",
    "- `[;,]?\\s*` : separators - optional comma, semicolon and spaces"
   ]
  },
  {
   "cell_type": "code",
   "execution_count": null,
   "metadata": {},
   "outputs": [],
   "source": [
    "import re\n",
    "\n",
    "txt = '1 + 2 = 3, 3+ 4 = 7; 7+8=15'\n",
    "pat = r\"(\\d+)\\s*\\+\\s*(\\d+)\\s*=\\s*(\\d+)[;,]?\\s*\"\n",
    "\n",
    "rge = re.compile(pat)\n",
    "rge.findall(txt)"
   ]
  },
  {
   "cell_type": "markdown",
   "metadata": {},
   "source": [
    "Now we will use the function `sub` to substitute `+` and `=` signs with their verbalizations.\n",
    "\n",
    "Also we want to drop out all separators and change them to newline symbols.\n",
    "\n",
    "Observe a key point here: the groups is substituted to the replacement string as `\\n` where `n` \n",
    "is a number of group."
   ]
  },
  {
   "cell_type": "code",
   "execution_count": null,
   "metadata": {},
   "outputs": [],
   "source": [
    "s = re.sub(pat, r\"\\1 plus \\2 equals \\3\\n\", txt)\n",
    "print(s)"
   ]
  },
  {
   "cell_type": "markdown",
   "metadata": {},
   "source": [
    "This substitution can be done simpler. \n",
    "\n",
    "Instead of using groups we could substitute `+` and `=` by `plus` and `equals`, respectively and separators could be substituted with newlines. \n",
    "\n",
    "But the following already can not be done without grouping parts in the pattern:"
   ]
  },
  {
   "cell_type": "code",
   "execution_count": null,
   "metadata": {},
   "outputs": [],
   "source": [
    "s = re.sub(pat, r\"\\3 minus \\2 equals \\1\\n\", txt)\n",
    "print(s)"
   ]
  },
  {
   "cell_type": "markdown",
   "metadata": {},
   "source": [
    "If `repl` parameter in the function `sub` is itself a function it is called for every occurrence of the pattern. The function takes a single match object argument, and returns the replacement string.\n",
    "\n",
    "The example below takes a string with an arithmetical expression in it and substitute the expression with its result.\n",
    "\n",
    "The pattern `(\\d+)\\s*\\+\\s*(\\d+)` contains the following parts:\n",
    "\n",
    "- `(\\d+)` : an integer number; it will be the group 1\n",
    "- `\\s*\\+\\s*` : a plus sign protected by a backslash and surrounded by optional spaces\n",
    "- `(\\d+)` : an integer number; it will be the group 2\n",
    "\n",
    "When the function find the matching it calls function `add_replacer` and pass a `Match` object to it. \n",
    "\n",
    "This object has a method `.group()` that provides access to the matched groups. \n",
    "\n",
    "We convert them into integers, add them and return the result converted to a string.\n",
    "\n",
    "This string is substituted instead of the matched pattern."
   ]
  },
  {
   "cell_type": "code",
   "execution_count": null,
   "metadata": {},
   "outputs": [],
   "source": [
    "# Eaxmple from https://medium.com/python-in-plain-english/the-incredible-power-of-pythons-replace-regex-6cc217643f37\n",
    "import re\n",
    "  \n",
    "def add_replacer(match_obj):\n",
    "    return str(int(match_obj.group(1)) + int(match_obj.group(2)))\n",
    "\n",
    "def eval_adds(string):\n",
    "    return re.sub(r\"(\\d+)\\s*\\+\\s*(\\d+)\", add_replacer, string)\n",
    "\n",
    "print(eval_adds(\"the result is 1 + 2\"))\n",
    "print(eval_adds(\"the result is 6 + 4\"))\n",
    "print(eval_adds(\"the result is 15 + 5\"))"
   ]
  }
 ],
 "metadata": {
  "colab": {
   "collapsed_sections": [],
   "name": "01 - Brief review of Python.ipynb",
   "provenance": []
  },
  "kernelspec": {
   "display_name": "Python 3 (ipykernel)",
   "language": "python",
   "name": "python3"
  },
  "language_info": {
   "codemirror_mode": {
    "name": "ipython",
    "version": 3
   },
   "file_extension": ".py",
   "mimetype": "text/x-python",
   "name": "python",
   "nbconvert_exporter": "python",
   "pygments_lexer": "ipython3",
   "version": "3.13.2"
  },
  "nbTranslate": {
   "displayLangs": [
    "*"
   ],
   "hotkey": "alt-t",
   "langInMainMenu": true,
   "sourceLang": "ru",
   "targetLang": "en",
   "useGoogleTranslate": true
  },
  "toc": {
   "base_numbering": 1,
   "nav_menu": {},
   "number_sections": true,
   "sideBar": true,
   "skip_h1_title": true,
   "title_cell": "Table of Contents",
   "title_sidebar": "Contents",
   "toc_cell": false,
   "toc_position": {
    "height": "calc(100% - 180px)",
    "left": "10px",
    "top": "150px",
    "width": "243.733px"
   },
   "toc_section_display": true,
   "toc_window_display": true
  }
 },
 "nbformat": 4,
 "nbformat_minor": 4
}
