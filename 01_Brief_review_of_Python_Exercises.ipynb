{
 "cells": [
  {
   "cell_type": "markdown",
   "metadata": {
    "id": "kt07Ac07vCIf"
   },
   "source": [
    "# 01 Brief review of Python, Exercises\n",
    "\n",
    "Part of [\"Introduction to Data Science\" course](https://github.com/kupav/data-sc-intro) by Pavel Kuptsov, [kupav@mail.ru](mailto:kupav@mail.ru)"
   ]
  },
  {
   "cell_type": "markdown",
   "metadata": {},
   "source": [
    "## Lesson 1"
   ]
  },
  {
   "cell_type": "markdown",
   "metadata": {},
   "source": [
    "### Exercises\n",
    "\n",
    "All exercises in this section are taken from book \\[1\\]"
   ]
  },
  {
   "cell_type": "markdown",
   "metadata": {},
   "source": [
    "1\\. In many jurisdictions a small deposit is added to drink containers to encourage people to recycle them. In one particular jurisdiction, drink containers holding one liter or less have a \\\\$0.10 deposit, and drink containers holding more than one liter have a \\\\$0.25 deposit. Write a program that reads the number of containers of each size from the user. Your program should continue by computing and displaying the refund that will be received for returning those containers. Format the output so that it includes a dollar sign and two digits to the right of the decimal point."
   ]
  },
  {
   "cell_type": "code",
   "execution_count": null,
   "metadata": {},
   "outputs": [],
   "source": []
  },
  {
   "cell_type": "markdown",
   "metadata": {},
   "source": [
    "2\\. The program that you create for this exercise will begin by reading the cost of a meal ordered at a restaurant from the user. Then your program will compute the tax and tip for the meal. Use your local tax rate when computing the amount of tax owing. Compute the tip as 18 percent of the meal amount (without the tax). The output from your program should include the tax amount, the tip amount, and the grand total for the meal including both the tax and the tip. Format the output so that all of the values are displayed using two decimal places."
   ]
  },
  {
   "cell_type": "code",
   "execution_count": null,
   "metadata": {},
   "outputs": [],
   "source": []
  },
  {
   "cell_type": "markdown",
   "metadata": {},
   "source": [
    "3\\. Write a program that reads a positive integer, n, from the user and then displays the sum of all of the integers from 1 to n. The sum of the first n positive integers can be\n",
    "\n",
    "$$S = \\frac{n(n+1)}{2}$$"
   ]
  },
  {
   "cell_type": "code",
   "execution_count": null,
   "metadata": {},
   "outputs": [],
   "source": []
  },
  {
   "cell_type": "markdown",
   "metadata": {},
   "source": [
    "4\\. Pretend that you have just opened a new savings account that earns 4 percent interest per year. The interest that you earn is paid at the end of the year, and is added to the balance of the savings account. Write a program that begins by reading the amount of money deposited into the account from the user. Then your program should compute and display the amount in the savings account after 1, 2, and 3 years. Display each amount so that it is rounded to 2 decimal places. "
   ]
  },
  {
   "cell_type": "code",
   "execution_count": null,
   "metadata": {},
   "outputs": [],
   "source": []
  },
  {
   "cell_type": "markdown",
   "metadata": {},
   "source": [
    "5\\. In the United States, fuel efficiency for vehicles is normally expressed in miles-per-gallon (MPG). In Canada, fuel efficiency is normally expressed in liters-per-hundred kilometers (L/100km). Use your research skills to determine how to convert from MPG to L/100km.Then create a program that reads a value from the user in American units and displays the equivalent fuel efficiency in Canadian units."
   ]
  },
  {
   "cell_type": "code",
   "execution_count": null,
   "metadata": {},
   "outputs": [],
   "source": []
  },
  {
   "cell_type": "markdown",
   "metadata": {},
   "source": [
    "6\\. The surface of the Earth is curved, and the distance between degrees of longitude\n",
    "varies with latitude. As a result, finding the distance between two points on the surface\n",
    "of the Earth is more complicated than simply using the Pythagorean theorem.\n",
    "\n",
    "Let ($t_1$, $g_1$) and ($t_2$ , $g_2$) be the latitude and longitude of two points on the Earth’s surface. The distance between these points, following the surface of the Earth, in\n",
    "kilometers is:\n",
    "\n",
    "$$D = 6371.01 \\arccos(\\sin t_1 \\sin t_2 + \\cos t_1 \\cos t_2 \\cos(g_1-g_2))$$\n",
    "\n",
    "*The value 6371.01 in the previous equation wasn’t selected at random. It is the\n",
    "average radius of the Earth in kilometers.*\n",
    "\n",
    "Create a program that allows the user to enter the latitude and longitude of two\n",
    "points on the Earth in degrees. Your program should display the distance between\n",
    "the points, following the surface of the earth, in kilometers.\n",
    "\n",
    "*Hint: Python’s trigonometric functions operate in radians. As a result, you will\n",
    "need to convert the user’s input from degrees to radians before computing the\n",
    "distance with the formula discussed previously. The `math` module as well as `numpy` \n",
    "contains a function named radians which converts from degrees to radians.*"
   ]
  },
  {
   "cell_type": "code",
   "execution_count": null,
   "metadata": {},
   "outputs": [],
   "source": []
  },
  {
   "cell_type": "markdown",
   "metadata": {},
   "source": [
    "7\\. Many people think about their height in feet and inches, even in some countries that\n",
    "primarily use the metric system. Write a program that reads a number of feet from\n",
    "the user, followed by a number of inches. Once these values are read, your program\n",
    "should compute and display the equivalent number of centimeters.\n",
    "\n",
    "*Hint: One foot is 12 inches. One inch is 2.54 centimeters.*"
   ]
  },
  {
   "cell_type": "code",
   "execution_count": null,
   "metadata": {},
   "outputs": [],
   "source": []
  },
  {
   "cell_type": "markdown",
   "metadata": {},
   "source": [
    "8\\. Write a program that begins by reading a radius, $r$, from the user. The program will\n",
    "continue by computing and displaying the area of a circle with radius $r$ and the\n",
    "volume of a sphere with radius $r$. Use the pi constant in the `math` or `numpy` modules in your calculations. Use Internet to look up the necessary formula if you don't have them memorized."
   ]
  },
  {
   "cell_type": "code",
   "execution_count": null,
   "metadata": {},
   "outputs": [],
   "source": []
  },
  {
   "cell_type": "markdown",
   "metadata": {},
   "source": [
    "9\\. Python’s `time` module includes several time-related functions. One of these is the\n",
    "`asctime` function which reads the current time from the computer’s internal clock\n",
    "and returns it in a human-readable format. Use this function to write a program that\n",
    "displays the current time and date. Your program will not require any input from the\n",
    "user."
   ]
  },
  {
   "cell_type": "code",
   "execution_count": null,
   "metadata": {},
   "outputs": [],
   "source": []
  },
  {
   "cell_type": "markdown",
   "metadata": {},
   "source": [
    "10\\. When the wind blows in cold weather, the air feels even colder than it actually is\n",
    "because the movement of the air increases the rate of cooling for warm objects, like\n",
    "people. This effect is known as wind chill.\n",
    "\n",
    "In 2001, Canada, the United Kingdom and the United States adopted the following formula for computing the wind chill index. Within the formula $T_a$ is the air temperature in degrees Celsius and $V$ is the wind speed in kilometers per hour. A similar formula with different constant values can be used for temperatures in degrees Fahrenheit and wind speeds in miles per hour.\n",
    "\n",
    "$$WCI = 13.12 + 0.6215 T_a − 11.37 V^{0.16} + 0.3965 T_a V^{0.16}$$\n",
    "\n",
    "Write a program that begins by reading the air temperature and wind speed from the\n",
    "user. Once these values have been read your program should display the wind chill\n",
    "index rounded to the closest integer.\n",
    "\n",
    "_The wind chill index is only considered valid for temperatures less than or\n",
    "equal to 10 degrees Celsius and wind speeds exceeding 4.8 kilometers per\n",
    "hour._"
   ]
  },
  {
   "cell_type": "code",
   "execution_count": null,
   "metadata": {},
   "outputs": [],
   "source": []
  },
  {
   "cell_type": "markdown",
   "metadata": {},
   "source": [
    "11\\. Develop a program that reads a four-digit integer from the user and displays the sum\n",
    "of its digits. For example, if the user enters `3141` then your program should display\n",
    "`3 + 1 + 4 + 1 = 9`."
   ]
  },
  {
   "cell_type": "code",
   "execution_count": null,
   "metadata": {},
   "outputs": [],
   "source": []
  },
  {
   "cell_type": "markdown",
   "metadata": {},
   "source": [
    "12\\. Create a program that reads three integers from the user and displays them in sorted\n",
    "order (from smallest to largest). Use the `min` and `max` functions to find the smallest\n",
    "and largest values. The middle value can be found by computing the sum of all three\n",
    "values, and then subtracting the minimum value and the maximum value."
   ]
  },
  {
   "cell_type": "code",
   "execution_count": null,
   "metadata": {},
   "outputs": [],
   "source": []
  },
  {
   "cell_type": "markdown",
   "metadata": {},
   "source": [
    "13\\. A bakery sells loaves of bread for \\$3.49 each. Day old bread is discounted by 60\n",
    "percent. Write a program that begins by reading the number of loaves of day old\n",
    "bread being purchased from the user. Then your program should display the regular\n",
    "price for the bread, the discount because it is a day old, and the total price. Each of\n",
    "these amounts should be displayed on its own line with an appropriate label. All of\n",
    "the values should be displayed using two decimal places, and the decimal points in\n",
    "all of the numbers should be aligned when reasonable values are entered by the user."
   ]
  },
  {
   "cell_type": "code",
   "execution_count": null,
   "metadata": {},
   "outputs": [],
   "source": []
  },
  {
   "cell_type": "markdown",
   "metadata": {},
   "source": [
    "## Lesson 2"
   ]
  },
  {
   "cell_type": "markdown",
   "metadata": {},
   "source": [
    "### Exercises\n",
    "\n",
    "All exercises in this section are taken from book \\[1\\]"
   ]
  },
  {
   "cell_type": "markdown",
   "metadata": {},
   "source": [
    "1\\. Write a program that reads an integer from the user. Then your program should display a message indicating whether the integer is even or odd."
   ]
  },
  {
   "cell_type": "code",
   "execution_count": null,
   "metadata": {},
   "outputs": [],
   "source": []
  },
  {
   "cell_type": "markdown",
   "metadata": {},
   "source": [
    "2\\. It is commonly said that one human year is equivalent to 7 dog years. However this simple conversion fails to recognize that dogs reach adulthood in approximately two years. As a result, some people believe that it is better to count each of the first two human years as 10.5 dog years, and then count each additional human year as 4 dog years.\n",
    "\n",
    "Write a program that implements the conversion from human years to dog years\n",
    "described in the previous paragraph. Ensure that your program works correctly for conversions of less than two human years and for conversions of two or more human years. Your program should display an appropriate error message if the user enters a negative number."
   ]
  },
  {
   "cell_type": "code",
   "execution_count": null,
   "metadata": {},
   "outputs": [],
   "source": []
  },
  {
   "cell_type": "markdown",
   "metadata": {},
   "source": [
    "3\\. In this exercise you will create a program that reads a letter of the alphabet from the user. If the user enters **a**, **e**, **i**, **o** or **u** then your program should display a message indicating that the entered letter is a vowel. If the user enters **y** then your program should display a message indicating that sometimes **y** is a vowel, and sometimes **y** is a consonant. Otherwise your program should display a message indicating that the letter is a consonant."
   ]
  },
  {
   "cell_type": "code",
   "execution_count": null,
   "metadata": {},
   "outputs": [],
   "source": []
  },
  {
   "cell_type": "markdown",
   "metadata": {},
   "source": [
    "4\\. The following table lists the sound level in decibels for several common noises.\n",
    "\n",
    "| Noise | Decibel Level |\n",
    "| :-- | :-- |\n",
    "| Jackhammer | 130 dB |\n",
    "| Gas Lawnmower | 106 dB |\n",
    "| Alarm Clock | 70 dB |\n",
    "| Quite Room | 40 dB |\n",
    "\n",
    "Write a program that reads a sound level in decibels from the user. If the user enters a decibel level that matches one of the noises in the table then your program should display a message containing only that noise. If the user enters a number of decibels between the noises listed then your program should display a message indicating which noises the value is between. Ensure that your program also generates reasonable output for a value smaller than the quietest noise in the table, and for a value larger than the loudest noise in the table."
   ]
  },
  {
   "cell_type": "code",
   "execution_count": null,
   "metadata": {},
   "outputs": [],
   "source": []
  },
  {
   "cell_type": "markdown",
   "metadata": {},
   "source": [
    "5\\. The year is divided into four seasons: spring, summer, fall (or autumn) and winter. While the exact dates that the seasons change vary a little bit from year to year because of the way that the calendar is constructed, we will use the following dates for this exercise:\n",
    "\n",
    "| Season | First Day |\n",
    "| :-- | :-- |\n",
    "| Spring | March 20 |\n",
    "| Summer | June 21 |\n",
    "| Fall | September 22 |\n",
    "| Winter | December 21 |\n",
    "\n",
    "Create a program that reads a month and day from the user. The user will\n",
    "enter the name of the month as a string, followed by the day within the month as an integer. Then your program should display the season associated with the date that was entered."
   ]
  },
  {
   "cell_type": "code",
   "execution_count": null,
   "metadata": {},
   "outputs": [],
   "source": []
  },
  {
   "cell_type": "markdown",
   "metadata": {},
   "source": [
    "6\\. The Chinese zodiac assigns animals to years in a 12 year cycle. One 12 year cycle is shown in the table below. The pattern repeats from there, with 2012 being another year of the dragon, and 1999 being another year of the hare.\n",
    "\n",
    "| Year | Animal |\n",
    "| :-- | :-- |\n",
    "| 2000 | Dragon\n",
    "| 2001 | Snake\n",
    "| 2002 | Horse\n",
    "| 2003 | Sheep\n",
    "| 2004 | Monkey\n",
    "| 2005 | Rooster\n",
    "| 2006 | Dog\n",
    "| 2007 | Pig\n",
    "| 2008 | Rat\n",
    "| 2009 | Ox\n",
    "| 2010 | Tiger\n",
    "| 2011 | Hare\n",
    "\n",
    "Write a program that reads a year from the user and displays the animal associated with that year. Your program should work correctly for any year greater than or equal to zero, not just the ones listed in the table."
   ]
  },
  {
   "cell_type": "code",
   "execution_count": null,
   "metadata": {},
   "outputs": [],
   "source": []
  },
  {
   "cell_type": "markdown",
   "metadata": {},
   "source": [
    "7\\. A roulette wheel has 38 spaces on it. Of these spaces, 18 are black, 18 are red, and two are green. The green spaces are numbered 0 and 00. The red spaces are numbered 1, 3, 5, 7, 9, 12, 14, 16, 18, 19, 21, 23, 25, 27, 30 32, 34 and 36. The remaining integers between 1 and 36 are used to number the black spaces. \n",
    "\n",
    "Many different bets can be placed in roulette. We will only consider the following subset of them in this exercise:\n",
    "\n",
    "- Single number (1 to 36, 0, or 00)\n",
    "- Red versus Black\n",
    "- Odd versus Even (Note that 0 and 00 do not pay out for even)\n",
    "- 1 to 18 versus 19 to 36\n",
    "\n",
    "Write a program that simulates a spin of a roulette wheel by using Python’s\n",
    "random number generator. Display the number that was selected and all of the bets that must be payed. For example, if 13 is selected then your program should display:\n",
    "\n",
    "```\n",
    "The  spin resulted in 13...\n",
    "Pay 13\n",
    "Pay Black\n",
    "Pay Odd\n",
    "Pay 1 to 18\n",
    "```\n",
    "\n",
    "If the simulation results in 0 or 00 then your program should display Pay 0\n",
    "or Pay 00 without any further output."
   ]
  },
  {
   "cell_type": "code",
   "execution_count": null,
   "metadata": {},
   "outputs": [],
   "source": []
  },
  {
   "cell_type": "markdown",
   "metadata": {},
   "source": [
    "8\\. In this exercise you will create a program that computes the average of a collection of values entered by the user. The user will enter 0 as a sentinel value to indicate\n",
    "that no further values will be provided. Your program should display an appropriate error message if the first value entered by the user is 0.\n",
    "\n",
    "_Hint: Because the 0 marks the end of the input it should not be included in the average._"
   ]
  },
  {
   "cell_type": "code",
   "execution_count": null,
   "metadata": {},
   "outputs": [],
   "source": []
  },
  {
   "cell_type": "markdown",
   "metadata": {},
   "source": [
    "9\\. Write a program that displays a temperature conversion table for degrees Celsius and degrees Fahrenheit. The table should include rows for all temperatures between 0 and 100 degrees Celsius that are multiples of 10 degrees Celsius. Include appropriate\n",
    "headings on your columns. The formula for converting between degrees Celsius and degrees Fahrenheit is as follows\n",
    "\n",
    "$$T_F=T_C \\times 9 / 5 + 32$$"
   ]
  },
  {
   "cell_type": "code",
   "execution_count": null,
   "metadata": {},
   "outputs": [],
   "source": []
  },
  {
   "cell_type": "markdown",
   "metadata": {},
   "source": [
    "10\\. A particular zoo determines the price of admission based on the age of the guest. Guests 2 years of age and less are admitted without charge. Children between 3 and 12 years of age cost \\\\$14.00. Seniors aged 65 years and over cost \\\\$18.00. Admission for all other guests is \\\\$23.00.\n",
    "\n",
    "Create a program that begins by reading the ages of all of the guests in a group\n",
    "from the user, with one age entered on each line. The user will enter a blank line to indicate that there are no more guests in the group. Then your program should display the admission cost for the group with an appropriate message. The cost should be displayed using two decimal places."
   ]
  },
  {
   "cell_type": "code",
   "execution_count": null,
   "metadata": {},
   "outputs": [],
   "source": []
  },
  {
   "cell_type": "markdown",
   "metadata": {},
   "source": [
    "11\\. The value of $\\pi$ can be approximated by the following infinite series:\n",
    "$$\\pi \\approx 3\n",
    "+ \\frac{4}{2\\times 3\\times 4}\n",
    "- \\frac{4}{4\\times 5\\times 6}\n",
    "+ \\frac{4}{6\\times 7\\times 8}\n",
    "- \\frac{4}{8\\times 9\\times 10}\n",
    "+ \\frac{4}{10\\times 11\\times 12}\n",
    "- \\cdots$$\n",
    "Write a program that displays 15 approximations of $\\pi$. The first approximation should make use of only the first term from the infinite series. Each additional approximation displayed by your program should include one more term in the series, making it a better approximation of $\\pi$ than any of the approximations displayed previously."
   ]
  },
  {
   "cell_type": "code",
   "execution_count": null,
   "metadata": {},
   "outputs": [],
   "source": []
  },
  {
   "cell_type": "markdown",
   "metadata": {},
   "source": [
    "12\\. Fizz-Buzz is a game that is sometimes played by children to help them learn about\n",
    "division. The players are commonly arranged in a circle so that the game can progress\n",
    "from player to player continually. The starting player begins by saying one, and then play passes to the player to the left. Each subsequent player is responsible for the next integer in sequence before play passes to the following player. On a player’s turn they must either say their number or one of following substitutions:\n",
    "\n",
    "- If the player’s number is divisible by 3 then the player says fizz instead of their number.\n",
    "- If the player’s number is divisible by 5 then the player says buzz instead of their number.\n",
    "\n",
    "A player must say both fizz and buzz for numbers that are divisible by both 3\n",
    "and 5. Any player that fails to perform the correct substitution or hesitates before\n",
    "answering is eliminated from the game. The last player remaining is the winner.\n",
    "Write a program that displays the answers for the first 100 numbers in the Fizz-\n",
    "Buzz game. Each answer should be displayed on its own line."
   ]
  },
  {
   "cell_type": "code",
   "execution_count": null,
   "metadata": {},
   "outputs": [],
   "source": []
  },
  {
   "cell_type": "markdown",
   "metadata": {},
   "source": [
    "13\\. Write a program that implements Newton’s method to compute and display the\n",
    "square root of a number, x, entered by the user. The algorithm for Newton’s method\n",
    "follows:\n",
    "```\n",
    "Read x from the user\n",
    "Initialize guess to x/2\n",
    "While guess is not good enough do\n",
    "    Update guess to be the average \n",
    "    of guess and x/guess\n",
    "```\n",
    "\n",
    "When this algorithm completes, guess contains an approximation of the square\n",
    "root of x. The quality of the approximation depends on how you define “good\n",
    "enough”. In the author’s solution, guess was considered good enough when the\n",
    "absolute value of the difference between guess∗guess and x was less than or equal\n",
    "to $10^{−12}$."
   ]
  },
  {
   "cell_type": "code",
   "execution_count": null,
   "metadata": {},
   "outputs": [],
   "source": []
  },
  {
   "cell_type": "markdown",
   "metadata": {},
   "source": [
    "14\\. A string is a palindrome if it is identical forward and backward. For example “anna”, “civic”, “level” and “hannah” are all examples of palindromic words. Write a program that reads a string from the user and uses a loop to determine whether or not it is a\n",
    "palindrome. Display the result, including a meaningful output message.\n",
    "\n",
    "_Aibohphobia is the extreme or irrational fear of palindromes. This word was constructed by prepending the -phobia suffix with it’s reverse, resulting in a palindrome. Ailihphilia is the fondness for or love of palindromes. It was constructed in the same manner from the -philia suffix._"
   ]
  },
  {
   "cell_type": "code",
   "execution_count": null,
   "metadata": {},
   "outputs": [],
   "source": []
  },
  {
   "cell_type": "markdown",
   "metadata": {},
   "source": [
    "## Lesson 3"
   ]
  },
  {
   "cell_type": "markdown",
   "metadata": {},
   "source": [
    "### Exercises\n",
    "\n",
    "All exercises in this section, except 4 and 5, are taken from book \\[1\\]"
   ]
  },
  {
   "cell_type": "markdown",
   "metadata": {},
   "source": [
    "1\\. In a particular jurisdiction, taxi fares consist of a base fare of \\\\$4.00, plus \\\\$0.25 for every 140 meters traveled. Write a function that takes the distance traveled (in kilometers) as its only parameter and returns the total fare as its only result. Write a main program that demonstrates the function. \n",
    "\n",
    "_Hint: Taxi fares change over time. Use constants to represent the base fare and the variable portion of the fare so that the program can be updated easily when the rates increase._"
   ]
  },
  {
   "cell_type": "code",
   "execution_count": null,
   "metadata": {},
   "outputs": [],
   "source": []
  },
  {
   "cell_type": "markdown",
   "metadata": {},
   "source": [
    "2\\. Words like first, second and third are referred to as ordinal numbers. In this exercise, you will write a function that takes an integer as its only parameter and returns a string containing the appropriate English ordinal number as its only result. Your function must handle the integers between 1 and 12 (inclusive). It should return an\n",
    "empty string if the function is called with an argument outside of this range. Include\n",
    "a main program that demonstrates your function by displaying each integer from 1 to 12 and its ordinal number."
   ]
  },
  {
   "cell_type": "code",
   "execution_count": null,
   "metadata": {},
   "outputs": [],
   "source": []
  },
  {
   "cell_type": "markdown",
   "metadata": {},
   "source": [
    "3\\. Many people do not use capital letters correctly, especially when typing on small\n",
    "devices like smart phones. To help address this situation, you will create a function\n",
    "that takes a string as its only parameter and returns a new copy of the string that has\n",
    "been correctly capitalized. In particular, your function must:\n",
    "\n",
    "- Capitalize the first non-space character in the string,\n",
    "- Capitalize the first non-space character after a period, exclamation mark or question mark, and\n",
    "- Capitalize a lowercase \"i\" if it is preceded by a space and followed by a space, period, exclamation mark, question mark or apostrophe.\n",
    "\n",
    "Implementing these transformations will correct most capitalization errors. For example, if the function is provided with the string \"what time do i have to be there? what’s the address? this time i’ll try to be on time!\" then it should return the string\n",
    "\"What time do I have to be there? What’s the address? This time I’ll try to be on time!\". Include a main program that reads a string from the user, capitalizes it using your function, and displays the result.\n"
   ]
  },
  {
   "cell_type": "code",
   "execution_count": null,
   "metadata": {},
   "outputs": [],
   "source": []
  },
  {
   "cell_type": "markdown",
   "metadata": {},
   "source": [
    "4\\. Create a class that checks the authorization. Its constructor takes correct user name and password and store them as attributes. To increase security the password must not be stored as it is. Convert it to hash using function `hash()`. Also the class has a method `check` that accepts a user name and password input by a user and return `True` if they are correct and `False` otherwise. Write a program that demonstrates how this class works."
   ]
  },
  {
   "cell_type": "code",
   "execution_count": null,
   "metadata": {},
   "outputs": [],
   "source": []
  },
  {
   "cell_type": "markdown",
   "metadata": {},
   "source": [
    "5\\. Passwords are never stored in their original form. A random string of symbols is added to each password and then hashed. The added string is called a \"salt\". \n",
    "\n",
    "Create a class whose constructor accepts and stores a salt string, and also it has a method `marinate()` that takes a password and return hash of the salted password. Compute hash using function `hash()`."
   ]
  },
  {
   "cell_type": "code",
   "execution_count": null,
   "metadata": {},
   "outputs": [],
   "source": []
  },
  {
   "cell_type": "markdown",
   "metadata": {},
   "source": [
    "6\\. When analyzing data collected as part of a science experiment it may be desirable\n",
    "to remove the most extreme values before performing other calculations. Write a function that takes a list of values and an non-negative integer, n, as its parameters. The function should create a new copy of the list with the n largest elements and the\n",
    "n smallest elements removed. Then it should return the new copy of the list as the function's only result. The order of the elements in the returned list does not have to match the order of the elements in the original list.\n",
    "\n",
    "Write a main program that demonstrates your function. It should read a list of\n",
    "numbers from the user and remove the two largest and two smallest values from it by\n",
    "calling the function described previously. Display the list with the outliers removed,\n",
    "followed by the original list. Your program should generate an appropriate error\n",
    "message if the user enters less than 4 values."
   ]
  },
  {
   "cell_type": "code",
   "execution_count": null,
   "metadata": {},
   "outputs": [],
   "source": []
  },
  {
   "cell_type": "markdown",
   "metadata": {},
   "source": [
    "7\\. Create a program that reads integers from the user until a blank line is entered. Once\n",
    "all of the integers have been read your program should display all of the negative numbers, followed by all of the zeros, followed by all of the positive numbers. Within each group the numbers should be displayed in the same order that they were entered by the user. For example, if the user enters the values 3, -4, 1, 0, -1, 0, and -2 then your program should output the values -4, -1, -2, 0, 0, 3, and 1. Your program should display each value on its own line.\n"
   ]
  },
  {
   "cell_type": "code",
   "execution_count": null,
   "metadata": {},
   "outputs": [],
   "source": []
  },
  {
   "cell_type": "markdown",
   "metadata": {},
   "source": [
    "8\\. Pig Latin is a language constructed by transforming English words. While the origins of the language are unknown, it is mentioned in at least two documents from the nineteenth century, suggesting that it has existed for more than 100 years. The following rules are used to translate English into Pig Latin:\n",
    "\n",
    "- If the word begins with a consonant (including y), then all letters at the beginning of the word, up to the first vowel (excluding y), are removed and then added to the end of the word, followed by ay. For example, computer becomes omputercay and think becomes inkthay. \n",
    "- If the word begins with a vowel (not including y), then way is added to the end of the word. For example, algorithm becomes algorithmway and office becomes officeway. \n",
    "\n",
    "Write a program that reads a line of text from the user. Then your program should\n",
    "translate the line into Pig Latin and display the result. You may assume that the string\n",
    "entered by the user only contains lowercase letters and spaces.\n"
   ]
  },
  {
   "cell_type": "code",
   "execution_count": null,
   "metadata": {},
   "outputs": [],
   "source": []
  },
  {
   "cell_type": "markdown",
   "metadata": {},
   "source": [
    "9\\. Create a program that determines and displays the number of unique characters in a string entered by the user. For example, \"Hello, World!\" has 10 unique characters while \"zzz\" has only one unique character. Use a dictionary or set to solve this problem.\n"
   ]
  },
  {
   "cell_type": "code",
   "execution_count": null,
   "metadata": {},
   "outputs": [],
   "source": []
  },
  {
   "cell_type": "markdown",
   "metadata": {},
   "source": [
    "10\\. While the popularity of cheques as a payment method has diminished in recent years, some companies still issue them to pay employees or vendors. The amount being paid normally appears on a cheque twice, with one occurrence written using digits, and the other occurrence written using English words. Repeating the amount in two\n",
    "different forms makes it much more difficult for an unscrupulous employee or vendor to modify the amount on the cheque before depositing it.\n",
    "\n",
    "In this exercise, your task is to create a function that takes an integer between 0 and 999 as its only parameter, and returns a string containing the English words for that number. For example, if the parameter to the function is 142 then your function should return \"one hundred forty two\". Use one or more dictionaries to implement your solution rather than large if/elif/else constructs. Include a main program that reads an integer from the user and displays its value in English words.\n"
   ]
  },
  {
   "cell_type": "code",
   "execution_count": null,
   "metadata": {},
   "outputs": [],
   "source": []
  },
  {
   "cell_type": "markdown",
   "metadata": {},
   "source": [
    "## Lesson 4"
   ]
  },
  {
   "cell_type": "markdown",
   "metadata": {},
   "source": [
    "### Exercises"
   ]
  },
  {
   "cell_type": "markdown",
   "metadata": {},
   "source": [
    "1\\. Write a program that creates a NumPy array containing 20 zeros, then reshape it to get a two-dimensional array with 5 rows and 4 columns. Print this array. Now assign to its middle area 1 to obtain an array whose the first and the last rows as well as the first and the last columns contain 0 and all others are 1. Print this array."
   ]
  },
  {
   "cell_type": "code",
   "execution_count": null,
   "metadata": {},
   "outputs": [],
   "source": []
  },
  {
   "cell_type": "markdown",
   "metadata": {},
   "source": [
    "2\\. Write a program that creates a NumPy array $x$ containing 11 equally spaced values from 0 to $2\\pi$. Now compute two new arrays: $s=\\sin x$ and $c=\\cos x$. Finally compute and print the result of expression $s^2 + c^2$"
   ]
  },
  {
   "cell_type": "code",
   "execution_count": null,
   "metadata": {},
   "outputs": [],
   "source": []
  },
  {
   "cell_type": "markdown",
   "metadata": {},
   "source": [
    "3\\. Create a program that reads president heights form a file `presidents.csv` (run the section below to obtain it) and store them into a NumPy array. Execute the section above to get this file in your working directory. Read only heights, without names. Then compute and print the smallest, the biggest and the mean height. "
   ]
  },
  {
   "cell_type": "code",
   "execution_count": null,
   "metadata": {},
   "outputs": [],
   "source": [
    "# Run this section to get a file with US presidens heights\n",
    "file_name = \"presidents.csv\"\n",
    "\n",
    "txt = ['Garfield, 183', 'Obama, 185', 'Bush, 182', 'Reagan, 185', 'Kennedy, 185', 'Grant, 173', 'Taft, 182', 'Johnson, 192', 'Coolidge, 178', 'Arthur, 188', 'Bush, 188', 'Wilson, 180', 'Monroe, 183', 'Buchanan, 183', 'Roosevelt, 188', 'Johnson, 178', 'Cleveland, 180', 'Jackson, 185', 'McKinley, 170', 'Harrison, 168', 'Polk, 173', 'Taylor, 173', 'Truman, 175', 'Harding, 183', 'Buren, 168', 'Ford, 183', 'Clinton, 188', 'Carter, 177', 'Q_Adams, 171', 'Trump, 191', 'Jefferson, 189', 'Nixon, 182', 'Pierce, 178', 'Washington, 188', 'Lincoln, 193', 'Madison, 163', 'Hoover, 182', 'Roosevelt, 178', 'Adams, 170', 'Tyler, 183', 'Fillmore, 175', 'Harrison, 173', 'Hayes, 174', 'Eisenhower, 179']\n",
    "with open(file_name, \"w\") as f:\n",
    "    for s in txt:\n",
    "        f.write(s + '\\n')"
   ]
  },
  {
   "cell_type": "code",
   "execution_count": null,
   "metadata": {},
   "outputs": [],
   "source": []
  },
  {
   "cell_type": "markdown",
   "metadata": {},
   "source": [
    "4\\. Create a program that reads both president heights and names. Collect names in a list, do not use a NumPy array for them. Then compute the smallest, the biggest and median heights and print them with the corresponding names. \n",
    "\n",
    "_Hint. Median is the value in the middle of a sorted array._"
   ]
  },
  {
   "cell_type": "code",
   "execution_count": null,
   "metadata": {},
   "outputs": [],
   "source": []
  },
  {
   "cell_type": "markdown",
   "metadata": {},
   "source": [
    "5\\. First run the section below to get a file \"sleep.csv\". This file contains three columns: sex, country and sleeping time. Create a program that reads this file converting the sleeping time from 'hh:mm' format to an integer numbers of minutes. Now print the answers to the following questions: What are the largest and the smallest sleeping time for males and females? In which country people sleep more? What is the average sleeping time?"
   ]
  },
  {
   "cell_type": "code",
   "execution_count": null,
   "metadata": {},
   "outputs": [],
   "source": [
    "# Run this section to get a file with sleep time\n",
    "file_name = \"sleep.csv\"\n",
    "\n",
    "txt = [\"Males, Belgium, 8:15\",\"Males, Bulgaria, 9:08\",\"Males, Germany, 8:08\",\"Males, Estonia, 8:24\",\"Males, Spain, 8:36\",\"Males, France, 8:45\",\"Males, Italy, 8:17\",\"Males, Latvia, 8:35\",\"Males, Lithuania, 8:28\",\"Males, Poland, 8:21\",\"Males, Slovenia, 8:18\",\"Males, Finland, 8:22\",\"Males, United Kingdom, 8:18\",\"Males, Norway, 7:56\",\"Females, Belgium, 8:34\",\"Females, Bulgaria, 9:07\",\"Females, Germany, 8:15\",\"Females, Estonia, 8:26\",\"Females, Spain, 8:32\",\"Females, France, 8:55\",\"Females, Italy, 8:19\",\"Females, Latvia, 8:44\",\"Females, Lithuania, 8:35\",\"Females, Poland, 8:35\",\"Females, Slovenia, 8:25\",\"Females, Finland, 8:32\",\"Females, United Kingdom, 8:27\",\"Females, Norway, 8:10\"]\n",
    "with open(file_name, \"w\") as f:\n",
    "    for s in txt:\n",
    "        f.write(s + '\\n')"
   ]
  },
  {
   "cell_type": "code",
   "execution_count": null,
   "metadata": {},
   "outputs": [],
   "source": []
  },
  {
   "cell_type": "markdown",
   "metadata": {},
   "source": [
    "## Lesson 5"
   ]
  },
  {
   "cell_type": "markdown",
   "metadata": {},
   "source": [
    "### Exercises"
   ]
  },
  {
   "cell_type": "markdown",
   "metadata": {},
   "source": [
    "1\\. In this exercise you will write the program the uses a regular expression to search the text below (execute the section to store the text in the variable `txt`) and extract words beginning with the capital letter. For example two first such words are 'Anglo' and 'Saxon'."
   ]
  },
  {
   "cell_type": "code",
   "execution_count": null,
   "metadata": {},
   "outputs": [],
   "source": [
    "txt = \"\"\"Anglo-Saxon Chronicle, chronological account of events in Anglo-Saxon and Norman \n",
    "England, a compilation of seven surviving interrelated manuscript records that is the primary \n",
    "source for the early history of England. The narrative was first assembled in the reign of \n",
    "King Alfred (871–899) from materials that included some epitome of universal history: the \n",
    "Venerable Bede’s Historia ecclesiastica gentis Anglorum, genealogies, regnal and episcopal lists, \n",
    "a few northern annals, and probably some sets of earlier West Saxon annals. The compiler also had \n",
    "access to a set of Frankish annals for the late 9th century. Soon after the year 890 several \n",
    "manuscripts were being circulated; one was available to Asser in 893, another, which appears \n",
    "to have gone no further than that year, to the late 10th-century chronicler Aethelweard, while \n",
    "one version, which eventually reached the north and which is best represented by the surviving \n",
    "E version, stopped in 892.\n",
    "\"\"\""
   ]
  },
  {
   "cell_type": "code",
   "execution_count": null,
   "metadata": {},
   "outputs": [],
   "source": []
  },
  {
   "cell_type": "markdown",
   "metadata": {},
   "source": [
    "2\\. In this exercise you will take two versions of the song 'Mary had a little lamb' below and \n",
    "write the program that uses a regular expression to find all words that go right after the name 'Mary' (execute the section to store the text in the variable `txt`). For example the first such word is 'had'"
   ]
  },
  {
   "cell_type": "code",
   "execution_count": null,
   "metadata": {},
   "outputs": [],
   "source": [
    "txt = \"\"\"Mary had a little lamb,\n",
    "Little lamb, little lamb,\n",
    "Mary had a little lamb\n",
    "Whose fleece was white as snow.\n",
    "\n",
    "And everywhere that Mary went,\n",
    "Mary went, Mary went,\n",
    "Everywhere that Mary went\n",
    "The lamb was sure to go.\n",
    "\"\"\""
   ]
  },
  {
   "cell_type": "code",
   "execution_count": null,
   "metadata": {},
   "outputs": [],
   "source": []
  }
 ],
 "metadata": {
  "colab": {
   "collapsed_sections": [],
   "name": "01 - Brief review of Python.ipynb",
   "provenance": []
  },
  "kernelspec": {
   "display_name": "Python 3 (ipykernel)",
   "language": "python",
   "name": "python3"
  },
  "language_info": {
   "codemirror_mode": {
    "name": "ipython",
    "version": 3
   },
   "file_extension": ".py",
   "mimetype": "text/x-python",
   "name": "python",
   "nbconvert_exporter": "python",
   "pygments_lexer": "ipython3",
   "version": "3.13.2"
  },
  "nbTranslate": {
   "displayLangs": [
    "*"
   ],
   "hotkey": "alt-t",
   "langInMainMenu": true,
   "sourceLang": "ru",
   "targetLang": "en",
   "useGoogleTranslate": true
  },
  "toc": {
   "base_numbering": 1,
   "nav_menu": {},
   "number_sections": true,
   "sideBar": true,
   "skip_h1_title": true,
   "title_cell": "Table of Contents",
   "title_sidebar": "Contents",
   "toc_cell": false,
   "toc_position": {
    "height": "calc(100% - 180px)",
    "left": "10px",
    "top": "150px",
    "width": "243.733px"
   },
   "toc_section_display": true,
   "toc_window_display": true
  }
 },
 "nbformat": 4,
 "nbformat_minor": 4
}
