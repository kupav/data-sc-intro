{
 "cells": [
  {
   "cell_type": "markdown",
   "metadata": {},
   "source": [
    "# 02 Visualization of data, Exercises \n",
    "\n",
    "Part of [\"Introduction to Data Science\" course](https://github.com/kupav/data-sc-intro) by Pavel Kuptsov, [kupav@mail.ru](mailto:kupav@mail.ru)"
   ]
  },
  {
   "cell_type": "markdown",
   "metadata": {},
   "source": [
    "## Lesson 1"
   ]
  },
  {
   "cell_type": "markdown",
   "metadata": {},
   "source": [
    "### Exercises"
   ]
  },
  {
   "cell_type": "markdown",
   "metadata": {},
   "source": [
    "1\\. Create a plot with graphs of two functions: $y=e^{-x^2}$ and $y=3x^2 e^{-x^2}$. Add x and y axes labels and the legend. Turn on the grid. Customize curve colors and styles."
   ]
  },
  {
   "cell_type": "code",
   "execution_count": null,
   "metadata": {},
   "outputs": [],
   "source": []
  },
  {
   "cell_type": "markdown",
   "metadata": {},
   "source": [
    "2\\. File `\"apple_vs_cabot.csv\"` that you can find at `\"https://raw.githubusercontent.com/kupav/data-sc-intro/main/data/\"` contains stock prices of \"Apple Inc.\" and \"Cabot Oil & Gas\" recorded  from 08 Feb 2013 till 07 Feb 2018. For simplicity instead of the actual date a day number within this range is stored in the file. Using an example above read this file and create a line plot demonstrating variation of theses two prices."
   ]
  },
  {
   "cell_type": "code",
   "execution_count": null,
   "metadata": {},
   "outputs": [],
   "source": []
  },
  {
   "cell_type": "markdown",
   "metadata": {},
   "source": [
    "3\\. Below is small dataset describing world total energy supply recorded at 2015 (execute the section below). Create a bar plot for it. Write text labels with values on each bar. Add x and y axes labels."
   ]
  },
  {
   "cell_type": "code",
   "execution_count": null,
   "metadata": {},
   "outputs": [],
   "source": [
    "# Total energy supply (TES) by source, World 2015\n",
    "# Unit of measurement: Thousand tons of oil equivalent (ktoe)\n",
    "# [\"Coal\", \"Natural gas\", \"Nuclear\", \"Hydro\", \"Wind, solar, etc\", \"Biofuels and waste\", \"Oil\"]\n",
    "dat = [3842742,2928795,670172,334851,203821,1271235,4328233]"
   ]
  },
  {
   "cell_type": "code",
   "execution_count": null,
   "metadata": {},
   "outputs": [],
   "source": []
  },
  {
   "cell_type": "markdown",
   "metadata": {},
   "source": [
    "4\\. File `\"moscow_temp.csv\"` that you can find at `\"https://raw.githubusercontent.com/kupav/data-sc-intro/main/data/\"` contains daily records of average temperature in Moscow for many years. Read this file and create a histogram showing how often certain temperatures are registered. The data are represented in Fahrenheit. Before plotting convert them into  Celsius. Add appropriate axes labels. "
   ]
  },
  {
   "cell_type": "code",
   "execution_count": null,
   "metadata": {},
   "outputs": [],
   "source": []
  },
  {
   "cell_type": "markdown",
   "metadata": {},
   "source": [
    "## Lesson 2"
   ]
  },
  {
   "cell_type": "markdown",
   "metadata": {},
   "source": [
    "### Exercises"
   ]
  },
  {
   "cell_type": "markdown",
   "metadata": {},
   "source": [
    "1\\. Create 3D surface plot of a function $z=x^2-y^2$. Add axes labels and color bar."
   ]
  },
  {
   "cell_type": "code",
   "execution_count": null,
   "metadata": {},
   "outputs": [],
   "source": []
  },
  {
   "cell_type": "markdown",
   "metadata": {},
   "source": [
    "2\\. Before doing the exercise find some image in the Internet and download it to your local directory. Now create a program that shows this image. Hide axes tics. Add a title to your plot and show there an image height, width and a number of colors."
   ]
  },
  {
   "cell_type": "code",
   "execution_count": null,
   "metadata": {},
   "outputs": [],
   "source": []
  },
  {
   "cell_type": "markdown",
   "metadata": {},
   "source": [
    "3\\. Take the dataset from a section where movies popularity are analyzed and plot a 3D scatter plot for it. Assign colors to markers according to one of the coordinates. Find the one that results in a more reasonable picture."
   ]
  },
  {
   "cell_type": "code",
   "execution_count": null,
   "metadata": {},
   "outputs": [],
   "source": []
  },
  {
   "cell_type": "markdown",
   "metadata": {},
   "source": [
    "4\\. Again take the dataset with movies popularity. Find 3 the largest and 3 the smallest popularity values and create a new array where 0 correspond to these three less popular movies, 2 are assigned to the three most popular movies and all other are marked by 1. Plot 3D scatter plot where marker colors are assigned according to this array."
   ]
  },
  {
   "cell_type": "code",
   "execution_count": null,
   "metadata": {},
   "outputs": [],
   "source": []
  },
  {
   "cell_type": "markdown",
   "metadata": {},
   "source": [
    "5\\. File `\"canberra_weather.csv\"` that you can find at `\"https://raw.githubusercontent.com/kupav/data-sc-intro/main/data/\"` contains daily weather observations for Canberra, Australian Capital Territory for June 2020. Read this file and create a line plot that show how minimal and maximal temperature changed day by day. Put labels with corresponding dates on x axes.4"
   ]
  },
  {
   "cell_type": "code",
   "execution_count": null,
   "metadata": {},
   "outputs": [],
   "source": []
  },
  {
   "cell_type": "markdown",
   "metadata": {},
   "source": [
    "6\\. File `\"chess_games.csv\"`  that you can find at `\"https://raw.githubusercontent.com/kupav/data-sc-intro/main/data/\"` contains a set of just over 20,000 games collected from a selection of users on the site `Lichess.org` (taken from public dataset collection at `https://www.kaggle.com/datasnaek/chess`). \n",
    "\n",
    "Read this file and take columns \"turns\", \"white_rating\" and \"black_rating\". Use `abs(\"white_rating\"-\"black_rating\")` (i.e., the absolute value of difference between columns \"white_rating\" and \"black_rating\") as x variable and column \"turns\" as y variable. Create 2D histogram for x and y variables that demonstrates how a number of game turns depends on the difference between the player rates. Add reasonable axes labels."
   ]
  },
  {
   "cell_type": "code",
   "execution_count": null,
   "metadata": {},
   "outputs": [],
   "source": []
  }
 ],
 "metadata": {
  "kernelspec": {
   "display_name": "Python 3 (ipykernel)",
   "language": "python",
   "name": "python3"
  },
  "language_info": {
   "codemirror_mode": {
    "name": "ipython",
    "version": 3
   },
   "file_extension": ".py",
   "mimetype": "text/x-python",
   "name": "python",
   "nbconvert_exporter": "python",
   "pygments_lexer": "ipython3",
   "version": "3.13.2"
  },
  "nbTranslate": {
   "displayLangs": [
    "*"
   ],
   "hotkey": "alt-t",
   "langInMainMenu": true,
   "sourceLang": "ru",
   "targetLang": "en",
   "useGoogleTranslate": true
  },
  "toc": {
   "base_numbering": 1,
   "nav_menu": {},
   "number_sections": true,
   "sideBar": true,
   "skip_h1_title": true,
   "title_cell": "Table of Contents",
   "title_sidebar": "Contents",
   "toc_cell": false,
   "toc_position": {
    "height": "calc(100% - 180px)",
    "left": "10px",
    "top": "150px",
    "width": "273.2px"
   },
   "toc_section_display": true,
   "toc_window_display": true
  }
 },
 "nbformat": 4,
 "nbformat_minor": 4
}
