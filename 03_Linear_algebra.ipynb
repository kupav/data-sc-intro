{
 "cells": [
  {
   "cell_type": "markdown",
   "metadata": {},
   "source": [
    "# 03 Linear algebra\n",
    "\n",
    "Part of [\"Introduction to Data Science\" course](https://github.com/kupav/data-sc-intro) by Pavel Kuptsov, [kupav@mail.ru](mailto:kupav@mail.ru)\n",
    "\n",
    "Recommended reading for this section:\n",
    "\n",
    "1. Grus, J. (2019). Data Science From Scratch: First Principles with Python (Vol. Second edition). Sebastopol, CA: O’Reilly Media\n",
    "1. Williams, G. (2019). Linear Algebra with Applications (Vol. Ninth edition). Burlington, MA: Jones & Bartlett Learning. \n",
    "\n",
    "The following Python modules will be required. Make sure that you have them installed.\n",
    "- `matplotlib`\n",
    "- `numpy`"
   ]
  },
  {
   "cell_type": "markdown",
   "metadata": {},
   "source": [
    "## Lesson 1"
   ]
  },
  {
   "cell_type": "markdown",
   "metadata": {},
   "source": [
    "### Linear, affine and non-linear operations\n",
    "\n",
    "Everything starts from equations due to their great importance for practice. \n",
    "Most of all problems solved with the help of mathematics are represented as \n",
    "an equation or as an equation set. \n",
    "\n",
    "When we need to solve equations we develop mathematical methods and concepts \n",
    "for this. That is how many mathematical branches appear.\n",
    "\n",
    "Equation: given the formula \n",
    "$$ax=b$$\n",
    "find the unknown $x$.\n",
    "\n",
    "Another equation:\n",
    "$$ax^2+bx+c=0$$\n",
    "Also one needs to find $x$.\n",
    "\n",
    "The first equation is _linear_ while the second one is _non-linear_\n",
    "\n",
    "The first equation is linear since $x$ undergoes only _linear_ operations.\n",
    "\n",
    "So we can classify operations done with the unknown of an equation.\n",
    "\n",
    "Let $f(x)$ be some operation. For example\n",
    "$$f(x)=ax$$<br/>\n",
    "$$f(x)=ax+k$$<br/>\n",
    "$$f(x)=\\sin x$$<br/>\n",
    "$$f(x)=x^2$$\n",
    "\n",
    "So let $f(x)$ be some operation, not necessary one of those above. It is said to be linear if the following holds:\n",
    "\n",
    "$$f(x+y) = f(x) + f(y)$$<br/>\n",
    "$$f(cx) = cf(x)$$\n",
    "\n",
    "where $x$ and $y$ are variables and $c$ is merely a number.\n",
    "\n",
    "Only $f(x)=ax$ is a linear operation:\n",
    "\n",
    "$$f(x+y)=a(x+y)=ax+ay=f(x)+f(y)$$<br/>\n",
    "$$f(cx)=cax=cf(x)$$\n",
    "\n",
    "Let us test $f(x)=ax+k$:\n",
    "\n",
    "$$f(x+y)=a(x+y)+k=ax+ay+k\\neq f(x)+f(y)$$\n",
    "\n",
    "Due to $k$ the equality is not fulfilled.\n",
    "\n",
    "The operation\n",
    "$$f(x)=ax+k$$\n",
    "is called affine. This is linear operation with a shift.\n",
    "\n",
    "All other operations are non-linear.\n",
    "\n",
    "An equation \n",
    "$$ax=b$$\n",
    "reads: find such $x$ whose linear transformation $ax$ results in $b$. \n",
    "That is why this is equation is linear."
   ]
  },
  {
   "cell_type": "markdown",
   "metadata": {},
   "source": [
    "### Linear equations\n",
    "\n",
    "The question: what a mathematical object can be denoted by $x$? Mathematics give a lot of different answers to this questions, and we need only some of them.\n",
    "\n",
    "The simplest case: $x$ is denotes some unknown number. We will say that $x$ is _a scalar_. On this occasion $a$ and $b$ are also scalars. We can find $x$ as follows:\n",
    "$$ax=b$$<br/>\n",
    "$$x=b/a$$\n",
    "provided that $a\\neq0$. \n",
    "\n",
    "If $a=0$ there are two options. If $b\\neq 0$ a solution does not exist. But if $b=0$ any $x$ fulfills the equations. A bit later we will consider similar options for equation sets."
   ]
  },
  {
   "cell_type": "markdown",
   "metadata": {},
   "source": [
    "But what if we have a problem with two unknown scalars, say $x_0$ and $x_1$, that depend on each other? In this case we have an equation set:\n",
    "\n",
    "$$a_{00} x_0 + a_{01} x_1 = b_0$$\n",
    "$$a_{10} x_0 + a_{11} x_1 = b_1$$\n",
    "\n",
    "How these equation appears, why this structure? \n",
    "We just have taken into account all possibilities being limited by linear operations.\n",
    "\n",
    "Observe that in the left hand sides we have linear operations both with $x_0$ and with $x_1$. \n",
    "\n",
    "Why for two unknowns we have written exactly two equations? One equation would be not enough to find both $x_0$ and $x_1$:\n",
    "$$a_{00} x_0 + a_{01} x_1 = b_0$$<br/>\n",
    "$$a_{00} x_0 = b_0 - a_{01} x_1$$<br/>\n",
    "$$x_0 = \\frac{b_0 - a_{01} x_1}{a_{00}}$$\n",
    "The third equation is either a combination of two others and thus does not needed at all, or makes the whole system inconsistent.\n",
    "\n",
    "Just to make ourself more comfortable with it, let us solve the equation set.\n",
    "First we need to take one of the equations and solve it for one of the variables. We have already done it above:\n",
    "\n",
    "$$x_0 = \\frac{b_0 - a_{01} x_1}{a_{00}}$$\n",
    "\n",
    "Now let us substitute it to the other equation: we take the second equation\n",
    "\n",
    "$$a_{10} x_0 + a_{11} x_1 = b_1$$\n",
    "\n",
    "and write instead of $x_0$ its expression:\n",
    "\n",
    "$$a_{10} \\left(\\frac{b_0 - a_{01} x_1}{a_{00}}\\right) + a_{11} x_1 = b_1$$\n",
    "\n",
    "Now find $x_1$ from here:\n",
    "\n",
    "$$a_{10} (b_0 - a_{01} x_1) + a_{11}a_{00} x_1 = b_1 a_{00}$$<br/>\n",
    "$$a_{10} b_0 - a_{10} a_{01} x_1 + a_{11}a_{00} x_1 = b_1 a_{00}$$<br/>\n",
    "$$a_{10} b_0 - (a_{10} a_{01} - a_{11}a_{00}) x_1 = b_1 a_{00}$$<br/>\n",
    "$$-(a_{10} a_{01} - a_{11}a_{00}) x_1 = b_1 a_{00}-a_{10} b_0$$<br/>\n",
    "$$x_1 = \\frac{b_1 a_{00}-a_{10} b_0}{-(a_{10} a_{01} - a_{11}a_{00})}$$<br/>\n",
    "<br/>\n",
    "$$x_1 = \\frac{a_{00}b_1-a_{10} b_0}{a_{11}a_{00} - a_{10} a_{01}},\\;\\;x_0 = \\frac{b_0 - a_{01} x_1}{a_{00}}$$\n",
    "\n",
    "Let us now consider an example:"
   ]
  },
  {
   "cell_type": "code",
   "execution_count": null,
   "metadata": {},
   "outputs": [],
   "source": [
    "a = [[-1.0, 2.0], [2.0, 4.0]]\n",
    "b = [3.0, -4.0]\n",
    "\n",
    "x1 = (a[0][0] * b[1] - a[1][0] * b[0]) / (a[1][1] * a[0][0] - a[1][0] * a[0][1])\n",
    "\n",
    "x0 = (b[0] - a[0][1] * x1) / a[0][0]\n",
    "\n",
    "print(f\"x0={x0}, x1={x1}\")"
   ]
  },
  {
   "cell_type": "code",
   "execution_count": null,
   "metadata": {},
   "outputs": [],
   "source": [
    "# Check if the solution is correct\n",
    "b0_new = a[0][0] * x0 + a[0][1] * x1\n",
    "b1_new = a[1][0] * x0 + a[1][1] * x1\n",
    "\n",
    "W = 5\n",
    "print(f\"b0_new={b0_new:{W}}, b[0]={b[0]:{W}}\")\n",
    "print(f\"b1_new={b1_new:{W}}, b[1]={b[1]:{W}}\")"
   ]
  },
  {
   "cell_type": "markdown",
   "metadata": {},
   "source": [
    "But what if $a_{11}a_{00} - a_{10} a_{01}=0$? Looking ahead, this expression is called determinant. If the determinant is zero the obtained formulas become incorrect due to division by zero. \n",
    "\n",
    "It occurs when the left hand sides are not so different:"
   ]
  },
  {
   "cell_type": "code",
   "execution_count": null,
   "metadata": {},
   "outputs": [],
   "source": [
    "a = [[-1.0, 2.0], [2.0, -4.0]]\n",
    "print(f\"det={a[1][1] * a[0][0] - a[1][0] * a[0][1]}\")"
   ]
  },
  {
   "cell_type": "markdown",
   "metadata": {},
   "source": [
    "$$-x_0 + 2 x_1=b_0$$\n",
    "$$2 x_0 - 4 x_1=b_1$$"
   ]
  },
  {
   "cell_type": "markdown",
   "metadata": {},
   "source": [
    "Observe what happens if we multiply the first equation by $-2$:\n",
    "\n",
    "$$-2(-x_0 + 2 x_1)=-2 b_0$$\n",
    "$$2 x_0 - 4 x_1=b_1$$\n",
    "<br/>\n",
    "$$2x_0 - 4 x_1=-2 b_0$$\n",
    "$$2 x_0 - 4 x_1=b_1$$\n",
    "\n",
    "Again we have two options. If $b_1\\neq -2 b_0$ this equation set have no solutions.\n",
    "\n",
    "But if $b_1=-2 b_0$, in particular at $b_0=b_1=0$, the two equations becomes fully identical. Initial equations in this case are called linear dependent since one equation is proportional to another.\n",
    "\n",
    "One of the unknowns can have an arbitrary value and the other one is computed from one of the equations:\n",
    "$$x_0 = \\frac{b_0 - a_{01} x_1}{a_{00}}$$\n",
    "In other words there are infinitely many solutions.\n",
    "\n",
    "For example:"
   ]
  },
  {
   "cell_type": "code",
   "execution_count": null,
   "metadata": {},
   "outputs": [],
   "source": [
    "import numpy as np\n",
    "rng = np.random.default_rng()"
   ]
  },
  {
   "cell_type": "code",
   "execution_count": null,
   "metadata": {},
   "outputs": [],
   "source": [
    "a = [[-1.0, 2.0], [2.0, -4.0]]\n",
    "print(f\"det={a[1][1] * a[0][0] - a[1][0] * a[0][1]}\")\n",
    "\n",
    "b = [2, -4.0]\n",
    "\n",
    "x1 = rng.standard_normal()\n",
    "print(f\"Generate random x1: {x1}\")\n",
    "\n",
    "x0 = (b[0] - a[0][1] * x1) / a[0][0]\n",
    "\n",
    "print(f\"Solution with random x1: x0={x0}, x1={x1}\")\n",
    "\n",
    "# Check if the solution is correct\n",
    "b0_new = a[0][0] * x0 + a[0][1] * x1\n",
    "b1_new = a[1][0] * x0 + a[1][1] * x1\n",
    "\n",
    "W = 5\n",
    "print(f\"b0_new={b0_new:{W}}, b[0]={b[0]:{W}}\")\n",
    "print(f\"b1_new={b1_new:{W}}, b[1]={b[1]:{W}}\")"
   ]
  },
  {
   "cell_type": "markdown",
   "metadata": {},
   "source": [
    "What if there are three variables: $x_1$, $x_2$, and $x_3$ and three linear equations for them?\n",
    "\n",
    "Everything is basically the same. Again one have to compute the determinant. If this is non-zero there is a single solution, and for zero determinant there are two options: either no solution or infinitely many solutions."
   ]
  },
  {
   "cell_type": "markdown",
   "metadata": {},
   "source": [
    "### Sets of linear equations: appearing vectors and matrices\n",
    "\n",
    "There is a unified approach for linear equations.\n",
    "\n",
    "Let us compose two scalars $x_0$ and $x_1$ as a column and call it a vector:\n",
    "$$\\vec x = \\begin{pmatrix} x_0 \\\\ x_1 \\end{pmatrix}$$\n",
    "\n",
    "Also compose a vector of $b_0$ and $b_1$:\n",
    "$$\\vec b = \\begin{pmatrix} b_0 \\\\ b_1 \\end{pmatrix}$$\n",
    "\n",
    "Let us compose equation coefficients into a $2\\times 2$ table and call it a matrix:\n",
    "$$A = \\begin{pmatrix} a_{00} & a_{01} \\\\ a_{10} & a_{11} \\end{pmatrix}$$\n",
    "\n",
    "Now we define a matrix-vector multiplication as follows:\n",
    "$$\n",
    "\\begin{pmatrix} a_{00} & a_{01} \\\\ a_{10} & a_{11} \\end{pmatrix}\n",
    "\\begin{pmatrix} x_0 \\\\ x_1 \\end{pmatrix}=\n",
    "\\begin{pmatrix} a_{00} x_0 + a_{01} x_1 \\\\ a_{10} x_0 + a_{11} x_1 \\end{pmatrix}\n",
    "$$\n",
    "- Take the first row of the matrix and the vector\n",
    "- Multiply corresponding components: first by first, second by second\n",
    "- Sum the results of the multiplications. This is the first resulting component\n",
    "- Do the same with the second row\n",
    "\n",
    "Thus the equation set can be written as follows:\n",
    "$$\n",
    "\\begin{pmatrix} a_{00} & a_{01} \\\\ a_{10} & a_{11} \\end{pmatrix}\n",
    "\\begin{pmatrix} x_0 \\\\ x_1 \\end{pmatrix}=\n",
    "\\begin{pmatrix} b_0 \\\\ b_1 \\end{pmatrix}\n",
    "$$\n",
    "or in a compact form:\n",
    "$$\n",
    "A \\vec x = \\vec b\n",
    "$$\n",
    "\n",
    "In the same way we can construct larger vectors, with three, four or more entries. In general vectors $\\vec x$ and $\\vec b$ contain $N$ components and a matrix is a table of $N\\times N$ components\n",
    "\n",
    "Recall the question above: what a mathematical object can be denoted by $x$? We see now that linear equation can be written for vectors."
   ]
  },
  {
   "cell_type": "markdown",
   "metadata": {},
   "source": [
    "### Two useful drawing functions\n",
    "\n",
    "In what follows we will need two functions for convenient drawing vectors and lines."
   ]
  },
  {
   "cell_type": "code",
   "execution_count": null,
   "metadata": {},
   "outputs": [],
   "source": [
    "def draw_vector(ax, label, color, vec, orig):\n",
    "    \"\"\"\n",
    "    Draw a vector\n",
    "    -------------\n",
    "    ax : axes\n",
    "        The axes to draw\n",
    "    label : str\n",
    "        The label of the vector\n",
    "    color : str\n",
    "        Color specification\n",
    "    vec : list of two comopnents\n",
    "        The vector - shifts dx and dy from orig\n",
    "    orig : list of two components\n",
    "        The vector begining point\n",
    "    \"\"\"\n",
    "    \n",
    "    vec_end = [orig[0] + vec[0], orig[1] + vec[1]] \n",
    "    ax.annotate(\"\", \n",
    "                xytext=orig,  # arrow begining point\n",
    "                xy=vec_end,   # arrow end point\n",
    "                arrowprops={'color': color});\n",
    "\n",
    "    # Draw a transparent circle around a label to improve visibility\n",
    "    bbox = {'facecolor':'w',\n",
    "            'edgecolor': 'w',\n",
    "            'boxstyle': 'circle',\n",
    "            'alpha': 0.8}\n",
    "\n",
    "    # Add a text in the middle of the arrow\n",
    "    ax.text(orig[0] + 0.5*vec[0], orig[1] + 0.5*vec[1], label,\n",
    "           fontsize=16, bbox=bbox, va='center', ha='center')\n",
    "\n",
    "def draw_line(ax, label, beg, end, linestyle='-', lw=4):\n",
    "    \"\"\"\n",
    "    Draw a line (without an arrow)\n",
    "    ------------------------------\n",
    "    ax : axes\n",
    "        The axes to draw\n",
    "    label : str\n",
    "        The label of the vector\n",
    "    p_beg : list of two components\n",
    "        Staring coordinates\n",
    "    p_end : \n",
    "        Ending coordinates\n",
    "    \"\"\"\n",
    "\n",
    "    ax.annotate(\"\", \n",
    "                xytext=beg,\n",
    "                xy=end,\n",
    "                arrowprops={'color': '0.5',          # this is 50% of gray level\n",
    "                            'arrowstyle': '-',       # no arrow, just a line\n",
    "                            'linestyle': linestyle,  # sometimes we will need dahsed lines\n",
    "                            'lw': lw});              # line width\n",
    "\n",
    "    if label != '':\n",
    "        # Draw a transparent circle around a label to improve visibility\n",
    "        bbox = {'facecolor':'w',\n",
    "                'edgecolor': 'w',\n",
    "                'boxstyle': 'circle',\n",
    "                'alpha': 0.8}\n",
    "\n",
    "        # Add a text in the middle of the arrow\n",
    "        mid = [0.5 * (pb + pe) for pb, pe in zip(beg, end)]\n",
    "        ax.text(mid[0], mid[1], label,\n",
    "               fontsize=16, bbox=bbox, va='center', ha='center')"
   ]
  },
  {
   "cell_type": "markdown",
   "metadata": {},
   "source": [
    "### The vectors\n",
    "\n",
    "From a practical point of view a vector as an array of numbers. \n",
    "\n",
    "Recall that earlier we discussed one dimensional arrays: these are sequences of numbers. Also there were two dimensional arrays:  tables of numbers. Vectors are one dimensional arrays. A bit later we will consider matrices that are the two dimensional arrays.\n",
    "\n",
    "Usually a vector consists of real numbers, but also it can be integers, complex numbers and some others.\n",
    "\n",
    "Number of coordinates (the length of the array) equals to the dimension of a space where a vector is defined: Two coordinates for vectors in 2D space, three coordinates for 3D space and so on.\n",
    "\n",
    "Do not confuse: we have used the word \"dimension\" two times with two different meanings. The array dimension refers to a structure of vector representation. This is equal to one always. The space dimension is a number of vector components, its size. It refers to the playground were the vectors exist. It can have any value, from one to even infinity.\n",
    "\n",
    "Geometrically a vector is an arrow specifying some point in space. Sometimes instead of vectors we say about the points themselves. \n",
    "\n",
    "Let us draw a 2D vector:"
   ]
  },
  {
   "cell_type": "code",
   "execution_count": null,
   "metadata": {},
   "outputs": [],
   "source": [
    "# Vector in 2D space\n",
    "vec = [0.7, 0.8]\n",
    "\n",
    "import matplotlib.pyplot as plt\n",
    "\n",
    "fig, ax = plt.subplots(figsize=(5,5))\n",
    "\n",
    "ax.set_xlim([0, 1])\n",
    "ax.set_ylim([0, 1])\n",
    "\n",
    "draw_line(ax, label=r'$x_0$', beg=vec, end=[0, vec[1]])\n",
    "draw_line(ax, label=r'$x_1$', beg=vec, end=[vec[0], 0])\n",
    "draw_vector(ax, label=r'$\\vec v$', color='C0', vec=vec, orig=[0,0])\n",
    "\n",
    "ax.set_xlabel('$x_0$')\n",
    "ax.set_ylabel('$x_1$')\n",
    "\n",
    "ax.grid();"
   ]
  },
  {
   "cell_type": "markdown",
   "metadata": {},
   "source": [
    "If needed a vector can be shifted from the origin:"
   ]
  },
  {
   "cell_type": "code",
   "execution_count": null,
   "metadata": {},
   "outputs": [],
   "source": [
    "# Shifted vector in 2D space\n",
    "orig = [0.2, 0.1]\n",
    "vec = [0.7, 0.8]\n",
    "\n",
    "import matplotlib.pyplot as plt\n",
    "\n",
    "fig, ax = plt.subplots(figsize=(5,5))\n",
    "\n",
    "ax.set_xlim([0, 1])\n",
    "ax.set_ylim([0, 1])\n",
    "\n",
    "# Lines x and y\n",
    "draw_line(ax, label=r'$x_0$', beg=[vec[0] + orig[0], vec[1] + orig[1]], end=[orig[0], vec[1] + orig[1]])\n",
    "draw_line(ax, label=r'$x_1$', beg=[vec[0] + orig[0], vec[1] + orig[1]], end=[vec[0] + orig[0], orig[1]])\n",
    "\n",
    "# Dashed lines as delimites\n",
    "draw_line(ax, label='', beg=[orig[0], vec[1] + orig[1]], end=orig, lw=2, linestyle='--')\n",
    "draw_line(ax, label='', beg=[vec[0] + orig[0], orig[1]], end=orig, lw=2, linestyle='--')\n",
    "\n",
    "# The vector\n",
    "draw_vector(ax, label=r'$\\vec v$', color='C0', vec=vec, orig=orig)\n",
    "\n",
    "ax.set_xlabel('$x_0$')\n",
    "ax.set_ylabel('$x_1$')\n",
    "\n",
    "ax.grid();"
   ]
  },
  {
   "cell_type": "markdown",
   "metadata": {},
   "source": [
    "### A bit deeper into mathematics \n",
    "\n",
    "(Actually this is not very important for us):\n",
    "\n",
    "Rigorously, a vector is a mathematical object with some properties. \n",
    "If we want to show it, we choose coordinate axes and then represent \n",
    "a vector with respect to these axes as a 1D array of scalar coordinates.\n",
    "\n",
    "Thus an array of coordinates is not the vector itself, this is \n",
    "its particular representation.\n",
    "\n",
    "We can choose other coordinate axes and represent the vector with respect \n",
    "to them. We will obtain another set of coordinates representing the same vector.\n",
    "\n",
    "Again, $\\vec v$ is the vector, a mathematical object, and array of \n",
    "coordinates, say $(-3, 1)$ is just one of its representations."
   ]
  },
  {
   "cell_type": "markdown",
   "metadata": {},
   "source": [
    "### Vector-columns and vector-rows. Transposition\n",
    "\n",
    "There are row-vectors and column-vectors. A row vector:\n",
    "$$\n",
    "\\vec v = (x_0, x_1)\n",
    "$$\n",
    "A column vector:\n",
    "$$\n",
    "\\vec v = \\begin{pmatrix}x_0 \\\\ x_1 \\end{pmatrix}\n",
    "$$\n",
    "A row-vector is transformed into a column vector and back trough operation named transposition. It is denoted as the superscript \"T\":\n",
    "$$\n",
    "(x_0, x_1)^{\\mathrm{T}}=\\begin{pmatrix}x_0 \\\\ x_1 \\end{pmatrix},\\;\\;\n",
    "\\begin{pmatrix}x_0 \\\\ x_1 \\end{pmatrix}^{\\mathrm{T}}=(x_0, x_1)\n",
    "$$\n",
    "\n",
    "In texts column vectors take more space then row vectors. That is why column vectors sometimes are written as transposed row vectors. For example\n",
    "$$\n",
    "(x_0, x_1)^{\\mathrm{T}}\n",
    "$$\n",
    "actually means \n",
    "$$\n",
    "\\begin{pmatrix}x_0 \\\\ x_1 \\end{pmatrix}\n",
    "$$"
   ]
  },
  {
   "cell_type": "code",
   "execution_count": null,
   "metadata": {},
   "outputs": [],
   "source": [
    "# Row vector as a Python list\n",
    "row_vec = [2, 3, -1]\n",
    "\n",
    "# Col vector - sequence of unit length rows\n",
    "col_vec = [[2], [3], [-1]]\n",
    "\n",
    "print(f\"row_vec={row_vec}\")\n",
    "print(f\"col_vec={col_vec}\")"
   ]
  },
  {
   "cell_type": "markdown",
   "metadata": {},
   "source": [
    "For mathematics the difference between row and column vectors is essential. For computations sometimes it is ignored for simplicity: row vectors can be used where the columns are required in a strict sense."
   ]
  },
  {
   "cell_type": "markdown",
   "metadata": {},
   "source": [
    "### Vector addition and subtraction\n",
    "\n",
    "Vectors admits arithmetic: two of them  can be added or subtracted. Addition and subtraction is a componentwise operation:\n",
    "\n",
    "Let\n",
    "$$\n",
    "\\vec v_1 = (3.0, 4.0), \\; \n",
    "\\vec v_2 = (1.5, -1.5)\n",
    "$$\n",
    "Their sum is\n",
    "$$\n",
    "\\vec v_1 + \\vec v_2 = (3.0, 4.0) + (1.5, -1.5) = (4.5, 2.5)\n",
    "$$\n",
    "\n",
    "Let us implement a vector addition as a function. Vectors can have arbitrary dimensions.\n",
    "\n",
    "Actually, we will use NumPy arrays as vectors. The componentwise addition rule is already implemented for them. But now we are going to get aquainted better with vectors."
   ]
  },
  {
   "cell_type": "code",
   "execution_count": null,
   "metadata": {},
   "outputs": [],
   "source": [
    "def vector_add(vec1, vec2):\n",
    "    \"\"\"\n",
    "    Vector addition vec1 + vec2\n",
    "    \"\"\"\n",
    "    assert len(vec1) == len(vec2)  # lengths must be identical\n",
    "    \n",
    "    return [v1 + v2 for v1, v2 in zip(vec1, vec2)]"
   ]
  },
  {
   "cell_type": "code",
   "execution_count": null,
   "metadata": {},
   "outputs": [],
   "source": [
    "vec1 = [2.3, 3.5, -1.2, 5.7]\n",
    "vec2 = [1.7, -1.5, 1.2, 1.3]\n",
    "vec3 = [2.7, 2.5, -0.8, -0.7, 1.2]"
   ]
  },
  {
   "cell_type": "code",
   "execution_count": null,
   "metadata": {},
   "outputs": [],
   "source": [
    "# try to add vec1 and vec2\n",
    "try:\n",
    "    vec_sum_12 = vector_add(vec1, vec2)\n",
    "    print(f\"vec_sum_12={vec_sum_12}\")\n",
    "except AssertionError:\n",
    "    print(\"Dimensions are incompatible\")"
   ]
  },
  {
   "cell_type": "code",
   "execution_count": null,
   "metadata": {},
   "outputs": [],
   "source": [
    "# try to add vec1 and vec3 - will fail\n",
    "try:\n",
    "    vec_sum_13 = vector_add(vec1, vec3)\n",
    "    print(f\"vec_sum_13={vec_sum_13}\")\n",
    "except AssertionError:\n",
    "    print(\"Dimensions are incompatible\")"
   ]
  },
  {
   "cell_type": "markdown",
   "metadata": {},
   "source": [
    "An illustration: how the vectors additions looks geometrically"
   ]
  },
  {
   "cell_type": "code",
   "execution_count": null,
   "metadata": {},
   "outputs": [],
   "source": [
    "import matplotlib.pyplot as plt\n",
    "\n",
    "fig, ax = plt.subplots(figsize=(5,5))\n",
    "\n",
    "ax.set_xlim([-0.5, 5])\n",
    "ax.set_ylim([-0.5, 5])\n",
    "\n",
    "ax.set_xlabel('$x_0$')\n",
    "ax.set_ylabel('$x_1$')\n",
    "\n",
    "vec1 = [3.0, 4.0]\n",
    "vec2 = [1.5, -1.5]\n",
    "vec_sum = vector_add(vec1, vec2)\n",
    "\n",
    "draw_vector(ax, r'$\\vec v_1$', 'C0', vec1, orig=[0, 0])\n",
    "draw_vector(ax, r'$\\vec v_2$', 'C1', vec2, orig=vec1)\n",
    "draw_vector(ax, r'$\\vec v_1+\\vec v_2$', 'C2', vec_sum, orig=[0, 0])\n",
    "\n",
    "ax.grid();"
   ]
  },
  {
   "cell_type": "markdown",
   "metadata": {},
   "source": [
    "Now consider a vector subtraction: \n",
    "\n",
    "$$\n",
    "\\vec v_1 = (3.3, -4.2), \\; \n",
    "\\vec v_2 = (1.3, 2.8)\n",
    "$$\n",
    "<br/>\n",
    "$$\n",
    "\\vec v_1 - \\vec v_2 = (3.3, -4.2) - (1.3, 2.8) = (2.0, -7.0)\n",
    "$$\n",
    "\n",
    "The function can be obtained easily from the addition by changing plus to minus:"
   ]
  },
  {
   "cell_type": "code",
   "execution_count": null,
   "metadata": {},
   "outputs": [],
   "source": [
    "def vector_sub(vec1, vec2):\n",
    "    \"\"\"\n",
    "    Vector subtraction: vec1 - vec2\n",
    "    \"\"\"\n",
    "    assert len(vec1) == len(vec2)\n",
    "    \n",
    "    # The difference is here: \"-\" instead of \"+\"\n",
    "    return [v1 - v2 for v1, v2 in zip(vec1, vec2)]"
   ]
  },
  {
   "cell_type": "code",
   "execution_count": null,
   "metadata": {},
   "outputs": [],
   "source": [
    "vec1 = [3.2, -1.0, 2.7, 3.8]\n",
    "vec2 = [1.2, 1.0, 0.7, 1.8]\n",
    "vec_dif = vector_sub(vec1, vec2)\n",
    "print(vec_dif)"
   ]
  },
  {
   "cell_type": "markdown",
   "metadata": {},
   "source": [
    "A geometric illustration"
   ]
  },
  {
   "cell_type": "code",
   "execution_count": null,
   "metadata": {},
   "outputs": [],
   "source": [
    "import matplotlib.pyplot as plt\n",
    "\n",
    "fig, ax = plt.subplots(figsize=(5,5))\n",
    "\n",
    "ax.set_xlim([-0.5, 5])\n",
    "ax.set_ylim([-0.5, 5])\n",
    "\n",
    "ax.set_xlabel('$x_0$')\n",
    "ax.set_ylabel('$x_1$')\n",
    "\n",
    "vec1 = [4.5, 2.5]\n",
    "vec2 = [3, -2]\n",
    "vec_dif = vector_sub(vec1, vec2)\n",
    "\n",
    "draw_vector(ax, r'$\\vec v_1$', 'C0', vec1, orig=[0, 0])\n",
    "draw_vector(ax, r'$\\vec v_2$', 'C1', vec2, orig=vec_dif)\n",
    "draw_vector(ax, r'$\\vec v_1+(-\\vec v_2)$', 'C2', vec_dif, orig=[0, 0])\n",
    "\n",
    "ax.grid();"
   ]
  },
  {
   "cell_type": "markdown",
   "metadata": {},
   "source": [
    "### Vector length and Euclidean norm\n",
    "\n",
    "Vectors have length that can be computed via Pythagorean theorem\n",
    "\n",
    "$$\n",
    "\\vec v = (x_0, x_1)\n",
    "$$\n",
    "<br/>\n",
    "$$\n",
    "|\\vec v|_2 = \\sqrt{x_0^2 + x_1^2}\n",
    "$$\n",
    "Subscript 2 means using squares and square root in computations.\n",
    "\n",
    "Vector length computed like above is also called an Euclidean norm, 2-norm or $L^2$ norm. \n",
    "\n",
    "Euclidean norms of higher dimensional vectors is computed in a similar way. Let $N$ be an $N$-dimensional vector:\n",
    "$$\n",
    "\\vec v = (x_0, x_1, x_2, \\ldots, x_{N-1})\n",
    "$$\n",
    "\n",
    "Its Euclidean norm reads:\n",
    "$$\n",
    "|\\vec v|_2 = \\sqrt{x_0^2 + x_1^2 + \\cdots + x_{N-1}^2}\n",
    "$$\n",
    "\n",
    "The same formula in a compact form\n",
    "$$\n",
    "|\\vec v|_2 = \\sqrt{\\sum_{i=0}^{N-1} x_i^2}\n",
    "$$\n",
    "\n",
    "To \"touch vectors by hands\" let us create a program for computing Euclidean vector norms. In actual computations later we will use NumPy vectors for which the norm computation is built-in."
   ]
  },
  {
   "cell_type": "code",
   "execution_count": null,
   "metadata": {},
   "outputs": [],
   "source": [
    "def vector_norm2(vec):\n",
    "    \"\"\"\n",
    "    Euclidean norm of vector\n",
    "    \"\"\"\n",
    "    tmp = [v**2 for v in vec]\n",
    "    return sum(tmp)**0.5\n",
    "\n",
    "vec = [3.0, 4.0]\n",
    "print(f\"|vec|={vector_norm2(vec)}\")"
   ]
  },
  {
   "cell_type": "markdown",
   "metadata": {},
   "source": [
    "An illustration:"
   ]
  },
  {
   "cell_type": "code",
   "execution_count": null,
   "metadata": {},
   "outputs": [],
   "source": [
    "import matplotlib.pyplot as plt\n",
    "\n",
    "fig, ax = plt.subplots(figsize=(5,5))\n",
    "\n",
    "ax.set_xlim([-0.5, 5])\n",
    "ax.set_ylim([-0.5, 5])\n",
    "\n",
    "ax.set_xlabel('$x_0$')\n",
    "ax.set_ylabel('$x_1$')\n",
    "\n",
    "\n",
    "vec = [3.0, 4.0]\n",
    "nrm = vector_norm2(vec)\n",
    "\n",
    "draw_line(ax, r'$x_0={{{}}}$'.format(vec[0]), [vec[0], 0], [0, 0])\n",
    "draw_line(ax, r'$x_1={{{}}}$'.format(vec[1]), [vec[0], 0], vec)\n",
    "\n",
    "draw_vector(ax, r'$|\\vec v|_2={{{}}}$'.format(nrm), 'C0', vec=vec, orig=[0, 0])\n",
    "\n",
    "ax.grid();\n",
    "\n",
    "print(f\"L2(vec)=sqrt({vec[0]}**2+{vec[1]}**2)={nrm}\")"
   ]
  },
  {
   "cell_type": "markdown",
   "metadata": {},
   "source": [
    "### Various vector norms\n",
    "\n",
    "Norm is a generalization of the idea of length: the length can be computed in different ways.\n",
    "\n",
    "A norm is a function $d(\\vec v)$ that returns for any vector $\\vec v$ a real number. Required property of the norm:\n",
    "- If $d(\\vec v)=0$ then $\\vec v=0$.\n",
    "- $d(a \\vec v) = |a| d(\\vec v)$, where $a$ is scalar.\n",
    "- $d(\\vec v + \\vec u) \\leq d(\\vec v) + d(\\vec u)$.\n",
    "\n",
    "__No need to figure out in detail! This is here just to show what is it.__\n",
    "\n",
    "In the other words, Mathematics tells us that if we have vectors and there is a function $d(\\vec v)$ that computes for each vector a real number provided that the conditions above are fulfilled,  this number can be considered as a vector length and it will be as good as intuitively obvious  Euclidean length.\n",
    "\n",
    "Why at all we do so? Why we need many norms? For computations: some norms are computed simpler and thus faster than others. For data science: when we tune up a model for data processing sometimes \n",
    "an appropriate norm helps to get the result faster and with higher precision. "
   ]
  },
  {
   "cell_type": "markdown",
   "metadata": {},
   "source": [
    "### Taxicab norm or Manhattan norm\n",
    "\n",
    "This is the distance that a taxi has to drive in a city due to a rectangular street grid:\n",
    "$$\n",
    "|\\vec v|_1 = \\sum_{i=0}^{N-1} |x_i|\n",
    "$$\n",
    "\n",
    "This is also called $L^1$ norm.\n",
    "\n",
    "A function for $L^1$ norm:"
   ]
  },
  {
   "cell_type": "code",
   "execution_count": null,
   "metadata": {},
   "outputs": [],
   "source": [
    "def vector_norm1(vec):\n",
    "    \"\"\"\n",
    "    Taxicab norm\n",
    "    \"\"\"\n",
    "    tmp = [abs(v) for v in vec]\n",
    "    return sum(tmp)\n",
    "\n",
    "vec = [-3.0, 4.0]\n",
    "print(f\"|vec|={vector_norm1(vec)}\")    "
   ]
  },
  {
   "cell_type": "code",
   "execution_count": null,
   "metadata": {},
   "outputs": [],
   "source": [
    "import matplotlib.pyplot as plt\n",
    "\n",
    "fig, ax = plt.subplots(figsize=(5,5))\n",
    "\n",
    "ax.set_xlim([-5, 0.5])\n",
    "ax.set_ylim([-0.5, 5])\n",
    "\n",
    "ax.set_xlabel('$x_0$')\n",
    "ax.set_ylabel('$x_1$')\n",
    "\n",
    "\n",
    "vec = [-3.0, 4.0]\n",
    "nrm = vector_norm1(vec)\n",
    "\n",
    "draw_line(ax, r'$x_0={{{}}}$'.format(vec[0]), [vec[0], 0], [0, 0])\n",
    "draw_line(ax, r'$x_1={{{}}}$'.format(vec[1]), [vec[0], 0], vec)\n",
    "\n",
    "draw_vector(ax, r'$|\\vec v|_1={{{}}}$'.format(nrm), 'C0', vec=vec, orig=[0, 0])\n",
    "\n",
    "ax.grid();\n",
    "\n",
    "print(f\"L1(vec)=|{vec[0]}|+|{vec[1]}|={nrm}\")"
   ]
  },
  {
   "cell_type": "markdown",
   "metadata": {},
   "source": [
    "### Maximum norm or Infinity norm\n",
    "\n",
    "This is the largest by magnitude vector coordinate:\n",
    "$$\n",
    "|\\vec v|_\\infty = \\textrm{max}(|x_0|, |x_1|, \\ldots, |x_{N-1}|)\n",
    "$$\n",
    "\n",
    "This is $L^{\\infty}$ norm."
   ]
  },
  {
   "cell_type": "code",
   "execution_count": null,
   "metadata": {},
   "outputs": [],
   "source": [
    "def vector_norminf(vec):\n",
    "    \"\"\"\n",
    "    Infinity norm\n",
    "    \"\"\"\n",
    "    tmp = [abs(v) for v in vec]\n",
    "    return max(tmp)\n",
    "\n",
    "vec = [-4.0, 3.0]\n",
    "print(f\"|vec|={vector_norminf(vec)}\") "
   ]
  },
  {
   "cell_type": "code",
   "execution_count": null,
   "metadata": {},
   "outputs": [],
   "source": [
    "import matplotlib.pyplot as plt\n",
    "\n",
    "fig, ax = plt.subplots(figsize=(5,5))\n",
    "\n",
    "ax.set_xlim([-5, 0.5])\n",
    "ax.set_ylim([-0.5, 5])\n",
    "\n",
    "ax.set_xlabel('$x_0$')\n",
    "ax.set_ylabel('$x_1$')\n",
    "\n",
    "\n",
    "vec = [-4.0, 3.0]\n",
    "nrm = vector_norminf(vec)\n",
    "\n",
    "draw_line(ax, r'$x_0={{{}}}$'.format(vec[0]), [vec[0], 0], [0, 0])\n",
    "draw_line(ax, r'$x_1={{{}}}$'.format(vec[1]), [vec[0], 0], vec)\n",
    "\n",
    "draw_vector(ax, r'$|\\vec v|_{{\\infty}}={{{}}}$'.format(nrm), 'C0', vec=vec, orig=[0, 0])\n",
    "\n",
    "ax.grid();\n",
    "\n",
    "print(f\"Linf(vec)=max(|{vec[0]}|,|{vec[1]}|)={nrm}\")"
   ]
  },
  {
   "cell_type": "markdown",
   "metadata": {},
   "source": [
    "### p-norm\n",
    "\n",
    "This is a general equation for a family of norms:\n",
    "$$\n",
    "|\\vec v|_p=\\left(\\sum_{i=0}^{N-1} |x_i|^p \\right)^{1/p}\n",
    "$$\n",
    "where $p\\geq 1$.\n",
    "\n",
    "- Taxicab norm at $p=1$\n",
    "- Euclidean norm at $p=2$\n",
    "- Infinity norm at $p\\to\\infty$\n",
    "\n",
    "The last item is not so obvious but we will not prove it."
   ]
  },
  {
   "cell_type": "code",
   "execution_count": null,
   "metadata": {},
   "outputs": [],
   "source": [
    "def vector_norm(vec, p):\n",
    "    \"\"\"\n",
    "    p-norm\n",
    "    \"\"\"\n",
    "    tmp = [abs(v)**p for v in vec]\n",
    "    return sum(tmp)**(1/p)\n",
    "\n",
    "vec = [-4.0, 3.0]\n",
    "\n",
    "print(f\"L1:   {vector_norm1(vec)}, {vector_norm(vec, 1)}\")\n",
    "print(f\"L2:   {vector_norm2(vec)}, {vector_norm(vec, 2)}\")\n",
    "print(f\"Linf: {vector_norminf(vec)}, {vector_norm(vec, 20)}\") # take large value for p instead of infinity"
   ]
  },
  {
   "cell_type": "markdown",
   "metadata": {},
   "source": [
    "### Distances\n",
    "\n",
    "Assume that John stays at coordinates given by a vector $\\vec a$ and Ann is at location $\\vec b$. Find the distance between them.\n",
    "\n",
    "To find the distance we need to subtract one vector out of the other and then compute a norm of the result.\n",
    "\n",
    "If both of persons are in a flat area, say in a corn field, the Euclidean norm is appropriate. \n",
    "$$\n",
    "L^2=|\\vec a - \\vec b|_2 = \\sqrt{(a_0-b_0)^2 + (a_1-b_1)^2}\n",
    "$$\n",
    "This is the shortest possible estimate of the distance.\n",
    "\n",
    "In a city an Euclidean shortest path is never available. One has to follow a rectangular mesh of streets. Then the Taxicab is suitable:\n",
    "$$\n",
    "L^1=|\\vec a - \\vec b|_1 = |a_0 - b_0| + |a_1 - b_1|\n",
    "$$\n",
    "\n",
    "So we see that the distance can be computed in different ways. But what is thee worst case? This is given by the maximum norm:\n",
    "$$\n",
    "L^{\\infty}=|\\vec a - \\vec b|_{\\infty} = \\textrm{max}(|a_0 - b_0|, |a_1 - b_1|)\n",
    "$$\n",
    "The worst distance estimate is $N L^{\\infty}$, where $N$ is space dimension, i.e. 2 in our example."
   ]
  },
  {
   "cell_type": "markdown",
   "metadata": {},
   "source": [
    "### Vectors and distances for data science\n",
    "\n",
    "In data science vectors are used to store entity descriptions: a person, a flower, a picture, a text and so on. Components of a vector are its features. For example if a vector represents a person for a medical database it can contain for example age, height and weight: \n",
    "$$\n",
    "\\vec a = (25, 180, 65)\n",
    "$$\n",
    "$$\n",
    "\\vec b = (28, 170, 84)\n",
    "$$\n",
    "\n",
    "Given these vectors we can check how similar are these two persons. For this we need to compute the distance between them."
   ]
  },
  {
   "cell_type": "code",
   "execution_count": null,
   "metadata": {},
   "outputs": [],
   "source": [
    "a = [25, 180, 65]\n",
    "b = [28, 170, 84]\n",
    "\n",
    "L1 = vector_norm1(vector_sub(a, b))\n",
    "L2 = vector_norm2(vector_sub(a, b))\n",
    "Linf = vector_norminf(vector_sub(a, b))\n",
    "\n",
    "print(f\"L1   = {L1}\")\n",
    "print(f\"L2   = {L2}\")\n",
    "print(f\"Linf = {Linf}\")"
   ]
  },
  {
   "cell_type": "markdown",
   "metadata": {},
   "source": [
    "We have three estimates of the similarity. Which one is correct? There is no unambiguous answer. It depends on the problem we solve. \n",
    "\n",
    "It is possible that no one is appropriate. It means that we need to our representation is not adequate and we need to preprocess feature vectors somehow before doing the comparison. \n",
    "\n",
    "Another case when we need distance between vectors. Assume we have a model that takes a feature vector as an input, works out it somehow and returns an answer vector. This vector is often called a prediction because the model tries to predict some properties of the input entity. \n",
    "\n",
    "When we tune up our model we feed it with the entities for that the true answer is known in advance. Computing the distance between the prediction and the vectors we can say how good our model is and also how it must be changed to make it better."
   ]
  },
  {
   "cell_type": "markdown",
   "metadata": {},
   "source": [
    "### Scaling of vectors: multiplication by a scalar\n",
    "\n",
    "Vectors can be multiplied by scalar. This is componentwise operation:\n",
    "$$\n",
    "a \\vec v = a (x_0, x_1) = (a x_0, a x_1)\n",
    "$$\n",
    "\n",
    "No matter what norm is used, when a vector is multiplied by a scalar its length is increased by this factor.\n",
    "$$\n",
    "|a \\vec v|_p=\\left(\\sum_{i=0}^{N-1} |a x_i|^p \\right)^{1/p} =\n",
    "\\left( |a|^p \\right)^{1/p} \\left(\\sum_{i=0}^{N-1} |x_i|^p \\right)^{1/p} =\n",
    "|a| \\left(\\sum_{i=0}^{N-1} |x_i|^p \\right)^{1/p}\n",
    "$$\n",
    "\n",
    "Let us create a function for scaling of vectors"
   ]
  },
  {
   "cell_type": "code",
   "execution_count": null,
   "metadata": {},
   "outputs": [],
   "source": [
    "def vector_scl(a, vec):\n",
    "    \"\"\"\n",
    "    Multiply vector by scalar\n",
    "    \"\"\"\n",
    "    return [a*v for v in vec]"
   ]
  },
  {
   "cell_type": "markdown",
   "metadata": {},
   "source": [
    "Now an illustration"
   ]
  },
  {
   "cell_type": "code",
   "execution_count": null,
   "metadata": {},
   "outputs": [],
   "source": [
    "import matplotlib.pyplot as plt\n",
    "\n",
    "fig, ax = plt.subplots(figsize=(5,5))\n",
    "\n",
    "ax.set_xlim([-0.5, 5])\n",
    "ax.set_ylim([-0.5, 5])\n",
    "\n",
    "ax.set_xlabel('$x_0$')\n",
    "ax.set_ylabel('$x_1$')\n",
    "\n",
    "vec = [2.0, 3.0]\n",
    "a1 = 1.5\n",
    "a2 = 0.5\n",
    "\n",
    "vec_scl_1 = vector_scl(a1, vec)\n",
    "vec_scl_2 = vector_scl(a2, vec)\n",
    "\n",
    "draw_vector(ax, r'$\\vec v$', 'C0', vec, orig=[0, 0])\n",
    "\n",
    "# We shift the rescaled vectors to improve visibility\n",
    "draw_vector(ax, r'$a_1 \\vec v$', 'C1', vec_scl_1, orig=[1, 0])\n",
    "draw_vector(ax, r'$a_2 \\vec v$', 'C3', vec_scl_2, orig=[2, 0])\n",
    "\n",
    "ax.grid();"
   ]
  },
  {
   "cell_type": "markdown",
   "metadata": {},
   "source": [
    "### Vector normalization \n",
    "\n",
    "Each vector has a length and direction. When we want to know its length we compute a vector norm. \n",
    "\n",
    "To get only the direction we need to normalize a vector. It means to divide it by its norm. \n",
    "\n",
    "The result is so called a unit vector whose length with respect to the chosen norm equals one. Thus the only essential information that carries this vector is its direction.\n",
    "\n",
    "Here is the function that computes vector norms. Observe that we pass a function for the norm computation as a parameter."
   ]
  },
  {
   "cell_type": "code",
   "execution_count": null,
   "metadata": {},
   "outputs": [],
   "source": [
    "def vector_normalize(vec, norm):\n",
    "    \"\"\"\n",
    "    Normalization of vector\n",
    "    \n",
    "    norm : function\n",
    "        This is a function employed to find a vector norm\n",
    "    \"\"\"\n",
    "    nrm = norm(vec)\n",
    "    return vector_scl(1/nrm, vec)"
   ]
  },
  {
   "cell_type": "markdown",
   "metadata": {},
   "source": [
    "Consider an illustration. Notice that we shift normalized vectors from the origin to avoid overlapping."
   ]
  },
  {
   "cell_type": "code",
   "execution_count": null,
   "metadata": {},
   "outputs": [],
   "source": [
    "import matplotlib.pyplot as plt\n",
    "\n",
    "fig, ax = plt.subplots(figsize=(5,5))\n",
    "\n",
    "ax.set_xlim([-0.5, 5])\n",
    "ax.set_ylim([-0.5, 5])\n",
    "\n",
    "ax.set_xlabel('$x_0$')\n",
    "ax.set_ylabel('$x_1$')\n",
    "\n",
    "vec = [2.0, 5.0]\n",
    "\n",
    "vec_unit_1 = vector_normalize(vec, vector_norm1)\n",
    "vec_unit_2 = vector_normalize(vec, vector_norm2)\n",
    "vec_unit_inf = vector_normalize(vec, vector_norminf)\n",
    "\n",
    "draw_vector(ax, r'$\\vec v$', 'C0', vec, orig=[0, 0])\n",
    "\n",
    "# We shift the rescaled vectors to improve visibility\n",
    "draw_vector(ax, '1', 'C1', vec_unit_1, orig=[1, 0])\n",
    "draw_vector(ax, '2', 'C2', vec_unit_2, orig=[2, 0])\n",
    "draw_vector(ax, r'$\\infty$', 'C3', vec_unit_inf, orig=[3, 0])\n",
    "\n",
    "ax.grid();"
   ]
  },
  {
   "cell_type": "markdown",
   "metadata": {},
   "source": [
    "We see that all normalized vector are parallel to each other and to the original one. \n",
    "\n",
    "Once more: normalization preserves vector direction and drops out information about its lengths (with respect to the chosen norm)."
   ]
  },
  {
   "cell_type": "markdown",
   "metadata": {},
   "source": [
    "### Dot product\n",
    "\n",
    "Dot product is an operation when we sum a componentwise products of two vectors:\n",
    "$$\n",
    "(\\vec x, \\vec y) \\equiv \\vec x \\cdot \\vec y \\equiv  \\vec x \\vec y =\n",
    "\\sum_{i=0}^{N-1} x_i y_i\n",
    "$$\n",
    "\n",
    "Symbol \"$\\equiv$\" means identity. It is used to show equivalent forms of denoting of the dot product.\n",
    "\n",
    "Observe that the dot product of a vector by itself equals to its squared Euclidean norm:\n",
    "$$\n",
    "\\vec x \\vec x = \\sum_{i=0}^{N-1} x_i^2 = \\left( L^2(\\vec x) \\right)^2\n",
    "$$\n",
    "\n",
    "Using the dot product we can compute angels between vectors due to the following property:\n",
    "$$\n",
    "\\vec x \\vec y = |\\vec x|_2 |\\vec y|_2 \\cos(\\alpha)\n",
    "$$\n",
    "where $|\\vec x|_2$ and $|\\vec y|_2$ are Euclidean norms and $\\alpha$ is the angle between $\\vec x$ and $\\vec y$.\n",
    "\n",
    "Since $\\cos 90^\\circ=\\cos \\pi/2=0$ the dot product of two orthogonal vectors is always zero.\n",
    "\n",
    "Cosine between two vectors can be used as a measure of their similarity. This is called a cosine similarity. \n",
    "\n",
    "The cosine similarity is the highest and equals 1 when the angle between two vectors is zero. For nonzero angles the similarity is less then 1.\n",
    "\n",
    "Here is the function that computes the dot product:"
   ]
  },
  {
   "cell_type": "code",
   "execution_count": null,
   "metadata": {},
   "outputs": [],
   "source": [
    "def vector_dot(vec1, vec2):\n",
    "    \"\"\"\n",
    "    Dot product of two vectors\n",
    "    \"\"\"\n",
    "    \n",
    "    assert len(vec1) == len(vec2)\n",
    "    \n",
    "    tmp = [v1 * v2 for v1, v2 in zip(vec1, vec2)]\n",
    "    return sum(tmp)"
   ]
  },
  {
   "cell_type": "markdown",
   "metadata": {},
   "source": [
    "This is an illustration that the dot product of two orthogonal vector is zero."
   ]
  },
  {
   "cell_type": "code",
   "execution_count": null,
   "metadata": {},
   "outputs": [],
   "source": [
    "import matplotlib.pyplot as plt\n",
    "\n",
    "fig, ax = plt.subplots(figsize=(5,5))\n",
    "\n",
    "ax.set_xlim([-1.5, 4])\n",
    "ax.set_ylim([-1.5, 4])\n",
    "\n",
    "ax.set_xlabel('$x_0$')\n",
    "ax.set_ylabel('$x_1$')\n",
    "\n",
    "vec1 = [2.0, 4.0]\n",
    "vec2 = [2.0, -1.0]\n",
    "\n",
    "dot = vector_dot(vec1, vec2)\n",
    "print(f\"(vec1, vec2) = {dot}\")\n",
    "\n",
    "draw_vector(ax, r'$\\vec v_1$', 'C0', vec1, orig=[0, 0])\n",
    "draw_vector(ax, r'$\\vec v_2$', 'C1', vec2, orig=[0, 0])\n",
    "\n",
    "\n",
    "ax.grid();"
   ]
  },
  {
   "cell_type": "markdown",
   "metadata": {},
   "source": [
    "### Exercises"
   ]
  },
  {
   "cell_type": "markdown",
   "metadata": {},
   "source": [
    "1\\. Given the set of linear equations\n",
    "$$ 2 x_1 + 2 x_3 = -2 $$\n",
    "$$ 2 x_1 - 2 x_3 =  6 $$\n",
    "$$ 3 x_2 - x_1 = -1 $$\n",
    "derive formulas for $x_1$, $x_2$ and $x_3$ (not necessary in this order) and write a Python program to compute the solution."
   ]
  },
  {
   "cell_type": "markdown",
   "metadata": {},
   "source": [
    "2\\. Create a function that computes an angle between two vectors. After computing the angle cosine use inverse trigonometric function arc cosine to recover the angle. You will find this function in either `math` or `numpy` modules: `math.acos` or `numpy.arccos`, respectively."
   ]
  },
  {
   "cell_type": "markdown",
   "metadata": {},
   "source": [
    "3\\. A unit vector directed along a coordinate axis contains all 0 except the single 1 at a certain position. For example in three-dimensional Cartesian coordinate system these vectors are $(1, 0, 0)$, $(0, 1, 0)$, and $(0, 0, 1)$. \n",
    "\n",
    "Create a function that accepts two parameter: space dimension `dim` and an order number of a vector `vec_num`.  This function has to return the corresponding unit vector. For example for `dim=5` and `vec_num=2` it hast to be $(0, 1, 0, 0, 0)$."
   ]
  },
  {
   "cell_type": "markdown",
   "metadata": {},
   "source": [
    "4\\. Draw these three vectors \n",
    "$$\n",
    "  \\vec v_1 = (0.98480775, 0.17364818)\n",
    "$$\n",
    "\n",
    "$$\n",
    "  \\vec v_2 = (-0.64278761,  0.76604444)\n",
    "$$\n",
    "\n",
    "$$\n",
    "  \\vec v_3 = (-0.34202014, -0.93969262)\n",
    "$$\n",
    "\n",
    "to demonstrate that their sum is zero. Use function `draw_vector` defined \n",
    "above or create your own better version if you like."
   ]
  },
  {
   "cell_type": "markdown",
   "metadata": {},
   "source": [
    "5\\. Draw these two vectors\n",
    "$$\n",
    "  \\vec v_1 = (0.96592583, 0.25881905)\n",
    "$$\n",
    "\n",
    "$$\n",
    "  \\vec v_2  = (-0.38822857,  1.44888874)\n",
    "$$\n",
    "\n",
    "to show that they are orthogonal. Prove their orthogonality using computations. Use function `draw_vector` defined above or create your own better version if you like."
   ]
  },
  {
   "cell_type": "markdown",
   "metadata": {},
   "source": [
    "## Lesson 2"
   ]
  },
  {
   "cell_type": "markdown",
   "metadata": {},
   "source": [
    "### Matrices\n",
    "\n",
    "Recall a sets of linear equations:\n",
    "$$\n",
    "\\begin{pmatrix} \n",
    "    a_{00} & a_{01} & \\dots & a_{0,N-1} \\\\\n",
    "    a_{10} & a_{11} & \\dots & a_{1,N-1} \\\\\n",
    "    \\vdots & \\vdots & \\ddots & \\vdots \\\\\n",
    "    a_{N-1,0} & a_{N-1, 1} & \\dots & a_{N-1,N-1}\n",
    "\\end{pmatrix}\n",
    "\\begin{pmatrix} \n",
    "    x_0 \\\\ x_1 \\\\ \\vdots \\\\ x_{N-1} \n",
    "\\end{pmatrix}=\n",
    "\\begin{pmatrix} \n",
    "    b_0 \\\\ b_1 \\\\ \\vdots \\\\ b_{N-1} \n",
    "\\end{pmatrix}\n",
    "$$\n",
    "\n",
    "In a compact form it reads\n",
    "$$\n",
    "A \\vec x = \\vec b\n",
    "$$\n",
    "where $A$ is a $N\\times N$ matrix.\n",
    "\n",
    "Now we are going to get acquainted with matrices in more detail.\n",
    "\n",
    "Convenient way of working with matrices is to use NumPy 2D arrays. But here we will consider matrices as native Python lists. \n",
    "\n",
    "NumPy can do with matrices almost all that we need. But it produces a result at once, and we want to know how it works.\n",
    "\n",
    "Using native Python lists a matrix can be written as a list of lists. \n",
    "\n",
    "A list of list can be treated as a matrix if \n",
    "- all of its components have identical types;\n",
    "- all of its sublists have the same lengths.\n",
    "\n",
    "Here is a list of list representing $2\\times 2$ matrix of floats.\n",
    "```python\n",
    "A = [[1.2, 2.1], [-3.6, 9.1]]\n",
    "```"
   ]
  },
  {
   "cell_type": "markdown",
   "metadata": {},
   "source": [
    "### Matrix main diagonal and the trace\n",
    "\n",
    "Collection of matrix components with equal indexes is called a matrix _main diagonal_ (also a major diagonal, also a leading diagonal, also a principal diagonal). \n",
    "\n",
    "For the matrix $A$ above the main diagonal is $( a_{00}, a_{11}, \\ldots, a_{N-1.N-1})$.\n",
    "\n",
    "Sum of the components along the main diagonal is a matrix _trace_ and is denoted as $\\textrm{Tr}$:\n",
    "$$\n",
    "\\textrm{Tr} A = \\sum_{i=0}^{N-1} a_{i,i}\n",
    "$$\n",
    "\n",
    "Let\n",
    "```python\n",
    "A = [[3.4, -4.1, 3.7], [-0.1, 2.2, -9.8], [6.0, -4.5, -5.3]]\n",
    "```\n",
    "\n",
    "Its main diagonal is\n",
    "```python\n",
    "[3.4, 2.2, -5.3]\n",
    "```\n",
    "and its trace is\n",
    "```python\n",
    "TrA = 3.4 + 2.2 - 5.3 = 0.3\n",
    "```"
   ]
  },
  {
   "cell_type": "markdown",
   "metadata": {},
   "source": [
    "### Row-major and column-major forms\n",
    "\n",
    "When we write a list of lits we do it _linearly_, number by number separated by commas and square brackets. But a matrix is two-dimensional by its nature and we can go either along its rows or columns.\n",
    "\n",
    "In the other words there are two options: to write a matrix row by row or column by column.\n",
    "\n",
    "We will always assume that a matrix is written row by row. This is called row-major form.\n",
    "\n",
    "An example:\n",
    "$$\n",
    "A = \\begin{pmatrix}\n",
    "    2.1 &  3.2 &  1.7 \\\\ \n",
    "    4.1 & -1.9 &  2.2 \\\\ \n",
    "    2.9 & -1.1 & -1.7 \n",
    "\\end{pmatrix}\n",
    "$$\n",
    "This matrix in a row-major form reads:"
   ]
  },
  {
   "cell_type": "code",
   "execution_count": null,
   "metadata": {},
   "outputs": [],
   "source": [
    "Ar = [[2.1, 3.2, 1.7], [4.1, -1.9, 2.2], [2.9, -1.1, -1.7]]"
   ]
  },
  {
   "cell_type": "markdown",
   "metadata": {},
   "source": [
    "Also a matrix can be written column by column. This is called a column-major form."
   ]
  },
  {
   "cell_type": "code",
   "execution_count": null,
   "metadata": {},
   "outputs": [],
   "source": [
    "Ac = [[2.1, 4.1, 2.9], [3.2, -1.9, -1.1], [1.7, 2.2, -1.7]]"
   ]
  },
  {
   "cell_type": "markdown",
   "metadata": {},
   "source": [
    "We will always use a row-major form since it is more natural for human reading and also when we create a NumPy array from a list of lists a row major form is required."
   ]
  },
  {
   "cell_type": "markdown",
   "metadata": {},
   "source": [
    "### Getting matrix rows\n",
    "\n",
    "It is very easy to extract a row from a row-major matrix using list slicing:"
   ]
  },
  {
   "cell_type": "code",
   "execution_count": null,
   "metadata": {},
   "outputs": [],
   "source": [
    "A = [[2.1, 3.2, 1.7], [4.1, -1.9, 2.2], [2.9, -1.1, -1.7]]\n",
    "\n",
    "print(f\"row 0: {A[0]}\")\n",
    "print(f\"row 1: {A[1]}\")\n",
    "print(f\"row 2: {A[2]}\")"
   ]
  },
  {
   "cell_type": "markdown",
   "metadata": {},
   "source": [
    "We can even iterate over rows:"
   ]
  },
  {
   "cell_type": "code",
   "execution_count": null,
   "metadata": {},
   "outputs": [],
   "source": [
    "A = [[2.1, 3.2, 1.7], [4.1, -1.9, 2.2], [2.9, -1.1, -1.7]]\n",
    "\n",
    "for row in A:\n",
    "    print(row)"
   ]
  },
  {
   "cell_type": "markdown",
   "metadata": {},
   "source": [
    "To have a row number we use `enumerate`:"
   ]
  },
  {
   "cell_type": "code",
   "execution_count": null,
   "metadata": {},
   "outputs": [],
   "source": [
    "A = [[2.1, 3.2, 1.7], [4.1, -1.9, 2.2], [2.9, -1.1, -1.7]]\n",
    "\n",
    "for i, row in enumerate(A):\n",
    "    print(f\"row {i}: {row}\")"
   ]
  },
  {
   "cell_type": "markdown",
   "metadata": {},
   "source": [
    "Using iteration over matrix rows one can write a function for matrix printing:"
   ]
  },
  {
   "cell_type": "code",
   "execution_count": null,
   "metadata": {},
   "outputs": [],
   "source": [
    "def matrix_print(A):\n",
    "    \"\"\"\n",
    "    Printing a matrix A specified as a list of lists\n",
    "    \"\"\"\n",
    "    for row in A:\n",
    "        for x in row:\n",
    "            print(f\"{x:6.2}\", end=\"\")\n",
    "        print()    "
   ]
  },
  {
   "cell_type": "code",
   "execution_count": null,
   "metadata": {},
   "outputs": [],
   "source": [
    "A = [[2.1, 3.2, 1.7], [4.1, -1.9, 2.2], [2.9, -1.1, -1.7]]    \n",
    "matrix_print(A)"
   ]
  },
  {
   "cell_type": "markdown",
   "metadata": {},
   "source": [
    "### Getting matrix columns\n",
    "\n",
    "Column extraction of a row-major matrix requires some efforts.\n",
    "\n",
    "This matrix will be our test example:\n",
    "$$\n",
    "A = \\begin{pmatrix}\n",
    "    2.1 &  3.2 &  1.7 \\\\ \n",
    "    4.1 & -1.9 &  2.2 \\\\ \n",
    "    2.9 & -1.1 & -1.7 \n",
    "\\end{pmatrix}\n",
    "$$\n",
    "\n",
    "To get a column we need to iterate over rows and extract a required component from each one:"
   ]
  },
  {
   "cell_type": "code",
   "execution_count": null,
   "metadata": {},
   "outputs": [],
   "source": [
    "def matrix_getcol(A, n):\n",
    "    \"\"\"\n",
    "    Returns n-th column of matrix A\n",
    "    \"\"\"\n",
    "    return [row[n] for row in A]"
   ]
  },
  {
   "cell_type": "code",
   "execution_count": null,
   "metadata": {},
   "outputs": [],
   "source": [
    "A = [[2.1, 3.2, 1.7], [4.1, -1.9, 2.2], [2.9, -1.1, -1.7]]\n",
    "\n",
    "print(f\"col 0: {matrix_getcol(A, 0)}\")\n",
    "print(f\"col 1: {matrix_getcol(A, 1)}\")\n",
    "print(f\"col 2: {matrix_getcol(A, 2)}\")"
   ]
  },
  {
   "cell_type": "markdown",
   "metadata": {},
   "source": [
    "### Matrix transposition\n",
    "\n",
    "A matrix can be flipped over its main diagonal. This operation is called transposition."
   ]
  },
  {
   "cell_type": "code",
   "execution_count": null,
   "metadata": {},
   "outputs": [],
   "source": [
    "def transp(A):\n",
    "    \"\"\"\n",
    "    Matrix transposition\n",
    "    \"\"\"\n",
    "    ncols = len(A[0])\n",
    "    B = []\n",
    "    for n in range(ncols):\n",
    "        col = matrix_getcol(A, n)\n",
    "        B.append(col)\n",
    "    return B"
   ]
  },
  {
   "cell_type": "code",
   "execution_count": null,
   "metadata": {},
   "outputs": [],
   "source": [
    "A = [[2.1, 3.2, 1.7], [4.1, -1.9, 2.2], [2.9, -1.1, -1.7]]\n",
    "B = transp(A)\n",
    "\n",
    "matrix_print(A)\n",
    "print()\n",
    "matrix_print(B)"
   ]
  },
  {
   "cell_type": "markdown",
   "metadata": {},
   "source": [
    "Observe that after the transposition columns become rows and vice versa."
   ]
  },
  {
   "cell_type": "markdown",
   "metadata": {},
   "source": [
    "### Matrix -  vector multiplication\n",
    "\n",
    "Linear equation again:\n",
    "$$\n",
    "A \\vec x = \\vec y\n",
    "$$\n",
    "Another point of view to this equation: Given a vector $\\vec x$ we apply a matrix \n",
    "$A$ to obtain a new vector $\\vec y$.\n",
    "\n",
    "Matrices can be considered as tools for vector transformations: Application of a matrix results in a new vector that can have different length and direction.\n",
    "\n",
    "Let us recall how we apply a matrix to a vector. This is called matrix - vector multiplication:\n",
    "$$\n",
    "\\begin{pmatrix} a_{00} & a_{01} \\\\ a_{10} & a_{11} \\end{pmatrix}\n",
    "\\begin{pmatrix} x_0 \\\\ x_1 \\end{pmatrix}=\n",
    "\\begin{pmatrix} a_{00} x_0 + a_{01} x_1 \\\\ a_{10} x_0 + a_{11} x_1 \\end{pmatrix}=\n",
    "\\begin{pmatrix} y_0 \\\\ y_1 \\end{pmatrix}\n",
    "$$\n",
    "- Take the first row of the matrix and the whole vector\n",
    "- Multiply corresponding components: first by first, second by second and so on\n",
    "- Sum the results of the multiplications. This is the first resulting component\n",
    "- Do the same with the second and other rows\n",
    "\n",
    "Recall the dot product: $\\vec a\\vec b=a_0 b_0 + a_1 b_1$. In terns of dot product the matrix - vector multiplication reads:\n",
    "- Take the first row of the matrix and the whole vector\n",
    "- Find their dot product - this is the first component of the result\n",
    "- Do the same with the second and other rows\n",
    "\n",
    "Strictly speaking, we must multiply a matrix by a vector-column. \n",
    "```python\n",
    "vec = [[2], [-3], [4]]\n",
    "```\n",
    "But as mentioned above in computations for simplicity we will ignore this and take a vector-row instead:\n",
    "```python\n",
    "vec = [2, -3, 4]\n",
    "```\n",
    "\n",
    "Here is the function that implements matrix - vector multiplication"
   ]
  },
  {
   "cell_type": "code",
   "execution_count": null,
   "metadata": {},
   "outputs": [],
   "source": [
    "def matrix_vecmult(A, vec):\n",
    "    \"\"\"\n",
    "    Matrix - vector multiplication\n",
    "    \"\"\"\n",
    "    return [vector_dot(row, vec) for row in A]"
   ]
  },
  {
   "cell_type": "code",
   "execution_count": null,
   "metadata": {},
   "outputs": [],
   "source": [
    "A = [[-30, 10], [40, -20]]\n",
    "x = [2, 3]"
   ]
  },
  {
   "cell_type": "markdown",
   "metadata": {},
   "source": [
    "Let us first compute the result \"by hands\":"
   ]
  },
  {
   "cell_type": "code",
   "execution_count": null,
   "metadata": {},
   "outputs": [],
   "source": [
    "y = [0, 0]  # here we reserve a space for y\n",
    "\n",
    "# Dot product of the first row and the vector\n",
    "# [-30, 10] . [2, 3]\n",
    "y[0] = -30 * 2 + 10 * 3\n",
    "\n",
    "# Second row and the vector\n",
    "# [40, -20] . [2, 3]\n",
    "y[1] = 40 * 2 - 20 * 3\n",
    "\n",
    "print(f\"by hands: y={y}\")"
   ]
  },
  {
   "cell_type": "markdown",
   "metadata": {},
   "source": [
    "Now use the function and compare the results"
   ]
  },
  {
   "cell_type": "code",
   "execution_count": null,
   "metadata": {},
   "outputs": [],
   "source": [
    "yf = matrix_vecmult(A, x)\n",
    "print(f\"using function: y={yf}\")"
   ]
  },
  {
   "cell_type": "markdown",
   "metadata": {},
   "source": [
    "When a matrix is multiplied by a vector a new vector appears with another length and direction. This is an illustration:"
   ]
  },
  {
   "cell_type": "code",
   "execution_count": null,
   "metadata": {},
   "outputs": [],
   "source": [
    "import matplotlib.pyplot as plt\n",
    "\n",
    "fig, ax = plt.subplots(figsize=(5,5))\n",
    "\n",
    "ax.set_xlim([-0.5, 5])\n",
    "ax.set_ylim([-0.5, 5])\n",
    "\n",
    "ax.set_xlabel('$x_0$')\n",
    "ax.set_ylabel('$x_1$')\n",
    "\n",
    "A = [[-6.8, 3.2], [-2.1, 0.9]]\n",
    "x = [1.7, 4.5]\n",
    "\n",
    "y = matrix_vecmult(A, x)\n",
    "\n",
    "draw_vector(ax, r'$x$', 'C0', x, orig=[0, 0])\n",
    "draw_vector(ax, r'$y$', 'C1', y, orig=[0, 0])\n",
    "\n",
    "ax.grid();"
   ]
  },
  {
   "cell_type": "markdown",
   "metadata": {},
   "source": [
    "### Vector - matrix multiplication (multiplication from the left)\n",
    "\n",
    "Vector-row is multiplied by a matrix from the left\n",
    "$$\n",
    "\\begin{pmatrix} x_0 & x_1 \\end{pmatrix}\n",
    "\\begin{pmatrix} a_{00} & a_{01} \\\\ a_{10} & a_{11} \\end{pmatrix}=\n",
    "\\begin{pmatrix} a_{00} x_0 + a_{10} x_1 & a_{01} x_0 + a_{11} x_1 \\end{pmatrix}=\n",
    "\\begin{pmatrix} y_0 & y_1 \\end{pmatrix}\n",
    "$$\n",
    "It obey the same rule: row by column. Now there is one row and multiple columns."
   ]
  },
  {
   "cell_type": "markdown",
   "metadata": {},
   "source": [
    "### Rectangular matrices\n",
    "\n",
    "All matrices above were squared: equal numbers of rows and columns. But they can also be rectangle.\n",
    "\n",
    "Rectangle matrix changes vector dimension (size):\n",
    "\n",
    "$$\n",
    "\\begin{pmatrix} a_{00} & a_{01} & a_{02} \\\\ a_{10} & a_{11} & a_{12} \\end{pmatrix}\n",
    "\\begin{pmatrix} x_0 \\\\ x_1 \\\\ x_2\\end{pmatrix}=\n",
    "\\begin{pmatrix} y_0 \\\\ y_1 \\end{pmatrix}\n",
    "$$\n",
    "\n",
    "Our function for multiplication still works:"
   ]
  },
  {
   "cell_type": "code",
   "execution_count": null,
   "metadata": {},
   "outputs": [],
   "source": [
    "A = [[2.0, 1.0, -5.0], [4.0, 3.0, 1.0]]\n",
    "x = [-1.0, 2.0, 2.0]\n",
    "y = matrix_vecmult(A, x)\n",
    "print(y)"
   ]
  },
  {
   "cell_type": "markdown",
   "metadata": {},
   "source": [
    "### Matrix - matrix multiplication\n",
    "\n",
    "A column vector technically is a rectangular matrix with one column. We can append some more columns to it and consider a matrix - matrix multiplication:\n",
    "$$\n",
    "A B =\n",
    "\\begin{pmatrix} a_{00} & a_{01} \\\\ a_{10} & a_{11} \\end{pmatrix}\n",
    "\\begin{pmatrix} b_{00} & b_{01} \\\\ b_{10} & b_{11} \\end{pmatrix}=\n",
    "\\begin{pmatrix} \n",
    "    a_{00} b_{00} + a_{01} b_{10} & a_{00} b_{01} + a_{01} b_{11} \\\\ \n",
    "    a_{10} b_{00} + a_{11} b_{10} & a_{10} b_{01} + a_{11} b_{11} \n",
    "\\end{pmatrix}\n",
    "$$\n",
    "\n",
    "Order of matrix - matrix multiplication is important!\n",
    "$$\n",
    "A B \\neq B A\n",
    "$$"
   ]
  },
  {
   "cell_type": "markdown",
   "metadata": {},
   "source": [
    "### Diagonal matrix\n",
    "\n",
    "A special form of matrix is a diagonal matrix. All its elements are zeros except the main diagonal:\n",
    "$$\n",
    "D = \n",
    "\\begin{pmatrix}\n",
    "d_{0} & 0 & 0 \\\\\n",
    "0 & d_{1} & 0 \\\\\n",
    "0 & 0 & d_{2}\n",
    "\\end{pmatrix}\n",
    "$$\n",
    "\n",
    "Diagonal matrix can be created from a list of its diagonal components"
   ]
  },
  {
   "cell_type": "code",
   "execution_count": null,
   "metadata": {},
   "outputs": [],
   "source": [
    "def matrix_diag(diag):\n",
    "    \"\"\"\n",
    "    Creates diagonal matrix from a list diag\n",
    "    \"\"\"\n",
    "    size = len(diag)\n",
    "    D = []\n",
    "    for n, d in enumerate(diag):\n",
    "        row = [0.0] * size\n",
    "        row[n] = d\n",
    "        D.append(row)\n",
    "\n",
    "    return D"
   ]
  },
  {
   "cell_type": "code",
   "execution_count": null,
   "metadata": {},
   "outputs": [],
   "source": [
    "diag = [2.3, 5.4, 6.2]\n",
    "D = matrix_diag(diag)\n",
    "matrix_print(D)"
   ]
  },
  {
   "cell_type": "markdown",
   "metadata": {},
   "source": [
    "### Identity matrix\n",
    "\n",
    "Special version of a diagonal matrix is an identity matrix. This matrix contains ones along the main diagonal and zeros everywhere else.\n",
    "$$\n",
    "I = \n",
    "\\begin{pmatrix}\n",
    "1 & 0 & 0 \\\\\n",
    "0 & 1 & 0 \\\\\n",
    "0 & 0 & 1\n",
    "\\end{pmatrix}\n",
    "$$\n",
    "\n",
    "This matrix behave like a number 1 in the arithmetics of numbers: its multiplication by another matrix does not change it.\n",
    "$$\n",
    "A I = \n",
    "\\begin{pmatrix} a_{00} & a_{01} \\\\ a_{10} & a_{11} \\end{pmatrix} \n",
    "\\begin{pmatrix} 1 & 0 \\\\ 0 & 1 \\end{pmatrix}=\n",
    "\\begin{pmatrix} a_{00} & a_{01} \\\\ a_{10} & a_{11} \\end{pmatrix} \n",
    "$$\n",
    "\n",
    "$$\n",
    "I A = \n",
    "\\begin{pmatrix} 1 & 0 \\\\ 0 & 1 \\end{pmatrix}\n",
    "\\begin{pmatrix} a_{00} & a_{01} \\\\ a_{10} & a_{11} \\end{pmatrix}=\n",
    "\\begin{pmatrix} a_{00} & a_{01} \\\\ a_{10} & a_{11} \\end{pmatrix} \n",
    "$$\n"
   ]
  },
  {
   "cell_type": "markdown",
   "metadata": {},
   "source": [
    "### Matrix addition and subtraction\n",
    "\n",
    "Matrices of identical sizes can be added or subtracted componentwise:\n",
    "$$\n",
    "A + B =\n",
    "\\begin{pmatrix} a_{00} & a_{01} \\\\ a_{10} & a_{11} \\end{pmatrix} +\n",
    "\\begin{pmatrix} b_{00} & b_{01} \\\\ b_{10} & b_{11} \\end{pmatrix}=\n",
    "\\begin{pmatrix} \n",
    "    a_{00} + b_{00} & a_{01} + b_{01} \\\\ \n",
    "    a_{10} + b_{10} & a_{11} + b_{11}\n",
    "\\end{pmatrix}\n",
    "$$\n",
    "\n",
    "$$\n",
    "A - B =\n",
    "\\begin{pmatrix} a_{00} & a_{01} \\\\ a_{10} & a_{11} \\end{pmatrix} -\n",
    "\\begin{pmatrix} b_{00} & b_{01} \\\\ b_{10} & b_{11} \\end{pmatrix}=\n",
    "\\begin{pmatrix} \n",
    "    a_{00} - b_{00} & a_{01} - b_{01} \\\\ \n",
    "    a_{10} - b_{10} & a_{11} - b_{11}\n",
    "\\end{pmatrix}\n",
    "$$\n",
    "\n",
    "Order of matrix addition is not important:\n",
    "$$\n",
    "A + B = B + A\n",
    "$$"
   ]
  },
  {
   "cell_type": "markdown",
   "metadata": {},
   "source": [
    "### Zero matrix\n",
    "\n",
    "Matrix of zeros plays a role of 0: its addition or subtraction to another matrix does not change it:\n",
    "\n",
    "$$\n",
    "A + Z =\n",
    "\\begin{pmatrix} a_{00} & a_{01} \\\\ a_{10} & a_{11} \\end{pmatrix} +\n",
    "\\begin{pmatrix} 0 & 0 \\\\ 0 & 0 \\end{pmatrix}=\n",
    "\\begin{pmatrix} \n",
    "    a_{00} & a_{01} \\\\ \n",
    "    a_{10} & a_{11}\n",
    "\\end{pmatrix}\n",
    "$$\n"
   ]
  },
  {
   "cell_type": "markdown",
   "metadata": {},
   "source": [
    "### Matrix multiplication by a scalar\n",
    "\n",
    "Matrix multiplication by a scalar is a componentwise operation:\n",
    "$$\n",
    "c A =\n",
    "c \\begin{pmatrix} a_{00} & a_{01} \\\\ a_{10} & a_{11} \\end{pmatrix} =\n",
    "\\begin{pmatrix} c a_{00} & c a_{01} \\\\ c a_{10} & c a_{11} \\end{pmatrix}\n",
    "$$\n",
    "\n",
    "Order is not important:\n",
    "$$\n",
    "cA =Ac\n",
    "$$"
   ]
  },
  {
   "cell_type": "markdown",
   "metadata": {},
   "source": [
    "### Vectors and matrices in NumPy\n",
    "\n",
    "Matrix inversion, identity matrix, zeros, addition, multiplication"
   ]
  },
  {
   "cell_type": "code",
   "execution_count": null,
   "metadata": {},
   "outputs": [],
   "source": [
    "import numpy as np\n",
    "\n",
    "A = np.array([[1.2, 2.3, -3.1], [4.3, -9.1, 2.1], [3.1, 3.7, -4.1]])\n",
    "B = np.array([[4.3, -1.2, 0.5], [-0.2, 4.5, -6.7], [0.9, -0.9, 1.3]])\n",
    "C = np.array([[-2.3, 6.5], [0.5, 4.5], [1.7, 3.8]])\n",
    "x = np.array([-3.3, 1.2, -6.1])\n",
    "y = np.array([3.1, -4.2, 2.1])"
   ]
  },
  {
   "cell_type": "code",
   "execution_count": null,
   "metadata": {},
   "outputs": [],
   "source": [
    "# Add two vectors\n",
    "print(x + y)"
   ]
  },
  {
   "cell_type": "code",
   "execution_count": null,
   "metadata": {},
   "outputs": [],
   "source": [
    "# Vector norms\n",
    "print(np.linalg.norm(x))          # 2-norm (Euclidean)\n",
    "print(np.linalg.norm(x, 2))       # also 2-norm\n",
    "print(np.linalg.norm(x, 1))       # 1-norm\n",
    "print(np.linalg.norm(x, np.inf))  # inf-norm"
   ]
  },
  {
   "cell_type": "code",
   "execution_count": null,
   "metadata": {},
   "outputs": [],
   "source": [
    "# Distance between two points\n",
    "print(np.linalg.norm(x - y)) # Euclidean distance (2-norm)"
   ]
  },
  {
   "cell_type": "code",
   "execution_count": null,
   "metadata": {},
   "outputs": [],
   "source": [
    "# Multiplication my a scalar\n",
    "x1 = 2 * x\n",
    "print(x1)\n",
    "print(np.linalg.norm(x))\n",
    "print(np.linalg.norm(x1))"
   ]
  },
  {
   "cell_type": "code",
   "execution_count": null,
   "metadata": {},
   "outputs": [],
   "source": [
    "# Normalization\n",
    "x2 = x / np.linalg.norm(x)\n",
    "print(x2)\n",
    "print(np.linalg.norm(x2))"
   ]
  },
  {
   "cell_type": "code",
   "execution_count": null,
   "metadata": {},
   "outputs": [],
   "source": [
    "# Dot product\n",
    "print(x @ y)"
   ]
  },
  {
   "cell_type": "code",
   "execution_count": null,
   "metadata": {},
   "outputs": [],
   "source": [
    "# Extracting matrix rows and columns\n",
    "print(A)\n",
    "print()\n",
    "print(f\"row 1: {A[1, :]}\")\n",
    "print(f\"col 0: {A[:, 0]}\")"
   ]
  },
  {
   "cell_type": "code",
   "execution_count": null,
   "metadata": {},
   "outputs": [],
   "source": [
    "# Transposition\n",
    "print(A)\n",
    "print()\n",
    "print(A.T)"
   ]
  },
  {
   "cell_type": "code",
   "execution_count": null,
   "metadata": {},
   "outputs": [],
   "source": [
    "# Matrix - vector multiplication\n",
    "print(A @ x)"
   ]
  },
  {
   "cell_type": "code",
   "execution_count": null,
   "metadata": {},
   "outputs": [],
   "source": [
    "# Vector - matrix multiplication (multiplication from the left)\n",
    "print(x @ A)"
   ]
  },
  {
   "cell_type": "code",
   "execution_count": null,
   "metadata": {},
   "outputs": [],
   "source": [
    "# Matrix - matrix multiplication\n",
    "print(A)\n",
    "print()\n",
    "print(C)\n",
    "print()\n",
    "print(A @ C)"
   ]
  },
  {
   "cell_type": "code",
   "execution_count": null,
   "metadata": {},
   "outputs": [],
   "source": [
    "# Diagonal matrix\n",
    "print(np.diag(x))"
   ]
  },
  {
   "cell_type": "code",
   "execution_count": null,
   "metadata": {},
   "outputs": [],
   "source": [
    "# Identity matrix 5x5\n",
    "print(np.eye(5))"
   ]
  },
  {
   "cell_type": "code",
   "execution_count": null,
   "metadata": {},
   "outputs": [],
   "source": [
    "# Matrix addition and subtraction\n",
    "print(A)\n",
    "print()\n",
    "print(B)\n",
    "print()\n",
    "print(A + B)\n",
    "print()\n",
    "print(A - B)"
   ]
  },
  {
   "cell_type": "code",
   "execution_count": null,
   "metadata": {},
   "outputs": [],
   "source": [
    "# Zero matrix 4x4. Observe that the size is specified as a tuple\n",
    "print(np.zeros((4, 4)))"
   ]
  },
  {
   "cell_type": "code",
   "execution_count": null,
   "metadata": {},
   "outputs": [],
   "source": [
    "# Multiplication by a scalar\n",
    "print(A)\n",
    "print()\n",
    "print(10 * A)"
   ]
  },
  {
   "cell_type": "markdown",
   "metadata": {},
   "source": [
    "### Tensors\n",
    "\n",
    "Vector is one dimensional array. It means one index is required to get a component. "
   ]
  },
  {
   "cell_type": "code",
   "execution_count": null,
   "metadata": {},
   "outputs": [],
   "source": [
    "import numpy as np\n",
    "\n",
    "# Vector\n",
    "v = np.array([3.4, 3.2, 5.6])\n",
    "print(v[1])"
   ]
  },
  {
   "cell_type": "markdown",
   "metadata": {},
   "source": [
    "Matrix is two dimensional since two indexes are needed:"
   ]
  },
  {
   "cell_type": "code",
   "execution_count": null,
   "metadata": {},
   "outputs": [],
   "source": [
    "m = np.array([[3.2, -1.2], [4.3, -9.1]])\n",
    "print(m[0, 1])"
   ]
  },
  {
   "cell_type": "markdown",
   "metadata": {},
   "source": [
    "Higher dimensional arrays are called tensors. In general all array-like objects are tensors. Its dimension is called the order, degree or rank. \n",
    "\n",
    "Vector is a tensor of an order 1. Matrix is a tensor of an order 2. Here is an example of a tensor of an order 4."
   ]
  },
  {
   "cell_type": "code",
   "execution_count": null,
   "metadata": {},
   "outputs": [],
   "source": [
    "d = np.arange(600).reshape(10, 5, 4, 3)\n",
    "print(d[0,1,2,1])"
   ]
  },
  {
   "cell_type": "markdown",
   "metadata": {},
   "source": [
    "Tensors are employed to feed the data processing models. \n",
    "\n",
    "Data tensors shapes:\n",
    "- Order 2: Each entity is described by a one-dimensional vector. A butch of such vectors is order 2 tensor.\n",
    "- Order 3: Each entity is a black and withe figure described by a matrix. A butch of figures is order 3 tensor.\n",
    "- Order 4: Each entity is a color figure described by a three dimensional array. A butch of color figures is order 4 tensor."
   ]
  },
  {
   "cell_type": "markdown",
   "metadata": {},
   "source": [
    "### Vectors and matrices for data science\n",
    "\n",
    "As already mentioned above in data science vectors are used to store entity descriptions. Vector components are entity features.\n",
    "\n",
    "In general the purpose of data science is processing of data vectors to draw some conclusions. \n",
    "\n",
    "Matrices modify vectors. Thus they are the main tool for data vectors analysis. \n",
    "\n",
    "Matrices are responsible for linear transformations. But in most cases this is not enough and additional nonlinear transformations are needed."
   ]
  },
  {
   "cell_type": "markdown",
   "metadata": {},
   "source": [
    "### Exercises"
   ]
  },
  {
   "cell_type": "markdown",
   "metadata": {},
   "source": [
    "1\\. Create a function that computes a matrix trace: $\\textrm{Tr} A$."
   ]
  },
  {
   "cell_type": "markdown",
   "metadata": {},
   "source": [
    "2\\. Create functions that perform matrix - matrix addition and subtraction: $C = A \\pm B$."
   ]
  },
  {
   "cell_type": "markdown",
   "metadata": {},
   "source": [
    "3\\. Create a function that performs left vector - matrix multiplication: $\\vec x A = \\vec y$."
   ]
  },
  {
   "cell_type": "markdown",
   "metadata": {},
   "source": [
    "4\\. Create a function that performs multiplication of a matrix by a scalar: $B = c A$."
   ]
  },
  {
   "cell_type": "markdown",
   "metadata": {},
   "source": [
    "5\\. Create a function that performs matrix - matrix multiplication: $C = A B$"
   ]
  },
  {
   "cell_type": "markdown",
   "metadata": {},
   "source": [
    "6\\. Create a function that generates an identity matrix of a given size. You can not solve the problem just by calling the defined above function `matrix_diag`."
   ]
  },
  {
   "cell_type": "markdown",
   "metadata": {},
   "source": [
    "7\\. Create functions that perform left and right multiplication of a matrix by a diagonal matrix."
   ]
  },
  {
   "cell_type": "markdown",
   "metadata": {},
   "source": [
    "8\\. Create a function that generates a zero matrix. You can not solve the problem just by calling the defined above function `matrix_diag`."
   ]
  }
 ],
 "metadata": {
  "kernelspec": {
   "display_name": "Python 3 (ipykernel)",
   "language": "python",
   "name": "python3"
  },
  "language_info": {
   "codemirror_mode": {
    "name": "ipython",
    "version": 3
   },
   "file_extension": ".py",
   "mimetype": "text/x-python",
   "name": "python",
   "nbconvert_exporter": "python",
   "pygments_lexer": "ipython3",
   "version": "3.11.7"
  },
  "nbTranslate": {
   "displayLangs": [
    "*"
   ],
   "hotkey": "alt-t",
   "langInMainMenu": true,
   "sourceLang": "ru",
   "targetLang": "en",
   "useGoogleTranslate": true
  },
  "toc": {
   "base_numbering": 1,
   "nav_menu": {},
   "number_sections": true,
   "sideBar": true,
   "skip_h1_title": true,
   "title_cell": "Table of Contents",
   "title_sidebar": "Contents",
   "toc_cell": false,
   "toc_position": {
    "height": "calc(100% - 180px)",
    "left": "10px",
    "top": "150px",
    "width": "226px"
   },
   "toc_section_display": true,
   "toc_window_display": true
  }
 },
 "nbformat": 4,
 "nbformat_minor": 4
}
