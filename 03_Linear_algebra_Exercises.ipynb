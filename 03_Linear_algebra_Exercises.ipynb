{
 "cells": [
  {
   "cell_type": "markdown",
   "metadata": {},
   "source": [
    "# 03 Linear algebra, Exercises\n",
    "\n",
    "Part of [\"Introduction to Data Science\" course](https://github.com/kupav/data-sc-intro) by Pavel Kuptsov, [kupav@mail.ru](mailto:kupav@mail.ru)"
   ]
  },
  {
   "cell_type": "markdown",
   "metadata": {},
   "source": [
    "## Lesson 1"
   ]
  },
  {
   "cell_type": "markdown",
   "metadata": {},
   "source": [
    "### Exercises"
   ]
  },
  {
   "cell_type": "markdown",
   "metadata": {},
   "source": [
    "1\\. Given the set of linear equations\n",
    "$$ 2 x_1 + 2 x_3 = -2 $$\n",
    "$$ 2 x_1 - 2 x_3 =  6 $$\n",
    "$$ 3 x_2 - x_1 = -1 $$\n",
    "derive formulas for $x_1$, $x_2$ and $x_3$ (not necessary in this order) and write a Python program to compute the solution."
   ]
  },
  {
   "cell_type": "code",
   "execution_count": null,
   "metadata": {},
   "outputs": [],
   "source": []
  },
  {
   "cell_type": "markdown",
   "metadata": {},
   "source": [
    "2\\. Create a function that computes an angle between two vectors. After computing the angle cosine use inverse trigonometric function arc cosine to recover the angle. You will find this function in either `math` or `numpy` modules: `math.acos` or `numpy.arccos`, respectively."
   ]
  },
  {
   "cell_type": "code",
   "execution_count": null,
   "metadata": {},
   "outputs": [],
   "source": []
  },
  {
   "cell_type": "markdown",
   "metadata": {},
   "source": [
    "3\\. A unit vector directed along a coordinate axis contains all 0 except the single 1 at a certain position. For example in three-dimensional Cartesian coordinate system these vectors are $(1, 0, 0)$, $(0, 1, 0)$, and $(0, 0, 1)$. \n",
    "\n",
    "Create a function that accepts two parameter: space dimension `dim` and an order number of a vector `vec_num`.  This function has to return the corresponding unit vector. For example for `dim=5` and `vec_num=2` it hast to be $(0, 1, 0, 0, 0)$."
   ]
  },
  {
   "cell_type": "code",
   "execution_count": null,
   "metadata": {},
   "outputs": [],
   "source": []
  },
  {
   "cell_type": "markdown",
   "metadata": {},
   "source": [
    "4\\. Draw these three vectors \n",
    "$$\n",
    "  \\vec v_1 = (0.98480775, 0.17364818)\n",
    "$$\n",
    "\n",
    "$$\n",
    "  \\vec v_2 = (-0.64278761,  0.76604444)\n",
    "$$\n",
    "\n",
    "$$\n",
    "  \\vec v_3 = (-0.34202014, -0.93969262)\n",
    "$$\n",
    "\n",
    "to demonstrate that their sum is zero. Use function `draw_vector` defined \n",
    "above or create your own better version if you like."
   ]
  },
  {
   "cell_type": "code",
   "execution_count": null,
   "metadata": {},
   "outputs": [],
   "source": []
  },
  {
   "cell_type": "markdown",
   "metadata": {},
   "source": [
    "5\\. Draw these two vectors\n",
    "$$\n",
    "  \\vec v_1 = (0.96592583, 0.25881905)\n",
    "$$\n",
    "\n",
    "$$\n",
    "  \\vec v_2  = (-0.38822857,  1.44888874)\n",
    "$$\n",
    "\n",
    "to show that they are orthogonal. Prove their orthogonality using computations. Use function `draw_vector` defined above or create your own better version if you like."
   ]
  },
  {
   "cell_type": "code",
   "execution_count": null,
   "metadata": {},
   "outputs": [],
   "source": []
  },
  {
   "cell_type": "markdown",
   "metadata": {},
   "source": [
    "## Lesson 2"
   ]
  },
  {
   "cell_type": "markdown",
   "metadata": {},
   "source": [
    "### Exercises"
   ]
  },
  {
   "cell_type": "markdown",
   "metadata": {},
   "source": [
    "1\\. Create a function that computes a matrix trace: $\\textrm{Tr} A$."
   ]
  },
  {
   "cell_type": "code",
   "execution_count": null,
   "metadata": {},
   "outputs": [],
   "source": []
  },
  {
   "cell_type": "markdown",
   "metadata": {},
   "source": [
    "2\\. Create functions that perform matrix - matrix addition and subtraction: $C = A \\pm B$."
   ]
  },
  {
   "cell_type": "code",
   "execution_count": null,
   "metadata": {},
   "outputs": [],
   "source": []
  },
  {
   "cell_type": "markdown",
   "metadata": {},
   "source": [
    "3\\. Create a function that performs left vector - matrix multiplication: $\\vec x A = \\vec y$."
   ]
  },
  {
   "cell_type": "code",
   "execution_count": null,
   "metadata": {},
   "outputs": [],
   "source": []
  },
  {
   "cell_type": "markdown",
   "metadata": {},
   "source": [
    "4\\. Create a function that performs multiplication of a matrix by a scalar: $B = c A$."
   ]
  },
  {
   "cell_type": "code",
   "execution_count": null,
   "metadata": {},
   "outputs": [],
   "source": []
  },
  {
   "cell_type": "markdown",
   "metadata": {},
   "source": [
    "5\\. Create a function that performs matrix - matrix multiplication: $C = A B$"
   ]
  },
  {
   "cell_type": "code",
   "execution_count": null,
   "metadata": {},
   "outputs": [],
   "source": []
  },
  {
   "cell_type": "markdown",
   "metadata": {},
   "source": [
    "6\\. Create a function that generates an identity matrix of a given size. You can not solve the problem just by calling the defined above function `matrix_diag`."
   ]
  },
  {
   "cell_type": "code",
   "execution_count": null,
   "metadata": {},
   "outputs": [],
   "source": []
  },
  {
   "cell_type": "markdown",
   "metadata": {},
   "source": [
    "7\\. Create functions that perform left and right multiplication of a matrix by a diagonal matrix."
   ]
  },
  {
   "cell_type": "code",
   "execution_count": null,
   "metadata": {},
   "outputs": [],
   "source": []
  },
  {
   "cell_type": "markdown",
   "metadata": {},
   "source": [
    "8\\. Create a function that generates a zero matrix. You can not solve the problem just by calling the defined above function `matrix_diag`."
   ]
  },
  {
   "cell_type": "code",
   "execution_count": null,
   "metadata": {},
   "outputs": [],
   "source": []
  }
 ],
 "metadata": {
  "kernelspec": {
   "display_name": "Python 3 (ipykernel)",
   "language": "python",
   "name": "python3"
  },
  "language_info": {
   "codemirror_mode": {
    "name": "ipython",
    "version": 3
   },
   "file_extension": ".py",
   "mimetype": "text/x-python",
   "name": "python",
   "nbconvert_exporter": "python",
   "pygments_lexer": "ipython3",
   "version": "3.13.2"
  },
  "nbTranslate": {
   "displayLangs": [
    "*"
   ],
   "hotkey": "alt-t",
   "langInMainMenu": true,
   "sourceLang": "ru",
   "targetLang": "en",
   "useGoogleTranslate": true
  },
  "toc": {
   "base_numbering": 1,
   "nav_menu": {},
   "number_sections": true,
   "sideBar": true,
   "skip_h1_title": true,
   "title_cell": "Table of Contents",
   "title_sidebar": "Contents",
   "toc_cell": false,
   "toc_position": {
    "height": "calc(100% - 180px)",
    "left": "10px",
    "top": "150px",
    "width": "226px"
   },
   "toc_section_display": true,
   "toc_window_display": true
  }
 },
 "nbformat": 4,
 "nbformat_minor": 4
}
