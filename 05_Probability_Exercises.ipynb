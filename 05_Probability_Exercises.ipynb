{
 "cells": [
  {
   "cell_type": "markdown",
   "metadata": {},
   "source": [
    "# 05 Probability, Exercises\n",
    "\n",
    "Part of [\"Introduction to Data Science\" course](https://github.com/kupav/data-sc-intro) by Pavel Kuptsov, [kupav@mail.ru](mailto:kupav@mail.ru)"
   ]
  },
  {
   "cell_type": "markdown",
   "metadata": {},
   "source": [
    "## Lesson 1"
   ]
  },
  {
   "cell_type": "markdown",
   "metadata": {},
   "source": [
    "### Exercises"
   ]
  },
  {
   "cell_type": "markdown",
   "metadata": {},
   "source": [
    "1\\. Rolling two dice find the probability that they land with an even sum of points on top and at least one die has six points."
   ]
  },
  {
   "cell_type": "code",
   "execution_count": null,
   "metadata": {},
   "outputs": [],
   "source": []
  },
  {
   "cell_type": "markdown",
   "metadata": {},
   "source": [
    "2\\. Consider a game where your score is the maximum value from two dice. Compute the probability of each event from 1 to 6."
   ]
  },
  {
   "cell_type": "code",
   "execution_count": null,
   "metadata": {},
   "outputs": [],
   "source": []
  },
  {
   "cell_type": "markdown",
   "metadata": {},
   "source": [
    "3\\. File \"abc_freq.txt\" that you can find at \"https://raw.githubusercontent.com/kupav/data-sc-intro/main/data/\" contains a comma separated sequence of symbols 'a', 'b', and 'c'. Write the program that downloads this file and converts it to a list of symbols. Then the program computes frequencies of the symbols and represent them as percentages. Correct resulting values will be integer. If not, you probably forget to remove newline symbols from the file."
   ]
  },
  {
   "cell_type": "code",
   "execution_count": null,
   "metadata": {},
   "outputs": [],
   "source": []
  },
  {
   "cell_type": "markdown",
   "metadata": {},
   "source": [
    "4\\. In this exercise you will estimate how smoking is related with some (imaginary) disease $D$. Imagine that 0.1% of the population have this disease. Also it is known that there are 13% of smoker in the population. Finally 30% of the diseased people smoke. Given this data draw a conclusion do smoking provoke the disease? To answer it find the percentage of the smokers that have this disease and then compare it with the marginal percentage of the diseased people. "
   ]
  },
  {
   "cell_type": "code",
   "execution_count": null,
   "metadata": {},
   "outputs": [],
   "source": []
  },
  {
   "cell_type": "markdown",
   "metadata": {},
   "source": [
    "## Lesson 2"
   ]
  },
  {
   "cell_type": "markdown",
   "metadata": {},
   "source": [
    "### Exercises"
   ]
  },
  {
   "cell_type": "markdown",
   "metadata": {},
   "source": [
    "1\\. A random variable $x$ belongs to the interval between $0$ and $2$ and the probability that $x<x_1$ is proportional to $x_1^2$. Plot its CDF."
   ]
  },
  {
   "cell_type": "code",
   "execution_count": null,
   "metadata": {},
   "outputs": [],
   "source": []
  },
  {
   "cell_type": "markdown",
   "metadata": {},
   "source": [
    "2\\. In this exercise you have a random variable $x$ that belongs to the interval between 0 and 1 and its PDF is proportional to $x$. Plot the graph of this PDF. Do not forget about its proper normalization."
   ]
  },
  {
   "cell_type": "code",
   "execution_count": null,
   "metadata": {},
   "outputs": [],
   "source": []
  },
  {
   "cell_type": "markdown",
   "metadata": {},
   "source": [
    "3\\. File \"random_words.txt\" that you can find at \"https://raw.githubusercontent.com/kupav/data-sc-intro/main/data/\" contains the output of a random word generator. Its outcomes include six different words that are generated at random, one word per line. Write a program that downloads this file, reveals and print the words, and computes the related information entropy."
   ]
  },
  {
   "cell_type": "code",
   "execution_count": null,
   "metadata": {},
   "outputs": [],
   "source": []
  },
  {
   "cell_type": "markdown",
   "metadata": {},
   "source": [
    "4\\. Using cross-entropy compare two probability distributions \n",
    "\n",
    "$$\n",
    "Q_1 = 0.16, 0.19, 0.17, 0.15, 0.19, 0.14\n",
    "$$\n",
    "\n",
    "$$\n",
    "Q_2 = 0.13, 0.11, 0.14, 0.19, 0.21, 0.22\n",
    "$$\n",
    "\n",
    "designed to model rolling the die. Which one approximate the die better?"
   ]
  },
  {
   "cell_type": "code",
   "execution_count": null,
   "metadata": {},
   "outputs": [],
   "source": []
  }
 ],
 "metadata": {
  "kernelspec": {
   "display_name": "Python 3 (ipykernel)",
   "language": "python",
   "name": "python3"
  },
  "language_info": {
   "codemirror_mode": {
    "name": "ipython",
    "version": 3
   },
   "file_extension": ".py",
   "mimetype": "text/x-python",
   "name": "python",
   "nbconvert_exporter": "python",
   "pygments_lexer": "ipython3",
   "version": "3.13.2"
  },
  "nbTranslate": {
   "displayLangs": [
    "*"
   ],
   "hotkey": "alt-t",
   "langInMainMenu": true,
   "sourceLang": "ru",
   "targetLang": "en",
   "useGoogleTranslate": true
  },
  "toc": {
   "base_numbering": 1,
   "nav_menu": {
    "height": "113px",
    "width": "228px"
   },
   "number_sections": true,
   "sideBar": true,
   "skip_h1_title": true,
   "title_cell": "Table of Contents",
   "title_sidebar": "Contents",
   "toc_cell": false,
   "toc_position": {
    "height": "calc(100% - 180px)",
    "left": "10px",
    "top": "150px",
    "width": "241.4px"
   },
   "toc_section_display": true,
   "toc_window_display": true
  }
 },
 "nbformat": 4,
 "nbformat_minor": 4
}
