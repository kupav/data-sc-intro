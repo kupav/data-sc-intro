{
 "cells": [
  {
   "cell_type": "markdown",
   "metadata": {},
   "source": [
    "# 06 Hypothesis and inference, Exercises\n",
    "\n",
    "Part of [\"Introduction to Data Science\" course](https://github.com/kupav/data-sc-intro) by Pavel Kuptsov, [kupav@mail.ru](mailto:kupav@mail.ru)"
   ]
  },
  {
   "cell_type": "markdown",
   "metadata": {},
   "source": [
    "## Lesson 1"
   ]
  },
  {
   "cell_type": "markdown",
   "metadata": {},
   "source": [
    "### Exercises"
   ]
  },
  {
   "cell_type": "markdown",
   "metadata": {},
   "source": [
    "1\\. Using Python functions defined above compute probability that a random variable obeyed the standard normal distribution fits the range \\[-1, 1\\]."
   ]
  },
  {
   "cell_type": "code",
   "execution_count": null,
   "metadata": {},
   "outputs": [],
   "source": []
  },
  {
   "cell_type": "markdown",
   "metadata": {},
   "source": [
    "2\\. Using Python functions defined above compute such $X$ that a random variable $x$ obeyed the standard normal distribution is $x<X$ with the probability $0.25$."
   ]
  },
  {
   "cell_type": "code",
   "execution_count": null,
   "metadata": {},
   "outputs": [],
   "source": []
  },
  {
   "cell_type": "markdown",
   "metadata": {},
   "source": [
    "3\\. In a series $N=1500$ of tossing of an unknown coin the heads appeared 783 times. Can this coin be treated as unfair? Answer this question performing the hypothesis testing for significance $\\alpha=0.05$. Compute probabilities of type 1 and 2 errors and the power."
   ]
  },
  {
   "cell_type": "code",
   "execution_count": null,
   "metadata": {},
   "outputs": [],
   "source": []
  },
  {
   "cell_type": "markdown",
   "metadata": {},
   "source": [
    "4\\. For a series of $N=1000$ tossing of a coin develop a one sided test: accept as a null hypothesis that a coin is not biased toward heads, $P\\leq 0.5$, and use significance $\\alpha=0.05$"
   ]
  },
  {
   "cell_type": "code",
   "execution_count": null,
   "metadata": {},
   "outputs": [],
   "source": []
  },
  {
   "cell_type": "markdown",
   "metadata": {},
   "source": [
    "## Lesson 2"
   ]
  },
  {
   "cell_type": "markdown",
   "metadata": {},
   "source": [
    "### Exercises"
   ]
  },
  {
   "cell_type": "markdown",
   "metadata": {},
   "source": [
    "1\\. Compute the mean and 95% confidence interval for $400$ heads in a series of $1000$ tossing of a coin."
   ]
  },
  {
   "cell_type": "code",
   "execution_count": null,
   "metadata": {},
   "outputs": [],
   "source": []
  },
  {
   "cell_type": "markdown",
   "metadata": {},
   "source": [
    "2\\. Assume that for a certain age group of students scores on an IQ (intelligence) test are distributed normally with $\\mu=110$ and $\\sigma=16$. One of the students received a score of $82$. Compute $p$-value for this score. Accepting the significance level at $\\alpha=0.05$ make a decision do this student requires a special treatment or his/her IQ is within the norm."
   ]
  },
  {
   "cell_type": "code",
   "execution_count": null,
   "metadata": {},
   "outputs": [],
   "source": []
  },
  {
   "cell_type": "markdown",
   "metadata": {},
   "source": [
    "3\\. Website with the advertisement A visited $N_a=1550$ times and $n_a=20$ visitors clicked the banner. For the same website with the advertisement B these numbers are $N_b=1700$ and $n_b=25$. Perform the A/B test with the significance $\\alpha=0.05$ and decide which advertisement works better. "
   ]
  },
  {
   "cell_type": "code",
   "execution_count": null,
   "metadata": {},
   "outputs": [],
   "source": []
  },
  {
   "cell_type": "markdown",
   "metadata": {},
   "source": [
    "4\\. Analysis of a large student populations over many universities has shown that 11% percents of them has a part time job. In your university you asked 100 student and reveled 9 with the part time job. Using Bayesian inference refine the common percentage for your particular university."
   ]
  },
  {
   "cell_type": "code",
   "execution_count": null,
   "metadata": {},
   "outputs": [],
   "source": []
  },
  {
   "cell_type": "markdown",
   "metadata": {},
   "source": [
    "5\\. You are going to open an online store. A colleague of you that already manage an online store told you that the distribution of customer visits during a week is as follows:\n",
    "\n",
    "- Monday: 11\n",
    "- Tuesday: 9\n",
    "- Wednesday: 14\n",
    "- Thursday: 15\n",
    "- Friday: 22\n",
    "- Saturday: 33\n",
    "- Sunday: 31\n",
    " \n",
    " After opening of your own store you obtained the following numbers:\n",
    "\n",
    "- Monday: 30\n",
    "- Tuesday: 19\n",
    "- Wednesday: 34\n",
    "- Thursday: 26\n",
    "- Friday: 50\n",
    "- Saturday: 61\n",
    "- Sunday: 66\n",
    " \n",
    " Using $\\chi^2$-test check if your customer distributions is similar to the expected one. Take $\\alpha=0.05$."
   ]
  },
  {
   "cell_type": "code",
   "execution_count": null,
   "metadata": {},
   "outputs": [],
   "source": []
  }
 ],
 "metadata": {
  "kernelspec": {
   "display_name": "Python 3 (ipykernel)",
   "language": "python",
   "name": "python3"
  },
  "language_info": {
   "codemirror_mode": {
    "name": "ipython",
    "version": 3
   },
   "file_extension": ".py",
   "mimetype": "text/x-python",
   "name": "python",
   "nbconvert_exporter": "python",
   "pygments_lexer": "ipython3",
   "version": "3.13.2"
  },
  "nbTranslate": {
   "displayLangs": [
    "*"
   ],
   "hotkey": "alt-t",
   "langInMainMenu": true,
   "sourceLang": "ru",
   "targetLang": "en",
   "useGoogleTranslate": true
  },
  "toc": {
   "base_numbering": 1,
   "nav_menu": {
    "height": "113px",
    "width": "228px"
   },
   "number_sections": true,
   "sideBar": true,
   "skip_h1_title": true,
   "title_cell": "Table of Contents",
   "title_sidebar": "Contents",
   "toc_cell": false,
   "toc_position": {
    "height": "calc(100% - 180px)",
    "left": "10px",
    "top": "150px",
    "width": "241.4px"
   },
   "toc_section_display": true,
   "toc_window_display": true
  }
 },
 "nbformat": 4,
 "nbformat_minor": 4
}
