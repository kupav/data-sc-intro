{
 "cells": [
  {
   "cell_type": "markdown",
   "metadata": {},
   "source": [
    "# 08 Getting Data\n",
    "\n",
    "Part of [\"Introduction to Data Science\" course](https://github.com/kupav/data-sc-intro) by Pavel Kuptsov, [kupav@mail.ru](mailto:kupav@mail.ru)\n",
    "\n",
    "Recommended reading for this section:\n",
    "\n",
    "1. Grus, J. (2019). Data Science From Scratch: First Principles with Python (Vol. Second edition). Sebastopol, CA: O’Reilly Media\n",
    "\n",
    "The following Python modules will be required. Make sure that you have them installed.\n",
    "- os\n",
    "- sys\n",
    "- csv\n",
    "- beautifulsoup4 (bs4)\n",
    "- requests \n",
    "- html5lib"
   ]
  },
  {
   "cell_type": "markdown",
   "metadata": {},
   "source": [
    "## Lesson 1"
   ]
  },
  {
   "cell_type": "markdown",
   "metadata": {},
   "source": [
    "### File manipulations without leaving Jupyter\n",
    "\n",
    "Below we will need to use separate Python scripts, i.e., those that are run as separate executable, and not as Jupyter sections. \n",
    "\n",
    "However we still want to use Jupyter to analyze their content before running. \n",
    "\n",
    "For this purpose we will use so called magic functions. \n",
    "\n",
    "These functions are prefixed with a double `%%` and provide some useful functionality.\n",
    "\n",
    "Magic command `%%writefile <filename>` writes the contents of a cell to a file. \n",
    "\n",
    "Consider an example. \n",
    "\n",
    "The following simple piece of code sums numbers from 1 to 5 and prints the result. \n",
    "\n",
    "Let us first see how it works:"
   ]
  },
  {
   "cell_type": "code",
   "execution_count": null,
   "metadata": {},
   "outputs": [],
   "source": [
    "print(\"This is test script\")\n",
    "sum = 0\n",
    "for i in range(1, 6):\n",
    "    sum += i\n",
    "print(f\"sum={sum}\")"
   ]
  },
  {
   "cell_type": "markdown",
   "metadata": {},
   "source": [
    "Now we are going to write it to a separate file.\n",
    "\n",
    "First we specify the file name as Python variable."
   ]
  },
  {
   "cell_type": "code",
   "execution_count": null,
   "metadata": {},
   "outputs": [],
   "source": [
    "# This is the name for our file\n",
    "filename = 'sum5.py'"
   ]
  },
  {
   "cell_type": "markdown",
   "metadata": {},
   "source": [
    "The cell below will be saved to a file. \n",
    "\n",
    "Observe that we pass a file name to `%%writefile` as a variable `filename` with a symbol `$` that indicates that we need to substitute the content of the variable in place of its name. "
   ]
  },
  {
   "cell_type": "code",
   "execution_count": null,
   "metadata": {
    "scrolled": true
   },
   "outputs": [],
   "source": [
    "%%writefile $filename\n",
    "print(\"This is test script\")\n",
    "sum = 0\n",
    "for i in range(1, 6):\n",
    "    sum += i\n",
    "print(f\"sum={sum}\")"
   ]
  },
  {
   "cell_type": "markdown",
   "metadata": {},
   "source": [
    "To check that we are doing right we can open a file manager and make sure that the file is created.\n",
    "\n",
    "Besides the file manager there is also a terminal (also called a console) where we can type textual commands for manipulations with files.\n",
    "\n",
    "The terminal is run as a program from the Start menu. For Windows this program is called `cmd.exe` and users of Linux aware of many various terminals.\n",
    "\n",
    "We can also open the terminal right from the Jupyter. (Unfortunately if this notebook is opened within Google Colab the terminal is not available by default. Some adjustments are required to get it).\n",
    "\n",
    "Anyway we can simply type those textual terminal commands right from Jupyter code sections.\n",
    "\n",
    "To tell Jupyter that this is not a Python program but terminal commands we need to put a symbol `!` in front of the command.\n",
    "\n",
    "For example if we want to list the content of the current directory we type `ls` if our operating system is Linux and `dir` for Windows"
   ]
  },
  {
   "cell_type": "code",
   "execution_count": null,
   "metadata": {},
   "outputs": [],
   "source": [
    "#!dir\n",
    "!ls"
   ]
  },
  {
   "cell_type": "markdown",
   "metadata": {},
   "source": [
    "The Linux command `cat` prints the content of a file to a screen. For Windows the corresponding command is `type`"
   ]
  },
  {
   "cell_type": "code",
   "execution_count": null,
   "metadata": {},
   "outputs": [],
   "source": [
    "#!type $filename\n",
    "!cat $filename"
   ]
  },
  {
   "cell_type": "markdown",
   "metadata": {},
   "source": [
    "If we want to run a Python program we have to type as follows (both in Linux and in Windows):"
   ]
  },
  {
   "cell_type": "code",
   "execution_count": null,
   "metadata": {},
   "outputs": [],
   "source": [
    "!python $filename"
   ]
  },
  {
   "cell_type": "markdown",
   "metadata": {},
   "source": [
    "When the file is not needed we can remove it. \n",
    "\n",
    "There are many ways to do it. We will use the one provided by the Python module `os`"
   ]
  },
  {
   "cell_type": "code",
   "execution_count": null,
   "metadata": {},
   "outputs": [],
   "source": [
    "import os\n",
    "\n",
    "def remove_file(fn):\n",
    "    # If file exists, delete it \n",
    "    if os.path.isfile(fn):\n",
    "        os.remove(fn)\n",
    "        print(f\"File {fn} has been removed\")\n",
    "    # If not, print a message\n",
    "    else: \n",
    "        print(f\"File {fn} not found\")"
   ]
  },
  {
   "cell_type": "code",
   "execution_count": null,
   "metadata": {},
   "outputs": [],
   "source": [
    "remove_file(filename)"
   ]
  },
  {
   "cell_type": "markdown",
   "metadata": {},
   "source": [
    "Let us check now the content of the directory:"
   ]
  },
  {
   "cell_type": "code",
   "execution_count": null,
   "metadata": {},
   "outputs": [],
   "source": [
    "#!dir\n",
    "!ls"
   ]
  },
  {
   "cell_type": "markdown",
   "metadata": {},
   "source": [
    "### Command-line parameters\n",
    "\n",
    "Python as any other computer program reads parameters pass to it in a command line. \n",
    "\n",
    "Typically this is the way of controlling the program working.\n",
    "\n",
    "When one runs a program using a usual window interface the command line still exists but hidden from the user. But if needed it can be accessed and the parameters can be specified.\n",
    "\n",
    "From inside a Python program access to the command-line parameters is provided by the module `sys`. \n",
    "\n",
    "They are stored in a list `argv`. \n",
    "\n",
    "- `argv[0]` is the name of the program itself\n",
    "- `argv[1]` the first parameter\n",
    "- `argv[2]` the second one and so on.\n",
    "\n",
    "Here is an example: the program below prints its list of command-line parameters and then treat `argv[1]` as an operation `+` or `-`. Two others command-line parameters are considered as integer operands."
   ]
  },
  {
   "cell_type": "code",
   "execution_count": null,
   "metadata": {},
   "outputs": [],
   "source": [
    "filename = 'plus_minus.py'"
   ]
  },
  {
   "cell_type": "code",
   "execution_count": null,
   "metadata": {
    "run_control": {
     "marked": false
    }
   },
   "outputs": [],
   "source": [
    "%%writefile $filename\n",
    "import sys\n",
    "\n",
    "print(f'sys.argv={sys.argv}')\n",
    "op = sys.argv[1]\n",
    "x1 = int(sys.argv[2])\n",
    "x2 = int(sys.argv[3])\n",
    "\n",
    "if op == '+':\n",
    "    y = x1 + x2\n",
    "elif op == '-':\n",
    "    y = x1 - x2\n",
    "else:\n",
    "    y = None\n",
    "\n",
    "print(f'{x1} {op} {x2} = {y}')"
   ]
  },
  {
   "cell_type": "code",
   "execution_count": null,
   "metadata": {},
   "outputs": [],
   "source": [
    "!python $filename + 1 2"
   ]
  },
  {
   "cell_type": "code",
   "execution_count": null,
   "metadata": {},
   "outputs": [],
   "source": [
    "# We do not need this file anymore\n",
    "remove_file(filename)"
   ]
  },
  {
   "cell_type": "markdown",
   "metadata": {},
   "source": [
    "### Standard input and output streams\n",
    "\n",
    "Python program interacts with an external word via files: reads data from input files and print them to output files. \n",
    "\n",
    "One more way of interaction of course is GUI, Graphic User Interface. But usually GUI is used to control the operation mode while data flows inside and outside a program through files. \n",
    "\n",
    "Files inside a Python program are accessed by their names. \n",
    "\n",
    "Also there are standard, i.e., default, files for input and output streams of data. \n",
    "\n",
    "They are represented by the objects `stdin` (input) and `stdout` (output) provided by the module `sys`.\n",
    "\n",
    "The standard input and output streams can be used for example for creation of data filters.\n",
    "\n",
    "Consider a program that accepts one command-line parameter: the keyword.\n",
    "\n",
    "Then it reads `stdin` line by line and if the keyword is found it puts the corresponding line to `stdout`. \n",
    "\n",
    "By default `stdin` is attached to the keyboard and `stdout` corresponds to the console screen. "
   ]
  },
  {
   "cell_type": "code",
   "execution_count": null,
   "metadata": {},
   "outputs": [],
   "source": [
    "progfile = 'kw_filter.py'"
   ]
  },
  {
   "cell_type": "code",
   "execution_count": null,
   "metadata": {},
   "outputs": [],
   "source": [
    "%%writefile $progfile\n",
    "import sys\n",
    "keyword = sys.argv[1]\n",
    "for line in sys.stdin:\n",
    "    if keyword in line:\n",
    "        sys.stdout.write(f\"Keyword '{keyword}' is found in stdin, put the line to stdout: \\n{line}\")"
   ]
  },
  {
   "cell_type": "markdown",
   "metadata": {},
   "source": [
    "Since Jupyter can not run programs in interactive mode, we have to test this program using the true console. \n",
    "\n",
    "Thus now we either need to open the Jupyter built in terminal or run it as a separate program and navigate to the working directory where this notebook is located. Let us recall that in Windows the terminal is the program `cmd.exe`.\n",
    "\n",
    "If using Google Colab however, we can run this program right from there since it supports interactive mode.\n",
    "\n",
    "The execution is stopped when EOF, End Of File, symbol is received. \n",
    "\n",
    "To pass it from the keyboard we need to type Ctrl-D in Linux or Ctrl-Z + Enter in Windows. If running in Colab the execution is stopped by interrupting execution of the cell."
   ]
  },
  {
   "cell_type": "markdown",
   "metadata": {},
   "source": [
    "If using Google Colab, uncomment and run the section below, otherwise go to true console and run it from there.\n",
    "\n",
    "When program is run type some lines with and without the keyword 'big'"
   ]
  },
  {
   "cell_type": "code",
   "execution_count": null,
   "metadata": {},
   "outputs": [],
   "source": [
    "#! python $progfile big"
   ]
  },
  {
   "cell_type": "code",
   "execution_count": null,
   "metadata": {},
   "outputs": [],
   "source": [
    "remove_file(progfile)"
   ]
  },
  {
   "cell_type": "markdown",
   "metadata": {},
   "source": [
    "### Redirecting streams and pipes between programs\n",
    "\n",
    "The above example of using `stdin` and `stdout` is not so interesting. \n",
    "\n",
    "Practically important case is when the default streams are redirected using so called pipes. \n",
    "\n",
    "Pipes is a mechanism of a data transferring between programs:\n",
    "\n",
    "Output stream of one programs is attached to the input stream of another one.\n",
    "\n",
    "Using pipes we can organize data filtering as follows:\n",
    "\n",
    "Assume we have a text file. \n",
    "\n",
    "We output the content of this file through the pipe to our filtering program and it drops out all lines except those with the keyword. The output of the filter can be sent either to a screen or to another file.\n",
    "\n",
    "Let us first modify our program: remove additional textual remarks."
   ]
  },
  {
   "cell_type": "code",
   "execution_count": null,
   "metadata": {},
   "outputs": [],
   "source": [
    "progfile = 'kw_filter.py'"
   ]
  },
  {
   "cell_type": "code",
   "execution_count": null,
   "metadata": {},
   "outputs": [],
   "source": [
    "%%writefile $progfile\n",
    "import sys\n",
    "keyword = sys.argv[1]\n",
    "for line in sys.stdin:\n",
    "    if keyword in line:\n",
    "        sys.stdout.write(line)  # No comments printed anymore. Only write an appropriate line"
   ]
  },
  {
   "cell_type": "markdown",
   "metadata": {},
   "source": [
    "Now we create an initial datafile: "
   ]
  },
  {
   "cell_type": "code",
   "execution_count": null,
   "metadata": {},
   "outputs": [],
   "source": [
    "datafile = 'for_filter.txt'"
   ]
  },
  {
   "cell_type": "code",
   "execution_count": null,
   "metadata": {},
   "outputs": [],
   "source": [
    "%%writefile $datafile\n",
    "one line\n",
    "two line\n",
    "big line\n",
    "very big one"
   ]
  },
  {
   "cell_type": "markdown",
   "metadata": {},
   "source": [
    "The pipe is denoted by a symbol vertical bar `|`. \n",
    "\n",
    "To create a pipe between commands we type them one after another using `|` as a separator.\n",
    "\n",
    "The command line below works a follows:\n",
    "\n",
    "First we output the content of a file using `cat` (for Windows this the command `type` should be used instead). \n",
    "\n",
    "But instead of the screen we redirect its output to our filter program. In the other words we create a pipe that transfer \n",
    "the output of `cat` to the input of our program. \n",
    "\n",
    "Finally our program outputs its result to the screen."
   ]
  },
  {
   "cell_type": "code",
   "execution_count": null,
   "metadata": {},
   "outputs": [],
   "source": [
    "!cat $datafile | python $progfile one\n",
    "# Use this if using Windows\n",
    "# !type $datafile | python $progfile one"
   ]
  },
  {
   "cell_type": "markdown",
   "metadata": {},
   "source": [
    "Here we use another keyword."
   ]
  },
  {
   "cell_type": "code",
   "execution_count": null,
   "metadata": {},
   "outputs": [],
   "source": [
    "!cat $datafile | python $progfile big\n",
    "# !type $datafile | python $progfile big"
   ]
  },
  {
   "cell_type": "markdown",
   "metadata": {},
   "source": [
    "We can also send the resulting output to a file. \n",
    "\n",
    "But now we don not need a pipe: Pipe is for communications between programs. \n",
    "\n",
    "If we merely want to redirect `stdout` from the screen to a file we use symbol `>` after the command:"
   ]
  },
  {
   "cell_type": "code",
   "execution_count": null,
   "metadata": {},
   "outputs": [],
   "source": [
    "outfile = 'filtered.txt'"
   ]
  },
  {
   "cell_type": "code",
   "execution_count": null,
   "metadata": {},
   "outputs": [],
   "source": [
    "!cat $datafile | python $progfile big > $outfile\n",
    "# !type $datafile | python $progfile big > $outfile"
   ]
  },
  {
   "cell_type": "markdown",
   "metadata": {},
   "source": [
    "Let us see the result:"
   ]
  },
  {
   "cell_type": "code",
   "execution_count": null,
   "metadata": {},
   "outputs": [],
   "source": [
    "!cat $outfile\n",
    "#!type $outfile"
   ]
  },
  {
   "cell_type": "markdown",
   "metadata": {},
   "source": [
    "### More examples of using pipes\n",
    "\n",
    "Assume that we do not need to see the filtered lines, but want to count them.\n",
    "\n",
    "We need a program that reads lines from `stdin` and put their count to `stdout`."
   ]
  },
  {
   "cell_type": "code",
   "execution_count": null,
   "metadata": {},
   "outputs": [],
   "source": [
    "countfile = 'count.py'"
   ]
  },
  {
   "cell_type": "code",
   "execution_count": null,
   "metadata": {},
   "outputs": [],
   "source": [
    "%%writefile $countfile\n",
    "import sys\n",
    "count = 0\n",
    "for line in sys.stdin:\n",
    "    count += 1\n",
    "sys.stdout.write(str(count))"
   ]
  },
  {
   "cell_type": "markdown",
   "metadata": {},
   "source": [
    "Notice that we iterate over lines in `stdin` and count them one by one. \n",
    "\n",
    "We can not use mere `len(sys.stdin)` instead because this object do not know its length in advance. \n",
    "\n",
    "The input steam ends when EOF symbol appears. But in general case its appearance is unpredictable: Imagine that `stdin` is attached to the keyboard. Program can not predict when a user type EOF.\n",
    "\n",
    "Let as count lines in the initial file:"
   ]
  },
  {
   "cell_type": "code",
   "execution_count": null,
   "metadata": {},
   "outputs": [],
   "source": [
    "!cat $datafile | python $countfile\n",
    "# !type $datafile | python $countfile"
   ]
  },
  {
   "cell_type": "markdown",
   "metadata": {},
   "source": [
    "And here we first filter the input file and then count its lines:"
   ]
  },
  {
   "cell_type": "code",
   "execution_count": null,
   "metadata": {},
   "outputs": [],
   "source": [
    "!cat $datafile | python $progfile big | python $countfile\n",
    "# !type $datafile | python $progfile big | python $countfile"
   ]
  },
  {
   "cell_type": "markdown",
   "metadata": {},
   "source": [
    "But we continue let us explore a useful feature. The standard Python module `string` contains a variable `punctuation` that contains all punctuation marks:"
   ]
  },
  {
   "cell_type": "code",
   "execution_count": null,
   "metadata": {},
   "outputs": [],
   "source": [
    "import string\n",
    "print(string.punctuation)"
   ]
  },
  {
   "cell_type": "markdown",
   "metadata": {},
   "source": [
    "Now we will create a more complicated analyzer. We are going to count words in an input text \n",
    "and print the counts of the most common words, i.e., those that are often encountered in the text."
   ]
  },
  {
   "cell_type": "code",
   "execution_count": null,
   "metadata": {},
   "outputs": [],
   "source": [
    "textfile = 'story.txt'"
   ]
  },
  {
   "cell_type": "code",
   "execution_count": null,
   "metadata": {},
   "outputs": [],
   "source": [
    "%%writefile $textfile\n",
    "Next morning, Monday, after disposing of the embalmed head to a\n",
    "barber, for a block, I settled my own and comrade’s bill; using,\n",
    "however, my comrade’s money. The grinning landlord, as well as the\n",
    "boarders, seemed amazingly tickled at the sudden friendship which had\n",
    "sprung up between me and Queequeg—especially as Peter Coffin’s cock\n",
    "and bull stories about him had previously so much alarmed me\n",
    "concerning the very person whom I now companied with.\n",
    "\n",
    "We borrowed a wheelbarrow, and embarking our things, including my own\n",
    "poor carpet-bag, and Queequeg’s canvas sack and hammock, away we went\n",
    "down to “the Moss,” the little Nantucket packet schooner moored at the\n",
    "wharf. As we were going along the people stared; not at Queequeg so\n",
    "much—for they were used to seeing cannibals like him in their\n",
    "streets,—but at seeing him and me upon such confidential terms. But we\n",
    "heeded them not, going along wheeling the barrow by turns, and\n",
    "Queequeg now and then stopping to adjust the sheath on his harpoon\n",
    "barbs. I asked him why he carried such a troublesome thing with him\n",
    "ashore, and whether all whaling ships did not find their own\n",
    "harpoons. To this, in substance, he replied, that though what I hinted\n",
    "was true enough, yet he had a particular affection for his own\n",
    "harpoon, because it was of assured stuff, well tried in many a mortal\n",
    "combat, and deeply intimate with the hearts of whales. In short, like\n",
    "many inland reapers and mowers, who go into the farmers’ meadows armed\n",
    "with their own scythes—though in no wise obliged to furnish them—even\n",
    "so, Queequeg, for his own private reasons, preferred his own harpoon."
   ]
  },
  {
   "cell_type": "code",
   "execution_count": null,
   "metadata": {},
   "outputs": [],
   "source": [
    "wcntfile = 'word_count.py'"
   ]
  },
  {
   "cell_type": "code",
   "execution_count": null,
   "metadata": {},
   "outputs": [],
   "source": [
    "%%writefile $wcntfile\n",
    "import sys\n",
    "import string\n",
    "from collections import Counter\n",
    "\n",
    "# Number of words to show\n",
    "num = int(sys.argv[1])\n",
    "\n",
    "# Collect words here\n",
    "txt = []\n",
    "# Read stdin line by line\n",
    "for line in sys.stdin:\n",
    "    # Split line into list of words\n",
    "    for w in line.split():\n",
    "        # Remove punctuation characters\n",
    "        for p in string.punctuation:\n",
    "            w = w.replace(p, '')\n",
    "        # Store word in txt-list\n",
    "        txt.append(w)\n",
    "\n",
    "cnt = Counter(txt)\n",
    "\n",
    "# Send most common word counters \n",
    "for w, c in cnt.most_common(num):\n",
    "    sys.stdout.write(f\"{w} : {c}\\n\")"
   ]
  },
  {
   "cell_type": "code",
   "execution_count": null,
   "metadata": {},
   "outputs": [],
   "source": [
    "!cat $textfile | python $wcntfile 10"
   ]
  },
  {
   "cell_type": "code",
   "execution_count": null,
   "metadata": {},
   "outputs": [],
   "source": [
    "remove_file(progfile)\n",
    "remove_file(datafile)\n",
    "remove_file(outfile)\n",
    "remove_file(countfile)\n",
    "remove_file(textfile)\n",
    "remove_file(wcntfile)"
   ]
  },
  {
   "cell_type": "markdown",
   "metadata": {},
   "source": [
    "### Reading and writing plain files\n",
    "\n",
    "We already discussed it previously. \n",
    "\n",
    "Here is the reminder.\n",
    "\n",
    "First create a file"
   ]
  },
  {
   "cell_type": "code",
   "execution_count": null,
   "metadata": {},
   "outputs": [],
   "source": [
    "textfile = 'TomSawyer1.txt'"
   ]
  },
  {
   "cell_type": "code",
   "execution_count": null,
   "metadata": {},
   "outputs": [],
   "source": [
    "%%writefile $textfile\n",
    "Tom did play hookey, and he had a very good time. He got back home\n",
    "barely in season to help Jim, the small colored boy, saw next–day's\n",
    "wood and split the kindlings before supper—at least he was there in\n",
    "time to tell his adventures to Jim while Jim did three–fourths of the\n",
    "work. Tom's younger brother (or rather half–brother) Sid was already\n",
    "through with his part of the work (picking up chips), for he was a\n",
    "quiet boy, and had no adventurous, troublesome ways."
   ]
  },
  {
   "cell_type": "markdown",
   "metadata": {},
   "source": [
    "The following code reads the file line by line and prints the lines. \n",
    "\n",
    "Pay attention to the second parameter `'r'` of the `open`. It means reading of a files. \n",
    "\n",
    "If the second parameter is omitted, the reading is assumed by default.\n",
    "\n",
    "Observe that lines are received with end end line symbol `\\n`. \n",
    "\n",
    "To avoid double line ends we have to suppress end line symbols produced by `print` by default."
   ]
  },
  {
   "cell_type": "code",
   "execution_count": null,
   "metadata": {},
   "outputs": [],
   "source": [
    "file = open(textfile, 'r')\n",
    "for line in file:\n",
    "    print(line, end=\"\")\n",
    "file.close()"
   ]
  },
  {
   "cell_type": "markdown",
   "metadata": {},
   "source": [
    "Observe that the file must be closed after using. \n",
    "\n",
    "To guaranty the closing we can wrap file operation inside `with` context. \n",
    "\n",
    "It will close the file automatically and transparently when the execution lives the context."
   ]
  },
  {
   "cell_type": "code",
   "execution_count": null,
   "metadata": {},
   "outputs": [],
   "source": [
    "text = []\n",
    "with open(textfile, 'r') as file:\n",
    "    for line in file:\n",
    "        text.append(line.strip())\n",
    "\n",
    "print(text)        "
   ]
  },
  {
   "cell_type": "markdown",
   "metadata": {},
   "source": [
    "Observe that now we apply method `strip` to each line before storing it to the list `text`. \n",
    "\n",
    "This method cleans line ends from spaces and new lines symbols.\n",
    "\n",
    "When a file is opened with the parameter `'w'` it means the file will be written. \n",
    "\n",
    "If the file already exists it will be overwritten."
   ]
  },
  {
   "cell_type": "code",
   "execution_count": null,
   "metadata": {},
   "outputs": [],
   "source": [
    "text = \"\"\"The old lady whirled round, and snatched her skirts \n",
    "out of danger. The lad fled on the instant, scrambled \n",
    "up the high board–fence, and disappeared over it.\"\"\"\n",
    "\n",
    "with open(textfile, 'w') as file:\n",
    "    file.write(text)"
   ]
  },
  {
   "cell_type": "markdown",
   "metadata": {},
   "source": [
    "Let us read the file again to ensure that the content is new:"
   ]
  },
  {
   "cell_type": "code",
   "execution_count": null,
   "metadata": {},
   "outputs": [],
   "source": [
    "with open(textfile, 'r') as file:\n",
    "    for line in file:\n",
    "        print(line, end=\"\")"
   ]
  },
  {
   "cell_type": "markdown",
   "metadata": {},
   "source": [
    "If a file is opened with the parameter `'a'` the new content will be appended to the existing one:"
   ]
  },
  {
   "cell_type": "code",
   "execution_count": null,
   "metadata": {},
   "outputs": [],
   "source": [
    "text = \"\"\"\\n\\nHis aunt Polly stood surprised a moment, \n",
    "and then broke into a gentle laugh.\"\"\"\n",
    "\n",
    "with open(textfile, 'a') as file:\n",
    "    file.write(text)"
   ]
  },
  {
   "cell_type": "markdown",
   "metadata": {},
   "source": [
    "Let us see the result: "
   ]
  },
  {
   "cell_type": "code",
   "execution_count": null,
   "metadata": {},
   "outputs": [],
   "source": [
    "with open(textfile, 'r') as file:\n",
    "    for line in file:\n",
    "        print(line, end=\"\")"
   ]
  },
  {
   "cell_type": "code",
   "execution_count": null,
   "metadata": {},
   "outputs": [],
   "source": [
    "remove_file(textfile)"
   ]
  },
  {
   "cell_type": "markdown",
   "metadata": {},
   "source": [
    "### CSV files"
   ]
  },
  {
   "cell_type": "markdown",
   "metadata": {},
   "source": [
    "The simplest and very common way of storing tabulated data is provided by CSV-files, Comma Separated Value.\n",
    "\n",
    "Technically CSV-file is a plain text whose content represents a table. \n",
    "\n",
    "Each line of the text corresponds a table row. Table fields, i.e., the values, are separated within lines by commas `,` or colons `:` or semicolons `;` or tabulation symbols `'\\t'`.\n",
    "\n",
    "We already dealt with CSV-files previously: we opened them as ordinary files and parsed them manually using split method.\n",
    "\n",
    "But for serious work there is no need to do it. There are special tools for it.\n",
    "\n",
    "In fact, manual parsing of CSV-files is even not recommended at all. \n",
    "\n",
    "There are cases when the table fields themselves contains commas or newline symbols. Special readers are able to process these situations correctly.\n",
    "\n",
    "We consider the Python standard module `csv`.\n",
    "\n",
    "Let us first write an example file using Jupyter magic command `%%writefile`.\n",
    "\n",
    "The content that will be written to the file is in the section below.\n",
    "\n",
    "These are the stock prices of the GameStop Corp. \n",
    "\n",
    "Since this is a plain text we can easily inspect its structure.\n",
    "\n",
    "The first line as usual contains column headers. \n",
    "\n",
    "Other lines contain data. \n",
    "\n",
    "In our example the separators are commas."
   ]
  },
  {
   "cell_type": "code",
   "execution_count": null,
   "metadata": {},
   "outputs": [],
   "source": [
    "csvread = 'GameStop.csv'"
   ]
  },
  {
   "cell_type": "code",
   "execution_count": null,
   "metadata": {},
   "outputs": [],
   "source": [
    "%%writefile $csvread\n",
    "Date,Open,High,Low,Close,Volume\n",
    "02/05/2021,\"$316.56\",\"$322.00\",\"$51.09\",\"$63.77\",\"302,036,023\"\n",
    "01/29/2021,\"$96.73\",\"$483.00\",\"$61.13\",\"$325.00\",\"559,240,540\"\n",
    "01/22/2021,\"$41.55\",\"$76.76\",\"$36.06\",\"$65.01\",\"362,431,371\"\n",
    "01/15/2021,\"$19.41\",\"$43.06\",\"$19.01\",\"$35.50\",\"307,073,743\"\n",
    "01/08/2021,\"$19.00\",\"$19.45\",\"$17.08\",\"$17.69\",\"33,651,411\""
   ]
  },
  {
   "cell_type": "markdown",
   "metadata": {},
   "source": [
    "The following code reads the created CSV-file and convert text lines to table rows. Each row is a native Python list.\n",
    "\n",
    "Observe that the values in rows are stored as strings. \n",
    "\n",
    "This is our responsibility to convert theses strings into a more appropriate types, if needed."
   ]
  },
  {
   "cell_type": "code",
   "execution_count": null,
   "metadata": {
    "scrolled": true
   },
   "outputs": [],
   "source": [
    "import csv\n",
    "\n",
    "with open(csvread, 'r') as file:\n",
    "    reader = csv.reader(file, delimiter=',')\n",
    "    for row in reader:\n",
    "        print(row)"
   ]
  },
  {
   "cell_type": "markdown",
   "metadata": {},
   "source": [
    "If we want to skip the header line it can be done by an explicit empty iteration using `next` statement:"
   ]
  },
  {
   "cell_type": "code",
   "execution_count": null,
   "metadata": {},
   "outputs": [],
   "source": [
    "import csv\n",
    "\n",
    "with open(csvread) as file:\n",
    "    reader = csv.reader(file, delimiter=',')\n",
    "    next(reader)  # this is to skip the fist line\n",
    "    for row in reader:\n",
    "        print(row)"
   ]
  },
  {
   "cell_type": "markdown",
   "metadata": {},
   "source": [
    "Another option for CSV-files with the header is to read them as a dictionary:"
   ]
  },
  {
   "cell_type": "code",
   "execution_count": null,
   "metadata": {},
   "outputs": [],
   "source": [
    "import csv\n",
    "\n",
    "with open(csvread) as file:\n",
    "    reader = csv.DictReader(file, delimiter=',')\n",
    "    for row in reader:\n",
    "        print(row)"
   ]
  },
  {
   "cell_type": "markdown",
   "metadata": {},
   "source": [
    "Each row now is loaded as a dictionary so that the filed values can be accessed by names:"
   ]
  },
  {
   "cell_type": "code",
   "execution_count": null,
   "metadata": {},
   "outputs": [],
   "source": [
    "import csv\n",
    "\n",
    "with open(csvread) as file:\n",
    "    reader = csv.DictReader(file, delimiter=',')\n",
    "    for row in reader:\n",
    "        print(f\"Date: {row['Date']}, Volume: {row['Volume']}\")"
   ]
  },
  {
   "cell_type": "markdown",
   "metadata": {},
   "source": [
    "To create a CSV-file we need just to write its content row by row, where each row is a list of values.\n",
    "\n",
    "The header is written as the first row."
   ]
  },
  {
   "cell_type": "code",
   "execution_count": null,
   "metadata": {},
   "outputs": [],
   "source": [
    "csvwrite = 'cars.csv'\n",
    "\n",
    "data = [\n",
    "    ['Car','Horsepower','Weight','Origin'],\n",
    "    ['AMC Ambassador DPL',190,3850,'US'],\n",
    "    ['Buick Estate Wagon (sw)',225,3086,'US'],\n",
    "    ['Toyota Corolla Mark ii',95,2372,'Japan'],\n",
    "    ['Datsun PL510',88,2130,'Japan'],\n",
    "    ['Volkswagen 1131 Deluxe Sedan',46,1835,'Europe'],\n",
    "    ['Peugeot 504',87,2672,'Europe']\n",
    "]    "
   ]
  },
  {
   "cell_type": "code",
   "execution_count": null,
   "metadata": {},
   "outputs": [],
   "source": [
    "import csv\n",
    "\n",
    "with open(csvwrite, 'w') as file:\n",
    "    writer = csv.writer(file, delimiter=',')\n",
    "    for d in data:  # iterate over sublists of data \n",
    "        writer.writerow(d)  # and write it as table rows"
   ]
  },
  {
   "cell_type": "markdown",
   "metadata": {},
   "source": [
    "Let us read the obtained file. \n",
    "\n",
    "Notice that all numeric values are read as strings."
   ]
  },
  {
   "cell_type": "code",
   "execution_count": null,
   "metadata": {},
   "outputs": [],
   "source": [
    "with open(csvwrite) as file:\n",
    "    reader = csv.reader(file, delimiter=',')\n",
    "    for row in reader:\n",
    "        print(row)"
   ]
  },
  {
   "cell_type": "markdown",
   "metadata": {},
   "source": [
    "Data to CSV-file can also be written as dictionaries.\n",
    "\n",
    "We need to prepare the data as follows: a separate list of filed names and the data as a list of dictionaries."
   ]
  },
  {
   "cell_type": "code",
   "execution_count": null,
   "metadata": {},
   "outputs": [],
   "source": [
    "fieldnames = ['Car','Horsepower','Weight','Origin']\n",
    "datadics = [\n",
    "    {'Car': 'AMC Ambassador DPL', 'Horsepower': '190', 'Weight': '3850', 'Origin': 'US'},\n",
    "    {'Car': 'Buick Estate Wagon (sw)', 'Horsepower': '225', 'Weight': '3086', 'Origin': 'US'},\n",
    "    {'Car': 'Toyota Corolla Mark ii', 'Horsepower': '95', 'Weight': '2372', 'Origin': 'Japan'},\n",
    "    {'Car': 'Datsun PL510', 'Horsepower': '88', 'Weight': '2130', 'Origin': 'Japan'},\n",
    "    {'Car': 'Volkswagen 1131 Deluxe Sedan', 'Horsepower': '46', 'Weight': '1835', 'Origin': 'Europe'},\n",
    "    {'Car': 'Peugeot 504', 'Horsepower': '87', 'Weight': '2672', 'Origin': 'Europe'}]"
   ]
  },
  {
   "cell_type": "code",
   "execution_count": null,
   "metadata": {},
   "outputs": [],
   "source": [
    "with open(csvwrite, 'w') as file:\n",
    "    writer = csv.DictWriter(file, fieldnames=fieldnames)\n",
    "    writer.writeheader()\n",
    "    for d in datadics:  # iterate over dictionaries of data \n",
    "        writer.writerow(d)  # and write it as table rows    "
   ]
  },
  {
   "cell_type": "markdown",
   "metadata": {},
   "source": [
    "Let us read the file again. The result is the same is above."
   ]
  },
  {
   "cell_type": "code",
   "execution_count": null,
   "metadata": {},
   "outputs": [],
   "source": [
    "with open(csvwrite) as file:\n",
    "    reader = csv.reader(file, delimiter=',')\n",
    "    for row in reader:\n",
    "        print(row)"
   ]
  },
  {
   "cell_type": "markdown",
   "metadata": {},
   "source": [
    "Although using dictionary is a more complicated way, the chance of error is lower since each data value goes to the file \n",
    "with its own name and these names are controlled by the writer.\n",
    "\n",
    "Let us intentionally try to corrupt the data. \n",
    "\n",
    "First try the plain writing"
   ]
  },
  {
   "cell_type": "code",
   "execution_count": null,
   "metadata": {},
   "outputs": [],
   "source": [
    "csvwrite = 'cars.csv'\n",
    "\n",
    "data = [\n",
    "    ['Car','Horsepower','Weight','Origin'],\n",
    "    ['AMC Ambassador DPL',190,3850,'US'],  # normal row\n",
    "    ['Buick Estate Wagon (sw)',225,3086,'US', 'UK'],  # \"UK' is superfluous here\n",
    "    ['Toyota Corolla Mark ii',95],  # two fileds are abesent\n",
    "]    "
   ]
  },
  {
   "cell_type": "code",
   "execution_count": null,
   "metadata": {},
   "outputs": [],
   "source": [
    "import csv\n",
    "\n",
    "with open(csvwrite, 'w') as file:\n",
    "    writer = csv.writer(file, delimiter=',')\n",
    "    for d in data:  # iterate over sublists of data \n",
    "        writer.writerow(d)  # and write it as table rows"
   ]
  },
  {
   "cell_type": "markdown",
   "metadata": {},
   "source": [
    "All have been written flawless. \n",
    "\n",
    "When we try to read we will see exactly what we have written. \n",
    "\n",
    "Observe that rows with the omitted filed are written as it is. It means that this not a tables in a strict sense any more since the table always have rows of identical lengths."
   ]
  },
  {
   "cell_type": "code",
   "execution_count": null,
   "metadata": {},
   "outputs": [],
   "source": [
    "with open(csvwrite) as file:\n",
    "    reader = csv.reader(file, delimiter=',')\n",
    "    for row in reader:\n",
    "        print(row)"
   ]
  },
  {
   "cell_type": "markdown",
   "metadata": {},
   "source": [
    "Now try the dictionary writer."
   ]
  },
  {
   "cell_type": "code",
   "execution_count": null,
   "metadata": {},
   "outputs": [],
   "source": [
    "fieldnames = ['Car','Horsepower','Weight','Origin']\n",
    "datadics = [\n",
    "    {'Car': 'AMC Ambassador DPL', 'Horsepower': '190', 'Weight': '3850', 'Origin': 'US'},  # normal row\n",
    "    {'Car': 'Buick Estate Wagon (sw)', 'Horsepower': '225', 'Weight': '3086', 'Origin': 'US', 'Origin': 'China'},  # duplicated fileds\n",
    "    {'Car': 'Toyota Corolla Mark ii', 'Horsepower': '95', 'Weight': '2372', 'Origin': 'Japan', 'Origin1': 'Europ'},  # superfluous field\n",
    "    {'Car': 'Datsun PL510', 'Horsepower': '88'}]  # two fileds are missing"
   ]
  },
  {
   "cell_type": "markdown",
   "metadata": {},
   "source": [
    "If we try to write the above data there will be error: writer will notice the filed name `Origin1` that is not registered \n",
    "as a header name in the list `fieldnames`."
   ]
  },
  {
   "cell_type": "code",
   "execution_count": null,
   "metadata": {},
   "outputs": [],
   "source": [
    "with open(csvwrite, 'w') as file:\n",
    "    writer = csv.DictWriter(file, fieldnames=fieldnames)\n",
    "    writer.writeheader()\n",
    "    for d in datadics:  \n",
    "        writer.writerow(d) "
   ]
  },
  {
   "cell_type": "markdown",
   "metadata": {},
   "source": [
    "We can either fix the error in our data or process error during writing. \n",
    "\n",
    "We wrap the writing command into the  `try-except` block and print error messages. Also we print the dictionary before sending it to the writer."
   ]
  },
  {
   "cell_type": "code",
   "execution_count": null,
   "metadata": {},
   "outputs": [],
   "source": [
    "with open(csvwrite, 'w') as file:\n",
    "    writer = csv.DictWriter(file, fieldnames=fieldnames)\n",
    "    writer.writeheader()\n",
    "    for d in datadics:  # iterate over sublists of data \n",
    "        try:\n",
    "            print(d)\n",
    "            writer.writerow(d)  # and write it as table rows    \n",
    "        except ValueError as e:\n",
    "            print(e)"
   ]
  },
  {
   "cell_type": "markdown",
   "metadata": {},
   "source": [
    "Now all works and we see that only the superfluous filed is considered by the writer as an voidable error. \n",
    "\n",
    "Other our intentional corruptions are processed. \n",
    "\n",
    "First of all notice that the filed `'Origin': 'China'` has overwritten the first one `'Origin': 'US'` even before writing.\n",
    "\n",
    "This is the default behavior of dictionaries.\n",
    "\n",
    "Let us read the file:"
   ]
  },
  {
   "cell_type": "code",
   "execution_count": null,
   "metadata": {},
   "outputs": [],
   "source": [
    "with open(csvwrite) as file:\n",
    "    reader = csv.reader(file, delimiter=',')\n",
    "    for row in reader:\n",
    "        print(row)"
   ]
  },
  {
   "cell_type": "markdown",
   "metadata": {},
   "source": [
    "We see that the missing fields have been written to the file as empty strings unlike previous plain writer that has produced the rows of different lengths."
   ]
  },
  {
   "cell_type": "code",
   "execution_count": null,
   "metadata": {},
   "outputs": [],
   "source": [
    "remove_file(csvread)\n",
    "remove_file(csvwrite)"
   ]
  },
  {
   "cell_type": "markdown",
   "metadata": {},
   "source": [
    "### Exercises\n",
    "\n",
    "1\\. Create the program that writes to a file the multiplication table for pairs of integers from 2 to 9. The content of the file should be like<br>\n",
    "`2 x 2 = 4`<br>\n",
    "`2 x 3 = 6`<br>\n",
    "`...`<br>\n",
    "`9 x 8 = 72`<br>\n",
    "`9 x 9 = 81`<br>\n",
    "\n",
    "2\\. Create the program that accepts a word as command-line parameter prints the number of consonants and vowels in this word.\n",
    " \n",
    "3\\. In this exercise you will create two programs. The first one writes to the standard output stream all integers from a range specified via its command line-parameters. The second program reads a numbers from the standard input stream and resend it to the standard output stream if its decimal representation contains at least one symbol `3`. Create a pipe for these two programs: output of the first one is piped to the input of the second. And the output of the second one is redirected to a file.\n",
    "\n",
    "4\\. Create a program that writes to a CSV-file a table with two columns. The first one is the month name and the second one is the number of its days."
   ]
  },
  {
   "cell_type": "markdown",
   "metadata": {},
   "source": [
    "## Lesson 2"
   ]
  },
  {
   "cell_type": "markdown",
   "metadata": {},
   "source": [
    "### HTML in a Nutshell\n",
    "\n",
    "Webpages that we see browsing the Internet are created using HTML. \n",
    "\n",
    "This abbreviation stands for \"Hyper Text Mark-Up Language\". \n",
    "\n",
    "Technically this is a plain text.\n",
    "\n",
    "But unlike the ordinary text the content of an HTML document is structured with tags. \n",
    "\n",
    "The tags are keywords enclosed in angular brackets `<` and `>`.\n",
    "\n",
    "There are tags that marks the beginning and the end of document part. Accordingly there are opening and closing tags.\n",
    "\n",
    "For example all text paragraphs are marked with tags `<p>` and `</p>`.\n",
    "\n",
    "```html\n",
    "<p>All ready, Miss Welse, though I'm sorry we can't spare one of the steamer's boats.</p>\n",
    "```\n",
    "\n",
    "Headers are marked with `<h1></h1>`, `<h2></h2>`, `<h3></h3>` and so on. The number indicates the level of the headers \n",
    "hierarchy.\n",
    "\n",
    "```html\n",
    "<h1>Oliver Twist</h1>\n",
    "<h2>Chapter I</h2>\n",
    "```\n",
    "\n",
    "The HTML page begins with the document type declaration `<!doctype html>`. \n",
    "\n",
    "Then the HTML content is located `<html></html>`. The closing `</html>` is the end tag of the whole document.\n",
    "\n",
    "The HTML content includes the head part `<head></head>` and the body `<body></body>`.\n",
    "\n",
    "The head part describes document properties: its title, character set, required additional resources and so on.\n",
    "\n",
    "The body part contains the information shown to a user.\n",
    "\n",
    "```html\n",
    "<!doctype html>\n",
    "<html lang=\"en-US\">\n",
    "<head>\n",
    "    <title>Page title</title>\n",
    "    <meta charset=\"utf-8\">\n",
    "</head>\n",
    "<body>\n",
    "  <h1>Main header</h1>\n",
    "  <p>Text paragraph</p>\n",
    "  <p>Text paragraph</p>\n",
    "</body>\n",
    "</html>\n",
    "```    \n",
    "\n",
    "Some more tags:\n",
    "\n",
    "Boldface\n",
    "```html\n",
    "<b>This is very important</b>\n",
    "```\n",
    "\n",
    "Italic\n",
    "```html\n",
    "<i>Also pay at attention to this point</i>\n",
    "```\n",
    "\n",
    "Hyperlink\n",
    "\n",
    "```html\n",
    "<a href=\"https://www.wikipedia.org/\">Click here to visit WikipediA</a>\n",
    "```\n",
    "    \n",
    "Image (notice that this tag do not have the closing one)\n",
    "```html\n",
    "<img src=\"https://images.com/animals/dog.jpg\">\n",
    "```\n",
    "\n",
    "Block of tags, for example paragraphs with some common property of formatting\n",
    "\n",
    "```html\n",
    "<div>\n",
    "    <p>Author: John Doe</p>\n",
    "    <p>Year: 2021</p>\n",
    "</div>\n",
    "```\n",
    "\n",
    "Each tag can have attributes. For example the tag `<img>` has attribute `src` and the tag `<a>` has attribute `href`.\n",
    "\n",
    "Also each tag can have attributes `id` and `class`. \n",
    "\n",
    "`id` is useful for identification of particular tags to create interactive webpages.\n",
    "\n",
    "`class` is used for applying formating.\n",
    "\n",
    "```html\n",
    "<p id='author'>Jane Austen</p>\n",
    "```"
   ]
  },
  {
   "cell_type": "markdown",
   "metadata": {},
   "source": [
    "### Getting data from Webpages\n",
    "\n",
    "The main problem with the webpages is that typically they have very complicated structure.\n",
    "\n",
    "Moreover the web designers often do not follow the strict logical rules of construction of HTML structure so that \n",
    "automatic analysis of webpages can be very complicated.\n",
    "\n",
    "Thus we start with a specially prepared simple webpage.\n",
    "\n",
    "Let us first open it to see how it looks like.\n",
    "\n",
    "[Charles Dickens](https://kupav.github.io/data-sc-intro/dickens.html)\n",
    "\n",
    "To extract an information from a webpage we first need to download it. \n",
    "\n",
    "This is done with the module `requests`. We used it previously to get data files from the course repository. "
   ]
  },
  {
   "cell_type": "code",
   "execution_count": null,
   "metadata": {
    "run_control": {
     "marked": false
    }
   },
   "outputs": [],
   "source": [
    "# This module downloads webpages\n",
    "import requests\n",
    "\n",
    "# This is an URL of a webpage \n",
    "url = \"https://kupav.github.io/data-sc-intro/dickens.html\"\n",
    "\n",
    "# Here we downlaod the file\n",
    "raw_data = requests.get(url)\n",
    "\n",
    "# Check if downlaing was successfull\n",
    "assert raw_data.status_code == 200"
   ]
  },
  {
   "cell_type": "markdown",
   "metadata": {},
   "source": [
    "Now `raw_data.text` contains the whole content of the webpage. \n",
    "\n",
    "We need to parse it. \n",
    "\n",
    "Parsing means revealing the structure and mapping it to the hierarchy of Python objects.\n",
    "\n",
    "The parsing is done using the analyzer `BeautifulSoup` whose corresponding Python module name is `bs4`. \n",
    "\n",
    "The analyzer requires an additional executive engine that will perform the actual reveling of tags in the downloaded content.\n",
    "\n",
    "There are many such engines. We will use `html5lib`."
   ]
  },
  {
   "cell_type": "code",
   "execution_count": null,
   "metadata": {},
   "outputs": [],
   "source": [
    "# This module converts raw data downloaded by request into a readable structure\n",
    "from bs4 import BeautifulSoup\n",
    "\n",
    "# Now we parse convert it to readable structure. HTML parsing is done via library 'html5lib'\n",
    "soup = BeautifulSoup(raw_data.text, 'html5lib')\n",
    "\n",
    "# Printing of th whole object just shows the full document\n",
    "print(soup)"
   ]
  },
  {
   "cell_type": "markdown",
   "metadata": {},
   "source": [
    "Lets check what the `soup` can do.\n",
    "\n",
    "If we need a particular tag we can have it as follows:"
   ]
  },
  {
   "cell_type": "code",
   "execution_count": null,
   "metadata": {},
   "outputs": [],
   "source": [
    "print(soup.find('p'))"
   ]
  },
  {
   "cell_type": "markdown",
   "metadata": {},
   "source": [
    "Or like this:"
   ]
  },
  {
   "cell_type": "code",
   "execution_count": null,
   "metadata": {},
   "outputs": [],
   "source": [
    "print(soup.p)"
   ]
  },
  {
   "cell_type": "markdown",
   "metadata": {},
   "source": [
    "Both of the ways returns a Python object representing the corresponding tag.\n",
    "\n",
    "Properties of the found tag can be accessed via object attributes.\n",
    "\n",
    "For example the content of the tag can be accessed via the attribute `text`:"
   ]
  },
  {
   "cell_type": "code",
   "execution_count": null,
   "metadata": {},
   "outputs": [],
   "source": [
    "print(soup.find('p').text)\n",
    "print(soup.p.text)"
   ]
  },
  {
   "cell_type": "markdown",
   "metadata": {},
   "source": [
    "But this way gives us only the first tag in the document. \n",
    "\n",
    "To acquire all of them we have to find them.\n",
    "\n",
    "Let us find second level headers:"
   ]
  },
  {
   "cell_type": "code",
   "execution_count": null,
   "metadata": {},
   "outputs": [],
   "source": [
    "all_h2 = soup.find_all('h2')\n",
    "print(type(all_h2))\n",
    "print(all_h2)"
   ]
  },
  {
   "cell_type": "markdown",
   "metadata": {},
   "source": [
    "We observe that the result is the list-like container that stores all found tags.\n",
    "\n",
    "Each element of the container is a tag object.\n",
    "\n",
    "Object `soup` also admits implicit calling `find_all` via functional form:"
   ]
  },
  {
   "cell_type": "code",
   "execution_count": null,
   "metadata": {},
   "outputs": [],
   "source": [
    "print(soup('h2'))"
   ]
  },
  {
   "cell_type": "markdown",
   "metadata": {},
   "source": [
    "Let us extract all text parts from the found tags:"
   ]
  },
  {
   "cell_type": "code",
   "execution_count": null,
   "metadata": {},
   "outputs": [],
   "source": [
    "print([x.text for x in soup('h2')])"
   ]
  },
  {
   "cell_type": "markdown",
   "metadata": {},
   "source": [
    "Tags can be nested. \n",
    "\n",
    "And each tag object has its own method `.find_all` to find the nested tags. \n",
    "\n",
    "Let us see what words are highlighted with the tags `<i>` or `<b>` inside the main text and print their paragraphs.\n",
    "\n",
    "We will call `.find_all` implicitly via functional form."
   ]
  },
  {
   "cell_type": "code",
   "execution_count": null,
   "metadata": {},
   "outputs": [],
   "source": [
    "all_p = soup('p')\n",
    "for tag in all_p:\n",
    "    if len(tag('i')) != 0:\n",
    "        print(tag)\n",
    "    if len(tag('b')) != 0:\n",
    "        print(tag)"
   ]
  },
  {
   "cell_type": "markdown",
   "metadata": {},
   "source": [
    "If we mere want all tags `<i>` or `<b>` there is no need to iterate \n",
    "over tags `<p>` embracing them.\n",
    "\n",
    "We can find all tags we need directly. Also notice that we again call `find_all` implicitly."
   ]
  },
  {
   "cell_type": "code",
   "execution_count": null,
   "metadata": {},
   "outputs": [],
   "source": [
    "print(soup('i'))\n",
    "print(soup('b'))"
   ]
  },
  {
   "cell_type": "markdown",
   "metadata": {},
   "source": [
    "Tags attributes are extracted by treating a tag object like a dictionary.\n",
    "\n",
    "Here we iterate over all paragraphs and print those that have the attribute `id`."
   ]
  },
  {
   "cell_type": "code",
   "execution_count": null,
   "metadata": {},
   "outputs": [],
   "source": [
    "for tag in soup('p'):\n",
    "    try:\n",
    "        attrib = tag['id']\n",
    "        print(attrib, tag)\n",
    "    except KeyError:\n",
    "        pass"
   ]
  },
  {
   "cell_type": "markdown",
   "metadata": {},
   "source": [
    "In the above example we read the tag attribute and if it is absent an error occurs. We just ignore it.\n",
    "\n",
    "Instead of catching errors with absent attributes we can check its presence using `has_attr`."
   ]
  },
  {
   "cell_type": "code",
   "execution_count": null,
   "metadata": {},
   "outputs": [],
   "source": [
    "for tag in soup('p'):\n",
    "    if tag.has_attr('id'):\n",
    "        print(tag['id'], tag)"
   ]
  },
  {
   "cell_type": "markdown",
   "metadata": {},
   "source": [
    "We can also find tags with a specific attributes using a dictionary as a second argument:"
   ]
  },
  {
   "cell_type": "code",
   "execution_count": null,
   "metadata": {},
   "outputs": [],
   "source": [
    "print(soup('p', {'id': 'author'}))"
   ]
  },
  {
   "cell_type": "markdown",
   "metadata": {},
   "source": [
    "Some more examples.\n",
    "\n",
    "List all image reference:"
   ]
  },
  {
   "cell_type": "code",
   "execution_count": null,
   "metadata": {},
   "outputs": [],
   "source": [
    "print(soup('img'))"
   ]
  },
  {
   "cell_type": "markdown",
   "metadata": {},
   "source": [
    "List all hyperlinks:"
   ]
  },
  {
   "cell_type": "code",
   "execution_count": null,
   "metadata": {},
   "outputs": [],
   "source": [
    "print(soup('a'))"
   ]
  },
  {
   "cell_type": "markdown",
   "metadata": {},
   "source": [
    "Finally we can extract all textual content of a webpage without all tags.\n",
    "\n",
    "For we have to use `text` attribute of the `soup` object:"
   ]
  },
  {
   "cell_type": "code",
   "execution_count": null,
   "metadata": {},
   "outputs": [],
   "source": [
    "print(soup.text)"
   ]
  },
  {
   "cell_type": "markdown",
   "metadata": {},
   "source": [
    "### Example: parsing Wikipedia\n",
    "\n",
    "We are going to do the following:\n",
    "\n",
    "- open the main page of Wikipedia\n",
    "- find the link to the English pages\n",
    "- in the main English page find links to Portals\n",
    "- open the first one \n",
    "- print list of image descriptions"
   ]
  },
  {
   "cell_type": "markdown",
   "metadata": {},
   "source": [
    "Load the main page"
   ]
  },
  {
   "cell_type": "code",
   "execution_count": null,
   "metadata": {},
   "outputs": [],
   "source": [
    "from bs4 import BeautifulSoup\n",
    "import requests\n",
    "url = \"https://www.wikipedia.org/\"\n",
    "raw_data = requests.get(url)\n",
    "assert raw_data.status_code == 200\n",
    "soup = BeautifulSoup(raw_data.text, 'html5lib')"
   ]
  },
  {
   "cell_type": "markdown",
   "metadata": {},
   "source": [
    "Visual inspection of the links. We need to understand how find the link to the English page.\n",
    "\n",
    "Notice that links have attribute `title`. "
   ]
  },
  {
   "cell_type": "code",
   "execution_count": null,
   "metadata": {},
   "outputs": [],
   "source": [
    "print(soup('a'))"
   ]
  },
  {
   "cell_type": "markdown",
   "metadata": {},
   "source": [
    "List all links and their titles"
   ]
  },
  {
   "cell_type": "code",
   "execution_count": null,
   "metadata": {},
   "outputs": [],
   "source": [
    "for tag in soup('a'):\n",
    "    if tag.has_attr('title'):\n",
    "        s = tag['title']\n",
    "        print(s, '\\t', tag['href'])"
   ]
  },
  {
   "cell_type": "markdown",
   "metadata": {},
   "source": [
    "List all links again and find `English` in `title`. Save corresponding url."
   ]
  },
  {
   "cell_type": "code",
   "execution_count": null,
   "metadata": {},
   "outputs": [],
   "source": [
    "for tag in soup('a'):\n",
    "    if tag.has_attr('title'):\n",
    "        s = tag['title']\n",
    "        if s.find('English') >= 0:\n",
    "            url1 = tag['href']\n",
    "            break\n",
    "print(url1)"
   ]
  },
  {
   "cell_type": "markdown",
   "metadata": {},
   "source": [
    "Load the page we have found"
   ]
  },
  {
   "cell_type": "code",
   "execution_count": null,
   "metadata": {},
   "outputs": [],
   "source": [
    "url_en = 'https:' + url1\n",
    "print(url_en)\n",
    "raw_data = requests.get(url_en)\n",
    "assert raw_data.status_code == 200\n",
    "soup = BeautifulSoup(raw_data.text, 'html5lib')"
   ]
  },
  {
   "cell_type": "code",
   "execution_count": null,
   "metadata": {},
   "outputs": [],
   "source": [
    "soup('a')"
   ]
  },
  {
   "cell_type": "markdown",
   "metadata": {},
   "source": [
    "Look for links with `Portal` in `title` and collect in a list."
   ]
  },
  {
   "cell_type": "code",
   "execution_count": null,
   "metadata": {},
   "outputs": [],
   "source": [
    "portals = []\n",
    "for tag in soup('a'):\n",
    "    if tag.has_attr('title'):\n",
    "        s = tag['title']\n",
    "        if s.find('Portal') == 0:\n",
    "            portals.append((s, tag['href']))\n",
    "\n",
    "portals"
   ]
  },
  {
   "cell_type": "markdown",
   "metadata": {},
   "source": [
    "Open the first portal."
   ]
  },
  {
   "cell_type": "code",
   "execution_count": null,
   "metadata": {},
   "outputs": [],
   "source": [
    "url_portal = url_en + portals[0][1]\n",
    "print(url_portal)\n",
    "raw_data = requests.get(url_portal)\n",
    "assert raw_data.status_code == 200\n",
    "soup = BeautifulSoup(raw_data.text, 'html5lib')"
   ]
  },
  {
   "cell_type": "markdown",
   "metadata": {},
   "source": [
    "Iterate over tags `img` and print their description. This attribute is called `alt`."
   ]
  },
  {
   "cell_type": "code",
   "execution_count": null,
   "metadata": {},
   "outputs": [],
   "source": [
    "for tag in soup('img'):\n",
    "    if tag.has_attr('alt') and len(tag['alt']) > 0:\n",
    "        print(tag['alt'])"
   ]
  },
  {
   "cell_type": "markdown",
   "metadata": {},
   "source": [
    "### Exercises\n",
    "\n",
    "5\\. Write the program the loads webpage https://kupav.github.io/data-sc-intro/dickens.html and find there a link to a wikipedia article about Charles Dickens.\n",
    "\n",
    "6\\. Find some news portal you like. Write the program that loads its main page and saves its full textual content to a file.\n",
    "\n",
    "7\\. Select a web site of any university. Write the program the finds its contacts and save them to a file."
   ]
  },
  {
   "cell_type": "code",
   "execution_count": null,
   "metadata": {},
   "outputs": [],
   "source": []
  }
 ],
 "metadata": {
  "kernelspec": {
   "display_name": "Python 3 (ipykernel)",
   "language": "python",
   "name": "python3"
  },
  "language_info": {
   "codemirror_mode": {
    "name": "ipython",
    "version": 3
   },
   "file_extension": ".py",
   "mimetype": "text/x-python",
   "name": "python",
   "nbconvert_exporter": "python",
   "pygments_lexer": "ipython3",
   "version": "3.11.6"
  },
  "nbTranslate": {
   "displayLangs": [
    "*"
   ],
   "hotkey": "alt-t",
   "langInMainMenu": true,
   "sourceLang": "ru",
   "targetLang": "en",
   "useGoogleTranslate": true
  },
  "toc": {
   "base_numbering": 1,
   "nav_menu": {
    "height": "113px",
    "width": "228px"
   },
   "number_sections": true,
   "sideBar": true,
   "skip_h1_title": true,
   "title_cell": "Table of Contents",
   "title_sidebar": "Contents",
   "toc_cell": false,
   "toc_position": {
    "height": "calc(100% - 180px)",
    "left": "10px",
    "top": "150px",
    "width": "165px"
   },
   "toc_section_display": true,
   "toc_window_display": true
  }
 },
 "nbformat": 4,
 "nbformat_minor": 4
}
