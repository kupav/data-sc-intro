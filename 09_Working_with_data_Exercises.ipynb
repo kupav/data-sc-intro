{
 "cells": [
  {
   "cell_type": "markdown",
   "metadata": {},
   "source": [
    "# 09 Working with data, Exercises\n",
    "\n",
    "Part of [\"Introduction to Data Science\" course](https://github.com/kupav/data-sc-intro) by Pavel Kuptsov, [kupav@mail.ru](mailto:kupav@mail.ru)"
   ]
  },
  {
   "cell_type": "markdown",
   "metadata": {},
   "source": [
    "## Lesson 1"
   ]
  },
  {
   "cell_type": "markdown",
   "metadata": {},
   "source": [
    "### Exercises"
   ]
  },
  {
   "cell_type": "markdown",
   "metadata": {},
   "source": [
    "1\\. Download the file \"skewed_data_1d.txt\" from the repository \"https://raw.githubusercontent.com/kupav/data-sc-intro/main/data/\".\n",
    "This file contains one column of data. Describe it using corresponding function from the module `scipy.stats`. Analyze its skewness and kurtosis. What can you say about the dataset based on these values? Plot a histogram. "
   ]
  },
  {
   "cell_type": "code",
   "execution_count": null,
   "metadata": {},
   "outputs": [],
   "source": []
  },
  {
   "cell_type": "markdown",
   "metadata": {},
   "source": [
    "2\\. Download the file \"multidim_corr.csv\" from the repository \"https://raw.githubusercontent.com/kupav/data-sc-intro/main/data/\".\n",
    "This file contains several columns of data. Plot pairwise scatter plots as well as separated histograms. Compute the correlation matrix. What can you say about the dependencies between the data columns?"
   ]
  },
  {
   "cell_type": "code",
   "execution_count": null,
   "metadata": {},
   "outputs": [],
   "source": []
  },
  {
   "cell_type": "markdown",
   "metadata": {},
   "source": [
    "3\\. Download the file \"dirty_data_1d.txt\" from the repository \"https://raw.githubusercontent.com/kupav/data-sc-intro/main/data/\".\n",
    "This file contain a normally distributed data with some contamination. Compute $p$-values for the dataset and remove the outliers whose $p$-values are less then $\\alpha=0.001$. Plot histograms for the original and cleaned data."
   ]
  },
  {
   "cell_type": "code",
   "execution_count": null,
   "metadata": {},
   "outputs": [],
   "source": []
  },
  {
   "cell_type": "markdown",
   "metadata": {
    "slideshow": {
     "slide_type": "subslide"
    }
   },
   "source": [
    "## Lesson 2"
   ]
  },
  {
   "cell_type": "markdown",
   "metadata": {},
   "source": [
    "### Exercises"
   ]
  },
  {
   "cell_type": "markdown",
   "metadata": {},
   "source": [
    "1\\. Download the file \"rescale.csv\" from the repository \"https://raw.githubusercontent.com/kupav/data-sc-intro/main/data/\". Rescale its columns, compute all pairwise distances and find three closest records."
   ]
  },
  {
   "cell_type": "code",
   "execution_count": null,
   "metadata": {},
   "outputs": [],
   "source": []
  },
  {
   "cell_type": "markdown",
   "metadata": {},
   "source": [
    "2\\. Download the file \"happiness_score.csv\" from the repository \"https://raw.githubusercontent.com/kupav/data-sc-intro/main/data/\". Rescale its column 'Happiness Score'. Transform its column 'Region' into one-hot representation. Compute pairwise distances using 'Happiness Score' and one-hot columns for 'Region'. Find two most similar countries."
   ]
  },
  {
   "cell_type": "code",
   "execution_count": null,
   "metadata": {},
   "outputs": [],
   "source": []
  }
 ],
 "metadata": {
  "kernelspec": {
   "display_name": "Python 3 (ipykernel)",
   "language": "python",
   "name": "python3"
  },
  "language_info": {
   "codemirror_mode": {
    "name": "ipython",
    "version": 3
   },
   "file_extension": ".py",
   "mimetype": "text/x-python",
   "name": "python",
   "nbconvert_exporter": "python",
   "pygments_lexer": "ipython3",
   "version": "3.13.2"
  },
  "nbTranslate": {
   "displayLangs": [
    "*"
   ],
   "hotkey": "alt-t",
   "langInMainMenu": true,
   "sourceLang": "ru",
   "targetLang": "en",
   "useGoogleTranslate": true
  },
  "toc": {
   "base_numbering": 1,
   "nav_menu": {
    "height": "113px",
    "width": "228px"
   },
   "number_sections": true,
   "sideBar": true,
   "skip_h1_title": true,
   "title_cell": "Table of Contents",
   "title_sidebar": "Contents",
   "toc_cell": false,
   "toc_position": {
    "height": "calc(100% - 180px)",
    "left": "10px",
    "top": "150px",
    "width": "243.4px"
   },
   "toc_section_display": true,
   "toc_window_display": true
  }
 },
 "nbformat": 4,
 "nbformat_minor": 4
}
