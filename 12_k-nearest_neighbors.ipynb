{
 "cells": [
  {
   "cell_type": "markdown",
   "metadata": {},
   "source": [
    "# 12 k-nearest neighbors\n",
    "\n",
    "Part of [\"Introduction to Data Science\" course](https://github.com/kupav/data-sc-intro) by Pavel Kuptsov, [kupav@mail.ru](mailto:kupav@mail.ru)\n",
    "\n",
    "Recommended reading for this section:\n",
    "\n",
    "1. Grus, J. (2019). Data Science From Scratch: First Principles with Python (Vol. Second edition). Sebastopol, CA: O’Reilly Media\n",
    "1. Muller, A and Guido, S (2017). Introduction to Machine Learning with Python. O'Reilly\n",
    "1. Shmueli, B. Multi-Class Metrics Made Simple, Part I: Precision and Recall. https://towardsdatascience.com/multi-class-metrics-made-simple-part-i-precision-and-recall-9250280bddc2\n",
    "1. Shmueli, B. Multi-Class Metrics Made Simple, Part II: the F1-score. https://towardsdatascience.com/multi-class-metrics-made-simple-part-ii-the-f1-score-ebe8b2c2ca1\n",
    "\n",
    "The following Python modules will be required. Make sure that you have them installed.\n",
    "- `matplotlib`\n",
    "- `sklearn`\n",
    "- `csv`\n",
    "- `requests`\n",
    "- `numpy`\n",
    "- `collections`"
   ]
  },
  {
   "cell_type": "markdown",
   "metadata": {},
   "source": [
    "## Lesson 1"
   ]
  },
  {
   "cell_type": "markdown",
   "metadata": {},
   "source": [
    "### Idea of k-nearest neighbors method\n",
    "\n",
    "k-nearest neighbors or kNN methods is the simplest supervised learning method.\n",
    "\n",
    "Let us remember:\n",
    "\n",
    "Supervised means that we train a model using an annotated dataset: the desired output is known for each record.\n",
    "\n",
    "kNN method can be used both for classification and for regression.\n",
    "\n",
    "Let us remember:\n",
    "\n",
    "- Classification means that all data can be categorized into several classes. When there are two classes this is binary classification: spam or not spam. The goal of the training is to built a model that predicts a class for a new previously unseen data.\n",
    "- Regression means that the data represent an unknown dependence like $y=f(x)$. Here $x$ and $y$ are real numbers. The goal is to build a model able to predict real value $y$ for a new, previously unseen real value $x$.\n",
    "\n",
    "Common idea behind the nearest neighbors method is simple and intuitively obvious:\n",
    "\n",
    "If you want to know somebody's preferences, e.g. preferred shopping areas or cinemas, look around at his/her closest neighbors. The preferences most probably will be the same."
   ]
  },
  {
   "cell_type": "markdown",
   "metadata": {},
   "source": [
    "### kNN classification\n",
    "\n",
    "When the dataset is analyzed we locate each record as a point in a multidimensional space. \n",
    "\n",
    "The training merely means that a model remembers the all train data with the corresponding labels. \n",
    "\n",
    "When a new data point arrives the distances are computed between it and all stored training data to reveal its $k$ nearest neighbors. \n",
    "\n",
    "Value of $k$ is specified as a model parameter. It can be 1 or 3 or something like that. Usually this is not too large.\n",
    "\n",
    "When considering more then one neighbors, they vote to assign a label. \n",
    "\n",
    "This means that it is counted how many neighbors belong to each class. The new point is assigned a more frequent label.\n",
    "\n",
    "Assume that $k=3$ and there are 2 classes. \n",
    "\n",
    "For a given data point the model have found neighbors with the following classes: (0, 0, 1). \n",
    "\n",
    "In this case the point will be labeled as belonging to the class 0.\n",
    "\n",
    "Assume however that we consider $k=5$ and 3 classes. \n",
    "\n",
    "It is possible that among the neighbors two different classes will appear twice: The neighbors can be like this (0,0,1,1,2).\n",
    "\n",
    "What class to choose, 0 or 1?\n",
    "\n",
    "Such situations are called ties.\n",
    "\n",
    "Their resolution depend on the implementation of the kNN model. There are several options:\n",
    " \n",
    "- Pick the first met class in a list of neighbors as the winner.\n",
    "- Pick one of the winners at random.\n",
    "- Weight the votes by distance and pick the weighted winner.\n",
    "- Reduce k until we find a unique winner."
   ]
  },
  {
   "cell_type": "markdown",
   "metadata": {},
   "source": [
    "### kNN classification in more detail: manually implemented model\n",
    "\n",
    "Since kNN method is very simple we will implements it first ourself, and then consider its implementation from the library \"scikit-learn\".\n",
    "\n",
    "First we will need as usual a function to download datasets from the repository."
   ]
  },
  {
   "cell_type": "code",
   "execution_count": null,
   "metadata": {},
   "outputs": [],
   "source": [
    "import csv\n",
    "import numpy as np\n",
    "import requests\n",
    "\n",
    "def load_csv_dataset(file_name, dtype=float):\n",
    "    \"\"\"Downloads csv numeric dataset from repo to numpy array.\"\"\"\n",
    "    base_url = \"https://raw.githubusercontent.com/kupav/data-sc-intro/main/data/\"\n",
    "    web_data = requests.get(base_url + file_name)\n",
    "    assert web_data.status_code == 200\n",
    "    \n",
    "    reader = csv.reader(web_data.text.splitlines(), delimiter=',')\n",
    "    data = []\n",
    "    for row in reader:\n",
    "        try:\n",
    "            # Try to parse as a row of floats\n",
    "            float_row = [dtype(x) for x in row]\n",
    "            data.append(float_row)\n",
    "        except ValueError:\n",
    "            # If the parsing as floats is failed - this is header\n",
    "            print(row)\n",
    "            \n",
    "    return np.array(data)"
   ]
  },
  {
   "cell_type": "markdown",
   "metadata": {},
   "source": [
    "To implement a function that finds neighbors we need to take a look at two functions.\n",
    "\n",
    "Function `np.linalg.norm` computes Euclidean norm of a vector. For example for vectors of two elements \n",
    "it computes hypotenuse length considering vector elements as a triangle legs lengths (Pythagorean theorem):"
   ]
  },
  {
   "cell_type": "code",
   "execution_count": null,
   "metadata": {},
   "outputs": [],
   "source": [
    "leg1, leg2 = 3, 4\n",
    "hyp = np.sqrt(leg1**2 + leg2**2)\n",
    "print(hyp)\n",
    "vec = [leg1, leg2]\n",
    "nrm = np.linalg.norm(vec)\n",
    "print(nrm)"
   ]
  },
  {
   "cell_type": "markdown",
   "metadata": {},
   "source": [
    "kNN-method computes distances between the stored training data and a new point. \n",
    "\n",
    "In principal the various distances can be considered. We will use the most standard Euclidean one. It will be computed using \n",
    "the function `np.linalg.norm`.\n",
    "\n",
    "Another function that we will use is `sorted`. It does what is expected: returns an array sorted in the ascending order."
   ]
  },
  {
   "cell_type": "code",
   "execution_count": null,
   "metadata": {},
   "outputs": [],
   "source": [
    "arr1 = [3, 1, 4, 2]\n",
    "arr2 = sorted(arr1)\n",
    "print(arr2)"
   ]
  },
  {
   "cell_type": "markdown",
   "metadata": {},
   "source": [
    "We will need to sort array of two columns in parallel according to the values of one of the columns.\n",
    "\n",
    "We do it using `key` parameter of the function `sorted`. \n",
    "\n",
    "Here the function is passed that take row of the sorted array and returns the value that must be sorted."
   ]
  },
  {
   "cell_type": "code",
   "execution_count": null,
   "metadata": {},
   "outputs": [],
   "source": [
    "arr1 = np.array([[3, 50], [1, 30], [4, 20], [2, 60]])\n",
    "print(\"arr1=\\n\", arr1)\n",
    "arr2 = np.array(sorted(arr1, key=lambda row: row[0]))\n",
    "print(\"arr2=\\n\", arr2)"
   ]
  },
  {
   "cell_type": "markdown",
   "metadata": {},
   "source": [
    "Assume that we already have $k$ labels of the closest neighbors. \n",
    "\n",
    "How to choose one of them?\n",
    "\n",
    "Let us first remember how class Counter works."
   ]
  },
  {
   "cell_type": "code",
   "execution_count": null,
   "metadata": {},
   "outputs": [],
   "source": [
    "from collections import Counter\n",
    "\n",
    "# Assume we obtained these labels\n",
    "klabels = [0, 1, 2, 1, 2, 1, 1, 2]\n",
    "# Count them\n",
    "cnt = Counter(klabels)\n",
    "print(cnt)"
   ]
  },
  {
   "cell_type": "code",
   "execution_count": null,
   "metadata": {},
   "outputs": [],
   "source": [
    "# Order of elements printed above is arbitary. We want to sort the output by the number of appearence\n",
    "print(cnt.most_common())"
   ]
  },
  {
   "cell_type": "code",
   "execution_count": null,
   "metadata": {},
   "outputs": [],
   "source": [
    "# In fact we need just the first most commont element\n",
    "print(cnt.most_common(1))"
   ]
  },
  {
   "cell_type": "code",
   "execution_count": null,
   "metadata": {},
   "outputs": [],
   "source": [
    "# The most common label\n",
    "print(cnt.most_common(1)[0][0])"
   ]
  },
  {
   "cell_type": "markdown",
   "metadata": {},
   "source": [
    "Here the function that just takes the first most common label. "
   ]
  },
  {
   "cell_type": "code",
   "execution_count": null,
   "metadata": {},
   "outputs": [],
   "source": [
    "from collections import Counter\n",
    "\n",
    "def vote_first(klabels):\n",
    "    \"\"\"Take the most common label among k neighbors.\n",
    "    If there are many such ones just take the first of them\n",
    "    \"\"\"\n",
    "    cnt = Counter(klabels)\n",
    "    return cnt.most_common(1)[0][0]"
   ]
  },
  {
   "cell_type": "markdown",
   "metadata": {},
   "source": [
    "Let us check it:"
   ]
  },
  {
   "cell_type": "code",
   "execution_count": null,
   "metadata": {},
   "outputs": [],
   "source": [
    "# Label 0 appears first. It will be returned\n",
    "labels1 = [0,0,1,1,2]\n",
    "print(\"winner=\", vote_first(labels1))\n",
    "\n",
    "# Now label 1 appears first\n",
    "labels2 = [1,1,0,0,2]\n",
    "print(\"winner=\", vote_first(labels2))"
   ]
  },
  {
   "cell_type": "markdown",
   "metadata": {},
   "source": [
    "The labels appear in a list of labels according to the distances of the corresponding neighbors.\n",
    "\n",
    "When the label 0 appears first in a list like this (0,1,0,1,2) it means that the corresponding neighbor has the closest distance to the new point.\n",
    "\n",
    "Thus taking it as a winner makes sense. \n",
    "\n",
    "More sophisticated approach can be as follows. \n",
    "\n",
    "In cases of ties we will rerun the voting without the last one label. \n",
    "\n",
    "In this case the winner is the label that belongs to neighbors located more tight to the new point.\n",
    "\n",
    "Let us first check how it can be implemented"
   ]
  },
  {
   "cell_type": "code",
   "execution_count": null,
   "metadata": {
    "run_control": {
     "marked": false
    }
   },
   "outputs": [],
   "source": [
    "# Assume we obtained these labels\n",
    "klabels = [0, 1, 2, 1, 2, 1, 2]\n",
    "# Count them\n",
    "cnt = Counter(klabels)\n",
    "# Take first two\n",
    "first_place, second_place = cnt.most_common(2)\n",
    "print(first_place)\n",
    "print(second_place)\n",
    "# Need to rerun if their number of appearances coincide\n",
    "print(first_place[1] == second_place[1])"
   ]
  },
  {
   "cell_type": "code",
   "execution_count": null,
   "metadata": {},
   "outputs": [],
   "source": [
    "from collections import Counter\n",
    "\n",
    "def vote_tight(klabels):\n",
    "    \"\"\"Take the most common label among k neighbors.\n",
    "    If there are many such ones rerun voting without the last label\n",
    "    \"\"\"\n",
    "    # Count labels\n",
    "    cnt = Counter(klabels)\n",
    "    # Special case when all labels are the same\n",
    "    if len(cnt) == 1:\n",
    "        return cnt.most_common(1)[0][0]\n",
    "    # Take first and the second places\n",
    "    first_place, second_place = cnt.most_common(2)\n",
    "    # If they both have same number of appearence rerun with \n",
    "    if first_place[1] == second_place[1]:\n",
    "        return vote_tight(klabels[:-1])\n",
    "    else:\n",
    "        return first_place[0]"
   ]
  },
  {
   "cell_type": "code",
   "execution_count": null,
   "metadata": {},
   "outputs": [],
   "source": [
    "# Two closest neighbors have labels 0, they win\n",
    "labels1 = [0,0,1,1,2]\n",
    "print(\"winner=\", vote_tight(labels1))\n",
    "\n",
    "# The colsest neighbor has label 0, another such neighbor is to far, label 1 wins\n",
    "labels2 = [0,1,1,0,2]\n",
    "print(\"winner=\", vote_tight(labels2))"
   ]
  },
  {
   "cell_type": "markdown",
   "metadata": {},
   "source": [
    "Now we are ready to write the knn-function itself.\n",
    "\n",
    "Observe that we pass a voting function as a parameter."
   ]
  },
  {
   "cell_type": "code",
   "execution_count": null,
   "metadata": {},
   "outputs": [],
   "source": [
    "def knn_classify(k, labeled_data, vote, new_point):\n",
    "    \n",
    "    # Exctract the data and labels \n",
    "    data = labeled_data[:, :-1]\n",
    "    labels = labeled_data[:, -1]\n",
    "    \n",
    "    # Numbers of features must coincide\n",
    "    assert len(data[0]) ==  len(new_point)\n",
    "    \n",
    "    # Find all distances\n",
    "    dist = [np.linalg.norm(new_point - point) for point in data]\n",
    "    \n",
    "    # Combine the distances and the labels int the same array\n",
    "    dist_lab = np.array([dist, labels]).T\n",
    "    \n",
    "    # Sort distances in the ascending order\n",
    "    sorted_labels = np.array(sorted(dist_lab, key=lambda row: row[0]))\n",
    "    \n",
    "    # Labels must be integers. Convert them\n",
    "    sorted_labels = sorted_labels.astype(int)\n",
    "    \n",
    "    # Take labels of the first k neighbors and start voting\n",
    "    return vote(sorted_labels[:k, 1])"
   ]
  },
  {
   "cell_type": "markdown",
   "metadata": {},
   "source": [
    "Now we download the dataset. "
   ]
  },
  {
   "cell_type": "code",
   "execution_count": null,
   "metadata": {},
   "outputs": [],
   "source": [
    "data = load_csv_dataset('point-clouds-1.csv')\n",
    "print(data[:20])"
   ]
  },
  {
   "cell_type": "markdown",
   "metadata": {},
   "source": [
    "The printed part only label 0 appears. This is because the data are sorted by the label.\n",
    "\n",
    "It means that the data must be shuffled before further using.\n",
    "\n",
    "Otherwise when we split it into training, validation and testing subsets they will be biased.\n",
    "\n",
    "We will use `seed` parameter for random number generator. \n",
    "\n",
    "This is to provide identical pseudo random numbers sequences at each run."
   ]
  },
  {
   "cell_type": "code",
   "execution_count": null,
   "metadata": {},
   "outputs": [],
   "source": [
    "import numpy as np\n",
    "rng = np.random.default_rng(seed=0)\n",
    "\n",
    "rng.shuffle(data)\n",
    "print(data[:20])"
   ]
  },
  {
   "cell_type": "markdown",
   "metadata": {},
   "source": [
    "Let us check the data size and how many classes we have:"
   ]
  },
  {
   "cell_type": "code",
   "execution_count": null,
   "metadata": {},
   "outputs": [],
   "source": [
    "print(data.shape)\n",
    "labels = data[:, 2].astype(int)  # we convert the labels to the integers\n",
    "print(set(labels))"
   ]
  },
  {
   "cell_type": "markdown",
   "metadata": {},
   "source": [
    "The dataset contains 150 records of three classes.\n",
    "\n",
    "Let us see how the dataset is balanced: count frequencies of each class"
   ]
  },
  {
   "cell_type": "code",
   "execution_count": null,
   "metadata": {},
   "outputs": [],
   "source": [
    "from collections import Counter\n",
    "\n",
    "Counter(labels)"
   ]
  },
  {
   "cell_type": "markdown",
   "metadata": {},
   "source": [
    "We see that the dataset is perfectly balanced: each class has 50 representatives.\n",
    "\n",
    "Now we the data split into three parts.\n",
    "- for training\n",
    "- for model validation\n",
    "- for the final score"
   ]
  },
  {
   "cell_type": "code",
   "execution_count": null,
   "metadata": {},
   "outputs": [],
   "source": [
    "n_train = 90\n",
    "n_valid = 30\n",
    "\n",
    "data_train = data[:n_train]\n",
    "data_valid = data[n_train:n_train+n_valid]\n",
    "data_test = data[n_train+n_valid:]\n",
    "\n",
    "print(\"train: \", data_train.shape)\n",
    "print(\"valid: \", data_valid.shape)\n",
    "print(\"test: \", data_test.shape)"
   ]
  },
  {
   "cell_type": "markdown",
   "metadata": {},
   "source": [
    "The data are two dimensional. Thus they can be easily visualized"
   ]
  },
  {
   "cell_type": "code",
   "execution_count": null,
   "metadata": {},
   "outputs": [],
   "source": [
    "import matplotlib.pyplot as plt\n",
    "\n",
    "fig, ax = plt.subplots(figsize=(5,5))\n",
    "mrk = ['o', '*', '+']\n",
    "\n",
    "def plot_data(data):\n",
    "    col = ['r','g','b']  # different colors for different classes\n",
    "    ax.scatter(data[:, 0], data[:, 1], c=[col[int(x)] for x in data[:,2]])\n",
    "    \n",
    "plot_data(data_train)\n",
    "plot_data(data_valid)\n",
    "plot_data(data_test)"
   ]
  },
  {
   "cell_type": "markdown",
   "metadata": {},
   "source": [
    "We see that the data are well clustered into three clouds. \n",
    "\n",
    "Let us first check how the model works. \n",
    "\n",
    "The model is simulated by calling `knn_classify` function:"
   ]
  },
  {
   "cell_type": "code",
   "execution_count": null,
   "metadata": {},
   "outputs": [],
   "source": [
    "new_point = data_valid[0, :2]\n",
    "label = data_valid[0, -1].astype(int)\n",
    "\n",
    "k = 1\n",
    "predicted_label = knn_classify(k, data_train, vote_first, new_point)\n",
    "print(f\"true_label={label}\")\n",
    "print(f\"pred_label={predicted_label}\")"
   ]
  },
  {
   "cell_type": "markdown",
   "metadata": {},
   "source": [
    "Let us apply the model to an array of points and compare labels"
   ]
  },
  {
   "cell_type": "code",
   "execution_count": null,
   "metadata": {},
   "outputs": [],
   "source": [
    "def predict(data_train, data_valid, k, vote):\n",
    "    lab = []\n",
    "    for row in data_valid:\n",
    "        new_point = row[:2]\n",
    "        label = row[-1].astype(int)\n",
    "        predicted_label = knn_classify(k, data_train, vote, new_point)\n",
    "        lab.append((label, predicted_label))\n",
    "    return lab"
   ]
  },
  {
   "cell_type": "code",
   "execution_count": null,
   "metadata": {},
   "outputs": [],
   "source": [
    "k = 1\n",
    "tr_pr_lab = predict(data_train, data_valid, k, vote_first)\n",
    "print(tr_pr_lab)"
   ]
  },
  {
   "cell_type": "markdown",
   "metadata": {},
   "source": [
    "To estimate the performance let us compute the accuracy.\n",
    "\n",
    "We remember that the accuracy can be inappropriate for unbalanced data. \n",
    "\n",
    "But ours are balanced, so for the sake of simplicity we will use the accuracy.\n",
    "\n",
    "Below we will also consider precision and recall for multi-class predictions."
   ]
  },
  {
   "cell_type": "code",
   "execution_count": null,
   "metadata": {},
   "outputs": [],
   "source": [
    "def accuracy(true_pred_labels):\n",
    "    return sum([1 if x==y else 0 for x, y in true_pred_labels]) / len(true_pred_labels)"
   ]
  },
  {
   "cell_type": "code",
   "execution_count": null,
   "metadata": {},
   "outputs": [],
   "source": [
    "print(f\"accuracy={accuracy(tr_pr_lab):.3f}\")"
   ]
  },
  {
   "cell_type": "markdown",
   "metadata": {},
   "source": [
    "Let us collect only those points that have been classified incorrectly"
   ]
  },
  {
   "cell_type": "code",
   "execution_count": null,
   "metadata": {},
   "outputs": [],
   "source": [
    "# Observe how we filter array using list comprehension\n",
    "data_wrong = np.array([[row[0], row[1], lbl[0], lbl[1]] for lbl, row in zip(tr_pr_lab, data_valid) if lbl[0] != lbl[1]])"
   ]
  },
  {
   "cell_type": "markdown",
   "metadata": {},
   "source": [
    "In the plot below pale circles show true labels and crosses indicate predicted ones."
   ]
  },
  {
   "cell_type": "code",
   "execution_count": null,
   "metadata": {},
   "outputs": [],
   "source": [
    "import matplotlib.pyplot as plt\n",
    "\n",
    "fig, ax = plt.subplots(figsize=(10, 10))\n",
    "\n",
    "col = ['r','g','b']  # different colors for different classes\n",
    "ax.scatter(data_train[:, 0], data_train[:, 1], c=[col[int(x)] for x in data_train[:,2]], marker='o')\n",
    "\n",
    "ax.scatter(data_wrong[:, 0], data_wrong[:, 1], c=[col[int(x)] for x in data_wrong[:,2]], marker='o', s=500, alpha=0.6)\n",
    "ax.scatter(data_wrong[:, 0], data_wrong[:, 1], c=[col[int(x)] for x in data_wrong[:,3]], marker='+', s=100);"
   ]
  },
  {
   "cell_type": "markdown",
   "metadata": {},
   "source": [
    "It is convenient to collect predicting and plotting into the one function to compare different results."
   ]
  },
  {
   "cell_type": "code",
   "execution_count": null,
   "metadata": {},
   "outputs": [],
   "source": [
    "def predict_and_plot(ax, data_train, data_valid, k, vote, title=\"\"):\n",
    "    \"\"\"Do prediction and plot wrong labels\"\"\"\n",
    "    tr_pr_lab = predict(data_train, data_valid, k, vote)\n",
    "    \n",
    "    data_wrong = np.array([[row[0], row[1], lbl[0], lbl[1]] for lbl, row in zip(tr_pr_lab, data_valid) if lbl[0] != lbl[1]])\n",
    "    \n",
    "    col = ['r','g','b']\n",
    "    ax.scatter(data_train[:, 0], data_train[:, 1], c=[col[int(x)] for x in data_train[:,2]], marker='o')\n",
    "\n",
    "    if len(data_wrong) > 0:\n",
    "        ax.scatter(data_wrong[:, 0], data_wrong[:, 1], c=[col[int(x)] for x in data_wrong[:,2]], marker='o', s=500, alpha=0.6)\n",
    "        ax.scatter(data_wrong[:, 0], data_wrong[:, 1], c=[col[int(x)] for x in data_wrong[:,3]], marker='+', s=100)\n",
    "    \n",
    "    s = title\n",
    "    if s != \"\": s += \", \"\n",
    "    s += f\"acc={accuracy(tr_pr_lab):.3f}\"\n",
    "    ax.set_title(s)"
   ]
  },
  {
   "cell_type": "markdown",
   "metadata": {},
   "source": [
    "This is just to show that the function `predict_and_plot` plots the same as above"
   ]
  },
  {
   "cell_type": "code",
   "execution_count": null,
   "metadata": {},
   "outputs": [],
   "source": [
    "import matplotlib.pyplot as plt\n",
    "fig, ax = plt.subplots(figsize=(10, 10))\n",
    "k = 1\n",
    "predict_and_plot(ax, data_train, data_valid, k, vote_first)"
   ]
  },
  {
   "cell_type": "markdown",
   "metadata": {},
   "source": [
    "Let us now try various values of $k$ and different voting algorithms"
   ]
  },
  {
   "cell_type": "code",
   "execution_count": null,
   "metadata": {},
   "outputs": [],
   "source": [
    "import matplotlib.pyplot as plt\n",
    "\n",
    "ks = [1, 2, 3, 4, 5]\n",
    "\n",
    "fig, axs = plt.subplots(nrows=len(ks), ncols=2, figsize=(12, 6 * len(ks)))\n",
    "\n",
    "for ax2, k in zip(axs, ks):\n",
    "    predict_and_plot(ax2[0], data_train, data_valid, k, vote_first, title=f\"k={k}, vote_first\")\n",
    "    predict_and_plot(ax2[1], data_train, data_valid, k, vote_tight, title=f\"k={k}, vote_tight\")"
   ]
  },
  {
   "cell_type": "markdown",
   "metadata": {},
   "source": [
    "We see that the way of voting does not influence seriously the result. But $k$ does.\n",
    "\n",
    "Let us plot curves of accuracy vs $k$ for the training and validation data. \n",
    "\n",
    "It will show us the overfitting and allow to chose the best $k$"
   ]
  },
  {
   "cell_type": "code",
   "execution_count": null,
   "metadata": {},
   "outputs": [],
   "source": [
    "def predict_and_evaluate(data_train, data_valid, k, vote):\n",
    "    \"\"\"Do prediction and compute accuracy\"\"\"\n",
    "    tr_pr_lab = predict(data_train, data_valid, k, vote)\n",
    "    return accuracy(tr_pr_lab)"
   ]
  },
  {
   "cell_type": "code",
   "execution_count": null,
   "metadata": {},
   "outputs": [],
   "source": [
    "import matplotlib.pyplot as plt\n",
    "\n",
    "ks = list(range(1, 11))\n",
    "ka_train_vote_first = [predict_and_evaluate(data_train, data_train, k, vote_first) for k in ks]\n",
    "ka_valid_vote_first = [predict_and_evaluate(data_train, data_valid, k, vote_first) for k in ks]\n",
    "\n",
    "ka_train_vote_tight = [predict_and_evaluate(data_train, data_train, k, vote_tight) for k in ks]\n",
    "ka_valid_vote_tight = [predict_and_evaluate(data_train, data_valid, k, vote_tight) for k in ks]\n",
    "\n",
    "fig, axs = plt.subplots(nrows=2, ncols=1, figsize=(8, 6), sharex=True)\n",
    "\n",
    "ax = axs[0]\n",
    "ax.plot(ks, ka_train_vote_first, marker='o', label='train')\n",
    "ax.plot(ks, ka_valid_vote_first, marker='o', label='valid')\n",
    "ax.legend()\n",
    "ax.grid()\n",
    "ax.set_title(\"vote_first\")\n",
    "\n",
    "ax = axs[1]\n",
    "ax.plot(ks, ka_train_vote_tight, marker='o', label='train')\n",
    "ax.plot(ks, ka_valid_vote_tight, marker='o', label='valid')\n",
    "ax.set_xlabel('k')\n",
    "ax.legend()\n",
    "ax.grid()\n",
    "ax.set_title(\"vote_tight\");"
   ]
  },
  {
   "cell_type": "markdown",
   "metadata": {},
   "source": [
    "Behavior of two curves for both voting methods show that for $k=1$ and $k=2$ our model is overfitted (train and validation curves differ much). \n",
    "\n",
    "The best result is observed when two curves become close to each other for the first time.\n",
    "\n",
    "Using the curves above we can take the final value of $k=3$ and use `vote_first` method.\n",
    "\n",
    "Let us compute the final score for our model using test data."
   ]
  },
  {
   "cell_type": "code",
   "execution_count": null,
   "metadata": {},
   "outputs": [],
   "source": [
    "k = 3\n",
    "vote = vote_first\n",
    "\n",
    "test_acc = predict_and_evaluate(data_train, data_test, k, vote)\n",
    "\n",
    "print(f\"final accuracy={test_acc:.3f}\")"
   ]
  },
  {
   "cell_type": "markdown",
   "metadata": {},
   "source": [
    "Comparing the accuracies computed for the train and validation data we observed that when $k$ gets larger the overfitting \n",
    "decays. \n",
    "\n",
    "It means that the model becomes simpler, its capacity decreases. \n",
    "\n",
    "One more conformation of this conclusion can be done if we compute so called decision boundaries for the classes.\n",
    "\n",
    "We compute a dense mesh of points that covers the whole plane and compute the prediction for each point. Then we plot them painting with the colors corresponding to the predicted labels."
   ]
  },
  {
   "cell_type": "code",
   "execution_count": null,
   "metadata": {},
   "outputs": [],
   "source": [
    "def filled_area(ax, data_train, k, vote, title=\"\"):\n",
    "    \"\"\"Do prediction and plot wrong labels\"\"\"\n",
    "    # Compute ranges for x and y\n",
    "    x_min, x_max = data_train[:, 0].min(), data_train[:, 0].max()\n",
    "    y_min, y_max = data_train[:, 1].min(), data_train[:, 1].max()\n",
    "    \n",
    "    # Extend the ranges by 0.5%\n",
    "    dx = x_max - x_min\n",
    "    dy = y_max - y_min\n",
    "    x_min -= dx * 0.05\n",
    "    x_max += dx * 0.05\n",
    "    y_min -= dy * 0.05\n",
    "    y_max += dy * 0.05\n",
    "    \n",
    "    # Compute the mesh and do preditction\n",
    "    data_mesh = []\n",
    "    for x in np.linspace(x_min, x_max, 100):\n",
    "        for y in np.linspace(y_min, y_max, 100):\n",
    "            new_point = np.array([x, y])\n",
    "            predicted_label = knn_classify(k, data_train, vote, new_point)\n",
    "            data_mesh.append([x, y, predicted_label])\n",
    "    data_mesh = np.array(data_mesh)\n",
    "    \n",
    "    # Plot it together with the train data\n",
    "    col = ['r','g','b']\n",
    "    ax.scatter(data_mesh[:, 0], data_mesh[:, 1], c=[col[int(x)] for x in data_mesh[:,2]], marker='.', alpha=0.2)\n",
    "    ax.scatter(data_train[:, 0], data_train[:, 1], c=[col[int(x)] for x in data_train[:,2]], marker='o')\n",
    "    ax.set_title(title)"
   ]
  },
  {
   "cell_type": "code",
   "execution_count": null,
   "metadata": {},
   "outputs": [],
   "source": [
    "import matplotlib.pyplot as plt\n",
    "\n",
    "ks = [1, 3, 5, 9, 13, 17]\n",
    "\n",
    "fig, axs = plt.subplots(nrows=len(ks)//3, ncols=3, figsize=(15, 5 * len(ks) // 3))\n",
    "\n",
    "for ax, k in zip(axs.reshape(-1), ks):\n",
    "    filled_area(ax, data_train, k, vote_first, title=f\"k={k}\")"
   ]
  },
  {
   "cell_type": "markdown",
   "metadata": {},
   "source": [
    "We observe that when $k=1$ the decision boundary follows the training data closely. \n",
    "\n",
    "And when $k$ grows the boundary becomes more smooth. \n",
    "\n",
    "It indicates that the model becomes more simple when $k$ becomes larger.\n",
    "\n",
    "In the extreme case when $k$ equals to the training dataset size each test point have the same neighborhoods. \n",
    "\n",
    "All prediction in this case will be the same: the most frequent class in the training data."
   ]
  },
  {
   "cell_type": "markdown",
   "metadata": {},
   "source": [
    "### Exercises\n",
    "\n",
    "1\\. Briefly describe in writing how kNN algorithm works\n",
    "\n",
    "2\\. Describe how to deal with ties when more then one class appear in the neighborhood with identical frequencies.\n",
    "\n",
    "3\\. Describe in writing how a number of neighbors $k$ influences the kNN model."
   ]
  },
  {
   "cell_type": "markdown",
   "metadata": {},
   "source": [
    "## Lesson 2"
   ]
  },
  {
   "cell_type": "markdown",
   "metadata": {},
   "source": [
    "### Multi-class precision, recall and F1-score\n",
    "\n",
    "Let us remember: accuracy, i.e., fraction of correct predictions can be meaningless for highly unbalanced data.\n",
    "\n",
    "Previously we considered more accurate precision and recall as metrics for binary classifier.\n",
    "\n",
    "Let us remember: precision is a fraction of true positive prediction with respect of all positive predictions done by \n",
    "a binary classifier.\n",
    "\n",
    "Recall is a fraction of true positive predictions with respect of all positive cases in a dataset.\n",
    "\n",
    "This definitions are generalized in a straightforward way for multi-class classification.\n",
    "\n",
    "But now we consider precision and recall for each class: given three classes we can compute three precisions and three recalls.\n",
    "\n",
    "First we need a confusion matrix. \n",
    "\n",
    "Imagine that our classifier identifies dog, cat or bird on images. \n",
    "\n",
    "The results of its work can be represented as a table called confusion matrix.\n",
    "\n",
    "Rows corresponds to predictions and columns tell what actually images represent.\n",
    "\n",
    "For example, the classifier did 81 predictions and 25 times a Dog was predicted. \n",
    "\n",
    "But actually only 12 times the predictions were correct. Also 5 times a Cat was incorrectly labels as a Dog and 8 times a Bird was \n",
    "labeled as a Dog.\n",
    "\n",
    "|                | Actual Dog | Actual Cat | Actual Bird | __Total__ |\n",
    "|----------------|------------|------------|-------------|-----------|\n",
    "| Predicted Dog  | 12         | 5          | 8           | __25__    |\n",
    "| Predicted Cat  | 8          | 14         | 9           | __31__    |\n",
    "| Predicted Bird | 4          | 10         | 11          | __25__    |\n",
    "| __Total__      | __24__     | __29__     | __28__      | __81__    |\n",
    "\n",
    "Accuracy is computed along the diagonal since correct predictions are collected there: 12, 14, 11.\n",
    "\n",
    "The accuracy equals to total number of correct predictions (12 + 14 + 11) divided by the total number of predictions 81:\n",
    "\n",
    "$$\n",
    "\\text{Accuracy} = \\frac{12+14+11}{81}=0.46\n",
    "$$\n",
    "\n",
    "Precisions are computed along rows: number of correct predictions of a class divided by the total number of predictions of this class:\n",
    "\n",
    "$$\n",
    "\\text{PrecisionDog}=\\frac{12}{25}=0.48\n",
    "$$\n",
    "\n",
    "$$\n",
    "\\text{PrecisionCat}=\\frac{14}{31}=0.45\n",
    "$$\n",
    "\n",
    "$$\n",
    "\\text{PrecisionBird}=\\frac{11}{25}=0.44\n",
    "$$\n",
    "\n",
    "Recalls are computed along columns: number of correct predictions of a class divided by a total number of this class representatives in the dataset:\n",
    "\n",
    "$$\n",
    "\\text{RecallDog}=\\frac{12}{24}=0.5\n",
    "$$\n",
    "\n",
    "$$\n",
    "\\text{RecallCat}=\\frac{14}{29}=0.48\n",
    "$$\n",
    "\n",
    "$$\n",
    "\\text{RecallBird}=\\frac{11}{28}=0.39\n",
    "$$\n",
    "\n",
    "Also F1-scores can be computed for each class in a usual way\n",
    "\n",
    "$$\n",
    "\\text{F1-score} = 2\\frac{\\text{Precision} \\times \\text{Recall}}{\\text{Precision} + \\text{Recall}}\n",
    "$$\n",
    "\n",
    "For our example:\n",
    "\n",
    "$$\n",
    "\\text{F1Dog}=2\\frac{0.48\\times 0.5}{0.48+0.5}=0.49\n",
    "$$\n",
    "\n",
    "$$\n",
    "\\text{F1Cat}=2\\frac{0.45\\times 0.48}{0.45+0.48}=0.46\n",
    "$$\n",
    "\n",
    "$$\n",
    "\\text{F1Bird}=2\\frac{0.44\\times 0.39}{0.44+0.39}=0.41\n",
    "$$\n",
    "\n",
    "Finally, when F1-scores are computed for all classes we can combine them into a single number, the overall F1-score.\n",
    "\n",
    "There are many ways to do it.\n",
    "\n",
    "Macro F1-score is just an arithmetic mean of all F1-scores:\n",
    "\n",
    "$$\n",
    "\\text{MacroF1}=(\\text{F1Dog} + \\text{F1Cat} + \\text{F1Bird}) / 3 = (0.49 + 0.46 + 0.41)/3 = 0.45\n",
    "$$\n",
    "\n",
    "We can also want to take into account relative frequencies of the classes. In our example there are 24 Dogs, 29 Cats and 28 Birds. The total number of samples in the dataset is 81. So their relative frequencies are\n",
    "\n",
    "$$\n",
    "\\text{FreqDog} = \\frac{24}{81}=0.30\n",
    "$$\n",
    "\n",
    "$$\n",
    "\\text{FreqCat} = \\frac{29}{81}=0.36\n",
    "$$\n",
    "\n",
    "$$\n",
    "\\text{FreqBird} = \\frac{28}{81}=0.34\n",
    "$$\n",
    "\n",
    "Thus the weighted F1-score reads:\n",
    "\n",
    "$$\n",
    "\\text{WeightedF1} = \\text{FreqDog}\\cdot\\text{F1Dog} + \\text{FreqCat}\\cdot\\text{F1Cat} + \\text{FreqBird}\\cdot\\text{F1Bird} = \n",
    "0.3 \\cdot 0.49 + 0.36 \\cdot 0.46 + 0.34 \\cdot 0.41 = 0.45\n",
    "$$\n",
    "\n",
    "For our example macro and weighted F1-scores coincide. This is because our classes balanced, i.e., are encountered in the dataset with similar frequencies (The frequencies are close but do mot coincide. So, the metrics are also do not coincide, but after rounding we have identical numbers).\n",
    "\n",
    "To summarize, we have considered two ways to assign a characteristic number to a classifier. \n",
    "\n",
    "First is a simple accuracy, and the second is multi-class F1-score. \n",
    "\n",
    "As we already discussed previously all these metrics should be used with care. \n",
    "\n",
    "All of them indicate only one aspect of the performance of a classifier. \n",
    "\n",
    "And one must always make a decision which metric is more appropriate. Incorrect metric can result in the fail of a model.\n",
    "\n",
    "More details about multi-class metrics can be found in th on-line articles \\[3,4\\]."
   ]
  },
  {
   "cell_type": "markdown",
   "metadata": {},
   "source": [
    "All these computations can be done with the help of `scikit-learn` library. \n",
    "\n",
    "Here we put a copy of a confusion matrix and the computed metrics\n",
    "\n",
    "|                | Actual Dog | Actual Cat | Actual Bird | __Total__ |\n",
    "|----------------|------------|------------|-------------|-----------|\n",
    "| Predicted Dog  | 12         | 5          | 8           | __25__    |\n",
    "| Predicted Cat  | 8          | 14         | 9           | __31__    |\n",
    "| Predicted Bird | 4          | 10         | 11          | __25__    |\n",
    "| __Total__      | __24__     | __29__     | __28__      | __81__    |\n",
    "\n",
    "|      | Precision | Recall | F1-score |\n",
    "|------|-----------|--------|----------|\n",
    "| Dog  | 0.48      | 0.50   | 0.49     |\n",
    "| Cat  | 0.45      | 0.48   | 0.46     |\n",
    "| Bird | 0.44      | 0.39   | 0.41     |\n",
    "\n",
    "$$\n",
    "\\text{Accuracy} = 0.46, \\text{  MacroF1}= 0.45, \\text{  WeightedF1}=0.45\n",
    "$$\n",
    "\n",
    "Below we recompute these values using the library. Notice that the confusion matrix is returned in the transposed form (rows and columns are exchanged). \n",
    "\n",
    "Also notice that in the classification report there are small mismatches with our results. This because we rounded intermediate results."
   ]
  },
  {
   "cell_type": "code",
   "execution_count": null,
   "metadata": {},
   "outputs": [],
   "source": [
    "from sklearn import metrics\n",
    "\n",
    "# Simululate true and predicted labels corresponding to pur confusion matrix\n",
    "y_true = [\"Dog\"]*24 + [\"Cat\"]*29 + [\"Bird\"]*28\n",
    "y_pred = [\"Dog\"]*12 + [\"Cat\"]*8 + [\"Bird\"]*4 + [\"Dog\"]*5 + [\"Cat\"]*14 + [\"Bird\"]*10 + [\"Dog\"]*8 + [\"Cat\"]*9 + [\"Bird\"]*11"
   ]
  },
  {
   "cell_type": "code",
   "execution_count": null,
   "metadata": {},
   "outputs": [],
   "source": [
    "# The confusion matrix is retured in the transposed form. So we transpose it back\n",
    "conf_matr = metrics.confusion_matrix(y_true, y_pred, labels=[\"Dog\", \"Cat\", \"Bird\"])\n",
    "print(\"Confusion matrix = \\n\", conf_matr.T)"
   ]
  },
  {
   "cell_type": "code",
   "execution_count": null,
   "metadata": {},
   "outputs": [],
   "source": [
    "# Accuracy\n",
    "acc = metrics.accuracy_score(y_true, y_pred)\n",
    "print(f\"Accuracy = {acc:.4f}\")"
   ]
  },
  {
   "cell_type": "code",
   "execution_count": null,
   "metadata": {},
   "outputs": [],
   "source": [
    "# F1 scores: macro and weighted\n",
    "f1macro = metrics.f1_score(y_true, y_pred, average='macro')\n",
    "f1weighted = metrics.f1_score(y_true, y_pred, average='weighted')\n",
    "print(f\"Macro F1    = {f1macro:.4f}\")\n",
    "print(f\"Weighted F1 = {f1weighted:.4f}\")"
   ]
  },
  {
   "cell_type": "code",
   "execution_count": null,
   "metadata": {},
   "outputs": [],
   "source": [
    "# All metrics together\n",
    "print(metrics.classification_report(y_true, y_pred, labels=[\"Dog\", \"Cat\", \"Bird\"], digits=4))"
   ]
  },
  {
   "cell_type": "markdown",
   "metadata": {},
   "source": [
    "### Reconsider the example with F1-score.\n",
    "\n",
    "Let us again turn to our example with kNN classifier and evaluate it with F1-score instead of accuracy"
   ]
  },
  {
   "cell_type": "code",
   "execution_count": null,
   "metadata": {},
   "outputs": [],
   "source": [
    "from sklearn import metrics\n",
    "\n",
    "def predict_and_evaluate_f1(data_train, data_valid, k, vote):\n",
    "    \"\"\"Do prediction and compute accuracy\"\"\"\n",
    "    tr_pr_lab = predict(data_train, data_valid, k, vote)\n",
    "    # Split true and predicted labels into separate lists\n",
    "    y_true = [x[0] for x in tr_pr_lab]\n",
    "    y_pred = [x[1] for x in tr_pr_lab]\n",
    "    return metrics.f1_score(y_true, y_pred, average='weighted')"
   ]
  },
  {
   "cell_type": "markdown",
   "metadata": {},
   "source": [
    "Now we plot previous accuracy vs. k curves to the left and new f1-score vs. to the right to make a comparison.\n",
    "\n",
    "We keep only one voting method, `vote_first`"
   ]
  },
  {
   "cell_type": "code",
   "execution_count": null,
   "metadata": {},
   "outputs": [],
   "source": [
    "import matplotlib.pyplot as plt\n",
    "\n",
    "ks = list(range(1, 11))\n",
    "\n",
    "# Use plain accuracy\n",
    "ka_train_vote_first = [predict_and_evaluate(data_train, data_train, k, vote_first) for k in ks]\n",
    "ka_valid_vote_first = [predict_and_evaluate(data_train, data_valid, k, vote_first) for k in ks]\n",
    "\n",
    "# Use f1-score\n",
    "ka_train_vote_first_f1 = [predict_and_evaluate_f1(data_train, data_train, k, vote_first) for k in ks]\n",
    "ka_valid_vote_first_f1 = [predict_and_evaluate_f1(data_train, data_valid, k, vote_first) for k in ks]\n",
    "\n",
    "fig, axs = plt.subplots(nrows=2, ncols=1, figsize=(8, 6), sharex=True)\n",
    "\n",
    "ax = axs[0]\n",
    "ax.plot(ks, ka_train_vote_first, label='train')\n",
    "ax.plot(ks, ka_valid_vote_first, label='valid')\n",
    "ax.legend()\n",
    "ax.grid()\n",
    "ax.set_title(\"Accuracy\")\n",
    "\n",
    "ax = axs[1]\n",
    "ax.plot(ks, ka_train_vote_first_f1, label='train')\n",
    "ax.plot(ks, ka_valid_vote_first_f1, label='valid')\n",
    "ax.legend()\n",
    "ax.grid()\n",
    "ax.set_title(\"F1-score\");"
   ]
  },
  {
   "cell_type": "markdown",
   "metadata": {},
   "source": [
    "We see that the curves are very similar. \n",
    "\n",
    "This is because our data are well balanced. \n",
    "\n",
    "For the unbalanced classes, the curves will be different and F1-score will be probably more appropriate."
   ]
  },
  {
   "cell_type": "markdown",
   "metadata": {},
   "source": [
    "### kNN using scikit-learn: Iris classifier\n",
    "\n",
    "Library `scikit-learn` suggest a convenient implementation of kNN classifier.\n",
    "\n",
    "The library comes with several datasets that are convenient for examples.\n",
    "\n",
    "We will take the standard dataset of irises. \n",
    "\n",
    "It describes iris flowers by the length and width of the petals and the length and width of the sepals. All measurements are in centimeters.\n",
    "\n",
    "The irises in this dataset belong to to the species setosa, versicolor, or virginica. \n",
    "\n",
    "Thus each record contains the sizes of the iris flowers and the specific name.\n",
    "\n",
    "The goal is to build a classifier that will take a flower sizes and predict its species."
   ]
  },
  {
   "attachments": {
    "iris.jpg": {
     "image/jpeg": "[encoded data removed]"
    }
   },
   "cell_type": "markdown",
   "metadata": {},
   "source": [
    "![iris.jpg](fig/iris.jpg)"
   ]
  },
  {
   "cell_type": "code",
   "execution_count": null,
   "metadata": {},
   "outputs": [],
   "source": [
    "# Read the dataset\n",
    "from sklearn.datasets import load_iris\n",
    "\n",
    "data_bunch = load_iris()"
   ]
  },
  {
   "cell_type": "markdown",
   "metadata": {},
   "source": [
    "The dataset contains the data records themselves, labels with species names, and the overall description. \n",
    "\n",
    "The structure of the loaded dataset reminds a dictionary."
   ]
  },
  {
   "cell_type": "code",
   "execution_count": null,
   "metadata": {},
   "outputs": [],
   "source": [
    "print(data_bunch.keys())"
   ]
  },
  {
   "cell_type": "markdown",
   "metadata": {},
   "source": [
    "Key 'data' returns the dataset itself."
   ]
  },
  {
   "cell_type": "code",
   "execution_count": null,
   "metadata": {},
   "outputs": [],
   "source": [
    "print(data_bunch['data'][:10])"
   ]
  },
  {
   "cell_type": "markdown",
   "metadata": {},
   "source": [
    "It have a shape as follows:"
   ]
  },
  {
   "cell_type": "code",
   "execution_count": null,
   "metadata": {},
   "outputs": [],
   "source": [
    "print(data_bunch['data'].shape)"
   ]
  },
  {
   "cell_type": "markdown",
   "metadata": {},
   "source": [
    "There are 150 records and 4 features.\n",
    "\n",
    "Names of features, i.e., names of the columns can be found in 'feature_names':"
   ]
  },
  {
   "cell_type": "code",
   "execution_count": null,
   "metadata": {},
   "outputs": [],
   "source": [
    "print(data_bunch['feature_names'])"
   ]
  },
  {
   "cell_type": "markdown",
   "metadata": {},
   "source": [
    "Unlike our previous example, labels of the data are stored as a separate column called 'target':"
   ]
  },
  {
   "cell_type": "code",
   "execution_count": null,
   "metadata": {},
   "outputs": [],
   "source": [
    "print(data_bunch['target'])"
   ]
  },
  {
   "cell_type": "markdown",
   "metadata": {},
   "source": [
    "We see here just numbers that represent different classes. Names of these classes are in 'target_names`:"
   ]
  },
  {
   "cell_type": "code",
   "execution_count": null,
   "metadata": {},
   "outputs": [],
   "source": [
    "print(data_bunch['target_names'])"
   ]
  },
  {
   "cell_type": "markdown",
   "metadata": {},
   "source": [
    "Class numbers correspond to the ordering of the names in the list: class 0 is 'setosa', class 1 is 'versicolor', and 2 is 'virginica'."
   ]
  },
  {
   "cell_type": "markdown",
   "metadata": {},
   "source": [
    "Also printing of targets reveals that the data are ordered by the class number. \n",
    "\n",
    "It means that we must shuffle them before training.\n",
    "\n",
    "Let us finally see the description of the data:"
   ]
  },
  {
   "cell_type": "code",
   "execution_count": null,
   "metadata": {},
   "outputs": [],
   "source": [
    "print(data_bunch['DESCR'])"
   ]
  },
  {
   "cell_type": "markdown",
   "metadata": {},
   "source": [
    "We see that there are 50 instances of each classed.\n",
    "\n",
    "It means we can use simple accuracy for a model evaluation.\n",
    "\n",
    "All data in centimeters and summary statistics shows that all values are not to far from each other. \n",
    "\n",
    "Thus we can not rescale them."
   ]
  },
  {
   "cell_type": "markdown",
   "metadata": {},
   "source": [
    "Before building the model let us see at or data.\n",
    "\n",
    "The dataset if four dimensional so we need some projection to visualize it.\n",
    "\n",
    "We will use two nonlinear dimension reduction methods, tSNE and MDS. \n",
    "\n",
    "After projection of the plane points are shown via scatter plot where colorization is done according to the class number."
   ]
  },
  {
   "cell_type": "code",
   "execution_count": null,
   "metadata": {},
   "outputs": [],
   "source": [
    "from sklearn.manifold import TSNE, MDS\n",
    "\n",
    "proj_tsne = TSNE(random_state=0)\n",
    "Wtsne = proj_tsne.fit_transform(data_bunch['data'])\n",
    "\n",
    "proj_mds = MDS()\n",
    "Wmds = proj_mds.fit_transform(data_bunch['data'])\n",
    "\n",
    "import matplotlib.pyplot as plt\n",
    "fig, ax = plt.subplots(nrows=1, ncols=2, figsize=(12, 4))\n",
    "\n",
    "ax[0].scatter(Wtsne[:, 0], Wtsne[:, 1], c=data_bunch['target']);\n",
    "ax[0].set_title('tSNE')\n",
    "\n",
    "ax[1].scatter(Wmds[:, 0], Wmds[:, 1], c=data_bunch['target']);\n",
    "ax[1].set_title('MDS');"
   ]
  },
  {
   "cell_type": "markdown",
   "metadata": {},
   "source": [
    "We see that our data form very well separated clusters corresponding to three classes."
   ]
  },
  {
   "cell_type": "markdown",
   "metadata": {},
   "source": [
    "Before training a model we need to split the dataset into training, validation and test parts.\n",
    "\n",
    "scikit-lear provides a function for it.\n",
    "\n",
    "Unfortunately it can split only into two parts. So we apply the splitting twice."
   ]
  },
  {
   "cell_type": "code",
   "execution_count": null,
   "metadata": {},
   "outputs": [],
   "source": [
    "from sklearn.model_selection import train_test_split\n",
    "\n",
    "n_test = 30\n",
    "n_valid = 30\n",
    "n_train = 90\n",
    "\n",
    "# First we separate the test set\n",
    "X_train_valid, X_test, y_train_valid, y_test = train_test_split(\n",
    "    data_bunch['data'], data_bunch['target'], random_state=0, test_size=n_test, shuffle=True)\n",
    "\n",
    "# Test data and corresponding labels\n",
    "print(X_test.shape)\n",
    "print(y_test)"
   ]
  },
  {
   "cell_type": "code",
   "execution_count": null,
   "metadata": {},
   "outputs": [],
   "source": [
    "# Now split X_train_valid into training and validations subsets\n",
    "X_train, X_valid, y_train, y_valid = train_test_split(\n",
    "    X_train_valid, y_train_valid, random_state=0, test_size=n_valid, shuffle=True)\n",
    "\n",
    "# Training data and corresponding labels\n",
    "print(X_train.shape)\n",
    "print(y_train)\n",
    "\n",
    "# Validation data and corresponding labels\n",
    "print(X_valid.shape)\n",
    "print(y_train)"
   ]
  },
  {
   "cell_type": "markdown",
   "metadata": {},
   "source": [
    "Let us remember: splitting uses random number generator to shuffle the data. \n",
    "\n",
    "To obtain identical results at each run we have to provide the same seed for the random number generator. This is parameter `random_state`."
   ]
  },
  {
   "cell_type": "markdown",
   "metadata": {},
   "source": [
    "Thus we have data stored in arrays `X_train`, `X_valid` and `X_test` and the corresponding classes in `y_train`, `y_valid` and `y_test`.\n",
    "\n",
    "Now we can create a model. \n",
    "\n",
    "A model is created in scikit-learn as an object. Class that creates kNN classifier is called `KNeighborsClassifier`. \n",
    "\n",
    "It has a lot of parameters but we need just `n_neighbors` that specify a number of neighbors $k$ that will be taken into account."
   ]
  },
  {
   "cell_type": "code",
   "execution_count": null,
   "metadata": {},
   "outputs": [],
   "source": [
    "from sklearn.neighbors import KNeighborsClassifier\n",
    "k = 1\n",
    "knn = KNeighborsClassifier(n_neighbors=1)"
   ]
  },
  {
   "cell_type": "markdown",
   "metadata": {},
   "source": [
    "Training of scikit-learn models is always performed with the method `.fit`:"
   ]
  },
  {
   "cell_type": "code",
   "execution_count": null,
   "metadata": {},
   "outputs": [],
   "source": [
    "knn.fit(X_train, y_train)"
   ]
  },
  {
   "cell_type": "markdown",
   "metadata": {},
   "source": [
    "Now the model `knn` is ready to make predictions. This is done with the method `.predict`.\n",
    "\n",
    "For illustration purpose let us take the first three records in the validation dataset."
   ]
  },
  {
   "cell_type": "code",
   "execution_count": null,
   "metadata": {},
   "outputs": [],
   "source": [
    "nn = 3\n",
    "y_pred = knn.predict(X_valid[:nn])\n",
    "print(\"Predicted species:\", data_bunch['target_names'][y_pred])\n",
    "print(\"     True species:\", data_bunch['target_names'][y_valid[:nn]])"
   ]
  },
  {
   "cell_type": "markdown",
   "metadata": {},
   "source": [
    "We see that the model works.\n",
    "\n",
    "To evaluate its performance let us write a function that accepts datasets and return accuracy."
   ]
  },
  {
   "cell_type": "code",
   "execution_count": null,
   "metadata": {},
   "outputs": [],
   "source": [
    "from sklearn.neighbors import KNeighborsClassifier\n",
    "from sklearn import metrics\n",
    "\n",
    "def evaluate_model(X_train, y_train, X_valid, y_valid, k):\n",
    "    \"\"\"Create model, train it and compute accuracy for the validation dataset\"\"\"\n",
    "    knn = KNeighborsClassifier(n_neighbors=k)\n",
    "    knn.fit(X_train, y_train)\n",
    "    y_pred = knn.predict(X_valid)\n",
    "    return metrics.accuracy_score(y_valid, y_pred)"
   ]
  },
  {
   "cell_type": "code",
   "execution_count": null,
   "metadata": {},
   "outputs": [],
   "source": [
    "import matplotlib.pyplot as plt\n",
    "\n",
    "ks = list(range(1, 11))\n",
    "\n",
    "ka_train = [evaluate_model(X_train, y_train, X_train, y_train, k) for k in ks]\n",
    "ka_valid = [evaluate_model(X_train, y_train, X_valid, y_valid, k) for k in ks]\n",
    "\n",
    "fig, ax = plt.subplots(figsize=(8, 4))\n",
    "\n",
    "ax.plot(ks, ka_train, marker='o', label='train')\n",
    "ax.plot(ks, ka_valid, marker='o', label='valid')\n",
    "ax.legend()\n",
    "ax.grid();"
   ]
  },
  {
   "cell_type": "markdown",
   "metadata": {},
   "source": [
    "We see that our mode performs well for any $k$. \n",
    "\n",
    "For the final score we take $k=2$ since training and validation curves are bit closer to each other."
   ]
  },
  {
   "cell_type": "code",
   "execution_count": null,
   "metadata": {},
   "outputs": [],
   "source": [
    "k = 2\n",
    "acc = evaluate_model(X_train, y_train, X_test, y_test, k)\n",
    "print(f\"Final score, acc={acc}\")"
   ]
  },
  {
   "cell_type": "markdown",
   "metadata": {},
   "source": [
    "### kNN regression \n",
    "\n",
    "Regression is about prediction of a real number.\n",
    "\n",
    "Consider how it works using the following example.\n",
    "\n",
    "Download the dataset "
   ]
  },
  {
   "cell_type": "code",
   "execution_count": null,
   "metadata": {},
   "outputs": [],
   "source": [
    "data = load_csv_dataset('point-clouds-2.csv')\n",
    "print(data[:20])"
   ]
  },
  {
   "cell_type": "markdown",
   "metadata": {},
   "source": [
    "This dataset contains two columns. The first one is considered as $x$ values and the second one are $y$ that depend somehow on $x$ values. \n",
    "\n",
    "Also there can be more the one $x$ columns. In that case $y$ are in the last column and it is assumed that $y$ depend on all $x$ values.\n",
    "\n",
    "The goal is to build a model that takes new unseen $x$ and predicts relevant $y$ for it.\n",
    "\n",
    "Since we consider the simplest case of two dimensional data, we easily can plot them."
   ]
  },
  {
   "cell_type": "code",
   "execution_count": null,
   "metadata": {},
   "outputs": [],
   "source": [
    "import matplotlib.pyplot as plt\n",
    "fig, ax = plt.subplots()\n",
    "ax.scatter(data[:, 0], data[:, 1]);"
   ]
  },
  {
   "cell_type": "markdown",
   "metadata": {},
   "source": [
    "We see here a noisy sin function.\n",
    "\n",
    "Before creation a model we need to prepare the dataset.\n",
    "\n",
    "The first column of the data is a train data and the last one are labels.\n",
    "\n",
    "We will not split the dataset because will evaluate the result just via visual inspection"
   ]
  },
  {
   "cell_type": "code",
   "execution_count": null,
   "metadata": {},
   "outputs": [],
   "source": [
    "X_train = data[:, :1]\n",
    "y_train = data[:, 1]"
   ]
  },
  {
   "cell_type": "markdown",
   "metadata": {},
   "source": [
    "Let us create and fit a regression model."
   ]
  },
  {
   "cell_type": "code",
   "execution_count": null,
   "metadata": {},
   "outputs": [],
   "source": [
    "from sklearn.neighbors import KNeighborsRegressor\n",
    "\n",
    "krg = KNeighborsRegressor(n_neighbors=1)\n",
    "krg.fit(X_train, y_train)"
   ]
  },
  {
   "cell_type": "markdown",
   "metadata": {},
   "source": [
    "To check how this prediction works we generate a set of data along $x$ axis and observe the behavior of the predicted dependency $y$ vs $x$"
   ]
  },
  {
   "cell_type": "code",
   "execution_count": null,
   "metadata": {},
   "outputs": [],
   "source": [
    "X_test = np.linspace(-3, 3, 100).reshape(-1, 1)\n",
    "print(X_test[:10])"
   ]
  },
  {
   "cell_type": "markdown",
   "metadata": {},
   "source": [
    "Observe how we reshape test values. scikit-learn requires that it must be an array of one column (because our train data also have one column)"
   ]
  },
  {
   "cell_type": "code",
   "execution_count": null,
   "metadata": {},
   "outputs": [],
   "source": [
    "y_pred = krg.predict(X_test)\n",
    "print(y_pred)"
   ]
  },
  {
   "cell_type": "markdown",
   "metadata": {},
   "source": [
    "Now we can plot the predicted data"
   ]
  },
  {
   "cell_type": "code",
   "execution_count": null,
   "metadata": {},
   "outputs": [],
   "source": [
    "import matplotlib.pyplot as plt\n",
    "fig, ax = plt.subplots()\n",
    "ax.scatter(X_train.reshape(-1), y_train, label='train')\n",
    "ax.plot(X_test.reshape(-1), y_pred, color='C1', label='pred')\n",
    "ax.legend()\n",
    "ax.grid()"
   ]
  },
  {
   "cell_type": "markdown",
   "metadata": {},
   "source": [
    "We see that the predicted curve fit the train data very well. \n",
    "\n",
    "However notice the stepwise structure of the curve.\n",
    "\n",
    "Let us check various $k$"
   ]
  },
  {
   "cell_type": "code",
   "execution_count": null,
   "metadata": {},
   "outputs": [],
   "source": [
    "from sklearn.neighbors import KNeighborsRegressor\n",
    "\n",
    "ks = [1, 3, 9]\n",
    "X_test = np.linspace(-3, 3, 100).reshape(-1, 1)\n",
    "\n",
    "import matplotlib.pyplot as plt\n",
    "fig, axs = plt.subplots(ncols=len(ks), nrows=1, figsize=(5*len(ks), 3))\n",
    "\n",
    "for k, ax in zip(ks, axs):\n",
    "    krg = KNeighborsRegressor(n_neighbors=k)\n",
    "    krg.fit(X_train, y_train)\n",
    "    y_pred = krg.predict(X_test)\n",
    "    ax.scatter(X_train.reshape(-1), y_train, label='train')\n",
    "    ax.plot(X_test.reshape(-1), y_pred, color='C1', label='pred')\n",
    "    ax.legend()\n",
    "    ax.grid()\n",
    "    ax.set_title(f\"k={k}\")"
   ]
  },
  {
   "cell_type": "markdown",
   "metadata": {},
   "source": [
    "We see that when only a single neighbor is used each point in the training\n",
    "set influences on the predictions. \n",
    "\n",
    "The predicted values go through all of the data points. \n",
    "\n",
    "This leads to a very unsteady prediction\n",
    "\n",
    "Taking into account more neighbors results in smoother curve, but these do not fit the training data as well."
   ]
  },
  {
   "cell_type": "markdown",
   "metadata": {},
   "source": [
    "### Curse of dimensionality\n",
    "\n",
    "Increasing number of features (number of columns in a dataset) results in the worsening of the kNN algorithm.\n",
    "\n",
    "This is because it utilizes heavily the idea of closeness of data points in space. \n",
    "\n",
    "It works well only when the train data are sufficiently dense in space: each point has a neighbor near it.\n",
    "\n",
    "High dimensional spaces are vast. \n",
    "\n",
    "It means that we need huge amount of the data point to provide a sufficient density. \n",
    "\n",
    "In low-dimensional datasets, the closest points tend to be much closer than\n",
    "average. \n",
    "\n",
    "When you have a lot of dimensions, it is likely that the closest points are not much closer than\n",
    "average.\n",
    "\n",
    "Let us see an illustration.\n",
    "\n",
    "We generate low and high dimensional datasets of normally distributed numbers and compute all pairwise distances.\n",
    "\n",
    "Then plot the histograms for the distances."
   ]
  },
  {
   "cell_type": "code",
   "execution_count": null,
   "metadata": {},
   "outputs": [],
   "source": [
    "import numpy as np\n",
    "\n",
    "def all_dist(data):\n",
    "    \"\"\"Iterate ofver all pairs of ponts and compute distance\"\"\"\n",
    "    N = len(data)\n",
    "    ds = []\n",
    "    for i in range(N):\n",
    "        for j in range(i+1, N):\n",
    "            p1 = data[i]\n",
    "            p2 = data[j]\n",
    "            ds.append(np.linalg.norm(p1-p2))\n",
    "    return ds"
   ]
  },
  {
   "cell_type": "code",
   "execution_count": null,
   "metadata": {},
   "outputs": [],
   "source": [
    "import matplotlib.pyplot as plt\n",
    "import numpy as np\n",
    "rng = np.random.default_rng()\n",
    "\n",
    "size = 50\n",
    "\n",
    "# 2 and 10 dimensional datasets, each having identical sizes\n",
    "data_2d = rng.uniform(size = (size, 2))\n",
    "data_10d = rng.uniform(size = (size, 10))\n",
    "\n",
    "dst_2d = all_dist(data_2d)\n",
    "dst_10d = all_dist(data_10d)\n",
    "\n",
    "fig, axs = plt.subplots(nrows=1, ncols=2, figsize=(12, 4))\n",
    "axs[0].hist(dst_2d, bins=100)\n",
    "axs[0].set_title('2D')\n",
    "axs[1].hist(dst_10d, bins=100)\n",
    "axs[1].set_title('10D');"
   ]
  },
  {
   "cell_type": "markdown",
   "metadata": {},
   "source": [
    "What we observe is that in low dimensional data there are many points that are very close to each other. \n",
    "\n",
    "But in high dimensional space the smallest distance is about 0.6\n",
    "\n",
    "This is because as already mentioned the high dimensional space is vast. \n",
    "\n",
    "One need much more points to fill it with sufficient density for kNN to work properly.\n",
    "\n",
    "Thus kNN should be used for high dimensional data with care.\n",
    "\n",
    "Probably some of dimension reduction method should be preliminary applied."
   ]
  },
  {
   "cell_type": "markdown",
   "metadata": {},
   "source": [
    "### Strengths and weaknesses of kNN\n",
    "\n",
    "Strong points\n",
    "- Very easy to understand\n",
    "- Often gives reasonable performance without a lot of adjustments\n",
    "- Building the model is usually very fast\n",
    "\n",
    "Weak points\n",
    "- Slow predictions when the training dataset is very large\n",
    "- Does not perform well on datasets with large number of features\n",
    "\n",
    "In fact it is not often used in practice."
   ]
  },
  {
   "cell_type": "markdown",
   "metadata": {},
   "source": [
    "### Exercises\n",
    "\n",
    "4\\. Describe in writing how the confusion matrix is computed in multi-class classification\n",
    "\n",
    "5\\. Describe in writing how precision and recall is computed in multi-class classification\n",
    "\n",
    "6\\. What are macro F1-score and weighted F1-score? Describe their computation in brief.\n",
    "\n",
    "7\\. Download dataset from file \"point-clouds-3.csv\" that can be found in the repository \"https://raw.githubusercontent.com/kupav/data-sc-intro/main/data/\". This file contains labeled data. Inspect the data and find the size of the dataset, number of classes, number of instances of each class. Is this dataset well balanced? Using scikit-learn library, create kNN classifier for it. Evaluate the model using an appropriate metrics. Try different $k$, find the best one. Compute the final score for your model.\n",
    "\n",
    "8\\. Download dataset from file \"point-clouds-4.csv\" that can be found in the repository \"https://raw.githubusercontent.com/kupav/data-sc-intro/main/data/\". This file contains two-column data. Create a scatter plot for it. Then create a kNN regression model for this data using different $k$. What do you think, why the models do not work properly? What can be done with the data to create better regression models?"
   ]
  },
  {
   "cell_type": "code",
   "execution_count": null,
   "metadata": {},
   "outputs": [],
   "source": []
  }
 ],
 "metadata": {
  "kernelspec": {
   "display_name": "Python 3 (ipykernel)",
   "language": "python",
   "name": "python3"
  },
  "language_info": {
   "codemirror_mode": {
    "name": "ipython",
    "version": 3
   },
   "file_extension": ".py",
   "mimetype": "text/x-python",
   "name": "python",
   "nbconvert_exporter": "python",
   "pygments_lexer": "ipython3",
   "version": "3.11.7"
  },
  "nbTranslate": {
   "displayLangs": [
    "*"
   ],
   "hotkey": "alt-t",
   "langInMainMenu": true,
   "sourceLang": "ru",
   "targetLang": "en",
   "useGoogleTranslate": true
  },
  "toc": {
   "base_numbering": 1,
   "nav_menu": {
    "height": "113px",
    "width": "228px"
   },
   "number_sections": true,
   "sideBar": true,
   "skip_h1_title": true,
   "title_cell": "Table of Contents",
   "title_sidebar": "Contents",
   "toc_cell": false,
   "toc_position": {
    "height": "calc(100% - 180px)",
    "left": "10px",
    "top": "150px",
    "width": "241.4px"
   },
   "toc_section_display": true,
   "toc_window_display": true
  }
 },
 "nbformat": 4,
 "nbformat_minor": 4
}
