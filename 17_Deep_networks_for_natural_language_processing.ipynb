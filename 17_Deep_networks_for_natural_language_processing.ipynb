{
 "cells": [
  {
   "cell_type": "markdown",
   "metadata": {
    "id": "NOmDpZuSFwp8"
   },
   "source": [
    "# 17 Deep networks for natural language processing\n",
    "\n",
    "Part of [\"Introduction to Data Science\" course](https://github.com/kupav/data-sc-intro) by Pavel Kuptsov, [kupav@mail.ru](mailto:kupav@mail.ru)\n",
    "\n",
    "Recommended reading for this section:\n",
    "\n",
    "1. A. Kedia and M. Rasu (2020) Hands-On Python Natural Language Processing. Packt Publishing\n",
    "\n",
    "The following Python modules will be required. Make sure that you have them installed.\n",
    "- `matplotlib`\n",
    "- `requests`\n",
    "- `tensorflow`\n",
    "- `re`\n",
    "- `sklearn`\n",
    "- `json`\n",
    "- `zipfile`\n",
    "- `nltk`\n",
    "- `spacy`\n",
    "- `gensim`\n",
    "- `numpy`"
   ]
  },
  {
   "cell_type": "markdown",
   "metadata": {
    "id": "zZb0fPiOFwqH"
   },
   "source": [
    "This lecture will closely follow the book \\[1\\]."
   ]
  },
  {
   "cell_type": "markdown",
   "metadata": {
    "id": "-UFOqYiPFwqI"
   },
   "source": [
    "## Lesson 1"
   ]
  },
  {
   "cell_type": "markdown",
   "metadata": {
    "id": "zvfpRcsyFwqJ"
   },
   "source": [
    "### Required initialization and helper functions\n",
    "\n",
    "Before we begin some initialization is required"
   ]
  },
  {
   "cell_type": "code",
   "execution_count": null,
   "metadata": {
    "id": "4ev-ZGntFwqL"
   },
   "outputs": [],
   "source": [
    "import tensorflow as tf"
   ]
  },
  {
   "cell_type": "code",
   "execution_count": null,
   "metadata": {
    "id": "tNJ6BrNYFwqN"
   },
   "outputs": [],
   "source": [
    "# This initialization code is required due to an error \n",
    "# \"NotFoundError: No algorithm worked\"\n",
    "# when using Conv2D\n",
    "# Probabliy due to problems with cuda 11.\n",
    "# Remove this when fixed\n",
    "# https://github.com/tensorflow/tensorflow/issues/43174\n",
    "from tensorflow.compat.v1 import ConfigProto\n",
    "from tensorflow.compat.v1 import InteractiveSession\n",
    "\n",
    "config = ConfigProto()\n",
    "config.gpu_options.allow_growth = True\n",
    "session = InteractiveSession(config=config)"
   ]
  },
  {
   "cell_type": "code",
   "execution_count": null,
   "metadata": {
    "id": "TGaqwvI9FwqO"
   },
   "outputs": [],
   "source": [
    "from tensorflow.keras.models import Sequential\n",
    "from tensorflow.keras.layers import Dense, Conv1D, GlobalMaxPooling1D\n",
    "from tensorflow.keras.layers import Dropout, LSTM, Embedding, GRU, SimpleRNN\n",
    "from tensorflow.keras.losses import CategoricalCrossentropy, BinaryCrossentropy\n",
    "from tensorflow.keras.preprocessing.sequence import pad_sequences"
   ]
  },
  {
   "cell_type": "markdown",
   "metadata": {
    "id": "YC8gO4AOFwqP"
   },
   "source": [
    "The function `plot_hist` below plots learning curves: loss and accuracy vs. epoch of training.\n",
    "\n",
    "It accepts a lits of training histories `hist_list` computed for different networks and plots them as rows of images."
   ]
  },
  {
   "cell_type": "code",
   "execution_count": null,
   "metadata": {
    "id": "jnFOsy5pFwqQ"
   },
   "outputs": [],
   "source": [
    "import matplotlib.pyplot as plt\n",
    "\n",
    "def plot_hist_one(hist, name, axs):\n",
    "    \"\"\"Plot one loss and accuracy\"\"\"\n",
    "    epochs = len(hist.history['loss'])\n",
    "    xs = list(range(epochs))\n",
    "    \n",
    "    ax = axs[0]\n",
    "    ax.plot(xs, hist.history['loss'], label='loss')\n",
    "    ax.plot(xs, hist.history['val_loss'], label='val_loss')\n",
    "    ax.set_ylabel('loss')\n",
    "    ax.set_yscale('log')\n",
    "\n",
    "    ax = axs[1]\n",
    "    ax.plot(xs, hist.history['accuracy'], label='accuracy');\n",
    "    ax.plot(xs, hist.history['val_accuracy'], label='val_accuracy');\n",
    "    ax.set_ylabel('accuracy')\n",
    "\n",
    "    for ax in axs:\n",
    "        ax.grid()\n",
    "        ax.set_xlabel('epoch')\n",
    "        ax.legend(title=name)    \n",
    "\n",
    "def plot_hist(hist_list, hist_names):\n",
    "    \"\"\"Plot loss and accuracy for many network\"\"\"\n",
    "    N = len(hist_list)\n",
    "    fig, axs = plt.subplots(nrows=N, ncols=2, figsize=(10, 3*N))\n",
    "    if N == 1:\n",
    "        axs = [axs]\n",
    "    for hist, name, ax in zip(hist_list, hist_names, axs):\n",
    "        plot_hist_one(hist, name, ax)\n",
    "    plt.tight_layout()"
   ]
  },
  {
   "cell_type": "markdown",
   "metadata": {
    "id": "KwYe8xTzFwqR"
   },
   "source": [
    "### Dense network for document classification\n",
    "\n",
    "In this section we will consider supervised learning model able to perform classification of documents.\n",
    "\n",
    "We will learn it to to classify questions. \n",
    "\n",
    "The training dataset is a corpus of questions labeled by one of six categories. \n",
    "\n",
    "The purpose is to create a model that accepts a question as its input and predicts its category at the output.\n",
    "\n",
    "Obviously taking other datasets one can use this approach to train a spam filter or create a model for sentiment analysis.\n",
    "\n",
    "We need a function for downloading a dataset from a course repository."
   ]
  },
  {
   "cell_type": "code",
   "execution_count": null,
   "metadata": {
    "id": "TvRr2_85FwqS"
   },
   "outputs": [],
   "source": [
    "import requests\n",
    "import matplotlib.pyplot as plt\n",
    "\n",
    "def load_txt_dataset(file_name, dtype=float):\n",
    "    \"\"\"Downloads txt dataset from repo.\"\"\"\n",
    "    base_url = \"https://raw.githubusercontent.com/kupav/data-sc-intro/main/data/\"\n",
    "    web_data = requests.get(base_url + file_name)\n",
    "    assert web_data.status_code == 200\n",
    "    return web_data.text.splitlines()"
   ]
  },
  {
   "cell_type": "markdown",
   "metadata": {
    "id": "MDqBMKp_FwqW"
   },
   "source": [
    "The dataset we use is found at url https://cogcomp.seas.upenn.edu/Data/QA/QC/ and copied to the course repository for convenience.\n",
    "\n",
    "Let us download the dataset and what is it."
   ]
  },
  {
   "cell_type": "code",
   "execution_count": null,
   "metadata": {
    "id": "fdwtsEbTFwqX",
    "outputId": "c3764d1b-fa75-42ac-fc95-7709e2a0577d"
   },
   "outputs": [],
   "source": [
    "raw_corpus = load_txt_dataset(\"illinois_univ_lab_quest.txt\")\n",
    "for doc in raw_corpus[:10]:\n",
    "    print(doc)\n",
    "print(f\"\\nTotally {len(raw_corpus)} records\")"
   ]
  },
  {
   "cell_type": "markdown",
   "metadata": {
    "id": "Tfl4qreCFwqZ"
   },
   "source": [
    "We have a list of records, each one contains a questions itself and its category. \n",
    "\n",
    "The lits of the categories is\n",
    "- ABBREVIATION\n",
    "- ENTITY\n",
    "- DESCRIPTION\n",
    "- HUMAN\n",
    "- LOCATION\n",
    "- NUMERIC\n",
    "\n",
    "Moreover each category is supplied with a more fine features after column, e.g. \"DESC:manner\" or \"ABBR:exp\". \n",
    "\n",
    "We will omit them and preserve only the coarse classes written with capital letters.\n",
    "\n",
    "We need to parse each line to split questions and their categories.\n",
    "\n",
    "It can be done with a regular expressions with the pattern `([A-Z]+):[a-z]+\\s(.+)`\n",
    "\n",
    "Before processing the whole corpus let us see how it works.\n",
    "\n",
    "It has two blocks wrapped with parentheses: `([A-Z]+)` and `(.+)`. They are called groups and highlight what we want to catch:\n",
    "\n",
    "- `([A-Z]+)`: the first group matches one or more capital letters staring from the very beginning. It will catch category names.\n",
    "- `:[a-z]+\\s`: colon followed by one or more lowercase letters followed by space. It matches fine category description that have to be omitted.\n",
    "- `(.+)`: the second group to catch, any letters up to the end.\n",
    "\n",
    "Here is an example that shows how it works."
   ]
  },
  {
   "cell_type": "code",
   "execution_count": null,
   "metadata": {
    "id": "hpwjJd2ZFwqa",
    "outputId": "c1e2e7ce-628f-4c6f-a2a4-75384e286ac9"
   },
   "outputs": [],
   "source": [
    "import re\n",
    "\n",
    "rge = re.compile(r\"([A-Z]+):[a-z]+\\s(.+)\")\n",
    "\n",
    "for doc in raw_corpus[:10]:\n",
    "    print(rge.findall(doc))"
   ]
  },
  {
   "cell_type": "markdown",
   "metadata": {
    "id": "7UkXsaFcFwqb"
   },
   "source": [
    "Now we are ready to extract lists of questions and category names from our corpus."
   ]
  },
  {
   "cell_type": "code",
   "execution_count": null,
   "metadata": {
    "id": "RXrIosKLFwqb",
    "outputId": "acf0ea14-6f2c-40bb-b9dd-a9e8163930c9"
   },
   "outputs": [],
   "source": [
    "import re\n",
    "\n",
    "txt = raw_corpus[:10]\n",
    "\n",
    "rge = re.compile(r\"([A-Z]+):[a-z]+\\s(.+)\")\n",
    "\n",
    "quests = []\n",
    "categs = []\n",
    "for doc in raw_corpus:\n",
    "    result = rge.findall(doc)\n",
    "    categs.append(result[0][0])\n",
    "    quests.append(result[0][1])\n",
    "\n",
    "for c, q in zip(categs[:10], quests[:10]):    \n",
    "    print(c, q)"
   ]
  },
  {
   "cell_type": "markdown",
   "metadata": {
    "id": "ZQfMwzZuFwqc"
   },
   "source": [
    "Let us analyze what are the questions and what are the categories.\n",
    "\n",
    "For convenience we define a dictionary that maps shorten forms of category names and print several questions from each category"
   ]
  },
  {
   "cell_type": "code",
   "execution_count": null,
   "metadata": {
    "id": "02T06TSnFwqc",
    "outputId": "a624365c-d255-48dd-d094-361427abda3e"
   },
   "outputs": [],
   "source": [
    "full_categ_names = {\"ABBR\": \"ABBREVIATION\", \"ENTY\": \"ENTITY\", \"DESC\": \"DESCRIPTION\", \n",
    "                    \"HUM\": \"HUMAN\",  \"LOC\": \"LOCATION\", \"NUM\": \"NUMERIC\"}\n",
    "\n",
    "unique_categs = list(set(categs))\n",
    "N = 10\n",
    "for extracted_categ in unique_categs:\n",
    "    tmp = [q for q, c in zip(quests, categs) if c==extracted_categ]\n",
    "    print(full_categ_names[extracted_categ])\n",
    "    for q in tmp[:N]:\n",
    "        print(f\"\\t{q}\")"
   ]
  },
  {
   "cell_type": "markdown",
   "metadata": {
    "id": "f-T6voaiFwqc"
   },
   "source": [
    "As we discussed in previous lectures predicting categories requires converting them into one-hot form.\n",
    "\n",
    "There many ways to do it. Both tensorflow and numpy libraries provide the corresponding function. \n",
    "\n",
    "Let us check show it can be done using sklearn.\n",
    "\n",
    "This library suggests a class `OneHotEncoder` that converts a series of categorical features into one one-hot vectors.\n",
    "\n",
    "Here is an illustration:"
   ]
  },
  {
   "cell_type": "code",
   "execution_count": null,
   "metadata": {
    "id": "uHZ_qic3Fwqd",
    "outputId": "538a64b7-dc3e-4732-d8dc-d1c7d852d590",
    "scrolled": true
   },
   "outputs": [],
   "source": [
    "from sklearn.preprocessing import OneHotEncoder\n",
    "\n",
    "test = [['Male', 'Young'], ['Female', 'Young'], ['Female', 'Adult']]\n",
    "\n",
    "enc = OneHotEncoder()\n",
    "enc.fit(test)\n",
    "print(enc.categories_)\n",
    "print(enc.transform(test).toarray())"
   ]
  },
  {
   "cell_type": "markdown",
   "metadata": {
    "id": "emxqHfuDFwqe"
   },
   "source": [
    "If there is only one categorical features it still must be wrapped into a list like this:"
   ]
  },
  {
   "cell_type": "code",
   "execution_count": null,
   "metadata": {
    "id": "WtZ9-k5lFwqe",
    "outputId": "ebd3b185-d314-4be1-e222-fe10d974bab9"
   },
   "outputs": [],
   "source": [
    "from sklearn.preprocessing import OneHotEncoder\n",
    "\n",
    "test = [['Baby'], ['Young'], ['Adult']]  # not just ['Baby', 'Young', 'Adult']\n",
    "\n",
    "enc = OneHotEncoder()\n",
    "enc.fit(test)\n",
    "print(enc.categories_)\n",
    "print(enc.transform(test).toarray())"
   ]
  },
  {
   "cell_type": "markdown",
   "metadata": {
    "id": "R2adDzqxFwqf"
   },
   "source": [
    "We are ready to create one-hot vectors for our categories:"
   ]
  },
  {
   "cell_type": "code",
   "execution_count": null,
   "metadata": {
    "id": "JIjEsIFDFwqf",
    "outputId": "89bb64d3-3fa3-44b5-e603-af94ee71373e"
   },
   "outputs": [],
   "source": [
    "from sklearn.preprocessing import OneHotEncoder\n",
    "\n",
    "encoder = OneHotEncoder()\n",
    "categs1 = [[c] for c in categs]\n",
    "encoder.fit(categs1)\n",
    "print(encoder.categories_)\n",
    "num_categs = encoder.categories_[0].shape[0]\n",
    "print(num_categs)\n",
    "\n",
    "labels = encoder.transform(categs1).toarray()\n",
    "print(labels)"
   ]
  },
  {
   "cell_type": "markdown",
   "metadata": {
    "id": "Laq13Ws3Fwqg"
   },
   "source": [
    "Now the questions have to be prepared: cleaning, tokenization and normalization have be done.\n",
    "\n",
    "We take a copy of function for cleaning and tokenization from the previous lecture."
   ]
  },
  {
   "cell_type": "code",
   "execution_count": null,
   "metadata": {
    "id": "W1liZMvIFwqg"
   },
   "outputs": [],
   "source": [
    "import nltk\n",
    "\n",
    "def tokenize_and_clean(sentence):\n",
    "    \"\"\"Tokenize sentence and clean it.\n",
    "    \"\"\"\n",
    "    raw_tokens = nltk.word_tokenize(sentence)\n",
    "    tokens = []\n",
    "    for tok in raw_tokens:\n",
    "        t1 = tok[1:] if tok[0] == \"'\" else tok  # we do not want to remove tokens like \"'ve\" \n",
    "        if t1.isalpha():\n",
    "            tokens.append(tok.lower())\n",
    "    return tokens"
   ]
  },
  {
   "cell_type": "markdown",
   "metadata": {
    "id": "oEXfxendFwqg"
   },
   "source": [
    "Now we create TF-IDF representation for questions. \n",
    "\n",
    "We copy a code from a previous lecture with a small modification: cleaning has been added and nltk tokenizer is used.\n",
    "\n",
    "Removing stopwords we have to preserve \"wh-\" words: we are dealing with questions and these words are meaningful."
   ]
  },
  {
   "cell_type": "code",
   "execution_count": null,
   "metadata": {
    "id": "-Le2uaGJFwqh",
    "outputId": "a3dfd9b6-d23a-4dc5-9378-d6501b31ad28"
   },
   "outputs": [],
   "source": [
    "from sklearn.feature_extraction.text import TfidfVectorizer\n",
    "nltk.download('stopwords')\n",
    "\n",
    "stemmer = nltk.stem.snowball.SnowballStemmer(language = 'english')\n",
    "\n",
    "wh_words = set(['who', 'what', 'when', 'why', 'how', 'which', 'where', 'whom'])\n",
    "stop = set(nltk.corpus.stopwords.words('english')) - wh_words\n",
    "\n",
    "def stemmed_tokenizer(doc):\n",
    "    raw_tokens = tokenize_and_clean(doc)\n",
    "    tokens = [tok for tok in raw_tokens if tok not in stop]\n",
    "    stem_tokens = [stemmer.stem(tok) for tok in tokens]\n",
    "    return stem_tokens\n",
    "\n",
    "vectorizer = TfidfVectorizer(tokenizer=stemmed_tokenizer)\n",
    "tfidf_quests = vectorizer.fit_transform(quests);"
   ]
  },
  {
   "cell_type": "markdown",
   "metadata": {
    "id": "n4ni7bwsFwqh"
   },
   "source": [
    "The result of the vectorization is a matrix of TF-IDF vectors, one row for one question. "
   ]
  },
  {
   "cell_type": "code",
   "execution_count": null,
   "metadata": {
    "id": "zgoQwSzXFwqh",
    "outputId": "9672eb05-c126-43a8-8576-ddde70f4efd0"
   },
   "outputs": [],
   "source": [
    "print(tfidf_quests.toarray().shape)\n",
    "print(labels.shape)"
   ]
  },
  {
   "cell_type": "markdown",
   "metadata": {
    "id": "efDPpdqiFwqi"
   },
   "source": [
    "Split the whole dataset into testing and training parts."
   ]
  },
  {
   "cell_type": "code",
   "execution_count": null,
   "metadata": {
    "id": "qQXkKCbuFwqi",
    "outputId": "c3be8206-0c5e-4598-f332-6fe83f2c3238"
   },
   "outputs": [],
   "source": [
    "from sklearn.model_selection import train_test_split\n",
    "\n",
    "p_test = 0.1\n",
    "n_test = round(p_test * labels.shape[0])\n",
    "\n",
    "X_train, X_test, y_train, y_test = train_test_split(tfidf_quests.toarray(), labels, random_state=0, \n",
    "                                                    test_size=n_test, shuffle=True)\n",
    "\n",
    "print(f\"train size {len(y_train)}\")\n",
    "print(f\" test size {len(y_test)}\")"
   ]
  },
  {
   "cell_type": "markdown",
   "metadata": {
    "id": "gGC3fEGnFwqj"
   },
   "source": [
    "Now everything is ready to create and train a model.\n",
    "\n",
    "It will be simple two layer model.\n",
    "\n",
    "However, preliminary tests have shown that it is prone to a strong overfitting. \n",
    "\n",
    "We fight it using two tools. \n",
    "\n",
    "First is already known dropout. Let us remember that it temporarily stops training of some of neurons and thus force model to find generalization of the data instead of mere remembering.\n",
    "\n",
    "Another remedy is regularization of neuron weights: observe parameter `tf.keras.regularizers.l2` of the first dense layer.\n",
    "\n",
    "It adds sum of squared neuron weights directly to the loss function multiplied by the coefficient `l2=0.01`. \n",
    "\n",
    "This coefficient controls the penalty level applied for too high by magnitude values of weights.\n",
    "\n",
    "As a result during training the optimization algorithm seeks for the minimum of the loss function provided that the neuron coefficients are as small as possible.\n",
    "\n",
    "It reduces the information capacity of a network and thus reduces the overfitting."
   ]
  },
  {
   "cell_type": "code",
   "execution_count": null,
   "metadata": {
    "id": "K7BRy-1uFwqk",
    "scrolled": true
   },
   "outputs": [],
   "source": [
    "input_shape = X_train.shape[1:]\n",
    "\n",
    "model = Sequential([\n",
    "    Dense(256, input_shape=input_shape, activation='relu', \n",
    "          kernel_regularizer=tf.keras.regularizers.l2(l2=0.01)),\n",
    "    Dropout(0.8),\n",
    "    Dense(num_categs)\n",
    "])\n",
    "\n",
    "model.compile(optimizer='adam',  \n",
    "             loss=CategoricalCrossentropy(from_logits=True),\n",
    "             metrics=['accuracy'])\n",
    "\n",
    "model.summary()"
   ]
  },
  {
   "cell_type": "code",
   "execution_count": null,
   "metadata": {
    "id": "zLPM3kuOFwql",
    "scrolled": true
   },
   "outputs": [],
   "source": [
    "hist = model.fit(X_train, y_train, epochs=50, validation_split=0.2, verbose=2)"
   ]
  },
  {
   "cell_type": "code",
   "execution_count": null,
   "metadata": {
    "id": "a_GTDP23Fwql"
   },
   "outputs": [],
   "source": [
    "plot_hist([hist], [\"questions classification\"])"
   ]
  },
  {
   "cell_type": "code",
   "execution_count": null,
   "metadata": {
    "id": "vp0B7rpqFwql"
   },
   "outputs": [],
   "source": [
    "acc, loss = model.evaluate(X_test, y_test)\n",
    "print(f\"acc={acc}, loss={loss}\")"
   ]
  },
  {
   "cell_type": "markdown",
   "metadata": {
    "id": "RBSHlkR5Fwql"
   },
   "source": [
    "We have trained our model not so long so its accuracy is at the level of 80\\%. More epochs of training are required to attain higher performance.\n",
    "\n",
    "Let us check how the model can work.\n",
    "\n",
    "Here the steps that are required to ask a model to predict a question category:"
   ]
  },
  {
   "cell_type": "code",
   "execution_count": null,
   "metadata": {
    "id": "Is7HGDdLFwqm"
   },
   "outputs": [],
   "source": [
    "q1 = \"Who Framed Roger Rabbit?\"\n",
    "\n",
    "vec = vectorizer.transform([q1]).toarray()\n",
    "y_pred = model.predict(vec)\n",
    "print(y_pred)\n",
    "cat_pred = tf.argmax(y_pred, axis=1).numpy()\n",
    "print(cat_pred)\n",
    "cat_pref = cat_pred[0]\n",
    "encoder.categories_[0][cat_pred]"
   ]
  },
  {
   "cell_type": "markdown",
   "metadata": {
    "id": "ZRYD-GHHFwqm"
   },
   "source": [
    "We can wrap all this into a function and test it with various questions."
   ]
  },
  {
   "cell_type": "code",
   "execution_count": null,
   "metadata": {
    "id": "Gci-2qMVFwqm"
   },
   "outputs": [],
   "source": [
    "def classify(quest, model, vectorizer, encoder):\n",
    "    vec = vectorizer.transform([q1]).toarray()\n",
    "    y_pred = model.predict(vec)\n",
    "    cat_pred = tf.argmax(y_pred, axis=1).numpy()[0]\n",
    "    return encoder.categories_[0][cat_pred]    "
   ]
  },
  {
   "cell_type": "code",
   "execution_count": null,
   "metadata": {
    "id": "9K0sF5VaFwqm"
   },
   "outputs": [],
   "source": [
    "q1 = \"Who Framed Roger Rabbit?\"\n",
    "print(classify(q1, model, vectorizer, encoder))"
   ]
  },
  {
   "cell_type": "code",
   "execution_count": null,
   "metadata": {
    "id": "WaiW5VzhFwqm"
   },
   "outputs": [],
   "source": [
    "q1 = \"How far is the sun?\"\n",
    "print(classify(q1, model, vectorizer, encoder))"
   ]
  },
  {
   "cell_type": "code",
   "execution_count": null,
   "metadata": {
    "id": "uwTDM6AsFwqn"
   },
   "outputs": [],
   "source": [
    "q1 = \"MNIST, is this an abbreviation or what?\"\n",
    "print(classify(q1, model, vectorizer, encoder))"
   ]
  },
  {
   "cell_type": "code",
   "execution_count": null,
   "metadata": {
    "id": "ZpDYvforFwqn"
   },
   "outputs": [],
   "source": [
    "q1 = \"I wonder where I put my glasses\"\n",
    "print(classify(q1, model, vectorizer, encoder))"
   ]
  },
  {
   "cell_type": "markdown",
   "metadata": {
    "id": "yBVffhceFwqn"
   },
   "source": [
    "Our model is very simple. What can be done to improve it?\n",
    "\n",
    "First of all more accurate cleaning is required. Probably dots must be preserved in tokens representing domain names like \".com\". \n",
    "\n",
    "Since abbreviations are essential in this corpus, it is better to avoid their conversion to lowercase.\n",
    "\n",
    "Replacing stemming with lemmatisation will probably also improve the performance.\n",
    "\n",
    "Vector model TF-IDF is not the best one known today. Embedding models `Doc2Vec` or `Sent2Vec` are expected to work better.\n",
    "\n",
    "Finally one can also play with the network structure: add more layers, change layer sizes, increase or decrease regularization coefficient and dropout ratio."
   ]
  },
  {
   "cell_type": "markdown",
   "metadata": {
    "id": "lia-AGBiFwqo"
   },
   "source": [
    "### Convolutional network for document classification\n",
    "\n",
    "Previously we considered convolutional network for images classification. \n",
    "\n",
    "Similarly convolution can be leveraged to texts. \n",
    "\n",
    "Each sentence (or a document) of a corpus can be represented as word vectors that are stacked one after another. \n",
    "\n",
    "Convolution kernel has width corresponding to the length of a word vector and height equal to an odd number (typically) to grab together with the current vector two or more its neighbors.\n",
    "\n",
    "After convolution new vector size equals to the number of filters (kernels) applied. Sentence length is unchanged if zero padding is used.\n",
    "\n",
    "This is called 1 dimensional convolution.\n",
    "\n",
    "Also 1 dimensional pooling is applied after the convolution. \n",
    "\n",
    "Pooling is applied along sentences, separately along each vector element. \n",
    "\n",
    "The pooling reduces the length of sentences. The reduction coefficient depends on the pooling widow size. Typically this is 2.\n",
    "\n",
    "As usual there are average or max pooling.\n",
    "\n",
    "Global pooling has a window size equal to the number of sentences. Its result is a single vector."
   ]
  },
  {
   "attachments": {
    "convol_1d.svg": {
     "image/svg+xml": [
      "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"
     ]
    }
   },
   "cell_type": "markdown",
   "metadata": {},
   "source": [
    "![convol_1d.svg](fig/convol_1d.svg)"
   ]
  },
  {
   "cell_type": "markdown",
   "metadata": {
    "id": "neFXJu5mFwqp"
   },
   "source": [
    "In this section we consider text classification problem. \n",
    "\n",
    "Notice that the same problem was consider in the previous section. \n",
    "\n",
    "The difference is that now we will consider how convolutions can be used for this.\n",
    "\n",
    "We will build sarcasm detector. \n",
    "\n",
    "The dataset is taken from Kaggle at https://www.kaggle.com/rmisra/news-headlines-dataset-for-sarcasm-detection\n",
    "and copied to a course repository for convenience.\n",
    "\n",
    "This dataset is collected from two news website. First is TheOnion that aims at producing sarcastic versions of current events and HuffPost that publishes real (and non-sarcastic) news.\n",
    "\n",
    "Only headlines of news are gathered.\n",
    "\n",
    "Let us first download zipped file and open it as Python list.\n",
    "\n",
    "The file has format JSON. This is an open standard file format, and data interchange format, that uses human-readable text to store and transmit data objects.\n",
    "\n",
    "To read and parse it we use Python library `json`. The outcome is Python dictionaries representing each data record."
   ]
  },
  {
   "cell_type": "code",
   "execution_count": null,
   "metadata": {
    "id": "KZ1IdhIoFwqq"
   },
   "outputs": [],
   "source": [
    "import json\n",
    "import requests\n",
    "from io import BytesIO, TextIOWrapper\n",
    "from zipfile import ZipFile\n",
    "\n",
    "def load_ziptxt_dataset(file_name):\n",
    "    \"\"\"Downloads zipped dataset from repo and return it as a text.\"\"\"\n",
    "    base_url = \"https://raw.githubusercontent.com/kupav/data-sc-intro/main/data/\"\n",
    "    web_data = requests.get(base_url + file_name)\n",
    "    assert web_data.status_code == 200\n",
    "\n",
    "    # unzip the content\n",
    "    zf = ZipFile(BytesIO(web_data.content))\n",
    "    \n",
    "    # zipped file name\n",
    "    zipped_name = zf.namelist()[0]\n",
    "    print(f\"Download {file_name}, unzip {zipped_name}\")\n",
    "    \n",
    "    # Open unpacked file\n",
    "    with zf.open(zipped_name, 'r') as file:\n",
    "        # TextIOWrapper(file) converts byte strings to plain strings\n",
    "        data = []\n",
    "        for record in TextIOWrapper(file):\n",
    "            data.append(json.loads(record))\n",
    "    return data"
   ]
  },
  {
   "cell_type": "code",
   "execution_count": null,
   "metadata": {
    "id": "S-6096GdFwqq"
   },
   "outputs": [],
   "source": [
    "raw_data = load_ziptxt_dataset(\"Sarcasm_Headlines_Dataset_v2.json.zip\")\n",
    "print(f\"Number of records {len(raw_data)}\")\n",
    "\n",
    "print()\n",
    "for record in raw_data[:5]:\n",
    "    print(record)"
   ]
  },
  {
   "cell_type": "markdown",
   "metadata": {
    "id": "P6BheNLqFwqr"
   },
   "source": [
    "We see that there three fields: \"is_sarcastic\", \"headline\" and \"article_link\". \n",
    "\n",
    "We will use only first two omitting article links."
   ]
  },
  {
   "cell_type": "code",
   "execution_count": null,
   "metadata": {
    "id": "V3BsbqmGFwqt"
   },
   "outputs": [],
   "source": [
    "alllabels = []\n",
    "documents = []\n",
    "\n",
    "for record in raw_data:\n",
    "    alllabels.append(int(record['is_sarcastic']))\n",
    "    documents.append(record['headline'])"
   ]
  },
  {
   "cell_type": "markdown",
   "metadata": {
    "id": "o3EpIK36Fwqt"
   },
   "source": [
    "Check the balance: if we have same number of sarcastic and non sarcastic news."
   ]
  },
  {
   "cell_type": "code",
   "execution_count": null,
   "metadata": {
    "id": "peAZCs0VFwqt"
   },
   "outputs": [],
   "source": [
    "import matplotlib.pyplot as plt\n",
    "\n",
    "fig, ax = plt.subplots()\n",
    "ax.hist(alllabels, bins=2);"
   ]
  },
  {
   "cell_type": "markdown",
   "metadata": {
    "id": "NRQRGW50Fwqt"
   },
   "source": [
    "Now we need to preprocess documents.\n",
    "\n",
    "Since we will use Word2Vec vectorization stemming is not appropriate since Word2Vec models are built for full words, not for their stems.\n",
    "\n",
    "So we perform lemmatization with the help of `spacy`.\n",
    "\n",
    "After lemmatization a cleaning is performed using the pattern `[a-z]+`.\n",
    "\n",
    "This is very aggressive cleaning that remove every token not including only letters.\n",
    "\n",
    "Notice that the reduced verbs with apostrophe like \"'ve\" are also removed. \n",
    "\n",
    "This is because at the next step remove stopwords according to a nltk list where all such modal verbs are present."
   ]
  },
  {
   "cell_type": "code",
   "execution_count": null,
   "metadata": {
    "id": "I16MasicFwqu"
   },
   "outputs": [],
   "source": [
    "import re\n",
    "import spacy\n",
    "import nltk\n",
    "nltk.download('stopwords')\n",
    "\n",
    "nlp = spacy.load('en_core_web_sm')\n",
    "stop = set(nltk.corpus.stopwords.words('english'))\n",
    "rge = re.compile(\"[a-z]+\")\n",
    "\n",
    "def preproc(sentence, nlp, stop, rge):\n",
    "    nlp_tokens = nlp(sentence)\n",
    "    tokens = [token.lemma_ for token in nlp_tokens]\n",
    "    tokens = [tok for tok in tokens if rge.fullmatch(tok) is not None]\n",
    "    tokens = [tok for tok in tokens if tok not in stop]\n",
    "    return tokens"
   ]
  },
  {
   "cell_type": "markdown",
   "metadata": {
    "id": "wGOtgUKRFwqu"
   },
   "source": [
    "This code applies the preprocessor to the documents. Sometimes it removes all sentence, sometimes only one or to tokens left. \n",
    "\n",
    "Such short documents are ignored, since sarcasm is sufficiently complicated construct that requires many words to be expressed."
   ]
  },
  {
   "cell_type": "code",
   "execution_count": null,
   "metadata": {
    "id": "mn9mSgJlFwqv"
   },
   "outputs": [],
   "source": [
    "# It takes some time\n",
    "min_length = 3\n",
    "tokens, labels = [], []\n",
    "for lab, doc in zip(alllabels, documents):\n",
    "    toks = preproc(doc, nlp, stop, rge)\n",
    "    if len(toks) >= min_length:\n",
    "        tokens.append(toks)\n",
    "        labels.append(lab)\n",
    "    \n",
    "print(tokens[:10])"
   ]
  },
  {
   "cell_type": "markdown",
   "metadata": {
    "id": "0ngzlk2oFwqv"
   },
   "source": [
    "Vectorization will be done using prebuilt Word2Vec model provided by `gensim`. \n",
    "\n",
    "Below there are two version. \n",
    "\n",
    "Calling the better and the larger model \"word2vec-google-news-300\" is commented out to avoid large traffic."
   ]
  },
  {
   "cell_type": "code",
   "execution_count": null,
   "metadata": {
    "id": "i7GW4h65Fwqv",
    "scrolled": true
   },
   "outputs": [],
   "source": [
    "import gensim.downloader as api\n",
    "\n",
    "vectorizer = api.load(\"glove-wiki-gigaword-50\")  # 66 MB\n",
    "# vectorizer = api.load(\"word2vec-google-news-300\")  # 1.7 GB !"
   ]
  },
  {
   "cell_type": "markdown",
   "metadata": {
    "id": "X-f-GTWlFwqw"
   },
   "source": [
    "This function below computes vector representation of sentences. \n",
    "\n",
    "Since sentences have different sizes we take some value `max_length` as the largest sentence length taken into account.\n",
    "\n",
    "Longer sentences are truncated and shorter ones are padded with zero vectors.\n",
    "\n",
    "Some words may be not found in the vocabulary of the Word2Vec model. In such cases we put a stub instead: a random vector that is required to indicate that here there is some word."
   ]
  },
  {
   "cell_type": "code",
   "execution_count": null,
   "metadata": {
    "id": "RkFnnwuqFwqw"
   },
   "outputs": [],
   "source": [
    "import numpy as np\n",
    "rng = np.random.default_rng(seed=0)\n",
    "stub = rng.uniform(-1,1, size=vectorizer.vector_size)\n",
    "\n",
    "def vectorize_data(data, vectorizer, max_length, stub):\n",
    "    vector_size = vectorizer.vector_size\n",
    "    vectors = []\n",
    "    padding_vector = [0.0] * vector_size\n",
    "    \n",
    "    for i, data_point in enumerate(data):\n",
    "        data_point_vectors = []\n",
    "        count = 0\n",
    "        \n",
    "        for token in data_point:\n",
    "            if count >= max_length:\n",
    "                break\n",
    "            if vectorizer.get_index(token, default=-1) >= 0:\n",
    "                data_point_vectors.append(vectorizer[token])\n",
    "            else:\n",
    "                data_point_vectors.append(stub)\n",
    "            count = count + 1\n",
    "        \n",
    "        if len(data_point_vectors) < max_length:\n",
    "            to_fill = max_length - len(data_point_vectors)\n",
    "            for _ in range(to_fill):\n",
    "                data_point_vectors.append(padding_vector)\n",
    "        \n",
    "        vectors.append(data_point_vectors)\n",
    "        \n",
    "    return np.array(vectors)"
   ]
  },
  {
   "cell_type": "markdown",
   "metadata": {
    "id": "3FJ0HkAYFwqw"
   },
   "source": [
    "Maximum length of sentence that we take into account is computed as 90 percentile of the distribution of sentence lengths. \n",
    "\n",
    "It means that 90\\% of sentences has the length no longer then this.\n",
    "\n",
    "The reason that we do not take the longest sentence is that there are few very large sentences and we do not want to enlarge the model due to them."
   ]
  },
  {
   "cell_type": "code",
   "execution_count": null,
   "metadata": {
    "id": "8ZmssefxFwqx"
   },
   "outputs": [],
   "source": [
    "sizes = [len(sent) for sent in tokens]\n",
    "print(max(sizes))\n",
    "max_length = sorted(sizes)[9*len(tokens)//10]\n",
    "print(max_length)"
   ]
  },
  {
   "cell_type": "markdown",
   "metadata": {
    "id": "WmFiSiRNFwqx"
   },
   "source": [
    "This is the vectorization:"
   ]
  },
  {
   "cell_type": "code",
   "execution_count": null,
   "metadata": {
    "id": "U5gP2iSKFwqx"
   },
   "outputs": [],
   "source": [
    "tokvecs = vectorize_data(tokens, vectorizer, max_length, stub)\n",
    "print(tokvecs.shape)"
   ]
  },
  {
   "cell_type": "markdown",
   "metadata": {
    "id": "tHODvRWpFwqx"
   },
   "source": [
    "Now we split the dataset into training and testing parts."
   ]
  },
  {
   "cell_type": "code",
   "execution_count": null,
   "metadata": {
    "id": "pmsJO5GbFwqy"
   },
   "outputs": [],
   "source": [
    "from sklearn.model_selection import train_test_split\n",
    "\n",
    "p_test = 0.3\n",
    "n_test = round(p_test * len(labels))\n",
    "\n",
    "X_train, X_test, y_train, y_test = train_test_split(tokvecs, np.array(labels), random_state=0, \n",
    "                                                    test_size=n_test, shuffle=True)\n",
    "\n",
    "print(f\"train shape {X_train.shape}\")\n",
    "print(f\"test shape {X_test.shape}\")"
   ]
  },
  {
   "cell_type": "markdown",
   "metadata": {
    "id": "cQvEi8t5Fwqy"
   },
   "source": [
    "And finally the model.\n",
    "\n",
    "We use here one convolution layer accompanied by global pooling and two dense layers. \n",
    "\n",
    "Overfitting is reduced via dropouts and neuron weights reducing.\n",
    "\n",
    "Since there are two classes to predict the loss function is binary cross entropy."
   ]
  },
  {
   "cell_type": "code",
   "execution_count": null,
   "metadata": {
    "id": "VlKGrUFnFwqy"
   },
   "outputs": [],
   "source": [
    "input_shape = X_train.shape[1:]\n",
    "l2_penalty = 0.01\n",
    "dropout_rate = 0.5\n",
    "\n",
    "model = Sequential([\n",
    "    Conv1D(input_shape=input_shape,\n",
    "           filters=8, kernel_size=3, padding='same', activation='relu',\n",
    "           kernel_regularizer=tf.keras.regularizers.l2(l2_penalty)),\n",
    "    GlobalMaxPooling1D(),\n",
    "    Dense(10, activation='relu',\n",
    "          kernel_regularizer=tf.keras.regularizers.l2(l2_penalty)),\n",
    "    Dropout(dropout_rate),\n",
    "    Dense(5, activation='relu',\n",
    "          kernel_regularizer=tf.keras.regularizers.l2(l2_penalty)),\n",
    "    Dropout(dropout_rate),\n",
    "    Dense(1)\n",
    "])\n",
    "\n",
    "model.compile(optimizer='adam',  \n",
    "             loss=BinaryCrossentropy(from_logits=True),\n",
    "             metrics=['accuracy'])\n",
    "\n",
    "model.summary()"
   ]
  },
  {
   "cell_type": "code",
   "execution_count": null,
   "metadata": {
    "id": "T1HI3tJRFwqy",
    "scrolled": true
   },
   "outputs": [],
   "source": [
    "hist = model.fit(X_train, y_train, epochs=50, validation_split=0.2, verbose=2)"
   ]
  },
  {
   "cell_type": "code",
   "execution_count": null,
   "metadata": {
    "id": "oCkxIWyGFwqz"
   },
   "outputs": [],
   "source": [
    "plot_hist([hist], [\"sarcasm\"])"
   ]
  },
  {
   "cell_type": "code",
   "execution_count": null,
   "metadata": {
    "id": "T4K7_KPhFwqz"
   },
   "outputs": [],
   "source": [
    "acc, loss = model.evaluate(X_test, y_test)\n",
    "print(f\"acc={acc}, loss={loss}\")"
   ]
  },
  {
   "cell_type": "markdown",
   "metadata": {
    "id": "noBAFqgWFwqz"
   },
   "source": [
    "Let us now apply the model to a arbitrary expressions.\n",
    "\n",
    "First consider the steps with printing intermediate results."
   ]
  },
  {
   "cell_type": "code",
   "execution_count": null,
   "metadata": {
    "id": "fuXxU_FGFwq0"
   },
   "outputs": [],
   "source": [
    "ss = \"You look so good, really\"\n",
    "\n",
    "tok = preproc(ss, nlp, stop, rge)\n",
    "print(tok)\n",
    "vec = vectorize_data([tok], vectorizer, max_length, stub)\n",
    "print(vec)\n",
    "y_pred = model.predict(vec)\n",
    "print(y_pred)\n",
    "print(\"sarcastic\" if y_pred[0][0] < 0 else \"non sarcastic\")"
   ]
  },
  {
   "cell_type": "markdown",
   "metadata": {
    "id": "A9mGr2TIFwq0"
   },
   "source": [
    "The steps can be wrapped to a functions"
   ]
  },
  {
   "cell_type": "code",
   "execution_count": null,
   "metadata": {
    "id": "Kr2yq18tFwq1"
   },
   "outputs": [],
   "source": [
    "def classify(ss):\n",
    "    tok = preproc(ss, nlp, stop, rge)\n",
    "    if len(toks) < min_length:\n",
    "        raise ValueError\n",
    "    vec = vectorize_data([tok], vectorizer, max_length, stub)\n",
    "    y_pred = model.predict(vec)\n",
    "    return \"sarcastic\" if y_pred[0][0] < 0 else \"non sarcastic\""
   ]
  },
  {
   "cell_type": "markdown",
   "metadata": {
    "id": "H47r7D7wFwq2"
   },
   "source": [
    "Now the examples"
   ]
  },
  {
   "cell_type": "code",
   "execution_count": null,
   "metadata": {
    "id": "vXVL7wCFFwq2"
   },
   "outputs": [],
   "source": [
    "ss = \"Marry had a little lamb, little lamb, little lamb\"\n",
    "print(classify(ss))"
   ]
  },
  {
   "cell_type": "code",
   "execution_count": null,
   "metadata": {
    "id": "H3LQIu-HFwq2"
   },
   "outputs": [],
   "source": [
    "ss = \"That's just what I needed today!\"\n",
    "print(classify(ss))"
   ]
  },
  {
   "cell_type": "code",
   "execution_count": null,
   "metadata": {
    "id": "ZEOiyI_aFwq2"
   },
   "outputs": [],
   "source": [
    "ss = \"Well, what a surprise.\"\n",
    "print(classify(ss))"
   ]
  },
  {
   "cell_type": "code",
   "execution_count": null,
   "metadata": {
    "id": "88EaYwv5Fwq2"
   },
   "outputs": [],
   "source": [
    "ss = \"Great! I hope I'm a waitress at the Cheesecake Factory for my whole life!\"\n",
    "print(classify(ss))"
   ]
  },
  {
   "cell_type": "code",
   "execution_count": null,
   "metadata": {
    "id": "JbqBCeWOFwq3"
   },
   "outputs": [],
   "source": [
    "ss = \"NaNs are treated as missing values: disregarded in fit, and maintained in transform.\"\n",
    "print(classify(ss))"
   ]
  },
  {
   "cell_type": "code",
   "execution_count": null,
   "metadata": {
    "id": "RPuSH7ZaFwq3"
   },
   "outputs": [],
   "source": [
    "ss = \"Fender releases new hybrid gas-electric guitar\"\n",
    "print(classify(ss))"
   ]
  },
  {
   "cell_type": "code",
   "execution_count": null,
   "metadata": {
    "id": "w9TvoOEPFwq3"
   },
   "outputs": [],
   "source": [
    "ss = \"You can now message the president on facebook\"\n",
    "print(classify(ss))"
   ]
  },
  {
   "cell_type": "markdown",
   "metadata": {
    "id": "1ZaS-h85Fwq3"
   },
   "source": [
    "We see that the predictions often do not correspond to our intuition.\n",
    "\n",
    "The model obviously have to be improved.\n",
    "\n",
    "Probably detection of sarcasm requires all words in sentences so we may try to make cleaning and stopwords removal not so aggressive.\n",
    "\n",
    "It is reasonable to try to refuse the removing of the stop words.\n",
    "\n",
    "The lemmatization can be also the problem.\n",
    "\n",
    "Let us remember: stemming or lemmatizaton are required to reduce the vocabulary size and thus the vector size in Bag of Words and TF-IDF models. \n",
    "\n",
    "When embedding models are used this problem is absent. \n",
    "\n",
    "And the embedding model are built on the raw texts without lemmatization. \n",
    "\n",
    "Probably using sentences in their original form can help to make the detector more adequate.\n",
    "\n",
    "Of course the model architecture can also be adjust: more convolution layers can be added and sizes of their kernels as well as sizes of dense layers can be tuned up.\n",
    "\n",
    "In particular probably the size of convolution kernel mater. Larger size means taking into account more word context. One can try sentence-wide kernels.\n",
    "\n",
    "Multiple convolutions with small kernels play the same role. Applying convolution again and again we take into account more and more word neighbors."
   ]
  },
  {
   "cell_type": "markdown",
   "metadata": {
    "id": "RkPNI1GNFwq4"
   },
   "source": [
    "### Recurrent neural networks\n",
    "\n",
    "Texts is built of sequences: sentence is a sequence of words, paragraph is a sequence of sentences and so on.\n",
    "\n",
    "Elements of sequences depend on each other: meaning of a word depends on other words in the sentence. \n",
    "\n",
    "Using plain dense layers is not so easy to take it into account. We can only do it if perform text vectorization that takes into account neighbors, e.g., use n-grams or word2vec.\n",
    "\n",
    "Convolutional networks are better suitable for it. If kernel size is sufficiently large we can take much of word context. These type of layers can be used for text classification.\n",
    "\n",
    "However convolutions have constant windows size and in text dependencies between words usually have varying lengths.\n",
    "\n",
    "Let see and example:\n",
    "\n",
    "- \"She went on a walk along with her dog.\"\n",
    "- \"He went on a walk with his dog.\"\n",
    "\n",
    "The usage of the term  \"her\" or \"his\" depend on the term \"She\" or \"He\". The distance between \"her\" and \"She\" is 7 words and the distance between \"his\" and \"He\" is 6 words. \n",
    "\n",
    "Convolution will probably be unable to take this dependence into account properly because two similar patterns has different scales to its opinion. \n",
    "\n",
    "Convolution is good only at constant scale structures like images.\n",
    "\n",
    "There is another important problem in natural language processing: text generation. Some examples where it can be applied:\n",
    "- annotation of images\n",
    "- translation from one language to another\n",
    "- answering customers questions\n",
    "\n",
    "For this purpose both dense and convolutional layres are inappropriate. \n",
    "\n",
    "A special architecture is required that is suitable for sequences processing.\n",
    "\n",
    "Such networks are called recurrent neural networks, RNN.\n",
    "\n",
    "The idea of sequences processing with RNN: when an element of the sequence is processed and an output is generated the output in addition is sent to the next step and it is passed to network together with the next sequence element. \n",
    "\n",
    "It looks like a feedback loop. The output is sent the network input.\n",
    "\n",
    "In the left part of a figure below a RNN unit has a external input $x_t$ and also a inner input $h_{t-1}$. They both are passed to the network and two outputs are produced, $y_y$ and $h_t$. Actually the external output $y_t$ is just somehow processed inner output $h_t$: $y_t=f(h_t)$. The $h_t$ is passed to the network together with new input $x_{t+1}$ and everything repeats. \n",
    "\n",
    "Notice that in the right part the described iterations are drawn in the unfolded form. But at each time step we use the same RNN unit with the same neurons parameters. "
   ]
  },
  {
   "attachments": {
    "rnn.png": {
     "image/png": "[encoded data removed]"
    }
   },
   "cell_type": "markdown",
   "metadata": {},
   "source": [
    "![rnn.png](fig/rnn.png)"
   ]
  },
  {
   "cell_type": "markdown",
   "metadata": {},
   "source": [
    "Mathematically RNN unit can be represented as a combination of dense layers. \n",
    "\n",
    "$$\n",
    "h_t = f(x_t W + h_{t-1} U + b)\n",
    "$$\n",
    "\n",
    "$$\n",
    "y_t = f(h_t V + c)\n",
    "$$\n",
    "\n",
    "Here $W$, $U$ and $V$ are matrices of neuron input weights, $b$ and $c$ are bias vectors and $f()$ denotes an activation function, e.g., sigmoid.\n",
    "\n",
    "Repeat one more time: there is only one set of parameters $W$, $U$, $V$, $b$ and $c$. And they are applied again and again in the course of iterations."
   ]
  },
  {
   "cell_type": "markdown",
   "metadata": {},
   "source": [
    "Although RNN takes care about previous states of a sequence, information tends to decay. The influence of the sequence head almost vanishes at its tail. Another problem: sometimes the key word of a sentence appears at its tail so that meaning of the head words changes when we see the sentence end. \n",
    "\n",
    "In this situations __bidirectional__ RNN are used. These are just two independent RNN. One reads sequence from the beginning to the end and another reads it in the opposite direction. Then their outputs are merged somehow, usually by passing through another dense network layer."
   ]
  },
  {
   "cell_type": "markdown",
   "metadata": {},
   "source": [
    "### Types of RNN architecture\n",
    "\n",
    "In the figures below absent input means zero input and absent output means its ignoring.\n",
    "\n",
    "__One-to-many__. One input records is unrolled into a sequence. For example this is image annotation or music generation."
   ]
  },
  {
   "attachments": {
    "rnn-task1.png": {
     "image/png": "[encoded data removed]"
    }
   },
   "cell_type": "markdown",
   "metadata": {},
   "source": [
    "![rnn-task1.png](fig/rnn-task1.png)"
   ]
  },
  {
   "cell_type": "markdown",
   "metadata": {},
   "source": [
    "__Many-to-one__. Input sequence produces singe output. This is classification. For example - sentiment\n",
    "analysis applications, wherein multiple words are fed into the network as input to produce an output \n",
    "depicting the sentiment from the input sentence."
   ]
  },
  {
   "attachments": {
    "rnn-task2.png": {
     "image/png": "[encoded data removed]"
    }
   },
   "cell_type": "markdown",
   "metadata": {},
   "source": [
    "![rnn-task2.png](fig/rnn-task2.png)"
   ]
  },
  {
   "cell_type": "markdown",
   "metadata": {},
   "source": [
    "__Many-to-many with time shift__. Input sequences is processed and an output sequence is produced. Chatting or translation."
   ]
  },
  {
   "attachments": {
    "rnn-task3.png": {
     "image/png": "[encoded data removed]"
    }
   },
   "cell_type": "markdown",
   "metadata": {},
   "source": [
    "![rnn-task3.png](fig/rnn-task3.png)"
   ]
  },
  {
   "cell_type": "markdown",
   "metadata": {},
   "source": [
    "__Many-to-many synchronized__. Each element of the input sequence immediately produces an output element. But also previous states are taken into account due to $h_t$. This is used for named entity recognition. where we try to classify each input token into entity groups such as person names, locations, organizations, and so on. \n",
    "\n",
    "Named entity recognition system takes unannotated text, such as this one:\n",
    "\n",
    "$$\\text{Jim bought 300 shares of Acme Corp. in 2006}$$\n",
    "\n",
    "And producing an annotated block of text that highlights the names of entities:\n",
    "\n",
    "$$\\text{[Jim]}_\\text{Person}\\text{ bought 300 shares of }\\text{[Acme Corp]}_\\text{Organization}\\text{ in }\\text{[2006]}_\\text{Time}$$"
   ]
  },
  {
   "attachments": {
    "rnn-task4.png": {
     "image/png": "[encoded data removed]"
    }
   },
   "cell_type": "markdown",
   "metadata": {},
   "source": [
    "![rnn-task4.png](fig/rnn-task4.png)"
   ]
  },
  {
   "cell_type": "markdown",
   "metadata": {},
   "source": [
    "### Exploding and vanishing gradients\n",
    "\n",
    "The main disadvantage of RNN is slow training when the input sequences are long. \n",
    "\n",
    "Moreover for a long input sequences gradient exploding or vanishing can occur.\n",
    "\n",
    "Let us see how it happens. \n",
    "\n",
    "Mathematically operation of RNN can be represented as a nested function. In the very simplified form it looks as follows:\n",
    "\n",
    "$$\n",
    "y_1 = F(x_1, w)\n",
    "$$\n",
    "\n",
    "$$\n",
    "y_2 = F(F(x_1, w), w)\n",
    "$$\n",
    "\n",
    "$$\n",
    "y_3 = F(F(F(x_1, w), w), w)\n",
    "$$\n",
    "\n",
    "These formulas are not exact. We omit here passing new input elements $x_2$ and $x_3$ and also assume that $y_t=h_t$. These formulas are needed only to illustrate an idea.\n",
    "\n",
    "Let us now compute gradient. For our example it will be derivative of $y_t$ at $w$. Consider $y_2$:\n",
    "\n",
    "$$\n",
    "\\frac{d y_2}{d w} = F'_w(\\ldots) + F'_x(\\ldots) F'_w(\\ldots)\n",
    "$$\n",
    "\n",
    "What is important is the we have multiplication of two terms: $F'_x(\\ldots) F'_w(\\ldots)$. For $y_t$ we will have multiplication of $t$ terms.\n",
    "\n",
    "Long multiplication series in numerical computations usually behave bad. Just imagine we have a sequence\n",
    "\n",
    "$$\n",
    "A = a_1 a_2 a_3\\ldots a_n$\n",
    "$$\n",
    "\n",
    "If most of $|a_i|>1$ the result $A$ will go to infinity when $n$ grows. And if most of $|a_i|<1$ the result tends to zero.\n",
    "\n",
    "It often happens when an RNN is trained. In principle this problem also appears when we train ordinary neural network with many layers. \n",
    "\n",
    "One technique for preventing the exploding gradient problem is called gradient clipping: too large gradients are just clipped.\n",
    "\n",
    "The vanishing is can be prevented by adding more direct backward connections between end and beginning of the network."
   ]
  },
  {
   "cell_type": "markdown",
   "metadata": {},
   "source": [
    "### LSTM and GRU\n",
    "\n",
    "Usually today pure RNN are not used due to problems with vanishing gradients and decaying information along a sequence.\n",
    "\n",
    "Popular architecture of recurrent networks instead of RNN is called LSTM, Long Short-Term Memory. \n",
    "\n",
    "At every stage an LSTM unit decides what to keep in memory and what to discard. \n",
    "\n",
    "LSTM unit has rather sophisticated inner structure and a lot of trainable parameters. \n",
    "\n",
    "GRU, Gate Recurrent Unit, is a simplified version of LSTM. Typically it performs as good as LSTM but has less number parameters to train."
   ]
  },
  {
   "cell_type": "markdown",
   "metadata": {},
   "source": [
    "### Deep recurrent networks\n",
    "\n",
    "Recurrent network can be deep. This is by considering outputs at each iteration as another sequence that goes to another recurrent layer.\n",
    "\n",
    "Deep recurrent networks can be useful when some complex relationships in text have to be captured.\n",
    "\n",
    "A figure below show three stacked recurrent layers.\n",
    "\n",
    "The output of the recurrent network is usually processed further with dense layers. \n",
    "\n",
    "Depending on the problem setup we can take for the further processing either the last output $y_t$ or the whole sequence $y_0$, $y_1$, ..., $y_t$."
   ]
  },
  {
   "attachments": {
    "rnn-deep.png": {
     "image/png": "[encoded data removed]"
    }
   },
   "cell_type": "markdown",
   "metadata": {},
   "source": [
    "![rnn-deep.png](fig/rnn-deep.png)"
   ]
  },
  {
   "cell_type": "markdown",
   "metadata": {},
   "source": [
    "### Text preprocessing and vectorization for recurrent network\n",
    "\n",
    "Before dealing with the network a text has to be preprocessed and vectorized.\n",
    "\n",
    "Usually we do some cleaning and word normalization at first place. \n",
    "\n",
    "Specific feature of the recurrent networks is capturing dependencies of words, how they go one after another.\n",
    "\n",
    "It means that stemming and lemmatization are unwelcome. Converting words to their base form removes important information about word connection.\n",
    "\n",
    "Vocabulary of a text without normalization becomes huge and using word embedding like word2vec becomes absolutely necessary. \n",
    "\n",
    "Also stopwords removal, if done at all, must be done with a grate care. All words in a sentence are essential for building their structure. \n",
    "\n",
    "In the example below we will remove only articles \"a\", \"an\" and \"the\" because our model will be not so perfect to capture their meaning correctly. But perhaps even the articles can be left in the text.\n",
    "\n",
    "Standard steps after text preprocessing is its tokenization, building vocabulary and assigning an integer number to each token from the the vocabulary. \n",
    "\n",
    "Then tokens in sentences are change to their numbers.\n",
    "\n",
    "Now instead of sentences we have sequences of integers. But these integers are categorical data. We cannot manipulate with as do with usual numbers. Standard next step is to convert these number into one-hot vectors and the create Bag of Words or TF-IDF representation of sentences. \n",
    "\n",
    "However as we have mentioned above this is not appropriate due to huge vocabulary. The vectors will be very high dimensional. The preferred way is to convert one-hot vectors into compact meaningful vectors via embedding. \n",
    "\n",
    "This can be done with either pretrained model as we discussed previously or we can use special `tensorflow` layer `Embedding`. Its input are sequences of integers and its output are sequences of embedding vectors. \n",
    "\n",
    "This layer encapsulates a simple network that is trained simultaneously with other layers of the whole network."
   ]
  },
  {
   "cell_type": "markdown",
   "metadata": {},
   "source": [
    "### Proverbs generation with recurrent network\n",
    "\n",
    "In this example we will create a model that will be able to generate proverbs and phrases.\n",
    "\n",
    "The training dataset is takes from Kaggle https://www.kaggle.com/bryanb/phrases-and-sayings and copied to the course repository for convenience.\n",
    "\n",
    "Below is the function that downloads zipped csv-file and opens it."
   ]
  },
  {
   "cell_type": "code",
   "execution_count": null,
   "metadata": {
    "id": "KSBWCHLIFwq4"
   },
   "outputs": [],
   "source": [
    "import csv\n",
    "import requests\n",
    "from io import BytesIO, TextIOWrapper\n",
    "from zipfile import ZipFile\n",
    "\n",
    "def load_zipcsv_categorical(file_name):\n",
    "    \"\"\"Downloads zipped csv dataset from repo and return it as a nested list.\"\"\"\n",
    "    base_url = \"https://raw.githubusercontent.com/kupav/data-sc-intro/main/data/\"\n",
    "    web_data = requests.get(base_url + file_name)\n",
    "    assert web_data.status_code == 200\n",
    "\n",
    "    # unzip the content\n",
    "    zf = ZipFile(BytesIO(web_data.content))\n",
    "    \n",
    "    # zipped file name\n",
    "    zipped_name = zf.namelist()[0]\n",
    "    print(f\"Download {file_name}, unzip {zipped_name}\")\n",
    "    \n",
    "    # Open unpacked file\n",
    "    with zf.open(zipped_name, 'r') as file:\n",
    "        # TextIOWrapper(file) converts byte strings to plain strings\n",
    "        reader = csv.reader(TextIOWrapper(file), delimiter=',')\n",
    "        data = []\n",
    "        for row in reader:\n",
    "            data.append(row)\n",
    "    return data\n",
    "\n",
    "raw_data = load_zipcsv_categorical(\"proverbs.zip\")"
   ]
  },
  {
   "cell_type": "markdown",
   "metadata": {},
   "source": [
    "Here are the raw data from the downloaded file:"
   ]
  },
  {
   "cell_type": "code",
   "execution_count": null,
   "metadata": {
    "colab": {
     "base_uri": "https://localhost:8080/"
    },
    "id": "AvGFcdRzFwq6",
    "outputId": "d5d16323-d1cf-4a4f-f1b7-22665f2475b9"
   },
   "outputs": [],
   "source": [
    "print(len(raw_data))\n",
    "for s in raw_data[:10]:\n",
    "    print(s)"
   ]
  },
  {
   "cell_type": "markdown",
   "metadata": {
    "id": "okWpmc0Fhroh"
   },
   "source": [
    "We see that there are three columns. We need the second one.\n",
    "\n",
    "While extracting the data we will ignore too short phases. Only those that have 5 or more words are preserved."
   ]
  },
  {
   "cell_type": "code",
   "execution_count": null,
   "metadata": {
    "colab": {
     "base_uri": "https://localhost:8080/"
    },
    "id": "C8TQF18eFwq8",
    "outputId": "db30cdd2-4f04-47ab-bcfb-33ebc46f3994"
   },
   "outputs": [],
   "source": [
    "SMALLEST_PHRASE = 5\n",
    "\n",
    "all_proverbs = [row[1] for row in raw_data[1:] if len(row[1].split()) >= SMALLEST_PHRASE]\n",
    "print(len(all_proverbs))\n",
    "for s in all_proverbs[:10]:\n",
    "    print(s)"
   ]
  },
  {
   "cell_type": "markdown",
   "metadata": {
    "id": "sxswIiGjf1JH"
   },
   "source": [
    "The number of phrases is very big. An as we will see below generating training samples enlarges the dataset even more. \n",
    "\n",
    "We take only 150 records to avoid the out of memory error.\n",
    "\n",
    "Before taking the phrases we need to shuffle the dataset since it is ordered alphabetically."
   ]
  },
  {
   "cell_type": "code",
   "execution_count": null,
   "metadata": {
    "colab": {
     "base_uri": "https://localhost:8080/"
    },
    "id": "6Ug428mDgOwZ",
    "outputId": "06f4876c-eb71-4b67-fbfe-77030539f7d3"
   },
   "outputs": [],
   "source": [
    "N_LIMIT = 150\n",
    "\n",
    "import numpy as np\n",
    "rng = np.random.default_rng(seed=1)\n",
    "\n",
    "proverbs = all_proverbs.copy()\n",
    "\n",
    "rng.shuffle(proverbs)\n",
    "proverbs = proverbs[:N_LIMIT]\n",
    "print(proverbs[:50])"
   ]
  },
  {
   "cell_type": "markdown",
   "metadata": {},
   "source": [
    "This is data cleaning and tokenization routine. \n",
    "\n",
    "We remove only articles \"a\", \"an\", \"the\" and all punctuation marks.\n",
    "\n",
    "In parallel we collect unique tokens to have a vocabulary. \n",
    "\n",
    "Notice that we insert to the vocabulary a special token `<pad>` at the first position. \n",
    "    \n",
    "This is because we will pad too short sentences with zeros thus zero must not correspond to any meaningful token."
   ]
  },
  {
   "cell_type": "code",
   "execution_count": null,
   "metadata": {
    "colab": {
     "base_uri": "https://localhost:8080/"
    },
    "id": "TReiB967Fwq8",
    "outputId": "6976e5a1-bd11-44e3-f08b-0340ee737676"
   },
   "outputs": [],
   "source": [
    "import re\n",
    "import nltk\n",
    "nltk.download('punkt')  # Reqired by tokenizer if executed in Colab\n",
    "DELIM = '<pad>'  # Marker of padding zeros\n",
    "\n",
    "def tokenize(corpus):\n",
    "    \"\"\"Lowering case and tokenization. Also remove punktuation\n",
    "    \"\"\"\n",
    "    stop = ['a', 'an', 'the']\n",
    "    punkt = '.,:;!?/\\(){}[]-'\n",
    "    unique = set()\n",
    "    tokenized_corpus = []\n",
    "    for doc in corpus:\n",
    "        tokens = nltk.word_tokenize(doc.lower())\n",
    "        tokens = [tok for tok in tokens if tok not in stop and tok not in punkt]\n",
    "        tokenized_corpus.append(tokens)\n",
    "        unique.update(tokens)\n",
    "        \n",
    "    unique = list(unique)\n",
    "    # now add delimiter as a special token \n",
    "    # that correspons to padding zero\n",
    "    unique.insert(0, DELIM)  \n",
    "    return tokenized_corpus, unique"
   ]
  },
  {
   "cell_type": "markdown",
   "metadata": {},
   "source": [
    "The list of phases is converted to list of list of tokens."
   ]
  },
  {
   "cell_type": "code",
   "execution_count": null,
   "metadata": {
    "colab": {
     "base_uri": "https://localhost:8080/"
    },
    "id": "-lOJrqBaFwq9",
    "outputId": "1aa2324b-49ba-436d-9fb0-dfc4daff62c1"
   },
   "outputs": [],
   "source": [
    "tokenized_corpus, unique_tokens = tokenize(proverbs)\n",
    "length_of_unique_words = len(\n",
    "    unique_tokens)\n",
    "print(unique_tokens[:5])\n",
    "print(tokenized_corpus[:5])"
   ]
  },
  {
   "cell_type": "markdown",
   "metadata": {},
   "source": [
    "See what is the size of the vocabulary."
   ]
  },
  {
   "cell_type": "code",
   "execution_count": null,
   "metadata": {
    "colab": {
     "base_uri": "https://localhost:8080/"
    },
    "id": "zfb1NV3OFwq9",
    "outputId": "890a8298-e970-4cbf-bdaa-516fa7655205"
   },
   "outputs": [],
   "source": [
    "print(\"Vocabulary size =\", length_of_unique_words)"
   ]
  },
  {
   "cell_type": "markdown",
   "metadata": {},
   "source": [
    "This function below enumerates all tokens and creates two dictionaries. \n",
    "\n",
    "The first converts token to its number and the second finds the token for the given number.\n",
    "\n",
    "Such dictionaries are also called lookup tables."
   ]
  },
  {
   "cell_type": "code",
   "execution_count": null,
   "metadata": {
    "id": "UIA1XXtkFwq-"
   },
   "outputs": [],
   "source": [
    "def build_indices(unique):\n",
    "    word_to_idx = {}\n",
    "    idx_to_word = {}\n",
    "    for i, word in enumerate(unique):\n",
    "        word_to_idx[word] = i\n",
    "        idx_to_word[i] = word\n",
    "    return word_to_idx, idx_to_word"
   ]
  },
  {
   "cell_type": "markdown",
   "metadata": {},
   "source": [
    "Create the dictionaries. Check that the padding symbol has number zero."
   ]
  },
  {
   "cell_type": "code",
   "execution_count": null,
   "metadata": {
    "id": "Xnfm7sI8FwrB"
   },
   "outputs": [],
   "source": [
    "word_to_idx, idx_to_word = build_indices(unique_tokens)\n",
    "\n",
    "# zero corresponds to the delimiter\n",
    "print(f\"Number of padding token {DELIM}: \", word_to_idx[DELIM])\n",
    "print(f\"Token with number 0: \", idx_to_word[0])  "
   ]
  },
  {
   "cell_type": "markdown",
   "metadata": {},
   "source": [
    "Now we prepare the taring sequences.\n",
    "\n",
    "It looks like this: we take two tokens from a sentence. The first is a training sequence (of length 1) and the second is the expected result. \n",
    "\n",
    "Then we take the first three tokens, previous two and one more. The first two now is the training sequence and the last one is the expected result.\n",
    "\n",
    "That is how the sentence \"Imitation is the sincerest form of flattery\" is transformed into training sequences (article \"the\" has been removed):\n",
    "\n",
    "- Imitation $\\to$ is\n",
    "- Imitation is $\\to$ sincerest\n",
    "- Imitation is sincerest $\\to$ form\n",
    "- Imitation is sincerest form $\\to$ of\n",
    "- Imitation is sincerest form of $\\to$ flattery\n",
    "\n",
    "The function below does the job. But it operates with token numbers instead of the tokens themselves and does not split the sequences into training and testing. Actually each sentences is merely converted into a set of sequences:\n",
    "\n",
    "- Imitation is\n",
    "- Imitation is sincerest\n",
    "- Imitation is sincerest form\n",
    "- Imitation is sincerest form of\n",
    "- Imitation is sincerest form of flattery"
   ]
  },
  {
   "cell_type": "code",
   "execution_count": null,
   "metadata": {
    "id": "idG2lZmvFwrC"
   },
   "outputs": [],
   "source": [
    "def prepare_sequences(corpus, word_to_idx):\n",
    "    sequences = []\n",
    "    for line in corpus:\n",
    "        tokens = line\n",
    "        for i in range(1, len(tokens)):\n",
    "            i_gram_sequence = tokens[:i+1]\n",
    "            i_gram_sequence_ids = []\n",
    "            \n",
    "            for token in i_gram_sequence:\n",
    "                i_gram_sequence_ids.append(word_to_idx[token])\n",
    "                \n",
    "            sequences.append(i_gram_sequence_ids)\n",
    "    \n",
    "    return sequences"
   ]
  },
  {
   "cell_type": "code",
   "execution_count": null,
   "metadata": {
    "colab": {
     "base_uri": "https://localhost:8080/"
    },
    "id": "HMka2Wm-FwrC",
    "outputId": "fc7ff84e-6b9d-4e1a-d489-78f98046dcc9"
   },
   "outputs": [],
   "source": [
    "sequences = prepare_sequences(tokenized_corpus, word_to_idx)\n",
    "max_sequence_len = max([len(x) for x in sequences])\n",
    "print(\"Total number of sequences =\", len(sequences))\n",
    "print(\"max_sequence_len =\", max_sequence_len)"
   ]
  },
  {
   "cell_type": "markdown",
   "metadata": {},
   "source": [
    "Here is the example how sequences looks."
   ]
  },
  {
   "cell_type": "code",
   "execution_count": null,
   "metadata": {
    "colab": {
     "base_uri": "https://localhost:8080/"
    },
    "id": "Kna1BcesFwrC",
    "outputId": "b74f5130-c0e1-440a-afca-a657f6a016fa"
   },
   "outputs": [],
   "source": [
    "for seq in sequences[:16]:\n",
    "    print(seq, end=\":  \")\n",
    "    for s in seq:\n",
    "        print(idx_to_word[s], end=\" \")\n",
    "    print()"
   ]
  },
  {
   "cell_type": "markdown",
   "metadata": {},
   "source": [
    "All created sequences have different lengths. But the model will expect sentences of the fixed size. \n",
    "\n",
    "Thus we need padding. This problem is typical for text processing and `tensorflow` provides a special function `pad_sequences` for it.\n",
    "\n",
    "This is an example how it works. Observe that in the last statement we specify parameter `maxlen`. This is total size of the resulting sequences.\n",
    "\n",
    "If we omit it the sequences will have the size equals to the longest sequence."
   ]
  },
  {
   "cell_type": "code",
   "execution_count": null,
   "metadata": {
    "colab": {
     "base_uri": "https://localhost:8080/"
    },
    "id": "4pzA8YIyFwrD",
    "outputId": "b2420aef-31df-441d-883a-01749a06080e"
   },
   "outputs": [],
   "source": [
    "s = [[1], [2, 3], [4, 5, 6], [7,8,9,10]]\n",
    "print(pad_sequences(s))\n",
    "print(pad_sequences(s, maxlen=6))"
   ]
  },
  {
   "cell_type": "markdown",
   "metadata": {},
   "source": [
    "Padding with zero looks not so good because some samples will be without zeros at all and others will have a lot of preceding zeros. \n",
    "\n",
    "To make equalize conditions for all we add three zeros more to each sequences. \n",
    "\n",
    "Intuition behind it is as follows: Samples with and without padding can probably influence the training process differently. But this is not so important whether we have three zeros in the beginning or more.\n",
    "\n",
    "After the padding the function below extracts the last column of the resulting array. This column is returned as targets (the expected predictions) and the rest is the taring sequences.\n",
    "\n",
    "The targets are converted into one-hot form using `tensorflow` function `to_categorical`"
   ]
  },
  {
   "cell_type": "code",
   "execution_count": null,
   "metadata": {
    "id": "4_A97eqkFwrD"
   },
   "outputs": [],
   "source": [
    "import numpy as np\n",
    "\n",
    "def build_input_data(sequences, length_of_unique_words, maxlen):\n",
    "    sequences = np.array(pad_sequences(sequences, maxlen=maxlen))\n",
    "    X = sequences[:,:-1]\n",
    "    y = sequences[:,-1]\n",
    "    y = tf.keras.utils.to_categorical(y, length_of_unique_words)\n",
    "    return X, y"
   ]
  },
  {
   "cell_type": "code",
   "execution_count": null,
   "metadata": {
    "colab": {
     "base_uri": "https://localhost:8080/"
    },
    "id": "coOjeNRBFwrE",
    "outputId": "49050793-aacc-4a83-bb50-b6fb2011b792"
   },
   "outputs": [],
   "source": [
    "MORE_ZEROS = 3\n",
    "max_sequence_len_fixed = max_sequence_len + MORE_ZEROS\n",
    "\n",
    "X, y = build_input_data(sequences, length_of_unique_words, max_sequence_len_fixed)\n",
    "print(\"Training sample example:\\n\", X[3])\n",
    "print(\"Corresponding target:\\n\", y[3])"
   ]
  },
  {
   "cell_type": "markdown",
   "metadata": {},
   "source": [
    "These are finally trainng data and the corresponding targets."
   ]
  },
  {
   "cell_type": "code",
   "execution_count": null,
   "metadata": {
    "colab": {
     "base_uri": "https://localhost:8080/"
    },
    "id": "WhEQyWJyfjN-",
    "outputId": "88c2d42a-f675-4a51-b727-e341140c4826"
   },
   "outputs": [],
   "source": [
    "print(X.shape)\n",
    "print(y.shape)"
   ]
  },
  {
   "cell_type": "markdown",
   "metadata": {},
   "source": [
    "We a ready to create a model. It will be the simplest one.\n",
    "\n",
    "Observe that the first layer performs embedding and produces 10 dimensional vectors representing tokens.\n",
    "\n",
    "After that the LSTM unit goes. Its parameter 128 means that its output is a vector of 128 elements.\n",
    "\n",
    "Notice that by default LSTM and all other recurrent units of `tensorflow` return only the final output $y_t$ corresponding to the last element of the input sequence.\n",
    "\n",
    "This output is further passed to dropout and dense layer whose number of output element equals to the size of the vocabulary. \n",
    "\n",
    "The network output is a number of token in the vocabulary.\n",
    "\n",
    "Since we need to predict categorical data the categorical cross entropy is used as a loss function. And as usual Adam is used as optimizer."
   ]
  },
  {
   "cell_type": "code",
   "execution_count": null,
   "metadata": {},
   "outputs": [],
   "source": [
    "# Switch to CPU if is lacking of GPU memory  \n",
    "\n",
    "#import os\n",
    "#os.environ[\"CUDA_VISIBLE_DEVICES\"] = \"-1\""
   ]
  },
  {
   "cell_type": "code",
   "execution_count": null,
   "metadata": {
    "colab": {
     "base_uri": "https://localhost:8080/"
    },
    "id": "1ElEFluqFwrE",
    "outputId": "734af0c5-21e6-4cc1-ba8d-bf6bd90210d2"
   },
   "outputs": [],
   "source": [
    "model1 = Sequential([\n",
    "    Embedding(length_of_unique_words, 10, input_length=X.shape[1]),\n",
    "    LSTM(128),\n",
    "    Dropout(0.6),\n",
    "    Dense(length_of_unique_words)\n",
    "])\n",
    "\n",
    "model1.compile(optimizer='adam', loss=CategoricalCrossentropy(from_logits=True))\n",
    "\n",
    "model1.summary()"
   ]
  },
  {
   "cell_type": "code",
   "execution_count": null,
   "metadata": {
    "colab": {
     "base_uri": "https://localhost:8080/"
    },
    "id": "85qMpUxcFwrE",
    "outputId": "42cb2923-f2d6-4165-b1b6-38f311b4f056",
    "scrolled": true
   },
   "outputs": [],
   "source": [
    "hist = model1.fit(X, y, batch_size=256, epochs=300)"
   ]
  },
  {
   "cell_type": "markdown",
   "metadata": {},
   "source": [
    "When model is trained we can test it. \n",
    "\n",
    "The function below generate texts using the seed. It takes `seed_text` as a parameter and a number of words to generate.\n",
    "\n",
    "At each iteration it takes the current seed text, converts it to a sequences of token numbers,\n",
    "then pad it with zeros and pass it to the model. \n",
    "\n",
    "The model returns a token number, function `np.argmax` reveals it. Then the number is converted to a token that is appended to the seed_text. And new iteration starts."
   ]
  },
  {
   "cell_type": "code",
   "execution_count": null,
   "metadata": {
    "id": "cnDWTs4WHWYx"
   },
   "outputs": [],
   "source": [
    "def generate_text(seed_text, next_words, model, max_seq_len):\n",
    "    for _ in range(next_words):\n",
    "        tokens, _ = tokenize([seed_text])\n",
    "        sequence = [word_to_idx[w] for w in tokens[0]]  # sequence of token numbers\n",
    "        sequence = pad_sequences([sequence], maxlen=max_seq_len-1)\n",
    "        predicted = model.predict(sequence, verbose=0)\n",
    "        output_word = ''\n",
    "        output_word = idx_to_word[np.argmax(predicted[0])]            \n",
    "        seed_text = seed_text + \" \" + output_word\n",
    "        \n",
    "    return seed_text"
   ]
  },
  {
   "cell_type": "code",
   "execution_count": null,
   "metadata": {
    "colab": {
     "base_uri": "https://localhost:8080/"
    },
    "id": "iUNuKIOWHgAW",
    "outputId": "517190e1-9279-476b-8863-b779edbdf436"
   },
   "outputs": [],
   "source": [
    "print(generate_text(\"big bird\", 8, model1, max_sequence_len_fixed))"
   ]
  },
  {
   "cell_type": "code",
   "execution_count": null,
   "metadata": {
    "colab": {
     "base_uri": "https://localhost:8080/"
    },
    "id": "opmzng95kRUg",
    "outputId": "22434770-73b0-41df-81d5-dd0b5a77eb43"
   },
   "outputs": [],
   "source": [
    "print(generate_text(\"may i\", 8, model1, max_sequence_len_fixed))"
   ]
  },
  {
   "cell_type": "code",
   "execution_count": null,
   "metadata": {
    "colab": {
     "base_uri": "https://localhost:8080/"
    },
    "id": "l9l3R5_rqPaV",
    "outputId": "030da158-6277-4057-8445-5dfe5644bc39"
   },
   "outputs": [],
   "source": [
    "print(generate_text(\"hat is big\", 8, model1, max_sequence_len_fixed))"
   ]
  },
  {
   "cell_type": "code",
   "execution_count": null,
   "metadata": {
    "colab": {
     "base_uri": "https://localhost:8080/"
    },
    "id": "l9l3R5_rqPaV",
    "outputId": "030da158-6277-4057-8445-5dfe5644bc39"
   },
   "outputs": [],
   "source": [
    "print(generate_text(\"kingdom\", 8, model1, max_sequence_len_fixed))"
   ]
  },
  {
   "cell_type": "markdown",
   "metadata": {},
   "source": [
    "Now we consider how to create deep recurrent network. \n",
    "\n",
    "All inner recurrent layers must return their outputs at each time step to send them forward to another recurrent layer. \n",
    "\n",
    "For this purpose we set `return_sequences=True` for the first LSTM layer (its default value was `False`)\n",
    "\n",
    "Then we can add one more LSTM layer. \n",
    "\n",
    "Since we have two layers let us try to decrease their dimensions: from 128 above to 64 each now. \n",
    "\n",
    "The number of trainable parameters has became smaller in comparison with the first model."
   ]
  },
  {
   "cell_type": "code",
   "execution_count": null,
   "metadata": {
    "colab": {
     "base_uri": "https://localhost:8080/"
    },
    "id": "1ElEFluqFwrE",
    "outputId": "734af0c5-21e6-4cc1-ba8d-bf6bd90210d2"
   },
   "outputs": [],
   "source": [
    "model2 = Sequential([\n",
    "    Embedding(length_of_unique_words, 10, input_length=X.shape[1]),\n",
    "    LSTM(64, return_sequences=True),\n",
    "    LSTM(64),\n",
    "    Dropout(0.6),\n",
    "    Dense(length_of_unique_words)\n",
    "])\n",
    "\n",
    "model2.compile(optimizer='adam', loss=CategoricalCrossentropy(from_logits=True))\n",
    "\n",
    "model2.summary()"
   ]
  },
  {
   "cell_type": "code",
   "execution_count": null,
   "metadata": {
    "colab": {
     "base_uri": "https://localhost:8080/"
    },
    "id": "85qMpUxcFwrE",
    "outputId": "42cb2923-f2d6-4165-b1b6-38f311b4f056",
    "scrolled": true
   },
   "outputs": [],
   "source": [
    "hist = model2.fit(X, y, batch_size=256, epochs=300)"
   ]
  },
  {
   "cell_type": "code",
   "execution_count": null,
   "metadata": {
    "colab": {
     "base_uri": "https://localhost:8080/"
    },
    "id": "iUNuKIOWHgAW",
    "outputId": "517190e1-9279-476b-8863-b779edbdf436"
   },
   "outputs": [],
   "source": [
    "print(generate_text(\"big bird\", 8, model1, max_sequence_len_fixed))\n",
    "print(generate_text(\"big bird\", 8, model2, max_sequence_len_fixed))"
   ]
  },
  {
   "cell_type": "code",
   "execution_count": null,
   "metadata": {
    "colab": {
     "base_uri": "https://localhost:8080/"
    },
    "id": "opmzng95kRUg",
    "outputId": "22434770-73b0-41df-81d5-dd0b5a77eb43"
   },
   "outputs": [],
   "source": [
    "print(generate_text(\"may i\", 8, model1, max_sequence_len_fixed))\n",
    "print(generate_text(\"may i\", 8, model2, max_sequence_len_fixed))"
   ]
  },
  {
   "cell_type": "code",
   "execution_count": null,
   "metadata": {
    "colab": {
     "base_uri": "https://localhost:8080/"
    },
    "id": "l9l3R5_rqPaV",
    "outputId": "030da158-6277-4057-8445-5dfe5644bc39"
   },
   "outputs": [],
   "source": [
    "print(generate_text(\"hat is big\", 8, model1, max_sequence_len_fixed))\n",
    "print(generate_text(\"hat is big\", 8, model2, max_sequence_len_fixed))"
   ]
  },
  {
   "cell_type": "code",
   "execution_count": null,
   "metadata": {
    "colab": {
     "base_uri": "https://localhost:8080/"
    },
    "id": "l9l3R5_rqPaV",
    "outputId": "030da158-6277-4057-8445-5dfe5644bc39"
   },
   "outputs": [],
   "source": [
    "print(generate_text(\"kingdom\", 8, model1, max_sequence_len_fixed))\n",
    "print(generate_text(\"kingdom\", 8, model2, max_sequence_len_fixed))"
   ]
  },
  {
   "cell_type": "markdown",
   "metadata": {},
   "source": [
    "We observe that our model can produce something reasonable. \n",
    "\n",
    "But let us not forget that in fact we train it to reproduce only grammatical rules. \n",
    "\n",
    "It can not catch meaning of a text and generate something sensible.\n",
    "\n",
    "We have provided two versions of the model. It can be further improved. \n",
    "\n",
    "Probably it is worth to try to keep even articles. May be in their presence generated text will be more correct.\n",
    "\n",
    "One more parameter to change is the size of the corpus. Above we have trained the models using its short part. If there is enough memory the size can be enlarged.\n",
    "\n",
    "We restrict ourselves with phrases of 5 and more tokens. May be that was wrong. Mays be short phrases have more pronounced word connections and training on them can improve model performance.\n",
    "\n",
    "Also the network structure can be modified. More layers can be added and their dimensions can be varied.\n",
    "\n",
    "Dropout is very essential. Absent or low dropout results in networks that tend to repeat one word.\n",
    "\n",
    "Two other units can be tested: `SimpleRNN` and `GRU` (in `tensorflow` the class that creates a plain RNN unit is called `SimpleRNN` while the class `RNN` is the base class for all recurrent units). Maybe some of them will perform the same or even better.\n",
    "\n",
    "More dense layers can be added after the recurrent layers. \n",
    "\n",
    "One more interesting idea to try: to add `return_sequences=True` to the last recurrent layer and then add a convolution followed by a pulling. \n",
    "\n",
    "Finally instead of trainable `Embedding` layer the pretrained embedding model can be used, e.g. word2vec. May be the information about word relations obtained at huge text corpora will be useful for our models."
   ]
  },
  {
   "cell_type": "markdown",
   "metadata": {
    "id": "9RFWvodVFwrF"
   },
   "source": [
    "### Exercises\n",
    "\n",
    "1\\. Following the recommendations provided at the end of the section \"Dense network for document classification\" try to improve the model from this section.\n",
    "\n",
    "2\\. Following the recommendations provided at the end of the section \"Convolutional network for document classification\" try to improve the model from this section.\n",
    "\n",
    "3\\. Following the recommendations provided at the end of the section \"Proverbs generation with recurrent network\" try to improve the model from this section."
   ]
  },
  {
   "cell_type": "code",
   "execution_count": null,
   "metadata": {
    "id": "N7ym2wCeFwrF"
   },
   "outputs": [],
   "source": []
  }
 ],
 "metadata": {
  "accelerator": "GPU",
  "colab": {
   "collapsed_sections": [
    "9RFWvodVFwrF"
   ],
   "name": "17_Deep_networks_for_natural_language_processing.ipynb",
   "provenance": [],
   "toc_visible": true
  },
  "kernelspec": {
   "display_name": "Python 3 (ipykernel)",
   "language": "python",
   "name": "python3"
  },
  "language_info": {
   "codemirror_mode": {
    "name": "ipython",
    "version": 3
   },
   "file_extension": ".py",
   "mimetype": "text/x-python",
   "name": "python",
   "nbconvert_exporter": "python",
   "pygments_lexer": "ipython3",
   "version": "3.11.7"
  },
  "nbTranslate": {
   "displayLangs": [
    "*"
   ],
   "hotkey": "alt-t",
   "langInMainMenu": true,
   "sourceLang": "ru",
   "targetLang": "en",
   "useGoogleTranslate": true
  },
  "toc": {
   "base_numbering": 1,
   "nav_menu": {
    "height": "113px",
    "width": "228px"
   },
   "number_sections": true,
   "sideBar": true,
   "skip_h1_title": true,
   "title_cell": "Table of Contents",
   "title_sidebar": "Contents",
   "toc_cell": false,
   "toc_position": {
    "height": "calc(100% - 180px)",
    "left": "10px",
    "top": "150px",
    "width": "165px"
   },
   "toc_section_display": true,
   "toc_window_display": true
  }
 },
 "nbformat": 4,
 "nbformat_minor": 4
}
