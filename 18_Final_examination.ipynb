{
 "cells": [
  {
   "cell_type": "markdown",
   "metadata": {},
   "source": [
    "# 18 Final examination\n",
    "\n",
    "Part of [\"Introduction to Data Science\" course](https://github.com/kupav/data-sc-intro) by Pavel Kuptsov, [kupav@mail.ru](mailto:kupav@mail.ru)"
   ]
  },
  {
   "cell_type": "markdown",
   "metadata": {},
   "source": [
    "## Excellent grade\n",
    "\n",
    "If you expect to have an excellent grade for the course, you need to created one of the following projects of your choice.\n",
    "\n",
    "Each project have to be done personally and independently. \n",
    "\n",
    "Since there are only five project topics obviously each one can be taken by several students. In this case all represented machine learning models must be different.\n",
    "\n",
    "To download the project datasets you will need to create a free account at Kaggle: https://www.kaggle.com/\n",
    "\n",
    "You can use Kaggle computation facilities if you like: You can create and train your model as a Jupyter notebook directly at Kaggle.\n",
    "\n",
    "Some of the datasets belong to Kaggel competitions. If you like, you can take part and submit your results to the leaderboard. But this is not required to complete the examination."
   ]
  },
  {
   "cell_type": "markdown",
   "metadata": {},
   "source": [
    "1\\. At the address https://www.kaggle.com/c/fake-news/data you will find a dataset including a collection of news. Some of them are labeled as reliable and others as unreliable, i.e., fake. Using this dataset create a machine learning learning model that will be able detect fake news. "
   ]
  },
  {
   "cell_type": "markdown",
   "metadata": {},
   "source": [
    "2\\. At the address https://www.kaggle.com/c/titanic/data you will find a dataset describing passengers of the Titanic. Use machine learning to create a model that predicts which passengers survived the Titanic shipwreck. "
   ]
  },
  {
   "cell_type": "markdown",
   "metadata": {},
   "source": [
    "3\\. At the address https://www.kaggle.com/c/platesv2/data you will find a dataset including photos of clean and dirty plates. Create a machine learning model that will be able to distinguish them."
   ]
  },
  {
   "cell_type": "markdown",
   "metadata": {},
   "source": [
    "4\\. At the address https://www.kaggle.com/jessemostipak/hotel-booking-demand you will find a dataset including hotel booing information. Create a machine learning model that will predict if the booking will be canceled. "
   ]
  },
  {
   "cell_type": "markdown",
   "metadata": {},
   "source": [
    "5\\. At the address https://www.kaggle.com/moltean/fruits you will find photos of fruits and vegetables. There are totally 131 class. All photos are gathered in their individual folders. Take 5 different classes of photos (5 fruits and / or vegetables) and create a machine learning model that will distinguish them."
   ]
  },
  {
   "cell_type": "markdown",
   "metadata": {},
   "source": [
    "6\\. At the address https://www.kaggle.com/hsankesara/flickr-image-dataset you will find a dataset including images and their textual annotations. Using this dataset create a machine learning model that will generate annotations of images."
   ]
  },
  {
   "cell_type": "markdown",
   "metadata": {},
   "source": [
    "## Good grade\n",
    "\n",
    "If you prefer not to create an individual machine learning project, your grade will be not higher then Good. \n",
    "\n",
    "In this case you need to provide written answers to at least 17 questions:\n",
    "\n",
    "1. What is vector norm and what vector norms you know?\n",
    "\n",
    "1. What is cosine similarity?\n",
    "\n",
    "1. What are mean, median and mode of a dataset?\n",
    "\n",
    "1. What are quartiles?\n",
    "\n",
    "1. What are two ways to define probability?\n",
    "\n",
    "1. What are independent random events?\n",
    "\n",
    "1. What is normal distribution?\n",
    "\n",
    "1. What is central limit theorem?\n",
    "\n",
    "1. What is cross entropy?\n",
    "\n",
    "1. Describe Type 1 and Type 2 errors in statistical inference.\n",
    "\n",
    "1. What is gradient decent?\n",
    "\n",
    "1. What is CSV-file?\n",
    "\n",
    "1. What data outliers?\n",
    "\n",
    "1. What are regular expressions? \n",
    "\n",
    "1. What matches the pattern `[\\w']+`\n",
    "\n",
    "1. What is one-hot encoding? When it is applied?\n",
    "\n",
    "1. What PCA does?\n",
    "\n",
    "1. Describe three types of machine learning models.\n",
    "\n",
    "1. When overfitting occurs? How to reduces it?\n",
    "\n",
    "1. What is underfitting?\n",
    "\n",
    "1. Describe metrics usually used for regression models.\n",
    "\n",
    "1. Describe metrics usually used for classification models.\n",
    "\n",
    "1. Describe an idea of k-nearest neighbors model.\n",
    "\n",
    "1. Describe an idea of naive Bayes classifier.\n",
    "\n",
    "1. What is a minimal architecture for a neural network that theoretically can solve any machine learning problem? Why in practice this model is not enough?\n",
    "\n",
    "1. Why deep networks are better then wide networks?\n",
    "\n",
    "1. What is convolutional network? Why it is widely used for image processing problems?\n",
    "\n",
    "1. What is pooling in convolutional networks?\n",
    "\n",
    "1. What is dropout?\n",
    "\n",
    "1. Describe a typical structure of a network that includes convolutional layers.\n",
    "\n",
    "1. What is stemming and lammatization of a text?\n",
    "\n",
    "1. What are stopwords and why they are usually removed? \n",
    "\n",
    "1. What vector models of a text you know?\n",
    "\n",
    "1. Describe an idea of a recurrent neural network.\n",
    "\n",
    "1. What are typical types of RNN architecture?\n",
    "\n",
    "1. What are main problems with training RNN?\n",
    "\n",
    "1. What modifications of a plain RNN you know?\n",
    "\n",
    "1. How deep recurrent network is built?\n",
    "\n",
    "1. Which features of text preprocessing and vectorization are specific to RNN?"
   ]
  },
  {
   "cell_type": "code",
   "execution_count": null,
   "metadata": {},
   "outputs": [],
   "source": []
  }
 ],
 "metadata": {
  "kernelspec": {
   "display_name": "Python 3 (ipykernel)",
   "language": "python",
   "name": "python3"
  },
  "language_info": {
   "codemirror_mode": {
    "name": "ipython",
    "version": 3
   },
   "file_extension": ".py",
   "mimetype": "text/x-python",
   "name": "python",
   "nbconvert_exporter": "python",
   "pygments_lexer": "ipython3",
   "version": "3.13.2"
  },
  "nbTranslate": {
   "displayLangs": [
    "*"
   ],
   "hotkey": "alt-t",
   "langInMainMenu": true,
   "sourceLang": "ru",
   "targetLang": "en",
   "useGoogleTranslate": true
  },
  "toc": {
   "base_numbering": 1,
   "nav_menu": {
    "height": "113px",
    "width": "228px"
   },
   "number_sections": true,
   "sideBar": true,
   "skip_h1_title": true,
   "title_cell": "Table of Contents",
   "title_sidebar": "Contents",
   "toc_cell": false,
   "toc_position": {
    "height": "calc(100% - 180px)",
    "left": "10px",
    "top": "150px",
    "width": "165px"
   },
   "toc_section_display": true,
   "toc_window_display": true
  }
 },
 "nbformat": 4,
 "nbformat_minor": 4
}
